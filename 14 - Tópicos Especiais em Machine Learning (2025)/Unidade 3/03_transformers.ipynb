{
  "cells": [
    {
      "cell_type": "markdown",
      "id": "b076bd1a-b236-4fbc-953d-8295b25122ae",
      "metadata": {
        "id": "b076bd1a-b236-4fbc-953d-8295b25122ae"
      },
      "source": [
        "# GPT"
      ]
    },
    {
      "cell_type": "markdown",
      "id": "3e6cb7c7-d3d5-4b12-b357-1f6118edffe0",
      "metadata": {
        "id": "3e6cb7c7-d3d5-4b12-b357-1f6118edffe0"
      },
      "source": [
        "O código é adaptado [GPT tutorial](https://keras.io/examples/generative/text_generation_with_miniature_gpt/) criado por Apoorv Nandan.\n",
        "\n",
        "Ref.: David Foster. Generative Deep Learning. O'Reilly Media; 2nd ed. 2023.\n",
        "\n",
        "Link para o original: https://github.com/davidADSP/Generative_Deep_Learning_2nd_Edition/blob/main/notebooks/09_transformer/gpt/gpt.ipynb"
      ]
    },
    {
      "cell_type": "code",
      "execution_count": null,
      "id": "73350761-bef2-4e96-b3ac-a158eabd2b65",
      "metadata": {
        "tags": [],
        "id": "73350761-bef2-4e96-b3ac-a158eabd2b65"
      },
      "outputs": [],
      "source": [
        "%load_ext autoreload\n",
        "%autoreload 2\n",
        "import numpy as np\n",
        "import json\n",
        "import re\n",
        "import string\n",
        "from IPython.display import display, HTML\n",
        "\n",
        "import tensorflow as tf\n",
        "from tensorflow.keras import layers, models, losses, callbacks"
      ]
    },
    {
      "cell_type": "markdown",
      "id": "339e6268-ebd7-4feb-86db-1fe7abccdbe5",
      "metadata": {
        "id": "339e6268-ebd7-4feb-86db-1fe7abccdbe5"
      },
      "source": [
        "## 0. Parameters <a name=\"parameters\"></a>"
      ]
    },
    {
      "cell_type": "code",
      "execution_count": null,
      "id": "2d8352af-343e-4c2e-8c91-95f8bac1c8a1",
      "metadata": {
        "id": "2d8352af-343e-4c2e-8c91-95f8bac1c8a1"
      },
      "outputs": [],
      "source": [
        "VOCAB_SIZE = 10000\n",
        "MAX_LEN = 80\n",
        "EMBEDDING_DIM = 256\n",
        "KEY_DIM = 256\n",
        "N_HEADS = 2\n",
        "FEED_FORWARD_DIM = 256\n",
        "VALIDATION_SPLIT = 0.2\n",
        "SEED = 42\n",
        "LOAD_MODEL = False\n",
        "BATCH_SIZE = 32\n",
        "EPOCHS = 5"
      ]
    },
    {
      "cell_type": "markdown",
      "id": "b7716fac-0010-49b0-b98e-53be2259edde",
      "metadata": {
        "id": "b7716fac-0010-49b0-b98e-53be2259edde"
      },
      "source": [
        "## 1. Load the data <a name=\"load\"></a>"
      ]
    },
    {
      "cell_type": "code",
      "execution_count": null,
      "id": "93cf6b0f-9667-4146-8911-763a8a2925d3",
      "metadata": {
        "tags": [],
        "id": "93cf6b0f-9667-4146-8911-763a8a2925d3"
      },
      "outputs": [],
      "source": [
        "# Load the full dataset\n",
        "with open(\"winemag-data-130k-v2.json\") as json_data:\n",
        "    wine_data = json.load(json_data)"
      ]
    },
    {
      "cell_type": "code",
      "source": [
        "len(wine_data)"
      ],
      "metadata": {
        "colab": {
          "base_uri": "https://localhost:8080/"
        },
        "id": "5cVFXEh6BdQL",
        "outputId": "4ccfd3f6-03e8-4d82-c5ee-f275d0b192c6"
      },
      "id": "5cVFXEh6BdQL",
      "execution_count": null,
      "outputs": [
        {
          "output_type": "execute_result",
          "data": {
            "text/plain": [
              "129971"
            ]
          },
          "metadata": {},
          "execution_count": 5
        }
      ]
    },
    {
      "cell_type": "code",
      "execution_count": null,
      "id": "2db5c0fc-0d5f-42ab-ade1-57e594c416ec",
      "metadata": {
        "tags": [],
        "id": "2db5c0fc-0d5f-42ab-ade1-57e594c416ec",
        "colab": {
          "base_uri": "https://localhost:8080/"
        },
        "outputId": "7b9c917a-aada-4964-af87-c640c56e5f43"
      },
      "outputs": [
        {
          "output_type": "execute_result",
          "data": {
            "text/plain": [
              "{'points': '87',\n",
              " 'title': 'Kirkland Signature 2011 Mountain Cuvée Cabernet Sauvignon (Napa Valley)',\n",
              " 'description': 'Soft, supple plum envelopes an oaky structure in this Cabernet, supported by 15% Merlot. Coffee and chocolate complete the picture, finishing strong at the end, resulting in a value-priced wine of attractive flavor and immediate accessibility.',\n",
              " 'taster_name': 'Virginie Boone',\n",
              " 'taster_twitter_handle': '@vboone',\n",
              " 'price': 19,\n",
              " 'designation': 'Mountain Cuvée',\n",
              " 'variety': 'Cabernet Sauvignon',\n",
              " 'region_1': 'Napa Valley',\n",
              " 'region_2': 'Napa',\n",
              " 'province': 'California',\n",
              " 'country': 'US',\n",
              " 'winery': 'Kirkland Signature'}"
            ]
          },
          "metadata": {},
          "execution_count": 4
        }
      ],
      "source": [
        "wine_data[10]"
      ]
    },
    {
      "cell_type": "code",
      "execution_count": null,
      "id": "23a74eca-f1b7-4a46-9a1f-b5806a4ed361",
      "metadata": {
        "tags": [],
        "id": "23a74eca-f1b7-4a46-9a1f-b5806a4ed361"
      },
      "outputs": [],
      "source": [
        "# Filter the dataset\n",
        "filtered_data = [\n",
        "    \"wine review : \"\n",
        "    + x[\"country\"]\n",
        "    + \" : \"\n",
        "    + x[\"province\"]\n",
        "    + \" : \"\n",
        "    + x[\"variety\"]\n",
        "    + \" : \"\n",
        "    + x[\"description\"]\n",
        "    for x in wine_data\n",
        "    if x[\"country\"] is not None\n",
        "    and x[\"province\"] is not None\n",
        "    and x[\"variety\"] is not None\n",
        "    and x[\"description\"] is not None\n",
        "]"
      ]
    },
    {
      "cell_type": "code",
      "execution_count": null,
      "id": "389c20de-0422-4c48-a7b4-6ee12a7bf0e2",
      "metadata": {
        "tags": [],
        "id": "389c20de-0422-4c48-a7b4-6ee12a7bf0e2",
        "colab": {
          "base_uri": "https://localhost:8080/"
        },
        "outputId": "d526069c-2876-4a30-fc9c-10ea59b156af"
      },
      "outputs": [
        {
          "output_type": "stream",
          "name": "stdout",
          "text": [
            "129907 recipes loaded\n"
          ]
        }
      ],
      "source": [
        "# Count the recipes\n",
        "n_wines = len(filtered_data)\n",
        "print(f\"{n_wines} recipes loaded\")"
      ]
    },
    {
      "cell_type": "code",
      "execution_count": null,
      "id": "1b2e3cf7-e416-460e-874a-0dd9637bca36",
      "metadata": {
        "id": "1b2e3cf7-e416-460e-874a-0dd9637bca36",
        "colab": {
          "base_uri": "https://localhost:8080/"
        },
        "outputId": "f0e2f492-c5c2-40b0-a89e-a0f318d32fdc"
      },
      "outputs": [
        {
          "output_type": "stream",
          "name": "stdout",
          "text": [
            "wine review : US : California : Pinot Noir : Oak and earth intermingle around robust aromas of wet forest floor in this vineyard-designated Pinot that hails from a high-elevation site. Small in production, it offers intense, full-bodied raspberry and blackberry steeped in smoky spice and smooth texture.\n"
          ]
        }
      ],
      "source": [
        "example = filtered_data[25]\n",
        "print(example)"
      ]
    },
    {
      "cell_type": "markdown",
      "id": "3f871aaf-d873-41c7-8946-e4eef7ac17c1",
      "metadata": {
        "id": "3f871aaf-d873-41c7-8946-e4eef7ac17c1"
      },
      "source": [
        "\n",
        "## 2. Tokenize the data <a name=\"tokenize\"></a>"
      ]
    },
    {
      "cell_type": "code",
      "execution_count": null,
      "id": "5b2064fb-5dcc-4657-b470-0928d10e2ddc",
      "metadata": {
        "tags": [],
        "id": "5b2064fb-5dcc-4657-b470-0928d10e2ddc"
      },
      "outputs": [],
      "source": [
        "# Pad the punctuation, to treat them as separate 'words'\n",
        "def pad_punctuation(s):\n",
        "    s = re.sub(f\"([{string.punctuation}, '\\n'])\", r\" \\1 \", s)\n",
        "    s = re.sub(\" +\", \" \", s)\n",
        "    return s\n",
        "\n",
        "\n",
        "text_data = [pad_punctuation(x) for x in filtered_data]"
      ]
    },
    {
      "cell_type": "code",
      "execution_count": null,
      "id": "b87d7c65-9a46-492a-a5c0-a043b0d252f3",
      "metadata": {
        "id": "b87d7c65-9a46-492a-a5c0-a043b0d252f3",
        "colab": {
          "base_uri": "https://localhost:8080/",
          "height": 70
        },
        "outputId": "606486cb-72be-4411-dc47-37c3adbf095c"
      },
      "outputs": [
        {
          "output_type": "execute_result",
          "data": {
            "text/plain": [
              "'wine review : US : California : Pinot Noir : Oak and earth intermingle around robust aromas of wet forest floor in this vineyard - designated Pinot that hails from a high - elevation site . Small in production , it offers intense , full - bodied raspberry and blackberry steeped in smoky spice and smooth texture . '"
            ],
            "application/vnd.google.colaboratory.intrinsic+json": {
              "type": "string"
            }
          },
          "metadata": {},
          "execution_count": 10
        }
      ],
      "source": [
        "# Display an example of a recipe\n",
        "example_data = text_data[25]\n",
        "example_data"
      ]
    },
    {
      "cell_type": "code",
      "execution_count": null,
      "id": "9834f916-b21a-4104-acc9-f28d3bd7a8c1",
      "metadata": {
        "tags": [],
        "id": "9834f916-b21a-4104-acc9-f28d3bd7a8c1"
      },
      "outputs": [],
      "source": [
        "# Convert to a Tensorflow Dataset\n",
        "text_ds = (\n",
        "    tf.data.Dataset.from_tensor_slices(text_data)\n",
        "    .batch(BATCH_SIZE)\n",
        "    .shuffle(1000)\n",
        ")"
      ]
    },
    {
      "cell_type": "code",
      "execution_count": null,
      "id": "884c0bcb-0807-45a1-8f7e-a32f2c6fa4de",
      "metadata": {
        "id": "884c0bcb-0807-45a1-8f7e-a32f2c6fa4de"
      },
      "outputs": [],
      "source": [
        "# Create a vectorisation layer\n",
        "vectorize_layer = layers.TextVectorization(\n",
        "    standardize=\"lower\",\n",
        "    max_tokens=VOCAB_SIZE,\n",
        "    output_mode=\"int\",\n",
        "    output_sequence_length=MAX_LEN + 1,\n",
        ")"
      ]
    },
    {
      "cell_type": "code",
      "execution_count": null,
      "id": "4d6dd34a-d905-497b-926a-405380ebcf98",
      "metadata": {
        "id": "4d6dd34a-d905-497b-926a-405380ebcf98"
      },
      "outputs": [],
      "source": [
        "# Adapt the layer to the training set\n",
        "vectorize_layer.adapt(text_ds)\n",
        "vocab = vectorize_layer.get_vocabulary()"
      ]
    },
    {
      "cell_type": "code",
      "execution_count": null,
      "id": "f6c1c7ce-3cf0-40d4-a3dc-ab7090f69f2f",
      "metadata": {
        "id": "f6c1c7ce-3cf0-40d4-a3dc-ab7090f69f2f",
        "colab": {
          "base_uri": "https://localhost:8080/"
        },
        "outputId": "4283d494-6b66-44d0-f997-0fc223420d32"
      },
      "outputs": [
        {
          "output_type": "stream",
          "name": "stdout",
          "text": [
            "0: \n",
            "1: [UNK]\n",
            "2: :\n",
            "3: ,\n",
            "4: .\n",
            "5: and\n",
            "6: the\n",
            "7: wine\n",
            "8: a\n",
            "9: of\n"
          ]
        }
      ],
      "source": [
        "# Display some token:word mappings\n",
        "for i, word in enumerate(vocab[:10]):\n",
        "    print(f\"{i}: {word}\")"
      ]
    },
    {
      "cell_type": "code",
      "execution_count": null,
      "id": "1cc30186-7ec6-4eb6-b29a-65df6714d321",
      "metadata": {
        "id": "1cc30186-7ec6-4eb6-b29a-65df6714d321",
        "colab": {
          "base_uri": "https://localhost:8080/"
        },
        "outputId": "cb31017c-479c-4f94-d70e-5a06709909ad"
      },
      "outputs": [
        {
          "output_type": "stream",
          "name": "stdout",
          "text": [
            "[   7   10    2   20    2   29    2   43   62    2   55    5  243 4145\n",
            "  453  634   26    9  497  499  667   17   12  142   14 2214   43   25\n",
            " 2484   32    8  223   14 2213  948    4  594   17  987    3   15   75\n",
            "  237    3   64   14   82   97    5   74 2633   17  198   49    5  125\n",
            "   77    4    0    0    0    0    0    0    0    0    0    0    0    0\n",
            "    0    0    0    0    0    0    0    0    0    0    0]\n"
          ]
        }
      ],
      "source": [
        "# Display the same example converted to ints\n",
        "example_tokenised = vectorize_layer(example_data)\n",
        "print(example_tokenised.numpy())"
      ]
    },
    {
      "cell_type": "markdown",
      "id": "8c195efb-84c6-4be0-a989-a7542188ad35",
      "metadata": {
        "id": "8c195efb-84c6-4be0-a989-a7542188ad35"
      },
      "source": [
        "## 3. Create the Training Set <a name=\"create\"></a>"
      ]
    },
    {
      "cell_type": "code",
      "execution_count": null,
      "id": "740294a1-1a6b-4c89-92f2-036d7d1b788b",
      "metadata": {
        "id": "740294a1-1a6b-4c89-92f2-036d7d1b788b"
      },
      "outputs": [],
      "source": [
        "# Create the training set of recipes and the same text shifted by one word\n",
        "def prepare_inputs(text):\n",
        "    text = tf.expand_dims(text, -1)\n",
        "    tokenized_sentences = vectorize_layer(text)\n",
        "    x = tokenized_sentences[:, :-1]\n",
        "    y = tokenized_sentences[:, 1:]\n",
        "    return x, y\n",
        "\n",
        "\n",
        "train_ds = text_ds.map(prepare_inputs)"
      ]
    },
    {
      "cell_type": "code",
      "execution_count": null,
      "id": "cad80ffb-4298-4249-86b4-9918d62534c5",
      "metadata": {
        "id": "cad80ffb-4298-4249-86b4-9918d62534c5"
      },
      "outputs": [],
      "source": [
        "example_input_output = train_ds.take(1).get_single_element()"
      ]
    },
    {
      "cell_type": "code",
      "execution_count": null,
      "id": "67ff7263-f62d-44c1-997b-1aa99a393521",
      "metadata": {
        "id": "67ff7263-f62d-44c1-997b-1aa99a393521",
        "colab": {
          "base_uri": "https://localhost:8080/"
        },
        "outputId": "b3313f17-c8c6-4d70-82cb-6a873127e37a"
      },
      "outputs": [
        {
          "output_type": "execute_result",
          "data": {
            "text/plain": [
              "<tf.Tensor: shape=(80,), dtype=int64, numpy=\n",
              "array([   7,   10,    2,   40,    2,  404,   40,    2,   53,   27,    2,\n",
              "        128,   11,  114, 6494,    5,  119,  294,    3,   12,   72,    7,\n",
              "         75,   26,    9,   38,  240,    3,  257,   69,    5,  688,  288,\n",
              "          4,    6,   28,  211,  114, 1110,   22,    3,  151,  277,    5,\n",
              "         86,    4,   15, 1174,   23,    8,  141,    9, 1360,  217,    4,\n",
              "          0,    0,    0,    0,    0,    0,    0,    0,    0,    0,    0,\n",
              "          0,    0,    0,    0,    0,    0,    0,    0,    0,    0,    0,\n",
              "          0,    0,    0])>"
            ]
          },
          "metadata": {},
          "execution_count": 18
        }
      ],
      "source": [
        "# Example Input\n",
        "example_input_output[0][0]"
      ]
    },
    {
      "cell_type": "code",
      "execution_count": null,
      "id": "ef2e2cad-414c-4e6d-a2ac-6b9598f9dd01",
      "metadata": {
        "id": "ef2e2cad-414c-4e6d-a2ac-6b9598f9dd01",
        "colab": {
          "base_uri": "https://localhost:8080/"
        },
        "outputId": "84c87347-1c9e-4a16-fdfc-2c32638b8a15"
      },
      "outputs": [
        {
          "output_type": "execute_result",
          "data": {
            "text/plain": [
              "<tf.Tensor: shape=(80,), dtype=int64, numpy=\n",
              "array([  10,    2,   40,    2,  404,   40,    2,   53,   27,    2,  128,\n",
              "         11,  114, 6494,    5,  119,  294,    3,   12,   72,    7,   75,\n",
              "         26,    9,   38,  240,    3,  257,   69,    5,  688,  288,    4,\n",
              "          6,   28,  211,  114, 1110,   22,    3,  151,  277,    5,   86,\n",
              "          4,   15, 1174,   23,    8,  141,    9, 1360,  217,    4,    0,\n",
              "          0,    0,    0,    0,    0,    0,    0,    0,    0,    0,    0,\n",
              "          0,    0,    0,    0,    0,    0,    0,    0,    0,    0,    0,\n",
              "          0,    0,    0])>"
            ]
          },
          "metadata": {},
          "execution_count": 19
        }
      ],
      "source": [
        "# Example Output (shifted by one token)\n",
        "example_input_output[1][0]"
      ]
    },
    {
      "cell_type": "markdown",
      "id": "aff50401-3abe-4c10-bba8-b35bc13ad7d5",
      "metadata": {
        "tags": [],
        "id": "aff50401-3abe-4c10-bba8-b35bc13ad7d5"
      },
      "source": [
        "## 5. Create the causal attention mask function <a name=\"causal\"></a>"
      ]
    },
    {
      "cell_type": "code",
      "execution_count": null,
      "id": "554a4184-61c2-4eb7-a063-d965586a8188",
      "metadata": {
        "id": "554a4184-61c2-4eb7-a063-d965586a8188",
        "colab": {
          "base_uri": "https://localhost:8080/"
        },
        "outputId": "7a87de18-083b-426e-87a1-7d723991a84c"
      },
      "outputs": [
        {
          "output_type": "execute_result",
          "data": {
            "text/plain": [
              "array([[1, 1, 1, 1, 1, 1, 1, 1, 1, 1],\n",
              "       [0, 1, 1, 1, 1, 1, 1, 1, 1, 1],\n",
              "       [0, 0, 1, 1, 1, 1, 1, 1, 1, 1],\n",
              "       [0, 0, 0, 1, 1, 1, 1, 1, 1, 1],\n",
              "       [0, 0, 0, 0, 1, 1, 1, 1, 1, 1],\n",
              "       [0, 0, 0, 0, 0, 1, 1, 1, 1, 1],\n",
              "       [0, 0, 0, 0, 0, 0, 1, 1, 1, 1],\n",
              "       [0, 0, 0, 0, 0, 0, 0, 1, 1, 1],\n",
              "       [0, 0, 0, 0, 0, 0, 0, 0, 1, 1],\n",
              "       [0, 0, 0, 0, 0, 0, 0, 0, 0, 1]], dtype=int32)"
            ]
          },
          "metadata": {},
          "execution_count": 20
        }
      ],
      "source": [
        "def causal_attention_mask(batch_size, n_dest, n_src, dtype):\n",
        "    i = tf.range(n_dest)[:, None]\n",
        "    j = tf.range(n_src)\n",
        "    m = i >= j - n_src + n_dest\n",
        "    mask = tf.cast(m, dtype)\n",
        "    mask = tf.reshape(mask, [1, n_dest, n_src])\n",
        "    mult = tf.concat(\n",
        "        [tf.expand_dims(batch_size, -1), tf.constant([1, 1], dtype=tf.int32)], 0\n",
        "    )\n",
        "    return tf.tile(mask, mult)\n",
        "\n",
        "\n",
        "np.transpose(causal_attention_mask(1, 10, 10, dtype=tf.int32)[0])"
      ]
    },
    {
      "cell_type": "markdown",
      "id": "3501dbad-0860-40ad-b7d6-47950e37858f",
      "metadata": {
        "id": "3501dbad-0860-40ad-b7d6-47950e37858f"
      },
      "source": [
        "## 6. Create a Transformer Block layer <a name=\"transformer\"></a>"
      ]
    },
    {
      "cell_type": "code",
      "execution_count": null,
      "id": "5285a1cb-fce1-46b1-b088-b596002fa9ae",
      "metadata": {
        "id": "5285a1cb-fce1-46b1-b088-b596002fa9ae"
      },
      "outputs": [],
      "source": [
        "class TransformerBlock(layers.Layer):\n",
        "    def __init__(self, num_heads, key_dim, embed_dim, ff_dim, dropout_rate=0.1):\n",
        "        super(TransformerBlock, self).__init__()\n",
        "        self.num_heads = num_heads\n",
        "        self.key_dim = key_dim\n",
        "        self.embed_dim = embed_dim\n",
        "        self.ff_dim = ff_dim\n",
        "        self.dropout_rate = dropout_rate\n",
        "        self.attn = layers.MultiHeadAttention(\n",
        "            num_heads, key_dim, output_shape=embed_dim\n",
        "        )\n",
        "        self.dropout_1 = layers.Dropout(self.dropout_rate)\n",
        "        self.ln_1 = layers.LayerNormalization(epsilon=1e-6)\n",
        "        self.ffn_1 = layers.Dense(self.ff_dim, activation=\"relu\")\n",
        "        self.ffn_2 = layers.Dense(self.embed_dim)\n",
        "        self.dropout_2 = layers.Dropout(self.dropout_rate)\n",
        "        self.ln_2 = layers.LayerNormalization(epsilon=1e-6)\n",
        "\n",
        "    def call(self, inputs):\n",
        "        input_shape = tf.shape(inputs)\n",
        "        batch_size = input_shape[0]\n",
        "        seq_len = input_shape[1]\n",
        "        causal_mask = causal_attention_mask(\n",
        "            batch_size, seq_len, seq_len, tf.bool\n",
        "        )\n",
        "        attention_output, attention_scores = self.attn(\n",
        "            inputs,\n",
        "            inputs,\n",
        "            attention_mask=causal_mask,\n",
        "            return_attention_scores=True,\n",
        "        )\n",
        "        attention_output = self.dropout_1(attention_output)\n",
        "        out1 = self.ln_1(inputs + attention_output)\n",
        "        ffn_1 = self.ffn_1(out1)\n",
        "        ffn_2 = self.ffn_2(ffn_1)\n",
        "        ffn_output = self.dropout_2(ffn_2)\n",
        "        return (self.ln_2(out1 + ffn_output), attention_scores)\n",
        "\n",
        "    def get_config(self):\n",
        "        config = super().get_config()\n",
        "        config.update(\n",
        "            {\n",
        "                \"key_dim\": self.key_dim,\n",
        "                \"embed_dim\": self.embed_dim,\n",
        "                \"num_heads\": self.num_heads,\n",
        "                \"ff_dim\": self.ff_dim,\n",
        "                \"dropout_rate\": self.dropout_rate,\n",
        "            }\n",
        "        )\n",
        "        return config"
      ]
    },
    {
      "cell_type": "markdown",
      "id": "076a6be0-9796-4974-9bcd-6ebbcfe7514e",
      "metadata": {
        "tags": [],
        "id": "076a6be0-9796-4974-9bcd-6ebbcfe7514e"
      },
      "source": [
        "## 7. Create the Token and Position Embedding <a name=\"embedder\"></a>"
      ]
    },
    {
      "cell_type": "code",
      "execution_count": null,
      "id": "fdf5cb25-88ae-4026-9e21-c1e6b5094a2c",
      "metadata": {
        "id": "fdf5cb25-88ae-4026-9e21-c1e6b5094a2c"
      },
      "outputs": [],
      "source": [
        "class TokenAndPositionEmbedding(layers.Layer):\n",
        "    def __init__(self, max_len, vocab_size, embed_dim):\n",
        "        super(TokenAndPositionEmbedding, self).__init__()\n",
        "        self.max_len = max_len\n",
        "        self.vocab_size = vocab_size\n",
        "        self.embed_dim = embed_dim\n",
        "        self.token_emb = layers.Embedding(\n",
        "            input_dim=vocab_size, output_dim=embed_dim\n",
        "        )\n",
        "        self.pos_emb = layers.Embedding(input_dim=max_len, output_dim=embed_dim)\n",
        "\n",
        "    def call(self, x):\n",
        "        maxlen = tf.shape(x)[-1]\n",
        "        positions = tf.range(start=0, limit=maxlen, delta=1)\n",
        "        positions = self.pos_emb(positions)\n",
        "        x = self.token_emb(x)\n",
        "        return x + positions\n",
        "\n",
        "    def get_config(self):\n",
        "        config = super().get_config()\n",
        "        config.update(\n",
        "            {\n",
        "                \"max_len\": self.max_len,\n",
        "                \"vocab_size\": self.vocab_size,\n",
        "                \"embed_dim\": self.embed_dim,\n",
        "            }\n",
        "        )\n",
        "        return config"
      ]
    },
    {
      "cell_type": "markdown",
      "id": "aac2e2d4-5980-47e3-b5b0-6c41c0c2d152",
      "metadata": {
        "id": "aac2e2d4-5980-47e3-b5b0-6c41c0c2d152"
      },
      "source": [
        "## 8. Build the Transformer model <a name=\"transformer_decoder\"></a>"
      ]
    },
    {
      "cell_type": "code",
      "execution_count": null,
      "id": "8c57596e-e17d-4959-b6e8-7581b0bace3a",
      "metadata": {
        "id": "8c57596e-e17d-4959-b6e8-7581b0bace3a"
      },
      "outputs": [],
      "source": [
        "inputs = layers.Input(shape=(None,), dtype=tf.int32)\n",
        "x = TokenAndPositionEmbedding(MAX_LEN, VOCAB_SIZE, EMBEDDING_DIM)(inputs)\n",
        "x, attention_scores = TransformerBlock(\n",
        "    N_HEADS, KEY_DIM, EMBEDDING_DIM, FEED_FORWARD_DIM\n",
        ")(x)\n",
        "outputs = layers.Dense(VOCAB_SIZE, activation=\"softmax\")(x)\n",
        "gpt = models.Model(inputs=inputs, outputs=[outputs, attention_scores])\n",
        "gpt.compile(\"adam\", loss=[losses.SparseCategoricalCrossentropy(), None])"
      ]
    },
    {
      "cell_type": "code",
      "execution_count": null,
      "id": "1a1c3b0f-3382-444d-bb04-bae143ae5d61",
      "metadata": {
        "id": "1a1c3b0f-3382-444d-bb04-bae143ae5d61",
        "colab": {
          "base_uri": "https://localhost:8080/",
          "height": 289
        },
        "outputId": "ae1ce35c-b59a-47dd-e8e8-556f318889db"
      },
      "outputs": [
        {
          "output_type": "display_data",
          "data": {
            "text/plain": [
              "\u001b[1mModel: \"functional\"\u001b[0m\n"
            ],
            "text/html": [
              "<pre style=\"white-space:pre;overflow-x:auto;line-height:normal;font-family:Menlo,'DejaVu Sans Mono',consolas,'Courier New',monospace\"><span style=\"font-weight: bold\">Model: \"functional\"</span>\n",
              "</pre>\n"
            ]
          },
          "metadata": {}
        },
        {
          "output_type": "display_data",
          "data": {
            "text/plain": [
              "┏━━━━━━━━━━━━━━━━━━━━━━━━━━━━━━━━━━━━━━┳━━━━━━━━━━━━━━━━━━━━━━━━━━━━━┳━━━━━━━━━━━━━━━━━┓\n",
              "┃\u001b[1m \u001b[0m\u001b[1mLayer (type)                        \u001b[0m\u001b[1m \u001b[0m┃\u001b[1m \u001b[0m\u001b[1mOutput Shape               \u001b[0m\u001b[1m \u001b[0m┃\u001b[1m \u001b[0m\u001b[1m        Param #\u001b[0m\u001b[1m \u001b[0m┃\n",
              "┡━━━━━━━━━━━━━━━━━━━━━━━━━━━━━━━━━━━━━━╇━━━━━━━━━━━━━━━━━━━━━━━━━━━━━╇━━━━━━━━━━━━━━━━━┩\n",
              "│ input_layer (\u001b[38;5;33mInputLayer\u001b[0m)             │ (\u001b[38;5;45mNone\u001b[0m, \u001b[38;5;45mNone\u001b[0m)                │               \u001b[38;5;34m0\u001b[0m │\n",
              "├──────────────────────────────────────┼─────────────────────────────┼─────────────────┤\n",
              "│ token_and_position_embedding         │ (\u001b[38;5;45mNone\u001b[0m, \u001b[38;5;45mNone\u001b[0m, \u001b[38;5;34m256\u001b[0m)           │       \u001b[38;5;34m2,580,480\u001b[0m │\n",
              "│ (\u001b[38;5;33mTokenAndPositionEmbedding\u001b[0m)          │                             │                 │\n",
              "├──────────────────────────────────────┼─────────────────────────────┼─────────────────┤\n",
              "│ transformer_block (\u001b[38;5;33mTransformerBlock\u001b[0m) │ [(\u001b[38;5;45mNone\u001b[0m, \u001b[38;5;45mNone\u001b[0m, \u001b[38;5;34m256\u001b[0m), (\u001b[38;5;45mNone\u001b[0m,  │         \u001b[38;5;34m658,688\u001b[0m │\n",
              "│                                      │ \u001b[38;5;34m2\u001b[0m, \u001b[38;5;45mNone\u001b[0m, \u001b[38;5;45mNone\u001b[0m)]             │                 │\n",
              "├──────────────────────────────────────┼─────────────────────────────┼─────────────────┤\n",
              "│ dense_2 (\u001b[38;5;33mDense\u001b[0m)                      │ (\u001b[38;5;45mNone\u001b[0m, \u001b[38;5;45mNone\u001b[0m, \u001b[38;5;34m10000\u001b[0m)         │       \u001b[38;5;34m2,570,000\u001b[0m │\n",
              "└──────────────────────────────────────┴─────────────────────────────┴─────────────────┘\n"
            ],
            "text/html": [
              "<pre style=\"white-space:pre;overflow-x:auto;line-height:normal;font-family:Menlo,'DejaVu Sans Mono',consolas,'Courier New',monospace\">┏━━━━━━━━━━━━━━━━━━━━━━━━━━━━━━━━━━━━━━┳━━━━━━━━━━━━━━━━━━━━━━━━━━━━━┳━━━━━━━━━━━━━━━━━┓\n",
              "┃<span style=\"font-weight: bold\"> Layer (type)                         </span>┃<span style=\"font-weight: bold\"> Output Shape                </span>┃<span style=\"font-weight: bold\">         Param # </span>┃\n",
              "┡━━━━━━━━━━━━━━━━━━━━━━━━━━━━━━━━━━━━━━╇━━━━━━━━━━━━━━━━━━━━━━━━━━━━━╇━━━━━━━━━━━━━━━━━┩\n",
              "│ input_layer (<span style=\"color: #0087ff; text-decoration-color: #0087ff\">InputLayer</span>)             │ (<span style=\"color: #00d7ff; text-decoration-color: #00d7ff\">None</span>, <span style=\"color: #00d7ff; text-decoration-color: #00d7ff\">None</span>)                │               <span style=\"color: #00af00; text-decoration-color: #00af00\">0</span> │\n",
              "├──────────────────────────────────────┼─────────────────────────────┼─────────────────┤\n",
              "│ token_and_position_embedding         │ (<span style=\"color: #00d7ff; text-decoration-color: #00d7ff\">None</span>, <span style=\"color: #00d7ff; text-decoration-color: #00d7ff\">None</span>, <span style=\"color: #00af00; text-decoration-color: #00af00\">256</span>)           │       <span style=\"color: #00af00; text-decoration-color: #00af00\">2,580,480</span> │\n",
              "│ (<span style=\"color: #0087ff; text-decoration-color: #0087ff\">TokenAndPositionEmbedding</span>)          │                             │                 │\n",
              "├──────────────────────────────────────┼─────────────────────────────┼─────────────────┤\n",
              "│ transformer_block (<span style=\"color: #0087ff; text-decoration-color: #0087ff\">TransformerBlock</span>) │ [(<span style=\"color: #00d7ff; text-decoration-color: #00d7ff\">None</span>, <span style=\"color: #00d7ff; text-decoration-color: #00d7ff\">None</span>, <span style=\"color: #00af00; text-decoration-color: #00af00\">256</span>), (<span style=\"color: #00d7ff; text-decoration-color: #00d7ff\">None</span>,  │         <span style=\"color: #00af00; text-decoration-color: #00af00\">658,688</span> │\n",
              "│                                      │ <span style=\"color: #00af00; text-decoration-color: #00af00\">2</span>, <span style=\"color: #00d7ff; text-decoration-color: #00d7ff\">None</span>, <span style=\"color: #00d7ff; text-decoration-color: #00d7ff\">None</span>)]             │                 │\n",
              "├──────────────────────────────────────┼─────────────────────────────┼─────────────────┤\n",
              "│ dense_2 (<span style=\"color: #0087ff; text-decoration-color: #0087ff\">Dense</span>)                      │ (<span style=\"color: #00d7ff; text-decoration-color: #00d7ff\">None</span>, <span style=\"color: #00d7ff; text-decoration-color: #00d7ff\">None</span>, <span style=\"color: #00af00; text-decoration-color: #00af00\">10000</span>)         │       <span style=\"color: #00af00; text-decoration-color: #00af00\">2,570,000</span> │\n",
              "└──────────────────────────────────────┴─────────────────────────────┴─────────────────┘\n",
              "</pre>\n"
            ]
          },
          "metadata": {}
        },
        {
          "output_type": "display_data",
          "data": {
            "text/plain": [
              "\u001b[1m Total params: \u001b[0m\u001b[38;5;34m5,809,168\u001b[0m (22.16 MB)\n"
            ],
            "text/html": [
              "<pre style=\"white-space:pre;overflow-x:auto;line-height:normal;font-family:Menlo,'DejaVu Sans Mono',consolas,'Courier New',monospace\"><span style=\"font-weight: bold\"> Total params: </span><span style=\"color: #00af00; text-decoration-color: #00af00\">5,809,168</span> (22.16 MB)\n",
              "</pre>\n"
            ]
          },
          "metadata": {}
        },
        {
          "output_type": "display_data",
          "data": {
            "text/plain": [
              "\u001b[1m Trainable params: \u001b[0m\u001b[38;5;34m5,809,168\u001b[0m (22.16 MB)\n"
            ],
            "text/html": [
              "<pre style=\"white-space:pre;overflow-x:auto;line-height:normal;font-family:Menlo,'DejaVu Sans Mono',consolas,'Courier New',monospace\"><span style=\"font-weight: bold\"> Trainable params: </span><span style=\"color: #00af00; text-decoration-color: #00af00\">5,809,168</span> (22.16 MB)\n",
              "</pre>\n"
            ]
          },
          "metadata": {}
        },
        {
          "output_type": "display_data",
          "data": {
            "text/plain": [
              "\u001b[1m Non-trainable params: \u001b[0m\u001b[38;5;34m0\u001b[0m (0.00 B)\n"
            ],
            "text/html": [
              "<pre style=\"white-space:pre;overflow-x:auto;line-height:normal;font-family:Menlo,'DejaVu Sans Mono',consolas,'Courier New',monospace\"><span style=\"font-weight: bold\"> Non-trainable params: </span><span style=\"color: #00af00; text-decoration-color: #00af00\">0</span> (0.00 B)\n",
              "</pre>\n"
            ]
          },
          "metadata": {}
        }
      ],
      "source": [
        "gpt.summary()"
      ]
    },
    {
      "cell_type": "code",
      "execution_count": null,
      "id": "800a3c6e-fb11-4792-b6bc-9a43a7c977ad",
      "metadata": {
        "tags": [],
        "id": "800a3c6e-fb11-4792-b6bc-9a43a7c977ad"
      },
      "outputs": [],
      "source": [
        "if LOAD_MODEL:\n",
        "    # model.load_weights('./models/model')\n",
        "    gpt = models.load_model(\"./models/gpt\", compile=True)"
      ]
    },
    {
      "cell_type": "markdown",
      "id": "35b14665-4359-447b-be58-3fd58ba69084",
      "metadata": {
        "id": "35b14665-4359-447b-be58-3fd58ba69084"
      },
      "source": [
        "## 9. Train the Transformer <a name=\"train\"></a>"
      ]
    },
    {
      "cell_type": "code",
      "execution_count": null,
      "id": "3ddcff5f-829d-4449-99d2-9a3cb68f7d72",
      "metadata": {
        "id": "3ddcff5f-829d-4449-99d2-9a3cb68f7d72"
      },
      "outputs": [],
      "source": [
        "# Create a TextGenerator checkpoint\n",
        "class TextGenerator(callbacks.Callback):\n",
        "    def __init__(self, index_to_word, top_k=10):\n",
        "        self.index_to_word = index_to_word\n",
        "        self.word_to_index = {\n",
        "            word: index for index, word in enumerate(index_to_word)\n",
        "        }\n",
        "\n",
        "    def sample_from(self, probs, temperature):\n",
        "        probs = probs ** (1 / temperature)\n",
        "        probs = probs / np.sum(probs)\n",
        "        return np.random.choice(len(probs), p=probs), probs\n",
        "\n",
        "    def generate(self, start_prompt, max_tokens, temperature):\n",
        "        start_tokens = [\n",
        "            self.word_to_index.get(x, 1) for x in start_prompt.split()\n",
        "        ]\n",
        "        sample_token = None\n",
        "        info = []\n",
        "        while len(start_tokens) < max_tokens and sample_token != 0:\n",
        "            x = np.array([start_tokens])\n",
        "            y, att = self.model.predict(x, verbose=0)\n",
        "            sample_token, probs = self.sample_from(y[0][-1], temperature)\n",
        "            info.append(\n",
        "                {\n",
        "                    \"prompt\": start_prompt,\n",
        "                    \"word_probs\": probs,\n",
        "                    \"atts\": att[0, :, -1, :],\n",
        "                }\n",
        "            )\n",
        "            start_tokens.append(sample_token)\n",
        "            start_prompt = start_prompt + \" \" + self.index_to_word[sample_token]\n",
        "        print(f\"\\ngenerated text:\\n{start_prompt}\\n\")\n",
        "        return info\n",
        "\n",
        "    def on_epoch_end(self, epoch, logs=None):\n",
        "        self.generate(\"wine review\", max_tokens=80, temperature=1.0)"
      ]
    },
    {
      "cell_type": "code",
      "execution_count": null,
      "id": "349865fe-ffbe-450e-97be-043ae1740e78",
      "metadata": {
        "id": "349865fe-ffbe-450e-97be-043ae1740e78"
      },
      "outputs": [],
      "source": [
        "# Create a model save checkpoint\n",
        "model_checkpoint_callback = callbacks.ModelCheckpoint(\n",
        "    filepath=\"./checkpoint/checkpoint.weights.h5\",\n",
        "    save_weights_only=True,\n",
        "    save_freq=\"epoch\",\n",
        "    verbose=0,\n",
        ")\n",
        "\n",
        "tensorboard_callback = callbacks.TensorBoard(log_dir=\"./logs\")\n",
        "\n",
        "# Tokenize starting prompt\n",
        "text_generator = TextGenerator(vocab)"
      ]
    },
    {
      "cell_type": "code",
      "execution_count": null,
      "id": "461c2b3e-b5ae-4def-8bd9-e7bab8c63d8e",
      "metadata": {
        "tags": [],
        "id": "461c2b3e-b5ae-4def-8bd9-e7bab8c63d8e",
        "colab": {
          "base_uri": "https://localhost:8080/"
        },
        "outputId": "db74e5ea-2634-434f-a587-6c3bcdbf8595"
      },
      "outputs": [
        {
          "output_type": "stream",
          "name": "stdout",
          "text": [
            "Epoch 1/5\n",
            "\u001b[1m4058/4060\u001b[0m \u001b[32m━━━━━━━━━━━━━━━━━━━\u001b[0m\u001b[37m━\u001b[0m \u001b[1m0s\u001b[0m 22ms/step - loss: 2.5890\n",
            "generated text:\n",
            "wine review : us : california : cabernet sauvignon : this is a blend to cabernet sauvignon , so marked in acidity , and you can ' t open it . ripe and fruity , powerful and almost sweet , with brisk acidity that gives lusciousness . there is balance that it ' s some oaky , jammy blackberry and black currant flavors best things . \n",
            "\n",
            "\u001b[1m4060/4060\u001b[0m \u001b[32m━━━━━━━━━━━━━━━━━━━━\u001b[0m\u001b[37m\u001b[0m \u001b[1m169s\u001b[0m 38ms/step - loss: 2.5887\n",
            "Epoch 2/5\n",
            "\u001b[1m4059/4060\u001b[0m \u001b[32m━━━━━━━━━━━━━━━━━━━\u001b[0m\u001b[37m━\u001b[0m \u001b[1m0s\u001b[0m 21ms/step - loss: 1.9746\n",
            "generated text:\n",
            "wine review : italy : piedmont : dolcetto : simple and tight with a luminous ruby color , this is a wine and tannic with a mineral composition and delicate mouthfeel . the wine ' s personality is ready to drink . \n",
            "\n",
            "\u001b[1m4060/4060\u001b[0m \u001b[32m━━━━━━━━━━━━━━━━━━━━\u001b[0m\u001b[37m\u001b[0m \u001b[1m125s\u001b[0m 22ms/step - loss: 1.9746\n",
            "Epoch 3/5\n",
            "\u001b[1m4060/4060\u001b[0m \u001b[32m━━━━━━━━━━━━━━━━━━━━\u001b[0m\u001b[37m\u001b[0m \u001b[1m0s\u001b[0m 21ms/step - loss: 1.8956\n",
            "generated text:\n",
            "wine review : us : oregon : pinot noir : blended from five different vineyards , this has dark fruit , cola and drenched vineyards . dark cherries lead to the fruit in well - matched bottle with elegant concentration and polished tannins , a pleasing finish . delicious , this one should gain ageability . a mix of red fruits , acids and impeccable balance across the tongue , but the tannins never there ' s clearly . \n",
            "\n",
            "\u001b[1m4060/4060\u001b[0m \u001b[32m━━━━━━━━━━━━━━━━━━━━\u001b[0m\u001b[37m\u001b[0m \u001b[1m105s\u001b[0m 26ms/step - loss: 1.8956\n",
            "Epoch 4/5\n",
            "\u001b[1m4060/4060\u001b[0m \u001b[32m━━━━━━━━━━━━━━━━━━━━\u001b[0m\u001b[37m\u001b[0m \u001b[1m0s\u001b[0m 21ms/step - loss: 1.8492\n",
            "generated text:\n",
            "wine review : us : oregon : pinot noir : this relatively light toasty little scents meld with black cherry , red licorice , turned earth and earth accents . the palate ' s fruit forward and juicy with satiny depth and suppleness , supporting its well - drinking pantheon . \n",
            "\n",
            "\u001b[1m4060/4060\u001b[0m \u001b[32m━━━━━━━━━━━━━━━━━━━━\u001b[0m\u001b[37m\u001b[0m \u001b[1m125s\u001b[0m 22ms/step - loss: 1.8492\n",
            "Epoch 5/5\n",
            "\u001b[1m4058/4060\u001b[0m \u001b[32m━━━━━━━━━━━━━━━━━━━\u001b[0m\u001b[37m━\u001b[0m \u001b[1m0s\u001b[0m 21ms/step - loss: 1.8192\n",
            "generated text:\n",
            "wine review : us : california : riesling : this deeply concentrated dessert wine smells like ripe - seared lemon , grapefruit and mineral flavors along with sweetness without being overripe . there is a roundness to the palate , while the acidity is flat and tasting like sweetness , instead sips well into a rounded finish . \n",
            "\n",
            "\u001b[1m4060/4060\u001b[0m \u001b[32m━━━━━━━━━━━━━━━━━━━━\u001b[0m\u001b[37m\u001b[0m \u001b[1m89s\u001b[0m 22ms/step - loss: 1.8192\n"
          ]
        },
        {
          "output_type": "execute_result",
          "data": {
            "text/plain": [
              "<keras.src.callbacks.history.History at 0x7f5e44d25210>"
            ]
          },
          "metadata": {},
          "execution_count": 28
        }
      ],
      "source": [
        "gpt.fit(\n",
        "    train_ds,\n",
        "    epochs=EPOCHS,\n",
        "    callbacks=[model_checkpoint_callback, tensorboard_callback, text_generator],\n",
        ")"
      ]
    },
    {
      "cell_type": "code",
      "execution_count": null,
      "id": "369bde44-2e39-4bc6-8549-a3a27ecce55c",
      "metadata": {
        "tags": [],
        "id": "369bde44-2e39-4bc6-8549-a3a27ecce55c"
      },
      "outputs": [],
      "source": [
        "# Save the final model\n",
        "gpt.save(\"gpt.keras\")"
      ]
    },
    {
      "cell_type": "markdown",
      "id": "d64e02d2-84dc-40c8-8446-40c09adf1e20",
      "metadata": {
        "id": "d64e02d2-84dc-40c8-8446-40c09adf1e20"
      },
      "source": [
        "# 3. Generate text using the Transformer"
      ]
    },
    {
      "cell_type": "code",
      "execution_count": null,
      "id": "4ad23adb-3ec9-4e9a-9a59-b9f9bafca649",
      "metadata": {
        "id": "4ad23adb-3ec9-4e9a-9a59-b9f9bafca649"
      },
      "outputs": [],
      "source": [
        "def print_probs(info, vocab, top_k=5):\n",
        "    for i in info:\n",
        "        highlighted_text = []\n",
        "        for word, att_score in zip(\n",
        "            i[\"prompt\"].split(), np.mean(i[\"atts\"], axis=0)\n",
        "        ):\n",
        "            highlighted_text.append(\n",
        "                '<span style=\"background-color:rgba(135,206,250,'\n",
        "                + str(att_score / max(np.mean(i[\"atts\"], axis=0)))\n",
        "                + ');\">'\n",
        "                + word\n",
        "                + \"</span>\"\n",
        "            )\n",
        "        highlighted_text = \" \".join(highlighted_text)\n",
        "        display(HTML(highlighted_text))\n",
        "\n",
        "        word_probs = i[\"word_probs\"]\n",
        "        p_sorted = np.sort(word_probs)[::-1][:top_k]\n",
        "        i_sorted = np.argsort(word_probs)[::-1][:top_k]\n",
        "        for p, i in zip(p_sorted, i_sorted):\n",
        "            print(f\"{vocab[i]}:   \\t{np.round(100*p,2)}%\")\n",
        "        print(\"--------\\n\")"
      ]
    },
    {
      "cell_type": "markdown",
      "source": [
        "**Gerando texto**\n",
        "\n",
        "Podemos gerar um novo texto aplicando o seguinte processo:\n",
        "\n",
        "* Alimente a rede com uma sequência de palavras existente e peça para prever a palavra seguinte.\n",
        "\n",
        "* Anexe esta palavra à sequência existente e repita.\n",
        "\n",
        "A rede produzirá um conjunto de probabilidades para cada palavra da qual podemos fazer uma amostra"
      ],
      "metadata": {
        "id": "yHGl5fSsFIXs"
      },
      "id": "yHGl5fSsFIXs"
    },
    {
      "cell_type": "code",
      "execution_count": null,
      "id": "3cf25578-d47c-4b26-8252-fcdf2316a4ac",
      "metadata": {
        "id": "3cf25578-d47c-4b26-8252-fcdf2316a4ac",
        "colab": {
          "base_uri": "https://localhost:8080/"
        },
        "outputId": "1a41522c-61f8-47ef-d013-c02e4e985ae4"
      },
      "outputs": [
        {
          "output_type": "stream",
          "name": "stdout",
          "text": [
            "\n",
            "generated text:\n",
            "wine review : us : new york : saperavi : while tart blackberry , cherry and black plum shine with savory overtones and savory olive tones permeate this full - bodied cabernet franc . the power - like sheen on the palate , it ' s beautifully melding a fine - grained but penetrating , persistent persistent tannins and will finish across sunny linger long on the finish . \n",
            "\n"
          ]
        }
      ],
      "source": [
        "info = text_generator.generate(\n",
        "    \"wine review : us\", max_tokens=80, temperature=1.0\n",
        ")"
      ]
    },
    {
      "cell_type": "code",
      "execution_count": null,
      "id": "4ae2da8e-9b7c-4b71-b37b-021115b3d7ea",
      "metadata": {
        "id": "4ae2da8e-9b7c-4b71-b37b-021115b3d7ea",
        "colab": {
          "base_uri": "https://localhost:8080/"
        },
        "outputId": "61b911f8-c680-47b7-fa1b-afe762073a12"
      },
      "outputs": [
        {
          "output_type": "stream",
          "name": "stdout",
          "text": [
            "\n",
            "generated text:\n",
            "wine review : italy : tuscany : sangiovese : this is a bold , jammy wine with loads of ripe fruit intensity and a bright , candied personality . it ' s a very satisfying wine with a soft , silky texture and a lingering finish . \n",
            "\n"
          ]
        }
      ],
      "source": [
        "info = text_generator.generate(\n",
        "    \"wine review : italy\", max_tokens=80, temperature=0.5\n",
        ")"
      ]
    },
    {
      "cell_type": "markdown",
      "source": [
        "Ambos são semelhantes a uma crítica de vinhos do conjunto de treinamento original.\n",
        "\n",
        "Ambos abrem com a região e o tipo de vinho, e o tipo de vinho permanece consistente ao longo da passagem (por exemplo, não muda de cor no meio).\n",
        "\n",
        "O texto gerado com temperatura 1,0 é mais aventureiro e, portanto, menos preciso do que o exemplo com temperatura 0,5.\n",
        "\n",
        "A geração de múltiplas amostras com temperatura 1,0 levará, portanto, a mais variedade, pois o modelo amostra uma distribuição de probabilidade com maior variância."
      ],
      "metadata": {
        "id": "GnpUovbfHLYZ"
      },
      "id": "GnpUovbfHLYZ"
    },
    {
      "cell_type": "code",
      "execution_count": null,
      "id": "5cae6d5d-263d-4455-b96c-f315cbe284ee",
      "metadata": {
        "id": "5cae6d5d-263d-4455-b96c-f315cbe284ee",
        "colab": {
          "base_uri": "https://localhost:8080/",
          "height": 1000
        },
        "outputId": "6a28e45e-8647-4ffd-8af1-0db7c9eba27d"
      },
      "outputs": [
        {
          "output_type": "stream",
          "name": "stdout",
          "text": [
            "\n",
            "generated text:\n",
            "wine review : germany : mosel : riesling : an apt name for this reserve eiswein , an opulent auslese , a luscious , sweet gold color , its honey and apricot flavors touched by saffron and honey . soft on the palate , spice integrated in the mouth , finishing long and gloriously long . begin to drink through 2025 . \n",
            "\n"
          ]
        },
        {
          "output_type": "display_data",
          "data": {
            "text/plain": [
              "<IPython.core.display.HTML object>"
            ],
            "text/html": [
              "<span style=\"background-color:rgba(135,206,250,0.6774039);\">wine</span> <span style=\"background-color:rgba(135,206,250,1.0);\">review</span> <span style=\"background-color:rgba(135,206,250,0.44086674);\">:</span> <span style=\"background-color:rgba(135,206,250,0.19055659);\">germany</span>"
            ]
          },
          "metadata": {}
        },
        {
          "output_type": "stream",
          "name": "stdout",
          "text": [
            "::   \t100.0%\n",
            "grosso:   \t0.0%\n",
            "zealand:   \t0.0%\n",
            "-:   \t0.0%\n",
            "africa:   \t0.0%\n",
            "--------\n",
            "\n"
          ]
        },
        {
          "output_type": "display_data",
          "data": {
            "text/plain": [
              "<IPython.core.display.HTML object>"
            ],
            "text/html": [
              "<span style=\"background-color:rgba(135,206,250,0.4100056);\">wine</span> <span style=\"background-color:rgba(135,206,250,0.4315222);\">review</span> <span style=\"background-color:rgba(135,206,250,0.37294888);\">:</span> <span style=\"background-color:rgba(135,206,250,1.0);\">germany</span> <span style=\"background-color:rgba(135,206,250,0.19544706);\">:</span>"
            ]
          },
          "metadata": {}
        },
        {
          "output_type": "stream",
          "name": "stdout",
          "text": [
            "mosel:   \t73.78%\n",
            "rheinhessen:   \t9.98%\n",
            "rheingau:   \t8.37%\n",
            "baden:   \t2.52%\n",
            "pfalz:   \t1.45%\n",
            "--------\n",
            "\n"
          ]
        },
        {
          "output_type": "display_data",
          "data": {
            "text/plain": [
              "<IPython.core.display.HTML object>"
            ],
            "text/html": [
              "<span style=\"background-color:rgba(135,206,250,0.40117094);\">wine</span> <span style=\"background-color:rgba(135,206,250,1.0);\">review</span> <span style=\"background-color:rgba(135,206,250,0.10299355);\">:</span> <span style=\"background-color:rgba(135,206,250,0.12930714);\">germany</span> <span style=\"background-color:rgba(135,206,250,0.23103161);\">:</span> <span style=\"background-color:rgba(135,206,250,0.17234847);\">mosel</span>"
            ]
          },
          "metadata": {}
        },
        {
          "output_type": "stream",
          "name": "stdout",
          "text": [
            "::   \t99.2%\n",
            "-:   \t0.73%\n",
            "grosso:   \t0.04%\n",
            "blanc:   \t0.02%\n",
            "laurent:   \t0.0%\n",
            "--------\n",
            "\n"
          ]
        },
        {
          "output_type": "display_data",
          "data": {
            "text/plain": [
              "<IPython.core.display.HTML object>"
            ],
            "text/html": [
              "<span style=\"background-color:rgba(135,206,250,0.355037);\">wine</span> <span style=\"background-color:rgba(135,206,250,0.40444598);\">review</span> <span style=\"background-color:rgba(135,206,250,0.21459769);\">:</span> <span style=\"background-color:rgba(135,206,250,0.4752218);\">germany</span> <span style=\"background-color:rgba(135,206,250,0.15283763);\">:</span> <span style=\"background-color:rgba(135,206,250,1.0);\">mosel</span> <span style=\"background-color:rgba(135,206,250,0.18581884);\">:</span>"
            ]
          },
          "metadata": {}
        },
        {
          "output_type": "stream",
          "name": "stdout",
          "text": [
            "riesling:   \t98.12%\n",
            "weissburgunder:   \t0.28%\n",
            "mosel:   \t0.19%\n",
            "pinot:   \t0.15%\n",
            "grüner:   \t0.11%\n",
            "--------\n",
            "\n"
          ]
        },
        {
          "output_type": "display_data",
          "data": {
            "text/plain": [
              "<IPython.core.display.HTML object>"
            ],
            "text/html": [
              "<span style=\"background-color:rgba(135,206,250,0.3824145);\">wine</span> <span style=\"background-color:rgba(135,206,250,1.0);\">review</span> <span style=\"background-color:rgba(135,206,250,0.21464533);\">:</span> <span style=\"background-color:rgba(135,206,250,0.12796175);\">germany</span> <span style=\"background-color:rgba(135,206,250,0.2038141);\">:</span> <span style=\"background-color:rgba(135,206,250,0.27421403);\">mosel</span> <span style=\"background-color:rgba(135,206,250,0.24209237);\">:</span> <span style=\"background-color:rgba(135,206,250,0.09544373);\">riesling</span>"
            ]
          },
          "metadata": {}
        },
        {
          "output_type": "stream",
          "name": "stdout",
          "text": [
            "::   \t99.84%\n",
            "-:   \t0.07%\n",
            "grosso:   \t0.05%\n",
            "blanc:   \t0.03%\n",
            "neagra:   \t0.0%\n",
            "--------\n",
            "\n"
          ]
        },
        {
          "output_type": "display_data",
          "data": {
            "text/plain": [
              "<IPython.core.display.HTML object>"
            ],
            "text/html": [
              "<span style=\"background-color:rgba(135,206,250,0.6371181);\">wine</span> <span style=\"background-color:rgba(135,206,250,0.7337767);\">review</span> <span style=\"background-color:rgba(135,206,250,0.30739376);\">:</span> <span style=\"background-color:rgba(135,206,250,0.67303085);\">germany</span> <span style=\"background-color:rgba(135,206,250,0.3466505);\">:</span> <span style=\"background-color:rgba(135,206,250,1.0);\">mosel</span> <span style=\"background-color:rgba(135,206,250,0.34615737);\">:</span> <span style=\"background-color:rgba(135,206,250,0.6039107);\">riesling</span> <span style=\"background-color:rgba(135,206,250,0.41083056);\">:</span>"
            ]
          },
          "metadata": {}
        },
        {
          "output_type": "stream",
          "name": "stdout",
          "text": [
            "a:   \t8.02%\n",
            "while:   \t5.55%\n",
            "this:   \t3.97%\n",
            "dusty:   \t3.06%\n",
            "the:   \t2.57%\n",
            "--------\n",
            "\n"
          ]
        },
        {
          "output_type": "display_data",
          "data": {
            "text/plain": [
              "<IPython.core.display.HTML object>"
            ],
            "text/html": [
              "<span style=\"background-color:rgba(135,206,250,0.43290657);\">wine</span> <span style=\"background-color:rgba(135,206,250,1.0);\">review</span> <span style=\"background-color:rgba(135,206,250,0.1644882);\">:</span> <span style=\"background-color:rgba(135,206,250,0.19066443);\">germany</span> <span style=\"background-color:rgba(135,206,250,0.22190385);\">:</span> <span style=\"background-color:rgba(135,206,250,0.5497659);\">mosel</span> <span style=\"background-color:rgba(135,206,250,0.15801695);\">:</span> <span style=\"background-color:rgba(135,206,250,0.25349075);\">riesling</span> <span style=\"background-color:rgba(135,206,250,0.29568684);\">:</span> <span style=\"background-color:rgba(135,206,250,0.23718442);\">an</span>"
            ]
          },
          "metadata": {}
        },
        {
          "output_type": "stream",
          "name": "stdout",
          "text": [
            "intensely:   \t14.39%\n",
            "earthen:   \t7.18%\n",
            "earthy:   \t3.52%\n",
            "ethereally:   \t3.13%\n",
            "off:   \t2.93%\n",
            "--------\n",
            "\n"
          ]
        },
        {
          "output_type": "display_data",
          "data": {
            "text/plain": [
              "<IPython.core.display.HTML object>"
            ],
            "text/html": [
              "<span style=\"background-color:rgba(135,206,250,0.47715425);\">wine</span> <span style=\"background-color:rgba(135,206,250,1.0);\">review</span> <span style=\"background-color:rgba(135,206,250,0.1454398);\">:</span> <span style=\"background-color:rgba(135,206,250,0.084889255);\">germany</span> <span style=\"background-color:rgba(135,206,250,0.29722905);\">:</span> <span style=\"background-color:rgba(135,206,250,0.11134712);\">mosel</span> <span style=\"background-color:rgba(135,206,250,0.1546757);\">:</span> <span style=\"background-color:rgba(135,206,250,0.08242374);\">riesling</span> <span style=\"background-color:rgba(135,206,250,0.22494785);\">:</span> <span style=\"background-color:rgba(135,206,250,0.3511367);\">an</span> <span style=\"background-color:rgba(135,206,250,0.2968292);\">apt</span>"
            ]
          },
          "metadata": {}
        },
        {
          "output_type": "stream",
          "name": "stdout",
          "text": [
            "word:   \t24.23%\n",
            "name:   \t18.14%\n",
            "moniker:   \t8.25%\n",
            "wine:   \t5.07%\n",
            "comparison:   \t2.74%\n",
            "--------\n",
            "\n"
          ]
        },
        {
          "output_type": "display_data",
          "data": {
            "text/plain": [
              "<IPython.core.display.HTML object>"
            ],
            "text/html": [
              "<span style=\"background-color:rgba(135,206,250,0.40341666);\">wine</span> <span style=\"background-color:rgba(135,206,250,0.95242345);\">review</span> <span style=\"background-color:rgba(135,206,250,0.14481378);\">:</span> <span style=\"background-color:rgba(135,206,250,0.10137966);\">germany</span> <span style=\"background-color:rgba(135,206,250,0.15175179);\">:</span> <span style=\"background-color:rgba(135,206,250,0.16700707);\">mosel</span> <span style=\"background-color:rgba(135,206,250,0.11563568);\">:</span> <span style=\"background-color:rgba(135,206,250,0.07240122);\">riesling</span> <span style=\"background-color:rgba(135,206,250,0.18258595);\">:</span> <span style=\"background-color:rgba(135,206,250,0.2072534);\">an</span> <span style=\"background-color:rgba(135,206,250,1.0);\">apt</span> <span style=\"background-color:rgba(135,206,250,0.21166277);\">name</span>"
            ]
          },
          "metadata": {}
        },
        {
          "output_type": "stream",
          "name": "stdout",
          "text": [
            "for:   \t82.03%\n",
            "to:   \t4.27%\n",
            ",:   \t1.81%\n",
            "and:   \t1.81%\n",
            "of:   \t1.38%\n",
            "--------\n",
            "\n"
          ]
        },
        {
          "output_type": "display_data",
          "data": {
            "text/plain": [
              "<IPython.core.display.HTML object>"
            ],
            "text/html": [
              "<span style=\"background-color:rgba(135,206,250,0.27555466);\">wine</span> <span style=\"background-color:rgba(135,206,250,0.50903577);\">review</span> <span style=\"background-color:rgba(135,206,250,0.08645495);\">:</span> <span style=\"background-color:rgba(135,206,250,0.12921889);\">germany</span> <span style=\"background-color:rgba(135,206,250,0.06979222);\">:</span> <span style=\"background-color:rgba(135,206,250,0.28619918);\">mosel</span> <span style=\"background-color:rgba(135,206,250,0.068003364);\">:</span> <span style=\"background-color:rgba(135,206,250,0.1346319);\">riesling</span> <span style=\"background-color:rgba(135,206,250,0.120014586);\">:</span> <span style=\"background-color:rgba(135,206,250,0.13271889);\">an</span> <span style=\"background-color:rgba(135,206,250,1.0);\">apt</span> <span style=\"background-color:rgba(135,206,250,0.6259951);\">name</span> <span style=\"background-color:rgba(135,206,250,0.091191515);\">for</span>"
            ]
          },
          "metadata": {}
        },
        {
          "output_type": "stream",
          "name": "stdout",
          "text": [
            "this:   \t70.53%\n",
            "a:   \t8.09%\n",
            "[UNK]:   \t3.43%\n",
            "the:   \t2.82%\n",
            "an:   \t2.12%\n",
            "--------\n",
            "\n"
          ]
        },
        {
          "output_type": "display_data",
          "data": {
            "text/plain": [
              "<IPython.core.display.HTML object>"
            ],
            "text/html": [
              "<span style=\"background-color:rgba(135,206,250,0.62390935);\">wine</span> <span style=\"background-color:rgba(135,206,250,1.0);\">review</span> <span style=\"background-color:rgba(135,206,250,0.23338208);\">:</span> <span style=\"background-color:rgba(135,206,250,0.52333426);\">germany</span> <span style=\"background-color:rgba(135,206,250,0.19228184);\">:</span> <span style=\"background-color:rgba(135,206,250,0.599376);\">mosel</span> <span style=\"background-color:rgba(135,206,250,0.16930485);\">:</span> <span style=\"background-color:rgba(135,206,250,0.4792143);\">riesling</span> <span style=\"background-color:rgba(135,206,250,0.26695696);\">:</span> <span style=\"background-color:rgba(135,206,250,0.30244145);\">an</span> <span style=\"background-color:rgba(135,206,250,0.99611956);\">apt</span> <span style=\"background-color:rgba(135,206,250,0.76793516);\">name</span> <span style=\"background-color:rgba(135,206,250,0.5564996);\">for</span> <span style=\"background-color:rgba(135,206,250,0.21284522);\">this</span>"
            ]
          },
          "metadata": {}
        },
        {
          "output_type": "stream",
          "name": "stdout",
          "text": [
            "wine:   \t19.46%\n",
            "auslese:   \t5.89%\n",
            "[UNK]:   \t5.53%\n",
            "intensely:   \t4.46%\n",
            "riesling:   \t2.74%\n",
            "--------\n",
            "\n"
          ]
        },
        {
          "output_type": "display_data",
          "data": {
            "text/plain": [
              "<IPython.core.display.HTML object>"
            ],
            "text/html": [
              "<span style=\"background-color:rgba(135,206,250,0.45848382);\">wine</span> <span style=\"background-color:rgba(135,206,250,1.0);\">review</span> <span style=\"background-color:rgba(135,206,250,0.102556124);\">:</span> <span style=\"background-color:rgba(135,206,250,0.21196452);\">germany</span> <span style=\"background-color:rgba(135,206,250,0.1193945);\">:</span> <span style=\"background-color:rgba(135,206,250,0.26970795);\">mosel</span> <span style=\"background-color:rgba(135,206,250,0.14764014);\">:</span> <span style=\"background-color:rgba(135,206,250,0.40732336);\">riesling</span> <span style=\"background-color:rgba(135,206,250,0.25468987);\">:</span> <span style=\"background-color:rgba(135,206,250,0.3816309);\">an</span> <span style=\"background-color:rgba(135,206,250,0.5141363);\">apt</span> <span style=\"background-color:rgba(135,206,250,0.5066534);\">name</span> <span style=\"background-color:rgba(135,206,250,0.53402305);\">for</span> <span style=\"background-color:rgba(135,206,250,0.4243418);\">this</span> <span style=\"background-color:rgba(135,206,250,0.23426682);\">reserve</span>"
            ]
          },
          "metadata": {}
        },
        {
          "output_type": "stream",
          "name": "stdout",
          "text": [
            "riesling:   \t31.94%\n",
            ",:   \t25.33%\n",
            "auslese:   \t6.71%\n",
            "wine:   \t5.02%\n",
            "is:   \t3.86%\n",
            "--------\n",
            "\n"
          ]
        },
        {
          "output_type": "display_data",
          "data": {
            "text/plain": [
              "<IPython.core.display.HTML object>"
            ],
            "text/html": [
              "<span style=\"background-color:rgba(135,206,250,0.37512416);\">wine</span> <span style=\"background-color:rgba(135,206,250,1.0);\">review</span> <span style=\"background-color:rgba(135,206,250,0.12285606);\">:</span> <span style=\"background-color:rgba(135,206,250,0.13837056);\">germany</span> <span style=\"background-color:rgba(135,206,250,0.16056082);\">:</span> <span style=\"background-color:rgba(135,206,250,0.12632936);\">mosel</span> <span style=\"background-color:rgba(135,206,250,0.13257839);\">:</span> <span style=\"background-color:rgba(135,206,250,0.07891029);\">riesling</span> <span style=\"background-color:rgba(135,206,250,0.15626799);\">:</span> <span style=\"background-color:rgba(135,206,250,0.21484701);\">an</span> <span style=\"background-color:rgba(135,206,250,0.41482309);\">apt</span> <span style=\"background-color:rgba(135,206,250,0.17601782);\">name</span> <span style=\"background-color:rgba(135,206,250,0.42746067);\">for</span> <span style=\"background-color:rgba(135,206,250,0.31144458);\">this</span> <span style=\"background-color:rgba(135,206,250,0.14285177);\">reserve</span> <span style=\"background-color:rgba(135,206,250,0.2957072);\">eiswein</span>"
            ]
          },
          "metadata": {}
        },
        {
          "output_type": "stream",
          "name": "stdout",
          "text": [
            ",:   \t53.39%\n",
            "is:   \t16.84%\n",
            ".:   \t6.92%\n",
            "(:   \t4.66%\n",
            "that:   \t1.51%\n",
            "--------\n",
            "\n"
          ]
        },
        {
          "output_type": "display_data",
          "data": {
            "text/plain": [
              "<IPython.core.display.HTML object>"
            ],
            "text/html": [
              "<span style=\"background-color:rgba(135,206,250,0.14208259);\">wine</span> <span style=\"background-color:rgba(135,206,250,0.25650686);\">review</span> <span style=\"background-color:rgba(135,206,250,0.06755234);\">:</span> <span style=\"background-color:rgba(135,206,250,0.16667332);\">germany</span> <span style=\"background-color:rgba(135,206,250,0.03814357);\">:</span> <span style=\"background-color:rgba(135,206,250,0.10269448);\">mosel</span> <span style=\"background-color:rgba(135,206,250,0.04216845);\">:</span> <span style=\"background-color:rgba(135,206,250,0.14147781);\">riesling</span> <span style=\"background-color:rgba(135,206,250,0.069733255);\">:</span> <span style=\"background-color:rgba(135,206,250,0.11749357);\">an</span> <span style=\"background-color:rgba(135,206,250,0.2203388);\">apt</span> <span style=\"background-color:rgba(135,206,250,0.15204738);\">name</span> <span style=\"background-color:rgba(135,206,250,0.15034422);\">for</span> <span style=\"background-color:rgba(135,206,250,0.17398241);\">this</span> <span style=\"background-color:rgba(135,206,250,0.18370503);\">reserve</span> <span style=\"background-color:rgba(135,206,250,1.0);\">eiswein</span> <span style=\"background-color:rgba(135,206,250,0.11935835);\">,</span>"
            ]
          },
          "metadata": {}
        },
        {
          "output_type": "stream",
          "name": "stdout",
          "text": [
            "this:   \t12.3%\n",
            "but:   \t10.75%\n",
            "with:   \t9.21%\n",
            "it:   \t6.3%\n",
            "is:   \t5.61%\n",
            "--------\n",
            "\n"
          ]
        },
        {
          "output_type": "display_data",
          "data": {
            "text/plain": [
              "<IPython.core.display.HTML object>"
            ],
            "text/html": [
              "<span style=\"background-color:rgba(135,206,250,0.19728705);\">wine</span> <span style=\"background-color:rgba(135,206,250,0.39842504);\">review</span> <span style=\"background-color:rgba(135,206,250,0.07825851);\">:</span> <span style=\"background-color:rgba(135,206,250,0.15806176);\">germany</span> <span style=\"background-color:rgba(135,206,250,0.06319458);\">:</span> <span style=\"background-color:rgba(135,206,250,0.18704395);\">mosel</span> <span style=\"background-color:rgba(135,206,250,0.056184534);\">:</span> <span style=\"background-color:rgba(135,206,250,0.13993971);\">riesling</span> <span style=\"background-color:rgba(135,206,250,0.09026033);\">:</span> <span style=\"background-color:rgba(135,206,250,0.09004381);\">an</span> <span style=\"background-color:rgba(135,206,250,0.41558737);\">apt</span> <span style=\"background-color:rgba(135,206,250,0.1692844);\">name</span> <span style=\"background-color:rgba(135,206,250,0.15368333);\">for</span> <span style=\"background-color:rgba(135,206,250,0.10983081);\">this</span> <span style=\"background-color:rgba(135,206,250,0.15496968);\">reserve</span> <span style=\"background-color:rgba(135,206,250,1.0);\">eiswein</span> <span style=\"background-color:rgba(135,206,250,0.2869205);\">,</span> <span style=\"background-color:rgba(135,206,250,0.17329416);\">an</span>"
            ]
          },
          "metadata": {}
        },
        {
          "output_type": "stream",
          "name": "stdout",
          "text": [
            "[UNK]:   \t8.96%\n",
            "auslese:   \t6.9%\n",
            "supersweet:   \t5.58%\n",
            "impressive:   \t3.07%\n",
            "ethereally:   \t2.91%\n",
            "--------\n",
            "\n"
          ]
        },
        {
          "output_type": "display_data",
          "data": {
            "text/plain": [
              "<IPython.core.display.HTML object>"
            ],
            "text/html": [
              "<span style=\"background-color:rgba(135,206,250,0.28550258);\">wine</span> <span style=\"background-color:rgba(135,206,250,0.4802351);\">review</span> <span style=\"background-color:rgba(135,206,250,0.10003184);\">:</span> <span style=\"background-color:rgba(135,206,250,0.2500204);\">germany</span> <span style=\"background-color:rgba(135,206,250,0.071509175);\">:</span> <span style=\"background-color:rgba(135,206,250,0.20823672);\">mosel</span> <span style=\"background-color:rgba(135,206,250,0.097314015);\">:</span> <span style=\"background-color:rgba(135,206,250,0.354029);\">riesling</span> <span style=\"background-color:rgba(135,206,250,0.1271466);\">:</span> <span style=\"background-color:rgba(135,206,250,0.12702751);\">an</span> <span style=\"background-color:rgba(135,206,250,0.2692492);\">apt</span> <span style=\"background-color:rgba(135,206,250,0.23647627);\">name</span> <span style=\"background-color:rgba(135,206,250,0.17370123);\">for</span> <span style=\"background-color:rgba(135,206,250,0.18857351);\">this</span> <span style=\"background-color:rgba(135,206,250,0.17182183);\">reserve</span> <span style=\"background-color:rgba(135,206,250,1.0);\">eiswein</span> <span style=\"background-color:rgba(135,206,250,0.23074016);\">,</span> <span style=\"background-color:rgba(135,206,250,0.59830475);\">an</span> <span style=\"background-color:rgba(135,206,250,0.19116065);\">opulent</span>"
            ]
          },
          "metadata": {}
        },
        {
          "output_type": "stream",
          "name": "stdout",
          "text": [
            "auslese:   \t38.27%\n",
            "tba:   \t17.59%\n",
            ",:   \t13.32%\n",
            "wine:   \t8.78%\n",
            "riesling:   \t3.74%\n",
            "--------\n",
            "\n"
          ]
        },
        {
          "output_type": "display_data",
          "data": {
            "text/plain": [
              "<IPython.core.display.HTML object>"
            ],
            "text/html": [
              "<span style=\"background-color:rgba(135,206,250,0.3071873);\">wine</span> <span style=\"background-color:rgba(135,206,250,1.0);\">review</span> <span style=\"background-color:rgba(135,206,250,0.11370235);\">:</span> <span style=\"background-color:rgba(135,206,250,0.1972816);\">germany</span> <span style=\"background-color:rgba(135,206,250,0.10510144);\">:</span> <span style=\"background-color:rgba(135,206,250,0.11640167);\">mosel</span> <span style=\"background-color:rgba(135,206,250,0.12236646);\">:</span> <span style=\"background-color:rgba(135,206,250,0.103691086);\">riesling</span> <span style=\"background-color:rgba(135,206,250,0.15994948);\">:</span> <span style=\"background-color:rgba(135,206,250,0.26779798);\">an</span> <span style=\"background-color:rgba(135,206,250,0.43009418);\">apt</span> <span style=\"background-color:rgba(135,206,250,0.24959461);\">name</span> <span style=\"background-color:rgba(135,206,250,0.3169557);\">for</span> <span style=\"background-color:rgba(135,206,250,0.3882706);\">this</span> <span style=\"background-color:rgba(135,206,250,0.13837753);\">reserve</span> <span style=\"background-color:rgba(135,206,250,0.38538206);\">eiswein</span> <span style=\"background-color:rgba(135,206,250,0.31178367);\">,</span> <span style=\"background-color:rgba(135,206,250,0.7443515);\">an</span> <span style=\"background-color:rgba(135,206,250,0.28688726);\">opulent</span> <span style=\"background-color:rgba(135,206,250,0.2508432);\">auslese</span>"
            ]
          },
          "metadata": {}
        },
        {
          "output_type": "stream",
          "name": "stdout",
          "text": [
            ",:   \t56.77%\n",
            ".:   \t17.18%\n",
            "that:   \t6.9%\n",
            "of:   \t1.48%\n",
            "with:   \t1.04%\n",
            "--------\n",
            "\n"
          ]
        },
        {
          "output_type": "display_data",
          "data": {
            "text/plain": [
              "<IPython.core.display.HTML object>"
            ],
            "text/html": [
              "<span style=\"background-color:rgba(135,206,250,0.28367478);\">wine</span> <span style=\"background-color:rgba(135,206,250,0.4975417);\">review</span> <span style=\"background-color:rgba(135,206,250,0.1421168);\">:</span> <span style=\"background-color:rgba(135,206,250,0.35659775);\">germany</span> <span style=\"background-color:rgba(135,206,250,0.08089758);\">:</span> <span style=\"background-color:rgba(135,206,250,0.17503548);\">mosel</span> <span style=\"background-color:rgba(135,206,250,0.08437437);\">:</span> <span style=\"background-color:rgba(135,206,250,0.27313626);\">riesling</span> <span style=\"background-color:rgba(135,206,250,0.12504119);\">:</span> <span style=\"background-color:rgba(135,206,250,0.1733723);\">an</span> <span style=\"background-color:rgba(135,206,250,0.30699128);\">apt</span> <span style=\"background-color:rgba(135,206,250,0.18141903);\">name</span> <span style=\"background-color:rgba(135,206,250,0.20219864);\">for</span> <span style=\"background-color:rgba(135,206,250,0.25819412);\">this</span> <span style=\"background-color:rgba(135,206,250,0.17669249);\">reserve</span> <span style=\"background-color:rgba(135,206,250,1.0);\">eiswein</span> <span style=\"background-color:rgba(135,206,250,0.1351498);\">,</span> <span style=\"background-color:rgba(135,206,250,0.45313343);\">an</span> <span style=\"background-color:rgba(135,206,250,0.6090393);\">opulent</span> <span style=\"background-color:rgba(135,206,250,0.7574263);\">auslese</span> <span style=\"background-color:rgba(135,206,250,0.4328383);\">,</span>"
            ]
          },
          "metadata": {}
        },
        {
          "output_type": "stream",
          "name": "stdout",
          "text": [
            "but:   \t12.55%\n",
            "with:   \t7.84%\n",
            "weighing:   \t5.86%\n",
            "it:   \t4.85%\n",
            "dripping:   \t4.19%\n",
            "--------\n",
            "\n"
          ]
        },
        {
          "output_type": "display_data",
          "data": {
            "text/plain": [
              "<IPython.core.display.HTML object>"
            ],
            "text/html": [
              "<span style=\"background-color:rgba(135,206,250,0.29958507);\">wine</span> <span style=\"background-color:rgba(135,206,250,0.42276877);\">review</span> <span style=\"background-color:rgba(135,206,250,0.12634483);\">:</span> <span style=\"background-color:rgba(135,206,250,0.3804746);\">germany</span> <span style=\"background-color:rgba(135,206,250,0.06344838);\">:</span> <span style=\"background-color:rgba(135,206,250,0.26196635);\">mosel</span> <span style=\"background-color:rgba(135,206,250,0.067679666);\">:</span> <span style=\"background-color:rgba(135,206,250,0.22508405);\">riesling</span> <span style=\"background-color:rgba(135,206,250,0.103818566);\">:</span> <span style=\"background-color:rgba(135,206,250,0.11248932);\">an</span> <span style=\"background-color:rgba(135,206,250,0.45683584);\">apt</span> <span style=\"background-color:rgba(135,206,250,0.18581167);\">name</span> <span style=\"background-color:rgba(135,206,250,0.14147599);\">for</span> <span style=\"background-color:rgba(135,206,250,0.14061491);\">this</span> <span style=\"background-color:rgba(135,206,250,0.18964377);\">reserve</span> <span style=\"background-color:rgba(135,206,250,1.0);\">eiswein</span> <span style=\"background-color:rgba(135,206,250,0.21009278);\">,</span> <span style=\"background-color:rgba(135,206,250,0.18560359);\">an</span> <span style=\"background-color:rgba(135,206,250,0.3721752);\">opulent</span> <span style=\"background-color:rgba(135,206,250,0.7663698);\">auslese</span> <span style=\"background-color:rgba(135,206,250,0.844213);\">,</span> <span style=\"background-color:rgba(135,206,250,0.3365304);\">a</span>"
            ]
          },
          "metadata": {}
        },
        {
          "output_type": "stream",
          "name": "stdout",
          "text": [
            "powerhouse:   \t16.6%\n",
            "[UNK]:   \t4.5%\n",
            "wine:   \t2.04%\n",
            "bit:   \t1.86%\n",
            "tba:   \t1.63%\n",
            "--------\n",
            "\n"
          ]
        },
        {
          "output_type": "display_data",
          "data": {
            "text/plain": [
              "<IPython.core.display.HTML object>"
            ],
            "text/html": [
              "<span style=\"background-color:rgba(135,206,250,0.2911279);\">wine</span> <span style=\"background-color:rgba(135,206,250,0.37778798);\">review</span> <span style=\"background-color:rgba(135,206,250,0.12578493);\">:</span> <span style=\"background-color:rgba(135,206,250,0.27028462);\">germany</span> <span style=\"background-color:rgba(135,206,250,0.08175878);\">:</span> <span style=\"background-color:rgba(135,206,250,0.20945449);\">mosel</span> <span style=\"background-color:rgba(135,206,250,0.09657364);\">:</span> <span style=\"background-color:rgba(135,206,250,0.3126681);\">riesling</span> <span style=\"background-color:rgba(135,206,250,0.109978944);\">:</span> <span style=\"background-color:rgba(135,206,250,0.0922736);\">an</span> <span style=\"background-color:rgba(135,206,250,0.16477494);\">apt</span> <span style=\"background-color:rgba(135,206,250,0.14374253);\">name</span> <span style=\"background-color:rgba(135,206,250,0.112671755);\">for</span> <span style=\"background-color:rgba(135,206,250,0.13813153);\">this</span> <span style=\"background-color:rgba(135,206,250,0.11998345);\">reserve</span> <span style=\"background-color:rgba(135,206,250,0.36367244);\">eiswein</span> <span style=\"background-color:rgba(135,206,250,0.11470547);\">,</span> <span style=\"background-color:rgba(135,206,250,0.23901364);\">an</span> <span style=\"background-color:rgba(135,206,250,0.10941186);\">opulent</span> <span style=\"background-color:rgba(135,206,250,0.47865212);\">auslese</span> <span style=\"background-color:rgba(135,206,250,0.32772467);\">,</span> <span style=\"background-color:rgba(135,206,250,1.0);\">a</span> <span style=\"background-color:rgba(135,206,250,0.26837683);\">luscious</span>"
            ]
          },
          "metadata": {}
        },
        {
          "output_type": "stream",
          "name": "stdout",
          "text": [
            ",:   \t43.38%\n",
            "mouthfeel:   \t3.4%\n",
            "mix:   \t3.02%\n",
            "wine:   \t3.01%\n",
            "haze:   \t2.36%\n",
            "--------\n",
            "\n"
          ]
        },
        {
          "output_type": "display_data",
          "data": {
            "text/plain": [
              "<IPython.core.display.HTML object>"
            ],
            "text/html": [
              "<span style=\"background-color:rgba(135,206,250,0.27443132);\">wine</span> <span style=\"background-color:rgba(135,206,250,0.41159868);\">review</span> <span style=\"background-color:rgba(135,206,250,0.1588173);\">:</span> <span style=\"background-color:rgba(135,206,250,0.35718066);\">germany</span> <span style=\"background-color:rgba(135,206,250,0.07487601);\">:</span> <span style=\"background-color:rgba(135,206,250,0.15690811);\">mosel</span> <span style=\"background-color:rgba(135,206,250,0.08091065);\">:</span> <span style=\"background-color:rgba(135,206,250,0.25831312);\">riesling</span> <span style=\"background-color:rgba(135,206,250,0.11046308);\">:</span> <span style=\"background-color:rgba(135,206,250,0.13716495);\">an</span> <span style=\"background-color:rgba(135,206,250,0.23183893);\">apt</span> <span style=\"background-color:rgba(135,206,250,0.13551003);\">name</span> <span style=\"background-color:rgba(135,206,250,0.14351062);\">for</span> <span style=\"background-color:rgba(135,206,250,0.20589331);\">this</span> <span style=\"background-color:rgba(135,206,250,0.11682808);\">reserve</span> <span style=\"background-color:rgba(135,206,250,0.5264599);\">eiswein</span> <span style=\"background-color:rgba(135,206,250,0.08495856);\">,</span> <span style=\"background-color:rgba(135,206,250,0.21503715);\">an</span> <span style=\"background-color:rgba(135,206,250,0.29441148);\">opulent</span> <span style=\"background-color:rgba(135,206,250,0.39161503);\">auslese</span> <span style=\"background-color:rgba(135,206,250,0.19260582);\">,</span> <span style=\"background-color:rgba(135,206,250,0.61503184);\">a</span> <span style=\"background-color:rgba(135,206,250,1.0);\">luscious</span> <span style=\"background-color:rgba(135,206,250,0.4595999);\">,</span>"
            ]
          },
          "metadata": {}
        },
        {
          "output_type": "stream",
          "name": "stdout",
          "text": [
            "unctuous:   \t9.18%\n",
            "opulent:   \t6.67%\n",
            "concentrated:   \t6.61%\n",
            "honeyed:   \t6.48%\n",
            "almost:   \t3.8%\n",
            "--------\n",
            "\n"
          ]
        },
        {
          "output_type": "display_data",
          "data": {
            "text/plain": [
              "<IPython.core.display.HTML object>"
            ],
            "text/html": [
              "<span style=\"background-color:rgba(135,206,250,0.5191951);\">wine</span> <span style=\"background-color:rgba(135,206,250,0.56670606);\">review</span> <span style=\"background-color:rgba(135,206,250,0.2050755);\">:</span> <span style=\"background-color:rgba(135,206,250,0.46780097);\">germany</span> <span style=\"background-color:rgba(135,206,250,0.13686231);\">:</span> <span style=\"background-color:rgba(135,206,250,0.29929402);\">mosel</span> <span style=\"background-color:rgba(135,206,250,0.15086956);\">:</span> <span style=\"background-color:rgba(135,206,250,0.5211559);\">riesling</span> <span style=\"background-color:rgba(135,206,250,0.1671654);\">:</span> <span style=\"background-color:rgba(135,206,250,0.13360333);\">an</span> <span style=\"background-color:rgba(135,206,250,0.31127387);\">apt</span> <span style=\"background-color:rgba(135,206,250,0.23884752);\">name</span> <span style=\"background-color:rgba(135,206,250,0.16058688);\">for</span> <span style=\"background-color:rgba(135,206,250,0.19059731);\">this</span> <span style=\"background-color:rgba(135,206,250,0.19942999);\">reserve</span> <span style=\"background-color:rgba(135,206,250,0.5828289);\">eiswein</span> <span style=\"background-color:rgba(135,206,250,0.16769099);\">,</span> <span style=\"background-color:rgba(135,206,250,0.27874327);\">an</span> <span style=\"background-color:rgba(135,206,250,0.21469405);\">opulent</span> <span style=\"background-color:rgba(135,206,250,0.7785693);\">auslese</span> <span style=\"background-color:rgba(135,206,250,0.43785825);\">,</span> <span style=\"background-color:rgba(135,206,250,0.95575255);\">a</span> <span style=\"background-color:rgba(135,206,250,0.5697985);\">luscious</span> <span style=\"background-color:rgba(135,206,250,1.0);\">,</span> <span style=\"background-color:rgba(135,206,250,0.48250645);\">sweet</span>"
            ]
          },
          "metadata": {}
        },
        {
          "output_type": "stream",
          "name": "stdout",
          "text": [
            "wine:   \t20.82%\n",
            "-:   \t7.16%\n",
            ",:   \t6.18%\n",
            "riesling:   \t5.87%\n",
            "botrytized:   \t5.52%\n",
            "--------\n",
            "\n"
          ]
        },
        {
          "output_type": "display_data",
          "data": {
            "text/plain": [
              "<IPython.core.display.HTML object>"
            ],
            "text/html": [
              "<span style=\"background-color:rgba(135,206,250,0.7609396);\">wine</span> <span style=\"background-color:rgba(135,206,250,1.0);\">review</span> <span style=\"background-color:rgba(135,206,250,0.28754166);\">:</span> <span style=\"background-color:rgba(135,206,250,0.45303783);\">germany</span> <span style=\"background-color:rgba(135,206,250,0.19839925);\">:</span> <span style=\"background-color:rgba(135,206,250,0.18927467);\">mosel</span> <span style=\"background-color:rgba(135,206,250,0.20261826);\">:</span> <span style=\"background-color:rgba(135,206,250,0.19846097);\">riesling</span> <span style=\"background-color:rgba(135,206,250,0.21784776);\">:</span> <span style=\"background-color:rgba(135,206,250,0.13914236);\">an</span> <span style=\"background-color:rgba(135,206,250,0.21483204);\">apt</span> <span style=\"background-color:rgba(135,206,250,0.122425124);\">name</span> <span style=\"background-color:rgba(135,206,250,0.15973158);\">for</span> <span style=\"background-color:rgba(135,206,250,0.17452778);\">this</span> <span style=\"background-color:rgba(135,206,250,0.112031795);\">reserve</span> <span style=\"background-color:rgba(135,206,250,0.2892822);\">eiswein</span> <span style=\"background-color:rgba(135,206,250,0.13040844);\">,</span> <span style=\"background-color:rgba(135,206,250,0.21068622);\">an</span> <span style=\"background-color:rgba(135,206,250,0.13740975);\">opulent</span> <span style=\"background-color:rgba(135,206,250,0.26691055);\">auslese</span> <span style=\"background-color:rgba(135,206,250,0.30302167);\">,</span> <span style=\"background-color:rgba(135,206,250,0.5700928);\">a</span> <span style=\"background-color:rgba(135,206,250,0.40003026);\">luscious</span> <span style=\"background-color:rgba(135,206,250,0.7289926);\">,</span> <span style=\"background-color:rgba(135,206,250,0.43966216);\">sweet</span> <span style=\"background-color:rgba(135,206,250,0.8222893);\">gold</span>"
            ]
          },
          "metadata": {}
        },
        {
          "output_type": "stream",
          "name": "stdout",
          "text": [
            "color:   \t49.54%\n",
            "-:   \t12.84%\n",
            ",:   \t4.06%\n",
            "and:   \t3.79%\n",
            "icewine:   \t3.51%\n",
            "--------\n",
            "\n"
          ]
        },
        {
          "output_type": "display_data",
          "data": {
            "text/plain": [
              "<IPython.core.display.HTML object>"
            ],
            "text/html": [
              "<span style=\"background-color:rgba(135,206,250,0.6049659);\">wine</span> <span style=\"background-color:rgba(135,206,250,1.0);\">review</span> <span style=\"background-color:rgba(135,206,250,0.34282553);\">:</span> <span style=\"background-color:rgba(135,206,250,0.4071569);\">germany</span> <span style=\"background-color:rgba(135,206,250,0.20616287);\">:</span> <span style=\"background-color:rgba(135,206,250,0.14213422);\">mosel</span> <span style=\"background-color:rgba(135,206,250,0.19248693);\">:</span> <span style=\"background-color:rgba(135,206,250,0.13271403);\">riesling</span> <span style=\"background-color:rgba(135,206,250,0.2374985);\">:</span> <span style=\"background-color:rgba(135,206,250,0.13707858);\">an</span> <span style=\"background-color:rgba(135,206,250,0.26387882);\">apt</span> <span style=\"background-color:rgba(135,206,250,0.12519997);\">name</span> <span style=\"background-color:rgba(135,206,250,0.26304102);\">for</span> <span style=\"background-color:rgba(135,206,250,0.26222122);\">this</span> <span style=\"background-color:rgba(135,206,250,0.130928);\">reserve</span> <span style=\"background-color:rgba(135,206,250,0.29064965);\">eiswein</span> <span style=\"background-color:rgba(135,206,250,0.15629375);\">,</span> <span style=\"background-color:rgba(135,206,250,0.16622186);\">an</span> <span style=\"background-color:rgba(135,206,250,0.13395518);\">opulent</span> <span style=\"background-color:rgba(135,206,250,0.20347987);\">auslese</span> <span style=\"background-color:rgba(135,206,250,0.3096491);\">,</span> <span style=\"background-color:rgba(135,206,250,0.39333326);\">a</span> <span style=\"background-color:rgba(135,206,250,0.32517618);\">luscious</span> <span style=\"background-color:rgba(135,206,250,0.67332363);\">,</span> <span style=\"background-color:rgba(135,206,250,0.5892485);\">sweet</span> <span style=\"background-color:rgba(135,206,250,0.91869724);\">gold</span> <span style=\"background-color:rgba(135,206,250,0.9283377);\">color</span>"
            ]
          },
          "metadata": {}
        },
        {
          "output_type": "stream",
          "name": "stdout",
          "text": [
            ".:   \t35.85%\n",
            "and:   \t23.03%\n",
            ",:   \t17.73%\n",
            "that:   \t3.43%\n",
            "of:   \t2.68%\n",
            "--------\n",
            "\n"
          ]
        },
        {
          "output_type": "display_data",
          "data": {
            "text/plain": [
              "<IPython.core.display.HTML object>"
            ],
            "text/html": [
              "<span style=\"background-color:rgba(135,206,250,0.17026962);\">wine</span> <span style=\"background-color:rgba(135,206,250,0.22358422);\">review</span> <span style=\"background-color:rgba(135,206,250,0.15785305);\">:</span> <span style=\"background-color:rgba(135,206,250,0.2699016);\">germany</span> <span style=\"background-color:rgba(135,206,250,0.045335475);\">:</span> <span style=\"background-color:rgba(135,206,250,0.111123994);\">mosel</span> <span style=\"background-color:rgba(135,206,250,0.051987123);\">:</span> <span style=\"background-color:rgba(135,206,250,0.18508068);\">riesling</span> <span style=\"background-color:rgba(135,206,250,0.07045837);\">:</span> <span style=\"background-color:rgba(135,206,250,0.07572208);\">an</span> <span style=\"background-color:rgba(135,206,250,0.12197596);\">apt</span> <span style=\"background-color:rgba(135,206,250,0.0678509);\">name</span> <span style=\"background-color:rgba(135,206,250,0.06713849);\">for</span> <span style=\"background-color:rgba(135,206,250,0.109575875);\">this</span> <span style=\"background-color:rgba(135,206,250,0.059736617);\">reserve</span> <span style=\"background-color:rgba(135,206,250,0.19854893);\">eiswein</span> <span style=\"background-color:rgba(135,206,250,0.04241968);\">,</span> <span style=\"background-color:rgba(135,206,250,0.0734194);\">an</span> <span style=\"background-color:rgba(135,206,250,0.11333798);\">opulent</span> <span style=\"background-color:rgba(135,206,250,0.1678267);\">auslese</span> <span style=\"background-color:rgba(135,206,250,0.06261431);\">,</span> <span style=\"background-color:rgba(135,206,250,0.11292116);\">a</span> <span style=\"background-color:rgba(135,206,250,0.20629245);\">luscious</span> <span style=\"background-color:rgba(135,206,250,0.11076274);\">,</span> <span style=\"background-color:rgba(135,206,250,0.35938194);\">sweet</span> <span style=\"background-color:rgba(135,206,250,0.614409);\">gold</span> <span style=\"background-color:rgba(135,206,250,1.0);\">color</span> <span style=\"background-color:rgba(135,206,250,0.3123229);\">,</span>"
            ]
          },
          "metadata": {}
        },
        {
          "output_type": "stream",
          "name": "stdout",
          "text": [
            "with:   \t9.01%\n",
            "and:   \t7.06%\n",
            "but:   \t5.02%\n",
            "it:   \t4.51%\n",
            "this:   \t3.38%\n",
            "--------\n",
            "\n"
          ]
        },
        {
          "output_type": "display_data",
          "data": {
            "text/plain": [
              "<IPython.core.display.HTML object>"
            ],
            "text/html": [
              "<span style=\"background-color:rgba(135,206,250,0.25171477);\">wine</span> <span style=\"background-color:rgba(135,206,250,0.20511094);\">review</span> <span style=\"background-color:rgba(135,206,250,0.27007496);\">:</span> <span style=\"background-color:rgba(135,206,250,0.39759693);\">germany</span> <span style=\"background-color:rgba(135,206,250,0.053012006);\">:</span> <span style=\"background-color:rgba(135,206,250,0.22247589);\">mosel</span> <span style=\"background-color:rgba(135,206,250,0.06943225);\">:</span> <span style=\"background-color:rgba(135,206,250,0.28192443);\">riesling</span> <span style=\"background-color:rgba(135,206,250,0.08035807);\">:</span> <span style=\"background-color:rgba(135,206,250,0.06883131);\">an</span> <span style=\"background-color:rgba(135,206,250,0.21937339);\">apt</span> <span style=\"background-color:rgba(135,206,250,0.12924294);\">name</span> <span style=\"background-color:rgba(135,206,250,0.05134945);\">for</span> <span style=\"background-color:rgba(135,206,250,0.05807495);\">this</span> <span style=\"background-color:rgba(135,206,250,0.13046576);\">reserve</span> <span style=\"background-color:rgba(135,206,250,0.28174487);\">eiswein</span> <span style=\"background-color:rgba(135,206,250,0.06511996);\">,</span> <span style=\"background-color:rgba(135,206,250,0.053422425);\">an</span> <span style=\"background-color:rgba(135,206,250,0.13489407);\">opulent</span> <span style=\"background-color:rgba(135,206,250,0.22047848);\">auslese</span> <span style=\"background-color:rgba(135,206,250,0.11886203);\">,</span> <span style=\"background-color:rgba(135,206,250,0.066306934);\">a</span> <span style=\"background-color:rgba(135,206,250,0.20238322);\">luscious</span> <span style=\"background-color:rgba(135,206,250,0.25856727);\">,</span> <span style=\"background-color:rgba(135,206,250,0.33936253);\">sweet</span> <span style=\"background-color:rgba(135,206,250,0.9675108);\">gold</span> <span style=\"background-color:rgba(135,206,250,0.6252973);\">color</span> <span style=\"background-color:rgba(135,206,250,1.0);\">,</span> <span style=\"background-color:rgba(135,206,250,0.20451987);\">its</span>"
            ]
          },
          "metadata": {}
        },
        {
          "output_type": "stream",
          "name": "stdout",
          "text": [
            "honey:   \t15.65%\n",
            "honeyed:   \t4.3%\n",
            "[UNK]:   \t4.21%\n",
            "apricot:   \t3.08%\n",
            "flavors:   \t2.7%\n",
            "--------\n",
            "\n"
          ]
        },
        {
          "output_type": "display_data",
          "data": {
            "text/plain": [
              "<IPython.core.display.HTML object>"
            ],
            "text/html": [
              "<span style=\"background-color:rgba(135,206,250,0.46092933);\">wine</span> <span style=\"background-color:rgba(135,206,250,0.47970435);\">review</span> <span style=\"background-color:rgba(135,206,250,0.23902303);\">:</span> <span style=\"background-color:rgba(135,206,250,0.51801986);\">germany</span> <span style=\"background-color:rgba(135,206,250,0.12619676);\">:</span> <span style=\"background-color:rgba(135,206,250,0.107284464);\">mosel</span> <span style=\"background-color:rgba(135,206,250,0.13644926);\">:</span> <span style=\"background-color:rgba(135,206,250,0.1163161);\">riesling</span> <span style=\"background-color:rgba(135,206,250,0.13016382);\">:</span> <span style=\"background-color:rgba(135,206,250,0.10476157);\">an</span> <span style=\"background-color:rgba(135,206,250,0.17346723);\">apt</span> <span style=\"background-color:rgba(135,206,250,0.09352411);\">name</span> <span style=\"background-color:rgba(135,206,250,0.09881158);\">for</span> <span style=\"background-color:rgba(135,206,250,0.11182584);\">this</span> <span style=\"background-color:rgba(135,206,250,0.081161186);\">reserve</span> <span style=\"background-color:rgba(135,206,250,0.1558129);\">eiswein</span> <span style=\"background-color:rgba(135,206,250,0.07383534);\">,</span> <span style=\"background-color:rgba(135,206,250,0.11803672);\">an</span> <span style=\"background-color:rgba(135,206,250,0.103689194);\">opulent</span> <span style=\"background-color:rgba(135,206,250,0.16620028);\">auslese</span> <span style=\"background-color:rgba(135,206,250,0.12076208);\">,</span> <span style=\"background-color:rgba(135,206,250,0.18381412);\">a</span> <span style=\"background-color:rgba(135,206,250,0.17362408);\">luscious</span> <span style=\"background-color:rgba(135,206,250,0.22202706);\">,</span> <span style=\"background-color:rgba(135,206,250,0.17014724);\">sweet</span> <span style=\"background-color:rgba(135,206,250,0.29819024);\">gold</span> <span style=\"background-color:rgba(135,206,250,0.7826964);\">color</span> <span style=\"background-color:rgba(135,206,250,0.6059292);\">,</span> <span style=\"background-color:rgba(135,206,250,1.0);\">its</span> <span style=\"background-color:rgba(135,206,250,0.48537228);\">honey</span>"
            ]
          },
          "metadata": {}
        },
        {
          "output_type": "stream",
          "name": "stdout",
          "text": [
            "and:   \t54.75%\n",
            ",:   \t25.62%\n",
            "-:   \t10.19%\n",
            "[UNK]:   \t0.97%\n",
            "aromas:   \t0.63%\n",
            "--------\n",
            "\n"
          ]
        },
        {
          "output_type": "display_data",
          "data": {
            "text/plain": [
              "<IPython.core.display.HTML object>"
            ],
            "text/html": [
              "<span style=\"background-color:rgba(135,206,250,0.09560249);\">wine</span> <span style=\"background-color:rgba(135,206,250,0.12172092);\">review</span> <span style=\"background-color:rgba(135,206,250,0.14240396);\">:</span> <span style=\"background-color:rgba(135,206,250,0.20197207);\">germany</span> <span style=\"background-color:rgba(135,206,250,0.02854358);\">:</span> <span style=\"background-color:rgba(135,206,250,0.12179593);\">mosel</span> <span style=\"background-color:rgba(135,206,250,0.03261127);\">:</span> <span style=\"background-color:rgba(135,206,250,0.14010806);\">riesling</span> <span style=\"background-color:rgba(135,206,250,0.045705274);\">:</span> <span style=\"background-color:rgba(135,206,250,0.054409586);\">an</span> <span style=\"background-color:rgba(135,206,250,0.09996421);\">apt</span> <span style=\"background-color:rgba(135,206,250,0.056647785);\">name</span> <span style=\"background-color:rgba(135,206,250,0.026877075);\">for</span> <span style=\"background-color:rgba(135,206,250,0.041388717);\">this</span> <span style=\"background-color:rgba(135,206,250,0.05391706);\">reserve</span> <span style=\"background-color:rgba(135,206,250,0.11113809);\">eiswein</span> <span style=\"background-color:rgba(135,206,250,0.03521473);\">,</span> <span style=\"background-color:rgba(135,206,250,0.045816105);\">an</span> <span style=\"background-color:rgba(135,206,250,0.081019916);\">opulent</span> <span style=\"background-color:rgba(135,206,250,0.12100534);\">auslese</span> <span style=\"background-color:rgba(135,206,250,0.04863538);\">,</span> <span style=\"background-color:rgba(135,206,250,0.036630914);\">a</span> <span style=\"background-color:rgba(135,206,250,0.09366311);\">luscious</span> <span style=\"background-color:rgba(135,206,250,0.08206214);\">,</span> <span style=\"background-color:rgba(135,206,250,0.124183);\">sweet</span> <span style=\"background-color:rgba(135,206,250,0.27661514);\">gold</span> <span style=\"background-color:rgba(135,206,250,0.26161894);\">color</span> <span style=\"background-color:rgba(135,206,250,0.3181468);\">,</span> <span style=\"background-color:rgba(135,206,250,0.31495866);\">its</span> <span style=\"background-color:rgba(135,206,250,1.0);\">honey</span> <span style=\"background-color:rgba(135,206,250,0.18395285);\">and</span>"
            ]
          },
          "metadata": {}
        },
        {
          "output_type": "stream",
          "name": "stdout",
          "text": [
            "marmalade:   \t16.78%\n",
            "apricot:   \t6.96%\n",
            "honey:   \t5.05%\n",
            "botrytis:   \t4.27%\n",
            "peach:   \t3.85%\n",
            "--------\n",
            "\n"
          ]
        },
        {
          "output_type": "display_data",
          "data": {
            "text/plain": [
              "<IPython.core.display.HTML object>"
            ],
            "text/html": [
              "<span style=\"background-color:rgba(135,206,250,0.39527762);\">wine</span> <span style=\"background-color:rgba(135,206,250,0.31066963);\">review</span> <span style=\"background-color:rgba(135,206,250,0.38534737);\">:</span> <span style=\"background-color:rgba(135,206,250,0.68233013);\">germany</span> <span style=\"background-color:rgba(135,206,250,0.13214245);\">:</span> <span style=\"background-color:rgba(135,206,250,0.11650476);\">mosel</span> <span style=\"background-color:rgba(135,206,250,0.14311114);\">:</span> <span style=\"background-color:rgba(135,206,250,0.117423035);\">riesling</span> <span style=\"background-color:rgba(135,206,250,0.12258402);\">:</span> <span style=\"background-color:rgba(135,206,250,0.09007607);\">an</span> <span style=\"background-color:rgba(135,206,250,0.12341235);\">apt</span> <span style=\"background-color:rgba(135,206,250,0.09982086);\">name</span> <span style=\"background-color:rgba(135,206,250,0.06949899);\">for</span> <span style=\"background-color:rgba(135,206,250,0.1067579);\">this</span> <span style=\"background-color:rgba(135,206,250,0.10960298);\">reserve</span> <span style=\"background-color:rgba(135,206,250,0.1486276);\">eiswein</span> <span style=\"background-color:rgba(135,206,250,0.06070412);\">,</span> <span style=\"background-color:rgba(135,206,250,0.090911575);\">an</span> <span style=\"background-color:rgba(135,206,250,0.11026386);\">opulent</span> <span style=\"background-color:rgba(135,206,250,0.21043722);\">auslese</span> <span style=\"background-color:rgba(135,206,250,0.08350742);\">,</span> <span style=\"background-color:rgba(135,206,250,0.12593177);\">a</span> <span style=\"background-color:rgba(135,206,250,0.12789358);\">luscious</span> <span style=\"background-color:rgba(135,206,250,0.1274992);\">,</span> <span style=\"background-color:rgba(135,206,250,0.15235803);\">sweet</span> <span style=\"background-color:rgba(135,206,250,0.23726116);\">gold</span> <span style=\"background-color:rgba(135,206,250,0.59900767);\">color</span> <span style=\"background-color:rgba(135,206,250,0.34381318);\">,</span> <span style=\"background-color:rgba(135,206,250,0.67165214);\">its</span> <span style=\"background-color:rgba(135,206,250,0.34188077);\">honey</span> <span style=\"background-color:rgba(135,206,250,1.0);\">and</span> <span style=\"background-color:rgba(135,206,250,0.43634054);\">apricot</span>"
            ]
          },
          "metadata": {}
        },
        {
          "output_type": "stream",
          "name": "stdout",
          "text": [
            "jam:   \t26.68%\n",
            "nectar:   \t17.3%\n",
            "flavors:   \t12.52%\n",
            "preserves:   \t12.37%\n",
            "aromas:   \t5.46%\n",
            "--------\n",
            "\n"
          ]
        },
        {
          "output_type": "display_data",
          "data": {
            "text/plain": [
              "<IPython.core.display.HTML object>"
            ],
            "text/html": [
              "<span style=\"background-color:rgba(135,206,250,0.40666574);\">wine</span> <span style=\"background-color:rgba(135,206,250,0.43912524);\">review</span> <span style=\"background-color:rgba(135,206,250,0.3930282);\">:</span> <span style=\"background-color:rgba(135,206,250,0.44899008);\">germany</span> <span style=\"background-color:rgba(135,206,250,0.12506646);\">:</span> <span style=\"background-color:rgba(135,206,250,0.11270664);\">mosel</span> <span style=\"background-color:rgba(135,206,250,0.13437197);\">:</span> <span style=\"background-color:rgba(135,206,250,0.09915031);\">riesling</span> <span style=\"background-color:rgba(135,206,250,0.14332992);\">:</span> <span style=\"background-color:rgba(135,206,250,0.07856193);\">an</span> <span style=\"background-color:rgba(135,206,250,0.16875435);\">apt</span> <span style=\"background-color:rgba(135,206,250,0.10911344);\">name</span> <span style=\"background-color:rgba(135,206,250,0.13185287);\">for</span> <span style=\"background-color:rgba(135,206,250,0.12688193);\">this</span> <span style=\"background-color:rgba(135,206,250,0.08586585);\">reserve</span> <span style=\"background-color:rgba(135,206,250,0.17035142);\">eiswein</span> <span style=\"background-color:rgba(135,206,250,0.082223296);\">,</span> <span style=\"background-color:rgba(135,206,250,0.07707223);\">an</span> <span style=\"background-color:rgba(135,206,250,0.082704194);\">opulent</span> <span style=\"background-color:rgba(135,206,250,0.14755997);\">auslese</span> <span style=\"background-color:rgba(135,206,250,0.11526091);\">,</span> <span style=\"background-color:rgba(135,206,250,0.09189104);\">a</span> <span style=\"background-color:rgba(135,206,250,0.10441653);\">luscious</span> <span style=\"background-color:rgba(135,206,250,0.19616446);\">,</span> <span style=\"background-color:rgba(135,206,250,0.13563693);\">sweet</span> <span style=\"background-color:rgba(135,206,250,0.19946873);\">gold</span> <span style=\"background-color:rgba(135,206,250,0.34223437);\">color</span> <span style=\"background-color:rgba(135,206,250,0.46762946);\">,</span> <span style=\"background-color:rgba(135,206,250,0.59825355);\">its</span> <span style=\"background-color:rgba(135,206,250,0.6378167);\">honey</span> <span style=\"background-color:rgba(135,206,250,0.7232392);\">and</span> <span style=\"background-color:rgba(135,206,250,1.0);\">apricot</span> <span style=\"background-color:rgba(135,206,250,0.5075677);\">flavors</span>"
            ]
          },
          "metadata": {}
        },
        {
          "output_type": "stream",
          "name": "stdout",
          "text": [
            ".:   \t16.62%\n",
            "are:   \t14.49%\n",
            ",:   \t11.16%\n",
            "[UNK]:   \t3.82%\n",
            "glazed:   \t2.95%\n",
            "--------\n",
            "\n"
          ]
        },
        {
          "output_type": "display_data",
          "data": {
            "text/plain": [
              "<IPython.core.display.HTML object>"
            ],
            "text/html": [
              "<span style=\"background-color:rgba(135,206,250,0.86871755);\">wine</span> <span style=\"background-color:rgba(135,206,250,0.7024891);\">review</span> <span style=\"background-color:rgba(135,206,250,0.8077548);\">:</span> <span style=\"background-color:rgba(135,206,250,0.6863724);\">germany</span> <span style=\"background-color:rgba(135,206,250,0.26833904);\">:</span> <span style=\"background-color:rgba(135,206,250,0.30987313);\">mosel</span> <span style=\"background-color:rgba(135,206,250,0.26734665);\">:</span> <span style=\"background-color:rgba(135,206,250,0.2628063);\">riesling</span> <span style=\"background-color:rgba(135,206,250,0.22422622);\">:</span> <span style=\"background-color:rgba(135,206,250,0.11140323);\">an</span> <span style=\"background-color:rgba(135,206,250,0.20731841);\">apt</span> <span style=\"background-color:rgba(135,206,250,0.08072216);\">name</span> <span style=\"background-color:rgba(135,206,250,0.11046831);\">for</span> <span style=\"background-color:rgba(135,206,250,0.076039545);\">this</span> <span style=\"background-color:rgba(135,206,250,0.082687624);\">reserve</span> <span style=\"background-color:rgba(135,206,250,0.17342137);\">eiswein</span> <span style=\"background-color:rgba(135,206,250,0.075396135);\">,</span> <span style=\"background-color:rgba(135,206,250,0.078051664);\">an</span> <span style=\"background-color:rgba(135,206,250,0.12198689);\">opulent</span> <span style=\"background-color:rgba(135,206,250,0.17042468);\">auslese</span> <span style=\"background-color:rgba(135,206,250,0.08831533);\">,</span> <span style=\"background-color:rgba(135,206,250,0.10075863);\">a</span> <span style=\"background-color:rgba(135,206,250,0.11837604);\">luscious</span> <span style=\"background-color:rgba(135,206,250,0.119676486);\">,</span> <span style=\"background-color:rgba(135,206,250,0.14514817);\">sweet</span> <span style=\"background-color:rgba(135,206,250,0.13336265);\">gold</span> <span style=\"background-color:rgba(135,206,250,0.23563108);\">color</span> <span style=\"background-color:rgba(135,206,250,0.20700921);\">,</span> <span style=\"background-color:rgba(135,206,250,0.37608433);\">its</span> <span style=\"background-color:rgba(135,206,250,0.28282607);\">honey</span> <span style=\"background-color:rgba(135,206,250,0.40887234);\">and</span> <span style=\"background-color:rgba(135,206,250,0.34517056);\">apricot</span> <span style=\"background-color:rgba(135,206,250,1.0);\">flavors</span> <span style=\"background-color:rgba(135,206,250,0.46858415);\">touched</span>"
            ]
          },
          "metadata": {}
        },
        {
          "output_type": "stream",
          "name": "stdout",
          "text": [
            "by:   \t39.4%\n",
            "with:   \t35.99%\n",
            "up:   \t14.66%\n",
            "off:   \t0.69%\n",
            "through:   \t0.64%\n",
            "--------\n",
            "\n"
          ]
        },
        {
          "output_type": "display_data",
          "data": {
            "text/plain": [
              "<IPython.core.display.HTML object>"
            ],
            "text/html": [
              "<span style=\"background-color:rgba(135,206,250,0.2014281);\">wine</span> <span style=\"background-color:rgba(135,206,250,0.12913574);\">review</span> <span style=\"background-color:rgba(135,206,250,0.2377589);\">:</span> <span style=\"background-color:rgba(135,206,250,0.37681726);\">germany</span> <span style=\"background-color:rgba(135,206,250,0.05833595);\">:</span> <span style=\"background-color:rgba(135,206,250,0.15185864);\">mosel</span> <span style=\"background-color:rgba(135,206,250,0.07730849);\">:</span> <span style=\"background-color:rgba(135,206,250,0.17359841);\">riesling</span> <span style=\"background-color:rgba(135,206,250,0.056202594);\">:</span> <span style=\"background-color:rgba(135,206,250,0.06250753);\">an</span> <span style=\"background-color:rgba(135,206,250,0.0974248);\">apt</span> <span style=\"background-color:rgba(135,206,250,0.0577201);\">name</span> <span style=\"background-color:rgba(135,206,250,0.02428475);\">for</span> <span style=\"background-color:rgba(135,206,250,0.043246407);\">this</span> <span style=\"background-color:rgba(135,206,250,0.054370053);\">reserve</span> <span style=\"background-color:rgba(135,206,250,0.091289476);\">eiswein</span> <span style=\"background-color:rgba(135,206,250,0.036793184);\">,</span> <span style=\"background-color:rgba(135,206,250,0.04558609);\">an</span> <span style=\"background-color:rgba(135,206,250,0.062113844);\">opulent</span> <span style=\"background-color:rgba(135,206,250,0.123896696);\">auslese</span> <span style=\"background-color:rgba(135,206,250,0.043772258);\">,</span> <span style=\"background-color:rgba(135,206,250,0.03543397);\">a</span> <span style=\"background-color:rgba(135,206,250,0.0658014);\">luscious</span> <span style=\"background-color:rgba(135,206,250,0.05362232);\">,</span> <span style=\"background-color:rgba(135,206,250,0.07263532);\">sweet</span> <span style=\"background-color:rgba(135,206,250,0.14973712);\">gold</span> <span style=\"background-color:rgba(135,206,250,0.121974945);\">color</span> <span style=\"background-color:rgba(135,206,250,0.089080036);\">,</span> <span style=\"background-color:rgba(135,206,250,0.071645826);\">its</span> <span style=\"background-color:rgba(135,206,250,0.17041923);\">honey</span> <span style=\"background-color:rgba(135,206,250,0.13604085);\">and</span> <span style=\"background-color:rgba(135,206,250,0.24176018);\">apricot</span> <span style=\"background-color:rgba(135,206,250,0.37633857);\">flavors</span> <span style=\"background-color:rgba(135,206,250,1.0);\">touched</span> <span style=\"background-color:rgba(135,206,250,0.24116382);\">by</span>"
            ]
          },
          "metadata": {}
        },
        {
          "output_type": "stream",
          "name": "stdout",
          "text": [
            "honey:   \t32.6%\n",
            "hints:   \t3.43%\n",
            "a:   \t3.36%\n",
            "sweet:   \t3.28%\n",
            "botrytis:   \t3.22%\n",
            "--------\n",
            "\n"
          ]
        },
        {
          "output_type": "display_data",
          "data": {
            "text/plain": [
              "<IPython.core.display.HTML object>"
            ],
            "text/html": [
              "<span style=\"background-color:rgba(135,206,250,0.24938118);\">wine</span> <span style=\"background-color:rgba(135,206,250,0.2574107);\">review</span> <span style=\"background-color:rgba(135,206,250,0.2741268);\">:</span> <span style=\"background-color:rgba(135,206,250,0.29077414);\">germany</span> <span style=\"background-color:rgba(135,206,250,0.11341985);\">:</span> <span style=\"background-color:rgba(135,206,250,0.053057864);\">mosel</span> <span style=\"background-color:rgba(135,206,250,0.09786674);\">:</span> <span style=\"background-color:rgba(135,206,250,0.045719124);\">riesling</span> <span style=\"background-color:rgba(135,206,250,0.07783987);\">:</span> <span style=\"background-color:rgba(135,206,250,0.04842572);\">an</span> <span style=\"background-color:rgba(135,206,250,0.07929519);\">apt</span> <span style=\"background-color:rgba(135,206,250,0.044969868);\">name</span> <span style=\"background-color:rgba(135,206,250,0.07227669);\">for</span> <span style=\"background-color:rgba(135,206,250,0.073287435);\">this</span> <span style=\"background-color:rgba(135,206,250,0.0463005);\">reserve</span> <span style=\"background-color:rgba(135,206,250,0.064575076);\">eiswein</span> <span style=\"background-color:rgba(135,206,250,0.038490526);\">,</span> <span style=\"background-color:rgba(135,206,250,0.047711495);\">an</span> <span style=\"background-color:rgba(135,206,250,0.042043824);\">opulent</span> <span style=\"background-color:rgba(135,206,250,0.06371927);\">auslese</span> <span style=\"background-color:rgba(135,206,250,0.045473542);\">,</span> <span style=\"background-color:rgba(135,206,250,0.051378172);\">a</span> <span style=\"background-color:rgba(135,206,250,0.046846095);\">luscious</span> <span style=\"background-color:rgba(135,206,250,0.05908839);\">,</span> <span style=\"background-color:rgba(135,206,250,0.04379528);\">sweet</span> <span style=\"background-color:rgba(135,206,250,0.06689502);\">gold</span> <span style=\"background-color:rgba(135,206,250,0.12416825);\">color</span> <span style=\"background-color:rgba(135,206,250,0.10204956);\">,</span> <span style=\"background-color:rgba(135,206,250,0.15190741);\">its</span> <span style=\"background-color:rgba(135,206,250,0.112229146);\">honey</span> <span style=\"background-color:rgba(135,206,250,0.20569077);\">and</span> <span style=\"background-color:rgba(135,206,250,0.15503657);\">apricot</span> <span style=\"background-color:rgba(135,206,250,0.50031674);\">flavors</span> <span style=\"background-color:rgba(135,206,250,1.0);\">touched</span> <span style=\"background-color:rgba(135,206,250,0.8890312);\">by</span> <span style=\"background-color:rgba(135,206,250,0.17757048);\">saffron</span>"
            ]
          },
          "metadata": {}
        },
        {
          "output_type": "stream",
          "name": "stdout",
          "text": [
            "and:   \t48.74%\n",
            ".:   \t19.2%\n",
            ",:   \t17.92%\n",
            "notes:   \t2.05%\n",
            "spice:   \t1.38%\n",
            "--------\n",
            "\n"
          ]
        },
        {
          "output_type": "display_data",
          "data": {
            "text/plain": [
              "<IPython.core.display.HTML object>"
            ],
            "text/html": [
              "<span style=\"background-color:rgba(135,206,250,0.10809404);\">wine</span> <span style=\"background-color:rgba(135,206,250,0.14216195);\">review</span> <span style=\"background-color:rgba(135,206,250,0.2686547);\">:</span> <span style=\"background-color:rgba(135,206,250,0.3505673);\">germany</span> <span style=\"background-color:rgba(135,206,250,0.039568625);\">:</span> <span style=\"background-color:rgba(135,206,250,0.18702951);\">mosel</span> <span style=\"background-color:rgba(135,206,250,0.04461669);\">:</span> <span style=\"background-color:rgba(135,206,250,0.217713);\">riesling</span> <span style=\"background-color:rgba(135,206,250,0.059442215);\">:</span> <span style=\"background-color:rgba(135,206,250,0.06956319);\">an</span> <span style=\"background-color:rgba(135,206,250,0.12131613);\">apt</span> <span style=\"background-color:rgba(135,206,250,0.06680298);\">name</span> <span style=\"background-color:rgba(135,206,250,0.031040253);\">for</span> <span style=\"background-color:rgba(135,206,250,0.04708789);\">this</span> <span style=\"background-color:rgba(135,206,250,0.06957515);\">reserve</span> <span style=\"background-color:rgba(135,206,250,0.12817748);\">eiswein</span> <span style=\"background-color:rgba(135,206,250,0.04097791);\">,</span> <span style=\"background-color:rgba(135,206,250,0.05263615);\">an</span> <span style=\"background-color:rgba(135,206,250,0.096863486);\">opulent</span> <span style=\"background-color:rgba(135,206,250,0.16671792);\">auslese</span> <span style=\"background-color:rgba(135,206,250,0.0468427);\">,</span> <span style=\"background-color:rgba(135,206,250,0.03335198);\">a</span> <span style=\"background-color:rgba(135,206,250,0.094326966);\">luscious</span> <span style=\"background-color:rgba(135,206,250,0.053400166);\">,</span> <span style=\"background-color:rgba(135,206,250,0.1025498);\">sweet</span> <span style=\"background-color:rgba(135,206,250,0.17897907);\">gold</span> <span style=\"background-color:rgba(135,206,250,0.11388176);\">color</span> <span style=\"background-color:rgba(135,206,250,0.08413588);\">,</span> <span style=\"background-color:rgba(135,206,250,0.08065877);\">its</span> <span style=\"background-color:rgba(135,206,250,0.24515697);\">honey</span> <span style=\"background-color:rgba(135,206,250,0.07044546);\">and</span> <span style=\"background-color:rgba(135,206,250,0.37619346);\">apricot</span> <span style=\"background-color:rgba(135,206,250,0.5762014);\">flavors</span> <span style=\"background-color:rgba(135,206,250,0.96575063);\">touched</span> <span style=\"background-color:rgba(135,206,250,0.52006984);\">by</span> <span style=\"background-color:rgba(135,206,250,1.0);\">saffron</span> <span style=\"background-color:rgba(135,206,250,0.36933395);\">and</span>"
            ]
          },
          "metadata": {}
        },
        {
          "output_type": "stream",
          "name": "stdout",
          "text": [
            "honey:   \t31.46%\n",
            "spice:   \t12.89%\n",
            "caramel:   \t3.89%\n",
            "spices:   \t3.56%\n",
            "marmalade:   \t1.94%\n",
            "--------\n",
            "\n"
          ]
        },
        {
          "output_type": "display_data",
          "data": {
            "text/plain": [
              "<IPython.core.display.HTML object>"
            ],
            "text/html": [
              "<span style=\"background-color:rgba(135,206,250,0.28567296);\">wine</span> <span style=\"background-color:rgba(135,206,250,0.24820952);\">review</span> <span style=\"background-color:rgba(135,206,250,0.43660116);\">:</span> <span style=\"background-color:rgba(135,206,250,0.505254);\">germany</span> <span style=\"background-color:rgba(135,206,250,0.08177391);\">:</span> <span style=\"background-color:rgba(135,206,250,0.084049);\">mosel</span> <span style=\"background-color:rgba(135,206,250,0.09632152);\">:</span> <span style=\"background-color:rgba(135,206,250,0.09847294);\">riesling</span> <span style=\"background-color:rgba(135,206,250,0.09066643);\">:</span> <span style=\"background-color:rgba(135,206,250,0.061021883);\">an</span> <span style=\"background-color:rgba(135,206,250,0.10123166);\">apt</span> <span style=\"background-color:rgba(135,206,250,0.052987847);\">name</span> <span style=\"background-color:rgba(135,206,250,0.05055477);\">for</span> <span style=\"background-color:rgba(135,206,250,0.060280662);\">this</span> <span style=\"background-color:rgba(135,206,250,0.053465314);\">reserve</span> <span style=\"background-color:rgba(135,206,250,0.090710305);\">eiswein</span> <span style=\"background-color:rgba(135,206,250,0.03752394);\">,</span> <span style=\"background-color:rgba(135,206,250,0.049506586);\">an</span> <span style=\"background-color:rgba(135,206,250,0.060408004);\">opulent</span> <span style=\"background-color:rgba(135,206,250,0.11446063);\">auslese</span> <span style=\"background-color:rgba(135,206,250,0.04667537);\">,</span> <span style=\"background-color:rgba(135,206,250,0.04967945);\">a</span> <span style=\"background-color:rgba(135,206,250,0.06740903);\">luscious</span> <span style=\"background-color:rgba(135,206,250,0.06246383);\">,</span> <span style=\"background-color:rgba(135,206,250,0.06989978);\">sweet</span> <span style=\"background-color:rgba(135,206,250,0.10595201);\">gold</span> <span style=\"background-color:rgba(135,206,250,0.16325508);\">color</span> <span style=\"background-color:rgba(135,206,250,0.106421486);\">,</span> <span style=\"background-color:rgba(135,206,250,0.15744643);\">its</span> <span style=\"background-color:rgba(135,206,250,0.13049148);\">honey</span> <span style=\"background-color:rgba(135,206,250,0.1687166);\">and</span> <span style=\"background-color:rgba(135,206,250,0.18663724);\">apricot</span> <span style=\"background-color:rgba(135,206,250,0.7326306);\">flavors</span> <span style=\"background-color:rgba(135,206,250,1.0);\">touched</span> <span style=\"background-color:rgba(135,206,250,0.8770042);\">by</span> <span style=\"background-color:rgba(135,206,250,0.27725556);\">saffron</span> <span style=\"background-color:rgba(135,206,250,0.94413567);\">and</span> <span style=\"background-color:rgba(135,206,250,0.586904);\">honey</span>"
            ]
          },
          "metadata": {}
        },
        {
          "output_type": "stream",
          "name": "stdout",
          "text": [
            ".:   \t53.62%\n",
            ",:   \t19.46%\n",
            "notes:   \t3.45%\n",
            "[UNK]:   \t1.75%\n",
            "on:   \t1.74%\n",
            "--------\n",
            "\n"
          ]
        },
        {
          "output_type": "display_data",
          "data": {
            "text/plain": [
              "<IPython.core.display.HTML object>"
            ],
            "text/html": [
              "<span style=\"background-color:rgba(135,206,250,0.9492646);\">wine</span> <span style=\"background-color:rgba(135,206,250,0.12676507);\">review</span> <span style=\"background-color:rgba(135,206,250,0.2639459);\">:</span> <span style=\"background-color:rgba(135,206,250,1.0);\">germany</span> <span style=\"background-color:rgba(135,206,250,0.32388788);\">:</span> <span style=\"background-color:rgba(135,206,250,0.17321897);\">mosel</span> <span style=\"background-color:rgba(135,206,250,0.3115136);\">:</span> <span style=\"background-color:rgba(135,206,250,0.24467835);\">riesling</span> <span style=\"background-color:rgba(135,206,250,0.13338345);\">:</span> <span style=\"background-color:rgba(135,206,250,0.061536133);\">an</span> <span style=\"background-color:rgba(135,206,250,0.092289366);\">apt</span> <span style=\"background-color:rgba(135,206,250,0.074010216);\">name</span> <span style=\"background-color:rgba(135,206,250,0.05214311);\">for</span> <span style=\"background-color:rgba(135,206,250,0.10246943);\">this</span> <span style=\"background-color:rgba(135,206,250,0.10207376);\">reserve</span> <span style=\"background-color:rgba(135,206,250,0.116796);\">eiswein</span> <span style=\"background-color:rgba(135,206,250,0.043996);\">,</span> <span style=\"background-color:rgba(135,206,250,0.043041635);\">an</span> <span style=\"background-color:rgba(135,206,250,0.07825622);\">opulent</span> <span style=\"background-color:rgba(135,206,250,0.15931383);\">auslese</span> <span style=\"background-color:rgba(135,206,250,0.04806963);\">,</span> <span style=\"background-color:rgba(135,206,250,0.03457775);\">a</span> <span style=\"background-color:rgba(135,206,250,0.08105767);\">luscious</span> <span style=\"background-color:rgba(135,206,250,0.049512368);\">,</span> <span style=\"background-color:rgba(135,206,250,0.081129335);\">sweet</span> <span style=\"background-color:rgba(135,206,250,0.13382721);\">gold</span> <span style=\"background-color:rgba(135,206,250,0.10564872);\">color</span> <span style=\"background-color:rgba(135,206,250,0.06128258);\">,</span> <span style=\"background-color:rgba(135,206,250,0.046686802);\">its</span> <span style=\"background-color:rgba(135,206,250,0.12413657);\">honey</span> <span style=\"background-color:rgba(135,206,250,0.06811835);\">and</span> <span style=\"background-color:rgba(135,206,250,0.13344887);\">apricot</span> <span style=\"background-color:rgba(135,206,250,0.235093);\">flavors</span> <span style=\"background-color:rgba(135,206,250,0.16796717);\">touched</span> <span style=\"background-color:rgba(135,206,250,0.12540892);\">by</span> <span style=\"background-color:rgba(135,206,250,0.13773434);\">saffron</span> <span style=\"background-color:rgba(135,206,250,0.13399081);\">and</span> <span style=\"background-color:rgba(135,206,250,0.24986881);\">honey</span> <span style=\"background-color:rgba(135,206,250,0.36779854);\">.</span>"
            ]
          },
          "metadata": {}
        },
        {
          "output_type": "stream",
          "name": "stdout",
          "text": [
            "it:   \t22.47%\n",
            "the:   \t13.61%\n",
            "there:   \t4.05%\n",
            "a:   \t2.49%\n",
            "honeyed:   \t1.95%\n",
            "--------\n",
            "\n"
          ]
        },
        {
          "output_type": "display_data",
          "data": {
            "text/plain": [
              "<IPython.core.display.HTML object>"
            ],
            "text/html": [
              "<span style=\"background-color:rgba(135,206,250,0.08320465);\">wine</span> <span style=\"background-color:rgba(135,206,250,0.07169485);\">review</span> <span style=\"background-color:rgba(135,206,250,0.22367391);\">:</span> <span style=\"background-color:rgba(135,206,250,0.23364028);\">germany</span> <span style=\"background-color:rgba(135,206,250,0.036788095);\">:</span> <span style=\"background-color:rgba(135,206,250,0.11915429);\">mosel</span> <span style=\"background-color:rgba(135,206,250,0.041731264);\">:</span> <span style=\"background-color:rgba(135,206,250,0.18600512);\">riesling</span> <span style=\"background-color:rgba(135,206,250,0.048434928);\">:</span> <span style=\"background-color:rgba(135,206,250,0.030442577);\">an</span> <span style=\"background-color:rgba(135,206,250,0.055143323);\">apt</span> <span style=\"background-color:rgba(135,206,250,0.03271448);\">name</span> <span style=\"background-color:rgba(135,206,250,0.019212233);\">for</span> <span style=\"background-color:rgba(135,206,250,0.021364667);\">this</span> <span style=\"background-color:rgba(135,206,250,0.038629547);\">reserve</span> <span style=\"background-color:rgba(135,206,250,0.055163607);\">eiswein</span> <span style=\"background-color:rgba(135,206,250,0.024689853);\">,</span> <span style=\"background-color:rgba(135,206,250,0.016252194);\">an</span> <span style=\"background-color:rgba(135,206,250,0.025901092);\">opulent</span> <span style=\"background-color:rgba(135,206,250,0.096052624);\">auslese</span> <span style=\"background-color:rgba(135,206,250,0.027232854);\">,</span> <span style=\"background-color:rgba(135,206,250,0.013629922);\">a</span> <span style=\"background-color:rgba(135,206,250,0.024323285);\">luscious</span> <span style=\"background-color:rgba(135,206,250,0.030303238);\">,</span> <span style=\"background-color:rgba(135,206,250,0.028795114);\">sweet</span> <span style=\"background-color:rgba(135,206,250,0.07031761);\">gold</span> <span style=\"background-color:rgba(135,206,250,0.07448947);\">color</span> <span style=\"background-color:rgba(135,206,250,0.03836351);\">,</span> <span style=\"background-color:rgba(135,206,250,0.039136227);\">its</span> <span style=\"background-color:rgba(135,206,250,0.07447447);\">honey</span> <span style=\"background-color:rgba(135,206,250,0.051072728);\">and</span> <span style=\"background-color:rgba(135,206,250,0.10439673);\">apricot</span> <span style=\"background-color:rgba(135,206,250,0.1830558);\">flavors</span> <span style=\"background-color:rgba(135,206,250,0.25444078);\">touched</span> <span style=\"background-color:rgba(135,206,250,0.19098589);\">by</span> <span style=\"background-color:rgba(135,206,250,0.14454547);\">saffron</span> <span style=\"background-color:rgba(135,206,250,0.19497399);\">and</span> <span style=\"background-color:rgba(135,206,250,0.44897103);\">honey</span> <span style=\"background-color:rgba(135,206,250,1.0);\">.</span> <span style=\"background-color:rgba(135,206,250,0.1633676);\">soft</span>"
            ]
          },
          "metadata": {}
        },
        {
          "output_type": "stream",
          "name": "stdout",
          "text": [
            ",:   \t36.28%\n",
            "and:   \t13.04%\n",
            "on:   \t8.96%\n",
            "spoken:   \t7.46%\n",
            "in:   \t3.52%\n",
            "--------\n",
            "\n"
          ]
        },
        {
          "output_type": "display_data",
          "data": {
            "text/plain": [
              "<IPython.core.display.HTML object>"
            ],
            "text/html": [
              "<span style=\"background-color:rgba(135,206,250,0.18361117);\">wine</span> <span style=\"background-color:rgba(135,206,250,0.13819237);\">review</span> <span style=\"background-color:rgba(135,206,250,0.32242465);\">:</span> <span style=\"background-color:rgba(135,206,250,0.25318155);\">germany</span> <span style=\"background-color:rgba(135,206,250,0.06647682);\">:</span> <span style=\"background-color:rgba(135,206,250,0.13508397);\">mosel</span> <span style=\"background-color:rgba(135,206,250,0.076434776);\">:</span> <span style=\"background-color:rgba(135,206,250,0.119564235);\">riesling</span> <span style=\"background-color:rgba(135,206,250,0.080437504);\">:</span> <span style=\"background-color:rgba(135,206,250,0.039302252);\">an</span> <span style=\"background-color:rgba(135,206,250,0.06356345);\">apt</span> <span style=\"background-color:rgba(135,206,250,0.042999007);\">name</span> <span style=\"background-color:rgba(135,206,250,0.034429837);\">for</span> <span style=\"background-color:rgba(135,206,250,0.0738434);\">this</span> <span style=\"background-color:rgba(135,206,250,0.056700077);\">reserve</span> <span style=\"background-color:rgba(135,206,250,0.057604436);\">eiswein</span> <span style=\"background-color:rgba(135,206,250,0.03697642);\">,</span> <span style=\"background-color:rgba(135,206,250,0.029028803);\">an</span> <span style=\"background-color:rgba(135,206,250,0.04889621);\">opulent</span> <span style=\"background-color:rgba(135,206,250,0.11607973);\">auslese</span> <span style=\"background-color:rgba(135,206,250,0.04053819);\">,</span> <span style=\"background-color:rgba(135,206,250,0.024262708);\">a</span> <span style=\"background-color:rgba(135,206,250,0.040253405);\">luscious</span> <span style=\"background-color:rgba(135,206,250,0.045337718);\">,</span> <span style=\"background-color:rgba(135,206,250,0.05364147);\">sweet</span> <span style=\"background-color:rgba(135,206,250,0.06042501);\">gold</span> <span style=\"background-color:rgba(135,206,250,0.06149567);\">color</span> <span style=\"background-color:rgba(135,206,250,0.05678829);\">,</span> <span style=\"background-color:rgba(135,206,250,0.057307377);\">its</span> <span style=\"background-color:rgba(135,206,250,0.09024421);\">honey</span> <span style=\"background-color:rgba(135,206,250,0.083250925);\">and</span> <span style=\"background-color:rgba(135,206,250,0.08975506);\">apricot</span> <span style=\"background-color:rgba(135,206,250,0.15971282);\">flavors</span> <span style=\"background-color:rgba(135,206,250,0.2768056);\">touched</span> <span style=\"background-color:rgba(135,206,250,0.13854118);\">by</span> <span style=\"background-color:rgba(135,206,250,0.10368628);\">saffron</span> <span style=\"background-color:rgba(135,206,250,0.24804793);\">and</span> <span style=\"background-color:rgba(135,206,250,0.3421313);\">honey</span> <span style=\"background-color:rgba(135,206,250,1.0);\">.</span> <span style=\"background-color:rgba(135,206,250,0.54582936);\">soft</span> <span style=\"background-color:rgba(135,206,250,0.21933319);\">on</span>"
            ]
          },
          "metadata": {}
        },
        {
          "output_type": "stream",
          "name": "stdout",
          "text": [
            "the:   \t95.3%\n",
            "its:   \t2.41%\n",
            "a:   \t0.68%\n",
            "it:   \t0.16%\n",
            "sweet:   \t0.08%\n",
            "--------\n",
            "\n"
          ]
        },
        {
          "output_type": "display_data",
          "data": {
            "text/plain": [
              "<IPython.core.display.HTML object>"
            ],
            "text/html": [
              "<span style=\"background-color:rgba(135,206,250,0.12055801);\">wine</span> <span style=\"background-color:rgba(135,206,250,0.10928341);\">review</span> <span style=\"background-color:rgba(135,206,250,0.64805084);\">:</span> <span style=\"background-color:rgba(135,206,250,0.30668986);\">germany</span> <span style=\"background-color:rgba(135,206,250,0.035941828);\">:</span> <span style=\"background-color:rgba(135,206,250,0.18052608);\">mosel</span> <span style=\"background-color:rgba(135,206,250,0.047712505);\">:</span> <span style=\"background-color:rgba(135,206,250,0.2241732);\">riesling</span> <span style=\"background-color:rgba(135,206,250,0.055146683);\">:</span> <span style=\"background-color:rgba(135,206,250,0.030439358);\">an</span> <span style=\"background-color:rgba(135,206,250,0.107004076);\">apt</span> <span style=\"background-color:rgba(135,206,250,0.073426455);\">name</span> <span style=\"background-color:rgba(135,206,250,0.023997974);\">for</span> <span style=\"background-color:rgba(135,206,250,0.0325727);\">this</span> <span style=\"background-color:rgba(135,206,250,0.09214941);\">reserve</span> <span style=\"background-color:rgba(135,206,250,0.11465359);\">eiswein</span> <span style=\"background-color:rgba(135,206,250,0.02868753);\">,</span> <span style=\"background-color:rgba(135,206,250,0.021550618);\">an</span> <span style=\"background-color:rgba(135,206,250,0.0734783);\">opulent</span> <span style=\"background-color:rgba(135,206,250,0.18563648);\">auslese</span> <span style=\"background-color:rgba(135,206,250,0.033889685);\">,</span> <span style=\"background-color:rgba(135,206,250,0.019384244);\">a</span> <span style=\"background-color:rgba(135,206,250,0.071111);\">luscious</span> <span style=\"background-color:rgba(135,206,250,0.03604711);\">,</span> <span style=\"background-color:rgba(135,206,250,0.07631341);\">sweet</span> <span style=\"background-color:rgba(135,206,250,0.115617536);\">gold</span> <span style=\"background-color:rgba(135,206,250,0.12572165);\">color</span> <span style=\"background-color:rgba(135,206,250,0.044245478);\">,</span> <span style=\"background-color:rgba(135,206,250,0.032240454);\">its</span> <span style=\"background-color:rgba(135,206,250,0.10197134);\">honey</span> <span style=\"background-color:rgba(135,206,250,0.050056204);\">and</span> <span style=\"background-color:rgba(135,206,250,0.119656704);\">apricot</span> <span style=\"background-color:rgba(135,206,250,0.26220882);\">flavors</span> <span style=\"background-color:rgba(135,206,250,0.22116762);\">touched</span> <span style=\"background-color:rgba(135,206,250,0.1364038);\">by</span> <span style=\"background-color:rgba(135,206,250,0.14912313);\">saffron</span> <span style=\"background-color:rgba(135,206,250,0.19089957);\">and</span> <span style=\"background-color:rgba(135,206,250,0.40659535);\">honey</span> <span style=\"background-color:rgba(135,206,250,1.0);\">.</span> <span style=\"background-color:rgba(135,206,250,0.44617897);\">soft</span> <span style=\"background-color:rgba(135,206,250,0.97306883);\">on</span> <span style=\"background-color:rgba(135,206,250,0.23461452);\">the</span>"
            ]
          },
          "metadata": {}
        },
        {
          "output_type": "stream",
          "name": "stdout",
          "text": [
            "palate:   \t40.59%\n",
            "finish:   \t26.87%\n",
            "midpalate:   \t10.93%\n",
            "attack:   \t2.92%\n",
            "nose:   \t2.77%\n",
            "--------\n",
            "\n"
          ]
        },
        {
          "output_type": "display_data",
          "data": {
            "text/plain": [
              "<IPython.core.display.HTML object>"
            ],
            "text/html": [
              "<span style=\"background-color:rgba(135,206,250,0.10031656);\">wine</span> <span style=\"background-color:rgba(135,206,250,0.11386056);\">review</span> <span style=\"background-color:rgba(135,206,250,0.30062172);\">:</span> <span style=\"background-color:rgba(135,206,250,0.34761158);\">germany</span> <span style=\"background-color:rgba(135,206,250,0.049972773);\">:</span> <span style=\"background-color:rgba(135,206,250,0.057238005);\">mosel</span> <span style=\"background-color:rgba(135,206,250,0.049441263);\">:</span> <span style=\"background-color:rgba(135,206,250,0.049184542);\">riesling</span> <span style=\"background-color:rgba(135,206,250,0.048585065);\">:</span> <span style=\"background-color:rgba(135,206,250,0.044842754);\">an</span> <span style=\"background-color:rgba(135,206,250,0.049007528);\">apt</span> <span style=\"background-color:rgba(135,206,250,0.029624645);\">name</span> <span style=\"background-color:rgba(135,206,250,0.032714892);\">for</span> <span style=\"background-color:rgba(135,206,250,0.03660653);\">this</span> <span style=\"background-color:rgba(135,206,250,0.030243704);\">reserve</span> <span style=\"background-color:rgba(135,206,250,0.046139926);\">eiswein</span> <span style=\"background-color:rgba(135,206,250,0.022436049);\">,</span> <span style=\"background-color:rgba(135,206,250,0.03222355);\">an</span> <span style=\"background-color:rgba(135,206,250,0.031971242);\">opulent</span> <span style=\"background-color:rgba(135,206,250,0.050510593);\">auslese</span> <span style=\"background-color:rgba(135,206,250,0.02454824);\">,</span> <span style=\"background-color:rgba(135,206,250,0.027421093);\">a</span> <span style=\"background-color:rgba(135,206,250,0.030977855);\">luscious</span> <span style=\"background-color:rgba(135,206,250,0.030518318);\">,</span> <span style=\"background-color:rgba(135,206,250,0.031868476);\">sweet</span> <span style=\"background-color:rgba(135,206,250,0.060684904);\">gold</span> <span style=\"background-color:rgba(135,206,250,0.071776144);\">color</span> <span style=\"background-color:rgba(135,206,250,0.04215297);\">,</span> <span style=\"background-color:rgba(135,206,250,0.058189604);\">its</span> <span style=\"background-color:rgba(135,206,250,0.06975668);\">honey</span> <span style=\"background-color:rgba(135,206,250,0.060596094);\">and</span> <span style=\"background-color:rgba(135,206,250,0.08237493);\">apricot</span> <span style=\"background-color:rgba(135,206,250,0.18202564);\">flavors</span> <span style=\"background-color:rgba(135,206,250,0.14689732);\">touched</span> <span style=\"background-color:rgba(135,206,250,0.19643767);\">by</span> <span style=\"background-color:rgba(135,206,250,0.111270666);\">saffron</span> <span style=\"background-color:rgba(135,206,250,0.15597393);\">and</span> <span style=\"background-color:rgba(135,206,250,0.19726583);\">honey</span> <span style=\"background-color:rgba(135,206,250,1.0);\">.</span> <span style=\"background-color:rgba(135,206,250,0.2819066);\">soft</span> <span style=\"background-color:rgba(135,206,250,0.94024646);\">on</span> <span style=\"background-color:rgba(135,206,250,0.4813276);\">the</span> <span style=\"background-color:rgba(135,206,250,0.24423057);\">palate</span>"
            ]
          },
          "metadata": {}
        },
        {
          "output_type": "stream",
          "name": "stdout",
          "text": [
            ",:   \t83.78%\n",
            "and:   \t2.93%\n",
            "with:   \t1.85%\n",
            "are:   \t1.4%\n",
            "is:   \t1.18%\n",
            "--------\n",
            "\n"
          ]
        },
        {
          "output_type": "display_data",
          "data": {
            "text/plain": [
              "<IPython.core.display.HTML object>"
            ],
            "text/html": [
              "<span style=\"background-color:rgba(135,206,250,0.094162345);\">wine</span> <span style=\"background-color:rgba(135,206,250,0.13660817);\">review</span> <span style=\"background-color:rgba(135,206,250,0.50802934);\">:</span> <span style=\"background-color:rgba(135,206,250,0.3789759);\">germany</span> <span style=\"background-color:rgba(135,206,250,0.037358586);\">:</span> <span style=\"background-color:rgba(135,206,250,0.13081495);\">mosel</span> <span style=\"background-color:rgba(135,206,250,0.043683667);\">:</span> <span style=\"background-color:rgba(135,206,250,0.20097874);\">riesling</span> <span style=\"background-color:rgba(135,206,250,0.05761912);\">:</span> <span style=\"background-color:rgba(135,206,250,0.056338653);\">an</span> <span style=\"background-color:rgba(135,206,250,0.090093404);\">apt</span> <span style=\"background-color:rgba(135,206,250,0.04153762);\">name</span> <span style=\"background-color:rgba(135,206,250,0.04424192);\">for</span> <span style=\"background-color:rgba(135,206,250,0.057284873);\">this</span> <span style=\"background-color:rgba(135,206,250,0.04435182);\">reserve</span> <span style=\"background-color:rgba(135,206,250,0.10127955);\">eiswein</span> <span style=\"background-color:rgba(135,206,250,0.026843883);\">,</span> <span style=\"background-color:rgba(135,206,250,0.035364773);\">an</span> <span style=\"background-color:rgba(135,206,250,0.062767774);\">opulent</span> <span style=\"background-color:rgba(135,206,250,0.12881859);\">auslese</span> <span style=\"background-color:rgba(135,206,250,0.029200064);\">,</span> <span style=\"background-color:rgba(135,206,250,0.022812985);\">a</span> <span style=\"background-color:rgba(135,206,250,0.05572326);\">luscious</span> <span style=\"background-color:rgba(135,206,250,0.032846816);\">,</span> <span style=\"background-color:rgba(135,206,250,0.07378388);\">sweet</span> <span style=\"background-color:rgba(135,206,250,0.13675874);\">gold</span> <span style=\"background-color:rgba(135,206,250,0.06996297);\">color</span> <span style=\"background-color:rgba(135,206,250,0.04132346);\">,</span> <span style=\"background-color:rgba(135,206,250,0.055113893);\">its</span> <span style=\"background-color:rgba(135,206,250,0.1171814);\">honey</span> <span style=\"background-color:rgba(135,206,250,0.07310638);\">and</span> <span style=\"background-color:rgba(135,206,250,0.14537744);\">apricot</span> <span style=\"background-color:rgba(135,206,250,0.14459491);\">flavors</span> <span style=\"background-color:rgba(135,206,250,0.16191274);\">touched</span> <span style=\"background-color:rgba(135,206,250,0.1660316);\">by</span> <span style=\"background-color:rgba(135,206,250,0.16301012);\">saffron</span> <span style=\"background-color:rgba(135,206,250,0.20177688);\">and</span> <span style=\"background-color:rgba(135,206,250,0.36401656);\">honey</span> <span style=\"background-color:rgba(135,206,250,0.8745671);\">.</span> <span style=\"background-color:rgba(135,206,250,0.4921577);\">soft</span> <span style=\"background-color:rgba(135,206,250,0.6198827);\">on</span> <span style=\"background-color:rgba(135,206,250,0.52886134);\">the</span> <span style=\"background-color:rgba(135,206,250,1.0);\">palate</span> <span style=\"background-color:rgba(135,206,250,0.5657293);\">,</span>"
            ]
          },
          "metadata": {}
        },
        {
          "output_type": "stream",
          "name": "stdout",
          "text": [
            "it:   \t22.81%\n",
            "but:   \t9.34%\n",
            "yet:   \t6.54%\n",
            "with:   \t4.61%\n",
            "there:   \t2.25%\n",
            "--------\n",
            "\n"
          ]
        },
        {
          "output_type": "display_data",
          "data": {
            "text/plain": [
              "<IPython.core.display.HTML object>"
            ],
            "text/html": [
              "<span style=\"background-color:rgba(135,206,250,0.17174152);\">wine</span> <span style=\"background-color:rgba(135,206,250,0.135715);\">review</span> <span style=\"background-color:rgba(135,206,250,0.4834954);\">:</span> <span style=\"background-color:rgba(135,206,250,0.48155233);\">germany</span> <span style=\"background-color:rgba(135,206,250,0.058933355);\">:</span> <span style=\"background-color:rgba(135,206,250,0.069241494);\">mosel</span> <span style=\"background-color:rgba(135,206,250,0.0690837);\">:</span> <span style=\"background-color:rgba(135,206,250,0.07254456);\">riesling</span> <span style=\"background-color:rgba(135,206,250,0.061952394);\">:</span> <span style=\"background-color:rgba(135,206,250,0.043703612);\">an</span> <span style=\"background-color:rgba(135,206,250,0.07042933);\">apt</span> <span style=\"background-color:rgba(135,206,250,0.045139067);\">name</span> <span style=\"background-color:rgba(135,206,250,0.052059278);\">for</span> <span style=\"background-color:rgba(135,206,250,0.05059527);\">this</span> <span style=\"background-color:rgba(135,206,250,0.041757762);\">reserve</span> <span style=\"background-color:rgba(135,206,250,0.05335634);\">eiswein</span> <span style=\"background-color:rgba(135,206,250,0.026472874);\">,</span> <span style=\"background-color:rgba(135,206,250,0.03272995);\">an</span> <span style=\"background-color:rgba(135,206,250,0.03562495);\">opulent</span> <span style=\"background-color:rgba(135,206,250,0.083982855);\">auslese</span> <span style=\"background-color:rgba(135,206,250,0.029549444);\">,</span> <span style=\"background-color:rgba(135,206,250,0.025713189);\">a</span> <span style=\"background-color:rgba(135,206,250,0.034923922);\">luscious</span> <span style=\"background-color:rgba(135,206,250,0.035535946);\">,</span> <span style=\"background-color:rgba(135,206,250,0.036131136);\">sweet</span> <span style=\"background-color:rgba(135,206,250,0.07916109);\">gold</span> <span style=\"background-color:rgba(135,206,250,0.096024245);\">color</span> <span style=\"background-color:rgba(135,206,250,0.05170218);\">,</span> <span style=\"background-color:rgba(135,206,250,0.082497664);\">its</span> <span style=\"background-color:rgba(135,206,250,0.08465218);\">honey</span> <span style=\"background-color:rgba(135,206,250,0.05566966);\">and</span> <span style=\"background-color:rgba(135,206,250,0.11021587);\">apricot</span> <span style=\"background-color:rgba(135,206,250,0.3371748);\">flavors</span> <span style=\"background-color:rgba(135,206,250,0.33876926);\">touched</span> <span style=\"background-color:rgba(135,206,250,0.24692102);\">by</span> <span style=\"background-color:rgba(135,206,250,0.117736004);\">saffron</span> <span style=\"background-color:rgba(135,206,250,0.15174139);\">and</span> <span style=\"background-color:rgba(135,206,250,0.17872111);\">honey</span> <span style=\"background-color:rgba(135,206,250,0.9162813);\">.</span> <span style=\"background-color:rgba(135,206,250,0.18884547);\">soft</span> <span style=\"background-color:rgba(135,206,250,0.38469306);\">on</span> <span style=\"background-color:rgba(135,206,250,0.905893);\">the</span> <span style=\"background-color:rgba(135,206,250,1.0);\">palate</span> <span style=\"background-color:rgba(135,206,250,0.9220407);\">,</span> <span style=\"background-color:rgba(135,206,250,0.3737035);\">spice</span>"
            ]
          },
          "metadata": {}
        },
        {
          "output_type": "stream",
          "name": "stdout",
          "text": [
            "and:   \t50.86%\n",
            ",:   \t19.79%\n",
            "notes:   \t4.7%\n",
            "tones:   \t3.42%\n",
            "-:   \t3.16%\n",
            "--------\n",
            "\n"
          ]
        },
        {
          "output_type": "display_data",
          "data": {
            "text/plain": [
              "<IPython.core.display.HTML object>"
            ],
            "text/html": [
              "<span style=\"background-color:rgba(135,206,250,0.16807543);\">wine</span> <span style=\"background-color:rgba(135,206,250,0.14940748);\">review</span> <span style=\"background-color:rgba(135,206,250,0.7227828);\">:</span> <span style=\"background-color:rgba(135,206,250,0.5761746);\">germany</span> <span style=\"background-color:rgba(135,206,250,0.059016895);\">:</span> <span style=\"background-color:rgba(135,206,250,0.19776443);\">mosel</span> <span style=\"background-color:rgba(135,206,250,0.07535761);\">:</span> <span style=\"background-color:rgba(135,206,250,0.25695306);\">riesling</span> <span style=\"background-color:rgba(135,206,250,0.08562973);\">:</span> <span style=\"background-color:rgba(135,206,250,0.048246622);\">an</span> <span style=\"background-color:rgba(135,206,250,0.08566622);\">apt</span> <span style=\"background-color:rgba(135,206,250,0.03681592);\">name</span> <span style=\"background-color:rgba(135,206,250,0.03562625);\">for</span> <span style=\"background-color:rgba(135,206,250,0.03555579);\">this</span> <span style=\"background-color:rgba(135,206,250,0.052518837);\">reserve</span> <span style=\"background-color:rgba(135,206,250,0.09345082);\">eiswein</span> <span style=\"background-color:rgba(135,206,250,0.030241134);\">,</span> <span style=\"background-color:rgba(135,206,250,0.022117145);\">an</span> <span style=\"background-color:rgba(135,206,250,0.037442703);\">opulent</span> <span style=\"background-color:rgba(135,206,250,0.13063428);\">auslese</span> <span style=\"background-color:rgba(135,206,250,0.03200647);\">,</span> <span style=\"background-color:rgba(135,206,250,0.01986702);\">a</span> <span style=\"background-color:rgba(135,206,250,0.0294769);\">luscious</span> <span style=\"background-color:rgba(135,206,250,0.03528563);\">,</span> <span style=\"background-color:rgba(135,206,250,0.044892646);\">sweet</span> <span style=\"background-color:rgba(135,206,250,0.07696136);\">gold</span> <span style=\"background-color:rgba(135,206,250,0.06862293);\">color</span> <span style=\"background-color:rgba(135,206,250,0.042693883);\">,</span> <span style=\"background-color:rgba(135,206,250,0.043436185);\">its</span> <span style=\"background-color:rgba(135,206,250,0.088769116);\">honey</span> <span style=\"background-color:rgba(135,206,250,0.057605088);\">and</span> <span style=\"background-color:rgba(135,206,250,0.11380213);\">apricot</span> <span style=\"background-color:rgba(135,206,250,0.17536172);\">flavors</span> <span style=\"background-color:rgba(135,206,250,0.12868243);\">touched</span> <span style=\"background-color:rgba(135,206,250,0.11674702);\">by</span> <span style=\"background-color:rgba(135,206,250,0.10126008);\">saffron</span> <span style=\"background-color:rgba(135,206,250,0.11632285);\">and</span> <span style=\"background-color:rgba(135,206,250,0.20720822);\">honey</span> <span style=\"background-color:rgba(135,206,250,0.63578993);\">.</span> <span style=\"background-color:rgba(135,206,250,0.13382259);\">soft</span> <span style=\"background-color:rgba(135,206,250,0.4787051);\">on</span> <span style=\"background-color:rgba(135,206,250,0.4595102);\">the</span> <span style=\"background-color:rgba(135,206,250,0.81568944);\">palate</span> <span style=\"background-color:rgba(135,206,250,0.4957773);\">,</span> <span style=\"background-color:rgba(135,206,250,1.0);\">spice</span> <span style=\"background-color:rgba(135,206,250,0.3673216);\">integrated</span>"
            ]
          },
          "metadata": {}
        },
        {
          "output_type": "stream",
          "name": "stdout",
          "text": [
            "and:   \t25.78%\n",
            "with:   \t19.27%\n",
            "into:   \t11.3%\n",
            ",:   \t9.5%\n",
            "neatly:   \t3.92%\n",
            "--------\n",
            "\n"
          ]
        },
        {
          "output_type": "display_data",
          "data": {
            "text/plain": [
              "<IPython.core.display.HTML object>"
            ],
            "text/html": [
              "<span style=\"background-color:rgba(135,206,250,0.043924738);\">wine</span> <span style=\"background-color:rgba(135,206,250,0.066700704);\">review</span> <span style=\"background-color:rgba(135,206,250,0.13945018);\">:</span> <span style=\"background-color:rgba(135,206,250,0.24945809);\">germany</span> <span style=\"background-color:rgba(135,206,250,0.020550257);\">:</span> <span style=\"background-color:rgba(135,206,250,0.09091942);\">mosel</span> <span style=\"background-color:rgba(135,206,250,0.024478685);\">:</span> <span style=\"background-color:rgba(135,206,250,0.10720043);\">riesling</span> <span style=\"background-color:rgba(135,206,250,0.02704823);\">:</span> <span style=\"background-color:rgba(135,206,250,0.024518233);\">an</span> <span style=\"background-color:rgba(135,206,250,0.04218093);\">apt</span> <span style=\"background-color:rgba(135,206,250,0.024463885);\">name</span> <span style=\"background-color:rgba(135,206,250,0.013094316);\">for</span> <span style=\"background-color:rgba(135,206,250,0.034896273);\">this</span> <span style=\"background-color:rgba(135,206,250,0.036541563);\">reserve</span> <span style=\"background-color:rgba(135,206,250,0.047716018);\">eiswein</span> <span style=\"background-color:rgba(135,206,250,0.016820578);\">,</span> <span style=\"background-color:rgba(135,206,250,0.017584303);\">an</span> <span style=\"background-color:rgba(135,206,250,0.029725933);\">opulent</span> <span style=\"background-color:rgba(135,206,250,0.086151615);\">auslese</span> <span style=\"background-color:rgba(135,206,250,0.016914414);\">,</span> <span style=\"background-color:rgba(135,206,250,0.013245366);\">a</span> <span style=\"background-color:rgba(135,206,250,0.022258392);\">luscious</span> <span style=\"background-color:rgba(135,206,250,0.017680466);\">,</span> <span style=\"background-color:rgba(135,206,250,0.026169447);\">sweet</span> <span style=\"background-color:rgba(135,206,250,0.044981066);\">gold</span> <span style=\"background-color:rgba(135,206,250,0.037200022);\">color</span> <span style=\"background-color:rgba(135,206,250,0.019332029);\">,</span> <span style=\"background-color:rgba(135,206,250,0.020757942);\">its</span> <span style=\"background-color:rgba(135,206,250,0.038164);\">honey</span> <span style=\"background-color:rgba(135,206,250,0.02472341);\">and</span> <span style=\"background-color:rgba(135,206,250,0.04596739);\">apricot</span> <span style=\"background-color:rgba(135,206,250,0.066477306);\">flavors</span> <span style=\"background-color:rgba(135,206,250,0.053719006);\">touched</span> <span style=\"background-color:rgba(135,206,250,0.029912317);\">by</span> <span style=\"background-color:rgba(135,206,250,0.037301235);\">saffron</span> <span style=\"background-color:rgba(135,206,250,0.03789292);\">and</span> <span style=\"background-color:rgba(135,206,250,0.061841656);\">honey</span> <span style=\"background-color:rgba(135,206,250,0.14683974);\">.</span> <span style=\"background-color:rgba(135,206,250,0.08213093);\">soft</span> <span style=\"background-color:rgba(135,206,250,0.052100595);\">on</span> <span style=\"background-color:rgba(135,206,250,0.07083996);\">the</span> <span style=\"background-color:rgba(135,206,250,0.20551088);\">palate</span> <span style=\"background-color:rgba(135,206,250,0.26186493);\">,</span> <span style=\"background-color:rgba(135,206,250,0.3854021);\">spice</span> <span style=\"background-color:rgba(135,206,250,1.0);\">integrated</span> <span style=\"background-color:rgba(135,206,250,0.09308994);\">in</span>"
            ]
          },
          "metadata": {}
        },
        {
          "output_type": "stream",
          "name": "stdout",
          "text": [
            "the:   \t35.66%\n",
            "terms:   \t6.64%\n",
            "a:   \t5.88%\n",
            "sugar:   \t4.62%\n",
            "oak:   \t2.74%\n",
            "--------\n",
            "\n"
          ]
        },
        {
          "output_type": "display_data",
          "data": {
            "text/plain": [
              "<IPython.core.display.HTML object>"
            ],
            "text/html": [
              "<span style=\"background-color:rgba(135,206,250,0.10193429);\">wine</span> <span style=\"background-color:rgba(135,206,250,0.09491998);\">review</span> <span style=\"background-color:rgba(135,206,250,0.57215816);\">:</span> <span style=\"background-color:rgba(135,206,250,0.3107571);\">germany</span> <span style=\"background-color:rgba(135,206,250,0.038665056);\">:</span> <span style=\"background-color:rgba(135,206,250,0.19608018);\">mosel</span> <span style=\"background-color:rgba(135,206,250,0.05074823);\">:</span> <span style=\"background-color:rgba(135,206,250,0.22897114);\">riesling</span> <span style=\"background-color:rgba(135,206,250,0.05572537);\">:</span> <span style=\"background-color:rgba(135,206,250,0.031791948);\">an</span> <span style=\"background-color:rgba(135,206,250,0.10317055);\">apt</span> <span style=\"background-color:rgba(135,206,250,0.06758413);\">name</span> <span style=\"background-color:rgba(135,206,250,0.02458987);\">for</span> <span style=\"background-color:rgba(135,206,250,0.02846903);\">this</span> <span style=\"background-color:rgba(135,206,250,0.09208368);\">reserve</span> <span style=\"background-color:rgba(135,206,250,0.093937375);\">eiswein</span> <span style=\"background-color:rgba(135,206,250,0.026767373);\">,</span> <span style=\"background-color:rgba(135,206,250,0.020868331);\">an</span> <span style=\"background-color:rgba(135,206,250,0.06449092);\">opulent</span> <span style=\"background-color:rgba(135,206,250,0.16999204);\">auslese</span> <span style=\"background-color:rgba(135,206,250,0.029489925);\">,</span> <span style=\"background-color:rgba(135,206,250,0.018086838);\">a</span> <span style=\"background-color:rgba(135,206,250,0.058844917);\">luscious</span> <span style=\"background-color:rgba(135,206,250,0.029708678);\">,</span> <span style=\"background-color:rgba(135,206,250,0.06068711);\">sweet</span> <span style=\"background-color:rgba(135,206,250,0.09597168);\">gold</span> <span style=\"background-color:rgba(135,206,250,0.09758084);\">color</span> <span style=\"background-color:rgba(135,206,250,0.032963257);\">,</span> <span style=\"background-color:rgba(135,206,250,0.026740836);\">its</span> <span style=\"background-color:rgba(135,206,250,0.07695668);\">honey</span> <span style=\"background-color:rgba(135,206,250,0.03548231);\">and</span> <span style=\"background-color:rgba(135,206,250,0.08719888);\">apricot</span> <span style=\"background-color:rgba(135,206,250,0.18577608);\">flavors</span> <span style=\"background-color:rgba(135,206,250,0.13747166);\">touched</span> <span style=\"background-color:rgba(135,206,250,0.04615145);\">by</span> <span style=\"background-color:rgba(135,206,250,0.082501896);\">saffron</span> <span style=\"background-color:rgba(135,206,250,0.057198264);\">and</span> <span style=\"background-color:rgba(135,206,250,0.12940456);\">honey</span> <span style=\"background-color:rgba(135,206,250,0.22526163);\">.</span> <span style=\"background-color:rgba(135,206,250,0.13623026);\">soft</span> <span style=\"background-color:rgba(135,206,250,0.15106916);\">on</span> <span style=\"background-color:rgba(135,206,250,0.05117798);\">the</span> <span style=\"background-color:rgba(135,206,250,0.47764358);\">palate</span> <span style=\"background-color:rgba(135,206,250,0.41107538);\">,</span> <span style=\"background-color:rgba(135,206,250,0.63945657);\">spice</span> <span style=\"background-color:rgba(135,206,250,0.97949857);\">integrated</span> <span style=\"background-color:rgba(135,206,250,1.0);\">in</span> <span style=\"background-color:rgba(135,206,250,0.26286277);\">the</span>"
            ]
          },
          "metadata": {}
        },
        {
          "output_type": "stream",
          "name": "stdout",
          "text": [
            "midpalate:   \t27.3%\n",
            "mouth:   \t19.32%\n",
            "background:   \t12.31%\n",
            "form:   \t5.27%\n",
            "finish:   \t4.61%\n",
            "--------\n",
            "\n"
          ]
        },
        {
          "output_type": "display_data",
          "data": {
            "text/plain": [
              "<IPython.core.display.HTML object>"
            ],
            "text/html": [
              "<span style=\"background-color:rgba(135,206,250,0.15397023);\">wine</span> <span style=\"background-color:rgba(135,206,250,0.20936267);\">review</span> <span style=\"background-color:rgba(135,206,250,0.58366495);\">:</span> <span style=\"background-color:rgba(135,206,250,0.3390062);\">germany</span> <span style=\"background-color:rgba(135,206,250,0.08771204);\">:</span> <span style=\"background-color:rgba(135,206,250,0.10007303);\">mosel</span> <span style=\"background-color:rgba(135,206,250,0.09324936);\">:</span> <span style=\"background-color:rgba(135,206,250,0.098633744);\">riesling</span> <span style=\"background-color:rgba(135,206,250,0.09332349);\">:</span> <span style=\"background-color:rgba(135,206,250,0.048768643);\">an</span> <span style=\"background-color:rgba(135,206,250,0.069098465);\">apt</span> <span style=\"background-color:rgba(135,206,250,0.032515958);\">name</span> <span style=\"background-color:rgba(135,206,250,0.045282416);\">for</span> <span style=\"background-color:rgba(135,206,250,0.032389767);\">this</span> <span style=\"background-color:rgba(135,206,250,0.038587477);\">reserve</span> <span style=\"background-color:rgba(135,206,250,0.065809436);\">eiswein</span> <span style=\"background-color:rgba(135,206,250,0.030757586);\">,</span> <span style=\"background-color:rgba(135,206,250,0.02904875);\">an</span> <span style=\"background-color:rgba(135,206,250,0.04053824);\">opulent</span> <span style=\"background-color:rgba(135,206,250,0.07037268);\">auslese</span> <span style=\"background-color:rgba(135,206,250,0.033349384);\">,</span> <span style=\"background-color:rgba(135,206,250,0.026948333);\">a</span> <span style=\"background-color:rgba(135,206,250,0.035419498);\">luscious</span> <span style=\"background-color:rgba(135,206,250,0.041750118);\">,</span> <span style=\"background-color:rgba(135,206,250,0.038644727);\">sweet</span> <span style=\"background-color:rgba(135,206,250,0.06008281);\">gold</span> <span style=\"background-color:rgba(135,206,250,0.07247131);\">color</span> <span style=\"background-color:rgba(135,206,250,0.05249188);\">,</span> <span style=\"background-color:rgba(135,206,250,0.06944236);\">its</span> <span style=\"background-color:rgba(135,206,250,0.060848024);\">honey</span> <span style=\"background-color:rgba(135,206,250,0.075971805);\">and</span> <span style=\"background-color:rgba(135,206,250,0.07285558);\">apricot</span> <span style=\"background-color:rgba(135,206,250,0.13903669);\">flavors</span> <span style=\"background-color:rgba(135,206,250,0.1293743);\">touched</span> <span style=\"background-color:rgba(135,206,250,0.14451373);\">by</span> <span style=\"background-color:rgba(135,206,250,0.11226286);\">saffron</span> <span style=\"background-color:rgba(135,206,250,0.11730515);\">and</span> <span style=\"background-color:rgba(135,206,250,0.122863986);\">honey</span> <span style=\"background-color:rgba(135,206,250,0.4806586);\">.</span> <span style=\"background-color:rgba(135,206,250,0.17190294);\">soft</span> <span style=\"background-color:rgba(135,206,250,0.26742512);\">on</span> <span style=\"background-color:rgba(135,206,250,0.22150138);\">the</span> <span style=\"background-color:rgba(135,206,250,0.15929703);\">palate</span> <span style=\"background-color:rgba(135,206,250,0.48695385);\">,</span> <span style=\"background-color:rgba(135,206,250,0.3866352);\">spice</span> <span style=\"background-color:rgba(135,206,250,0.647473);\">integrated</span> <span style=\"background-color:rgba(135,206,250,1.0);\">in</span> <span style=\"background-color:rgba(135,206,250,0.9966273);\">the</span> <span style=\"background-color:rgba(135,206,250,0.43599695);\">mouth</span>"
            ]
          },
          "metadata": {}
        },
        {
          "output_type": "stream",
          "name": "stdout",
          "text": [
            ",:   \t45.74%\n",
            "and:   \t25.51%\n",
            ".:   \t12.08%\n",
            "with:   \t7.52%\n",
            "yet:   \t1.41%\n",
            "--------\n",
            "\n"
          ]
        },
        {
          "output_type": "display_data",
          "data": {
            "text/plain": [
              "<IPython.core.display.HTML object>"
            ],
            "text/html": [
              "<span style=\"background-color:rgba(135,206,250,0.06946151);\">wine</span> <span style=\"background-color:rgba(135,206,250,0.10284644);\">review</span> <span style=\"background-color:rgba(135,206,250,0.44877073);\">:</span> <span style=\"background-color:rgba(135,206,250,0.35210973);\">germany</span> <span style=\"background-color:rgba(135,206,250,0.03414149);\">:</span> <span style=\"background-color:rgba(135,206,250,0.12231949);\">mosel</span> <span style=\"background-color:rgba(135,206,250,0.038755212);\">:</span> <span style=\"background-color:rgba(135,206,250,0.17769292);\">riesling</span> <span style=\"background-color:rgba(135,206,250,0.04908479);\">:</span> <span style=\"background-color:rgba(135,206,250,0.04757543);\">an</span> <span style=\"background-color:rgba(135,206,250,0.074545816);\">apt</span> <span style=\"background-color:rgba(135,206,250,0.03497417);\">name</span> <span style=\"background-color:rgba(135,206,250,0.037591077);\">for</span> <span style=\"background-color:rgba(135,206,250,0.04729828);\">this</span> <span style=\"background-color:rgba(135,206,250,0.039965395);\">reserve</span> <span style=\"background-color:rgba(135,206,250,0.07708016);\">eiswein</span> <span style=\"background-color:rgba(135,206,250,0.021571727);\">,</span> <span style=\"background-color:rgba(135,206,250,0.029047549);\">an</span> <span style=\"background-color:rgba(135,206,250,0.051032756);\">opulent</span> <span style=\"background-color:rgba(135,206,250,0.112732396);\">auslese</span> <span style=\"background-color:rgba(135,206,250,0.022233017);\">,</span> <span style=\"background-color:rgba(135,206,250,0.017457584);\">a</span> <span style=\"background-color:rgba(135,206,250,0.041610707);\">luscious</span> <span style=\"background-color:rgba(135,206,250,0.023956096);\">,</span> <span style=\"background-color:rgba(135,206,250,0.05273984);\">sweet</span> <span style=\"background-color:rgba(135,206,250,0.10507849);\">gold</span> <span style=\"background-color:rgba(135,206,250,0.050830144);\">color</span> <span style=\"background-color:rgba(135,206,250,0.02905991);\">,</span> <span style=\"background-color:rgba(135,206,250,0.0396789);\">its</span> <span style=\"background-color:rgba(135,206,250,0.08526211);\">honey</span> <span style=\"background-color:rgba(135,206,250,0.04975428);\">and</span> <span style=\"background-color:rgba(135,206,250,0.09855718);\">apricot</span> <span style=\"background-color:rgba(135,206,250,0.08945396);\">flavors</span> <span style=\"background-color:rgba(135,206,250,0.09630127);\">touched</span> <span style=\"background-color:rgba(135,206,250,0.08788753);\">by</span> <span style=\"background-color:rgba(135,206,250,0.08986097);\">saffron</span> <span style=\"background-color:rgba(135,206,250,0.07936029);\">and</span> <span style=\"background-color:rgba(135,206,250,0.14450088);\">honey</span> <span style=\"background-color:rgba(135,206,250,0.30021343);\">.</span> <span style=\"background-color:rgba(135,206,250,0.15719569);\">soft</span> <span style=\"background-color:rgba(135,206,250,0.1362867);\">on</span> <span style=\"background-color:rgba(135,206,250,0.10536393);\">the</span> <span style=\"background-color:rgba(135,206,250,0.24443889);\">palate</span> <span style=\"background-color:rgba(135,206,250,0.11987024);\">,</span> <span style=\"background-color:rgba(135,206,250,0.43237942);\">spice</span> <span style=\"background-color:rgba(135,206,250,0.4609416);\">integrated</span> <span style=\"background-color:rgba(135,206,250,0.5133039);\">in</span> <span style=\"background-color:rgba(135,206,250,0.5934761);\">the</span> <span style=\"background-color:rgba(135,206,250,1.0);\">mouth</span> <span style=\"background-color:rgba(135,206,250,0.6861493);\">,</span>"
            ]
          },
          "metadata": {}
        },
        {
          "output_type": "stream",
          "name": "stdout",
          "text": [
            "it:   \t17.42%\n",
            "with:   \t10.59%\n",
            "finishing:   \t7.85%\n",
            "but:   \t5.32%\n",
            "yet:   \t3.98%\n",
            "--------\n",
            "\n"
          ]
        },
        {
          "output_type": "display_data",
          "data": {
            "text/plain": [
              "<IPython.core.display.HTML object>"
            ],
            "text/html": [
              "<span style=\"background-color:rgba(135,206,250,0.11754663);\">wine</span> <span style=\"background-color:rgba(135,206,250,0.09603984);\">review</span> <span style=\"background-color:rgba(135,206,250,1.0);\">:</span> <span style=\"background-color:rgba(135,206,250,0.4051479);\">germany</span> <span style=\"background-color:rgba(135,206,250,0.089065894);\">:</span> <span style=\"background-color:rgba(135,206,250,0.16451867);\">mosel</span> <span style=\"background-color:rgba(135,206,250,0.08037039);\">:</span> <span style=\"background-color:rgba(135,206,250,0.12968372);\">riesling</span> <span style=\"background-color:rgba(135,206,250,0.075440936);\">:</span> <span style=\"background-color:rgba(135,206,250,0.059973586);\">an</span> <span style=\"background-color:rgba(135,206,250,0.08019601);\">apt</span> <span style=\"background-color:rgba(135,206,250,0.037440088);\">name</span> <span style=\"background-color:rgba(135,206,250,0.035495926);\">for</span> <span style=\"background-color:rgba(135,206,250,0.025594117);\">this</span> <span style=\"background-color:rgba(135,206,250,0.059359364);\">reserve</span> <span style=\"background-color:rgba(135,206,250,0.07663037);\">eiswein</span> <span style=\"background-color:rgba(135,206,250,0.028459683);\">,</span> <span style=\"background-color:rgba(135,206,250,0.03647847);\">an</span> <span style=\"background-color:rgba(135,206,250,0.056980696);\">opulent</span> <span style=\"background-color:rgba(135,206,250,0.09428428);\">auslese</span> <span style=\"background-color:rgba(135,206,250,0.026767872);\">,</span> <span style=\"background-color:rgba(135,206,250,0.03159054);\">a</span> <span style=\"background-color:rgba(135,206,250,0.04355417);\">luscious</span> <span style=\"background-color:rgba(135,206,250,0.028614646);\">,</span> <span style=\"background-color:rgba(135,206,250,0.04452733);\">sweet</span> <span style=\"background-color:rgba(135,206,250,0.07490418);\">gold</span> <span style=\"background-color:rgba(135,206,250,0.053120244);\">color</span> <span style=\"background-color:rgba(135,206,250,0.029623253);\">,</span> <span style=\"background-color:rgba(135,206,250,0.047072187);\">its</span> <span style=\"background-color:rgba(135,206,250,0.056737266);\">honey</span> <span style=\"background-color:rgba(135,206,250,0.049837153);\">and</span> <span style=\"background-color:rgba(135,206,250,0.06015118);\">apricot</span> <span style=\"background-color:rgba(135,206,250,0.07958887);\">flavors</span> <span style=\"background-color:rgba(135,206,250,0.057968136);\">touched</span> <span style=\"background-color:rgba(135,206,250,0.05368243);\">by</span> <span style=\"background-color:rgba(135,206,250,0.07421621);\">saffron</span> <span style=\"background-color:rgba(135,206,250,0.061124004);\">and</span> <span style=\"background-color:rgba(135,206,250,0.078787334);\">honey</span> <span style=\"background-color:rgba(135,206,250,0.12057291);\">.</span> <span style=\"background-color:rgba(135,206,250,0.08002225);\">soft</span> <span style=\"background-color:rgba(135,206,250,0.08751216);\">on</span> <span style=\"background-color:rgba(135,206,250,0.07846283);\">the</span> <span style=\"background-color:rgba(135,206,250,0.08201301);\">palate</span> <span style=\"background-color:rgba(135,206,250,0.11659559);\">,</span> <span style=\"background-color:rgba(135,206,250,0.14247805);\">spice</span> <span style=\"background-color:rgba(135,206,250,0.15718655);\">integrated</span> <span style=\"background-color:rgba(135,206,250,0.36713633);\">in</span> <span style=\"background-color:rgba(135,206,250,0.36761025);\">the</span> <span style=\"background-color:rgba(135,206,250,0.4236713);\">mouth</span> <span style=\"background-color:rgba(135,206,250,0.6782389);\">,</span> <span style=\"background-color:rgba(135,206,250,0.574143);\">finishing</span>"
            ]
          },
          "metadata": {}
        },
        {
          "output_type": "stream",
          "name": "stdout",
          "text": [
            "long:   \t68.06%\n",
            "with:   \t16.02%\n",
            "on:   \t1.72%\n",
            "sweet:   \t1.67%\n",
            "dry:   \t1.41%\n",
            "--------\n",
            "\n"
          ]
        },
        {
          "output_type": "display_data",
          "data": {
            "text/plain": [
              "<IPython.core.display.HTML object>"
            ],
            "text/html": [
              "<span style=\"background-color:rgba(135,206,250,0.05299143);\">wine</span> <span style=\"background-color:rgba(135,206,250,0.04974088);\">review</span> <span style=\"background-color:rgba(135,206,250,0.21103501);\">:</span> <span style=\"background-color:rgba(135,206,250,0.14979346);\">germany</span> <span style=\"background-color:rgba(135,206,250,0.04631923);\">:</span> <span style=\"background-color:rgba(135,206,250,0.09072387);\">mosel</span> <span style=\"background-color:rgba(135,206,250,0.046874657);\">:</span> <span style=\"background-color:rgba(135,206,250,0.07570018);\">riesling</span> <span style=\"background-color:rgba(135,206,250,0.03759929);\">:</span> <span style=\"background-color:rgba(135,206,250,0.0182997);\">an</span> <span style=\"background-color:rgba(135,206,250,0.033090588);\">apt</span> <span style=\"background-color:rgba(135,206,250,0.01296403);\">name</span> <span style=\"background-color:rgba(135,206,250,0.021482004);\">for</span> <span style=\"background-color:rgba(135,206,250,0.011650758);\">this</span> <span style=\"background-color:rgba(135,206,250,0.023917539);\">reserve</span> <span style=\"background-color:rgba(135,206,250,0.022659635);\">eiswein</span> <span style=\"background-color:rgba(135,206,250,0.014838681);\">,</span> <span style=\"background-color:rgba(135,206,250,0.01041711);\">an</span> <span style=\"background-color:rgba(135,206,250,0.015199833);\">opulent</span> <span style=\"background-color:rgba(135,206,250,0.03844688);\">auslese</span> <span style=\"background-color:rgba(135,206,250,0.014649196);\">,</span> <span style=\"background-color:rgba(135,206,250,0.008041506);\">a</span> <span style=\"background-color:rgba(135,206,250,0.012588311);\">luscious</span> <span style=\"background-color:rgba(135,206,250,0.015990341);\">,</span> <span style=\"background-color:rgba(135,206,250,0.011469234);\">sweet</span> <span style=\"background-color:rgba(135,206,250,0.020969009);\">gold</span> <span style=\"background-color:rgba(135,206,250,0.032279544);\">color</span> <span style=\"background-color:rgba(135,206,250,0.017071573);\">,</span> <span style=\"background-color:rgba(135,206,250,0.017700065);\">its</span> <span style=\"background-color:rgba(135,206,250,0.020689925);\">honey</span> <span style=\"background-color:rgba(135,206,250,0.024365824);\">and</span> <span style=\"background-color:rgba(135,206,250,0.024609165);\">apricot</span> <span style=\"background-color:rgba(135,206,250,0.034457605);\">flavors</span> <span style=\"background-color:rgba(135,206,250,0.030939892);\">touched</span> <span style=\"background-color:rgba(135,206,250,0.022953236);\">by</span> <span style=\"background-color:rgba(135,206,250,0.023105387);\">saffron</span> <span style=\"background-color:rgba(135,206,250,0.02965784);\">and</span> <span style=\"background-color:rgba(135,206,250,0.030208806);\">honey</span> <span style=\"background-color:rgba(135,206,250,0.05691147);\">.</span> <span style=\"background-color:rgba(135,206,250,0.023196183);\">soft</span> <span style=\"background-color:rgba(135,206,250,0.028834878);\">on</span> <span style=\"background-color:rgba(135,206,250,0.03082687);\">the</span> <span style=\"background-color:rgba(135,206,250,0.07201413);\">palate</span> <span style=\"background-color:rgba(135,206,250,0.04414066);\">,</span> <span style=\"background-color:rgba(135,206,250,0.053499497);\">spice</span> <span style=\"background-color:rgba(135,206,250,0.0643507);\">integrated</span> <span style=\"background-color:rgba(135,206,250,0.08253806);\">in</span> <span style=\"background-color:rgba(135,206,250,0.13392925);\">the</span> <span style=\"background-color:rgba(135,206,250,0.2689088);\">mouth</span> <span style=\"background-color:rgba(135,206,250,0.18154427);\">,</span> <span style=\"background-color:rgba(135,206,250,1.0);\">finishing</span> <span style=\"background-color:rgba(135,206,250,0.18381971);\">long</span>"
            ]
          },
          "metadata": {}
        },
        {
          "output_type": "stream",
          "name": "stdout",
          "text": [
            "and:   \t63.37%\n",
            ",:   \t16.52%\n",
            ".:   \t7.82%\n",
            "with:   \t6.65%\n",
            "on:   \t2.25%\n",
            "--------\n",
            "\n"
          ]
        },
        {
          "output_type": "display_data",
          "data": {
            "text/plain": [
              "<IPython.core.display.HTML object>"
            ],
            "text/html": [
              "<span style=\"background-color:rgba(135,206,250,0.04610175);\">wine</span> <span style=\"background-color:rgba(135,206,250,0.054532405);\">review</span> <span style=\"background-color:rgba(135,206,250,0.06723078);\">:</span> <span style=\"background-color:rgba(135,206,250,0.24539961);\">germany</span> <span style=\"background-color:rgba(135,206,250,0.025594002);\">:</span> <span style=\"background-color:rgba(135,206,250,0.13529286);\">mosel</span> <span style=\"background-color:rgba(135,206,250,0.028597005);\">:</span> <span style=\"background-color:rgba(135,206,250,0.1382469);\">riesling</span> <span style=\"background-color:rgba(135,206,250,0.03415208);\">:</span> <span style=\"background-color:rgba(135,206,250,0.036720227);\">an</span> <span style=\"background-color:rgba(135,206,250,0.06415241);\">apt</span> <span style=\"background-color:rgba(135,206,250,0.031688046);\">name</span> <span style=\"background-color:rgba(135,206,250,0.01749899);\">for</span> <span style=\"background-color:rgba(135,206,250,0.019290045);\">this</span> <span style=\"background-color:rgba(135,206,250,0.042546418);\">reserve</span> <span style=\"background-color:rgba(135,206,250,0.054009456);\">eiswein</span> <span style=\"background-color:rgba(135,206,250,0.01835956);\">,</span> <span style=\"background-color:rgba(135,206,250,0.023098316);\">an</span> <span style=\"background-color:rgba(135,206,250,0.04242183);\">opulent</span> <span style=\"background-color:rgba(135,206,250,0.088646345);\">auslese</span> <span style=\"background-color:rgba(135,206,250,0.018141784);\">,</span> <span style=\"background-color:rgba(135,206,250,0.012866363);\">a</span> <span style=\"background-color:rgba(135,206,250,0.034480587);\">luscious</span> <span style=\"background-color:rgba(135,206,250,0.017828587);\">,</span> <span style=\"background-color:rgba(135,206,250,0.03359342);\">sweet</span> <span style=\"background-color:rgba(135,206,250,0.0677386);\">gold</span> <span style=\"background-color:rgba(135,206,250,0.036532998);\">color</span> <span style=\"background-color:rgba(135,206,250,0.018547788);\">,</span> <span style=\"background-color:rgba(135,206,250,0.019317811);\">its</span> <span style=\"background-color:rgba(135,206,250,0.053734057);\">honey</span> <span style=\"background-color:rgba(135,206,250,0.021545758);\">and</span> <span style=\"background-color:rgba(135,206,250,0.050802205);\">apricot</span> <span style=\"background-color:rgba(135,206,250,0.059501965);\">flavors</span> <span style=\"background-color:rgba(135,206,250,0.048316054);\">touched</span> <span style=\"background-color:rgba(135,206,250,0.020287085);\">by</span> <span style=\"background-color:rgba(135,206,250,0.044916112);\">saffron</span> <span style=\"background-color:rgba(135,206,250,0.02479612);\">and</span> <span style=\"background-color:rgba(135,206,250,0.06928199);\">honey</span> <span style=\"background-color:rgba(135,206,250,0.06856026);\">.</span> <span style=\"background-color:rgba(135,206,250,0.07052959);\">soft</span> <span style=\"background-color:rgba(135,206,250,0.028334618);\">on</span> <span style=\"background-color:rgba(135,206,250,0.026622279);\">the</span> <span style=\"background-color:rgba(135,206,250,0.07541027);\">palate</span> <span style=\"background-color:rgba(135,206,250,0.060002036);\">,</span> <span style=\"background-color:rgba(135,206,250,0.09773617);\">spice</span> <span style=\"background-color:rgba(135,206,250,0.115019344);\">integrated</span> <span style=\"background-color:rgba(135,206,250,0.07203943);\">in</span> <span style=\"background-color:rgba(135,206,250,0.09968936);\">the</span> <span style=\"background-color:rgba(135,206,250,0.2163627);\">mouth</span> <span style=\"background-color:rgba(135,206,250,0.48633298);\">,</span> <span style=\"background-color:rgba(135,206,250,0.84056646);\">finishing</span> <span style=\"background-color:rgba(135,206,250,1.0);\">long</span> <span style=\"background-color:rgba(135,206,250,0.20056844);\">and</span>"
            ]
          },
          "metadata": {}
        },
        {
          "output_type": "stream",
          "name": "stdout",
          "text": [
            "spicy:   \t9.87%\n",
            "long:   \t5.83%\n",
            "dry:   \t3.36%\n",
            "lingering:   \t3.09%\n",
            "rich:   \t2.88%\n",
            "--------\n",
            "\n"
          ]
        },
        {
          "output_type": "display_data",
          "data": {
            "text/plain": [
              "<IPython.core.display.HTML object>"
            ],
            "text/html": [
              "<span style=\"background-color:rgba(135,206,250,0.09990663);\">wine</span> <span style=\"background-color:rgba(135,206,250,0.089908734);\">review</span> <span style=\"background-color:rgba(135,206,250,1.0);\">:</span> <span style=\"background-color:rgba(135,206,250,0.16558461);\">germany</span> <span style=\"background-color:rgba(135,206,250,0.050050113);\">:</span> <span style=\"background-color:rgba(135,206,250,0.15091632);\">mosel</span> <span style=\"background-color:rgba(135,206,250,0.061571427);\">:</span> <span style=\"background-color:rgba(135,206,250,0.13099748);\">riesling</span> <span style=\"background-color:rgba(135,206,250,0.057788532);\">:</span> <span style=\"background-color:rgba(135,206,250,0.029636284);\">an</span> <span style=\"background-color:rgba(135,206,250,0.05383871);\">apt</span> <span style=\"background-color:rgba(135,206,250,0.02955742);\">name</span> <span style=\"background-color:rgba(135,206,250,0.028585922);\">for</span> <span style=\"background-color:rgba(135,206,250,0.018322876);\">this</span> <span style=\"background-color:rgba(135,206,250,0.041395813);\">reserve</span> <span style=\"background-color:rgba(135,206,250,0.046773158);\">eiswein</span> <span style=\"background-color:rgba(135,206,250,0.022847867);\">,</span> <span style=\"background-color:rgba(135,206,250,0.016859539);\">an</span> <span style=\"background-color:rgba(135,206,250,0.031119907);\">opulent</span> <span style=\"background-color:rgba(135,206,250,0.06389932);\">auslese</span> <span style=\"background-color:rgba(135,206,250,0.023014097);\">,</span> <span style=\"background-color:rgba(135,206,250,0.014139628);\">a</span> <span style=\"background-color:rgba(135,206,250,0.024324244);\">luscious</span> <span style=\"background-color:rgba(135,206,250,0.023270017);\">,</span> <span style=\"background-color:rgba(135,206,250,0.029151712);\">sweet</span> <span style=\"background-color:rgba(135,206,250,0.034271196);\">gold</span> <span style=\"background-color:rgba(135,206,250,0.034349497);\">color</span> <span style=\"background-color:rgba(135,206,250,0.022983601);\">,</span> <span style=\"background-color:rgba(135,206,250,0.025716225);\">its</span> <span style=\"background-color:rgba(135,206,250,0.04035326);\">honey</span> <span style=\"background-color:rgba(135,206,250,0.026941298);\">and</span> <span style=\"background-color:rgba(135,206,250,0.03750572);\">apricot</span> <span style=\"background-color:rgba(135,206,250,0.052034955);\">flavors</span> <span style=\"background-color:rgba(135,206,250,0.042763855);\">touched</span> <span style=\"background-color:rgba(135,206,250,0.025533885);\">by</span> <span style=\"background-color:rgba(135,206,250,0.045244463);\">saffron</span> <span style=\"background-color:rgba(135,206,250,0.031531565);\">and</span> <span style=\"background-color:rgba(135,206,250,0.051904727);\">honey</span> <span style=\"background-color:rgba(135,206,250,0.0549156);\">.</span> <span style=\"background-color:rgba(135,206,250,0.03891678);\">soft</span> <span style=\"background-color:rgba(135,206,250,0.038923983);\">on</span> <span style=\"background-color:rgba(135,206,250,0.03470079);\">the</span> <span style=\"background-color:rgba(135,206,250,0.06974974);\">palate</span> <span style=\"background-color:rgba(135,206,250,0.048491847);\">,</span> <span style=\"background-color:rgba(135,206,250,0.068133175);\">spice</span> <span style=\"background-color:rgba(135,206,250,0.06981541);\">integrated</span> <span style=\"background-color:rgba(135,206,250,0.06863265);\">in</span> <span style=\"background-color:rgba(135,206,250,0.08001638);\">the</span> <span style=\"background-color:rgba(135,206,250,0.16179562);\">mouth</span> <span style=\"background-color:rgba(135,206,250,0.15490937);\">,</span> <span style=\"background-color:rgba(135,206,250,0.35234648);\">finishing</span> <span style=\"background-color:rgba(135,206,250,0.309158);\">long</span> <span style=\"background-color:rgba(135,206,250,0.301877);\">and</span> <span style=\"background-color:rgba(135,206,250,0.53492314);\">gloriously</span>"
            ]
          },
          "metadata": {}
        },
        {
          "output_type": "stream",
          "name": "stdout",
          "text": [
            "long:   \t79.11%\n",
            "lingering:   \t1.92%\n",
            "honeyed:   \t1.9%\n",
            "ripe:   \t1.31%\n",
            "sweet:   \t1.06%\n",
            "--------\n",
            "\n"
          ]
        },
        {
          "output_type": "display_data",
          "data": {
            "text/plain": [
              "<IPython.core.display.HTML object>"
            ],
            "text/html": [
              "<span style=\"background-color:rgba(135,206,250,0.06679559);\">wine</span> <span style=\"background-color:rgba(135,206,250,0.059514668);\">review</span> <span style=\"background-color:rgba(135,206,250,0.26346713);\">:</span> <span style=\"background-color:rgba(135,206,250,0.20968205);\">germany</span> <span style=\"background-color:rgba(135,206,250,0.060611863);\">:</span> <span style=\"background-color:rgba(135,206,250,0.12683384);\">mosel</span> <span style=\"background-color:rgba(135,206,250,0.062995225);\">:</span> <span style=\"background-color:rgba(135,206,250,0.101645485);\">riesling</span> <span style=\"background-color:rgba(135,206,250,0.050522663);\">:</span> <span style=\"background-color:rgba(135,206,250,0.02416332);\">an</span> <span style=\"background-color:rgba(135,206,250,0.042944536);\">apt</span> <span style=\"background-color:rgba(135,206,250,0.01697767);\">name</span> <span style=\"background-color:rgba(135,206,250,0.028571954);\">for</span> <span style=\"background-color:rgba(135,206,250,0.014707985);\">this</span> <span style=\"background-color:rgba(135,206,250,0.03300637);\">reserve</span> <span style=\"background-color:rgba(135,206,250,0.028958065);\">eiswein</span> <span style=\"background-color:rgba(135,206,250,0.018942114);\">,</span> <span style=\"background-color:rgba(135,206,250,0.013205567);\">an</span> <span style=\"background-color:rgba(135,206,250,0.018726602);\">opulent</span> <span style=\"background-color:rgba(135,206,250,0.05142537);\">auslese</span> <span style=\"background-color:rgba(135,206,250,0.018364104);\">,</span> <span style=\"background-color:rgba(135,206,250,0.010108323);\">a</span> <span style=\"background-color:rgba(135,206,250,0.0150971385);\">luscious</span> <span style=\"background-color:rgba(135,206,250,0.01965606);\">,</span> <span style=\"background-color:rgba(135,206,250,0.013630108);\">sweet</span> <span style=\"background-color:rgba(135,206,250,0.026130855);\">gold</span> <span style=\"background-color:rgba(135,206,250,0.041325044);\">color</span> <span style=\"background-color:rgba(135,206,250,0.020791324);\">,</span> <span style=\"background-color:rgba(135,206,250,0.02127357);\">its</span> <span style=\"background-color:rgba(135,206,250,0.025159894);\">honey</span> <span style=\"background-color:rgba(135,206,250,0.02858977);\">and</span> <span style=\"background-color:rgba(135,206,250,0.029366162);\">apricot</span> <span style=\"background-color:rgba(135,206,250,0.045453582);\">flavors</span> <span style=\"background-color:rgba(135,206,250,0.039811127);\">touched</span> <span style=\"background-color:rgba(135,206,250,0.02778043);\">by</span> <span style=\"background-color:rgba(135,206,250,0.027088067);\">saffron</span> <span style=\"background-color:rgba(135,206,250,0.034239683);\">and</span> <span style=\"background-color:rgba(135,206,250,0.035827775);\">honey</span> <span style=\"background-color:rgba(135,206,250,0.064442225);\">.</span> <span style=\"background-color:rgba(135,206,250,0.02640871);\">soft</span> <span style=\"background-color:rgba(135,206,250,0.0307843);\">on</span> <span style=\"background-color:rgba(135,206,250,0.030571163);\">the</span> <span style=\"background-color:rgba(135,206,250,0.08012065);\">palate</span> <span style=\"background-color:rgba(135,206,250,0.04560182);\">,</span> <span style=\"background-color:rgba(135,206,250,0.05110691);\">spice</span> <span style=\"background-color:rgba(135,206,250,0.0576041);\">integrated</span> <span style=\"background-color:rgba(135,206,250,0.06675025);\">in</span> <span style=\"background-color:rgba(135,206,250,0.09394934);\">the</span> <span style=\"background-color:rgba(135,206,250,0.2065456);\">mouth</span> <span style=\"background-color:rgba(135,206,250,0.12806672);\">,</span> <span style=\"background-color:rgba(135,206,250,0.6804445);\">finishing</span> <span style=\"background-color:rgba(135,206,250,0.119008325);\">long</span> <span style=\"background-color:rgba(135,206,250,0.289557);\">and</span> <span style=\"background-color:rgba(135,206,250,1.0);\">gloriously</span> <span style=\"background-color:rgba(135,206,250,0.262382);\">long</span>"
            ]
          },
          "metadata": {}
        },
        {
          "output_type": "stream",
          "name": "stdout",
          "text": [
            ".:   \t79.22%\n",
            ",:   \t9.03%\n",
            "and:   \t5.77%\n",
            "on:   \t2.94%\n",
            "with:   \t0.61%\n",
            "--------\n",
            "\n"
          ]
        },
        {
          "output_type": "display_data",
          "data": {
            "text/plain": [
              "<IPython.core.display.HTML object>"
            ],
            "text/html": [
              "<span style=\"background-color:rgba(135,206,250,0.46787813);\">wine</span> <span style=\"background-color:rgba(135,206,250,0.047566406);\">review</span> <span style=\"background-color:rgba(135,206,250,0.7518374);\">:</span> <span style=\"background-color:rgba(135,206,250,1.0);\">germany</span> <span style=\"background-color:rgba(135,206,250,0.15015993);\">:</span> <span style=\"background-color:rgba(135,206,250,0.19227658);\">mosel</span> <span style=\"background-color:rgba(135,206,250,0.2272315);\">:</span> <span style=\"background-color:rgba(135,206,250,0.23942709);\">riesling</span> <span style=\"background-color:rgba(135,206,250,0.12652819);\">:</span> <span style=\"background-color:rgba(135,206,250,0.054147);\">an</span> <span style=\"background-color:rgba(135,206,250,0.06929887);\">apt</span> <span style=\"background-color:rgba(135,206,250,0.05302658);\">name</span> <span style=\"background-color:rgba(135,206,250,0.038614534);\">for</span> <span style=\"background-color:rgba(135,206,250,0.059229277);\">this</span> <span style=\"background-color:rgba(135,206,250,0.08628766);\">reserve</span> <span style=\"background-color:rgba(135,206,250,0.071772754);\">eiswein</span> <span style=\"background-color:rgba(135,206,250,0.030397259);\">,</span> <span style=\"background-color:rgba(135,206,250,0.030392824);\">an</span> <span style=\"background-color:rgba(135,206,250,0.05227132);\">opulent</span> <span style=\"background-color:rgba(135,206,250,0.12866811);\">auslese</span> <span style=\"background-color:rgba(135,206,250,0.02876831);\">,</span> <span style=\"background-color:rgba(135,206,250,0.019936198);\">a</span> <span style=\"background-color:rgba(135,206,250,0.043677215);\">luscious</span> <span style=\"background-color:rgba(135,206,250,0.026772622);\">,</span> <span style=\"background-color:rgba(135,206,250,0.040971782);\">sweet</span> <span style=\"background-color:rgba(135,206,250,0.087495275);\">gold</span> <span style=\"background-color:rgba(135,206,250,0.05369585);\">color</span> <span style=\"background-color:rgba(135,206,250,0.028432738);\">,</span> <span style=\"background-color:rgba(135,206,250,0.022825629);\">its</span> <span style=\"background-color:rgba(135,206,250,0.06645587);\">honey</span> <span style=\"background-color:rgba(135,206,250,0.0344682);\">and</span> <span style=\"background-color:rgba(135,206,250,0.05975062);\">apricot</span> <span style=\"background-color:rgba(135,206,250,0.0951197);\">flavors</span> <span style=\"background-color:rgba(135,206,250,0.062706225);\">touched</span> <span style=\"background-color:rgba(135,206,250,0.03894033);\">by</span> <span style=\"background-color:rgba(135,206,250,0.040727828);\">saffron</span> <span style=\"background-color:rgba(135,206,250,0.04060241);\">and</span> <span style=\"background-color:rgba(135,206,250,0.08051082);\">honey</span> <span style=\"background-color:rgba(135,206,250,0.08922209);\">.</span> <span style=\"background-color:rgba(135,206,250,0.06980117);\">soft</span> <span style=\"background-color:rgba(135,206,250,0.032546874);\">on</span> <span style=\"background-color:rgba(135,206,250,0.030977996);\">the</span> <span style=\"background-color:rgba(135,206,250,0.11197674);\">palate</span> <span style=\"background-color:rgba(135,206,250,0.05349599);\">,</span> <span style=\"background-color:rgba(135,206,250,0.09529804);\">spice</span> <span style=\"background-color:rgba(135,206,250,0.08816277);\">integrated</span> <span style=\"background-color:rgba(135,206,250,0.0559339);\">in</span> <span style=\"background-color:rgba(135,206,250,0.057994522);\">the</span> <span style=\"background-color:rgba(135,206,250,0.16212611);\">mouth</span> <span style=\"background-color:rgba(135,206,250,0.10182344);\">,</span> <span style=\"background-color:rgba(135,206,250,0.4108731);\">finishing</span> <span style=\"background-color:rgba(135,206,250,0.15125595);\">long</span> <span style=\"background-color:rgba(135,206,250,0.13619393);\">and</span> <span style=\"background-color:rgba(135,206,250,0.84933275);\">gloriously</span> <span style=\"background-color:rgba(135,206,250,0.23367585);\">long</span> <span style=\"background-color:rgba(135,206,250,0.4290637);\">.</span>"
            ]
          },
          "metadata": {}
        },
        {
          "output_type": "stream",
          "name": "stdout",
          "text": [
            ":   \t41.29%\n",
            "drink:   \t23.9%\n",
            "it:   \t5.77%\n",
            "a:   \t1.81%\n",
            "the:   \t1.59%\n",
            "--------\n",
            "\n"
          ]
        },
        {
          "output_type": "display_data",
          "data": {
            "text/plain": [
              "<IPython.core.display.HTML object>"
            ],
            "text/html": [
              "<span style=\"background-color:rgba(135,206,250,0.07608697);\">wine</span> <span style=\"background-color:rgba(135,206,250,0.072432354);\">review</span> <span style=\"background-color:rgba(135,206,250,0.38967776);\">:</span> <span style=\"background-color:rgba(135,206,250,0.20583536);\">germany</span> <span style=\"background-color:rgba(135,206,250,0.05160086);\">:</span> <span style=\"background-color:rgba(135,206,250,0.0611594);\">mosel</span> <span style=\"background-color:rgba(135,206,250,0.060569983);\">:</span> <span style=\"background-color:rgba(135,206,250,0.06172071);\">riesling</span> <span style=\"background-color:rgba(135,206,250,0.05041988);\">:</span> <span style=\"background-color:rgba(135,206,250,0.021076664);\">an</span> <span style=\"background-color:rgba(135,206,250,0.032921452);\">apt</span> <span style=\"background-color:rgba(135,206,250,0.018791229);\">name</span> <span style=\"background-color:rgba(135,206,250,0.023139615);\">for</span> <span style=\"background-color:rgba(135,206,250,0.027293531);\">this</span> <span style=\"background-color:rgba(135,206,250,0.03345065);\">reserve</span> <span style=\"background-color:rgba(135,206,250,0.038378347);\">eiswein</span> <span style=\"background-color:rgba(135,206,250,0.017679635);\">,</span> <span style=\"background-color:rgba(135,206,250,0.015320719);\">an</span> <span style=\"background-color:rgba(135,206,250,0.030386105);\">opulent</span> <span style=\"background-color:rgba(135,206,250,0.06347704);\">auslese</span> <span style=\"background-color:rgba(135,206,250,0.017760675);\">,</span> <span style=\"background-color:rgba(135,206,250,0.013124145);\">a</span> <span style=\"background-color:rgba(135,206,250,0.022250364);\">luscious</span> <span style=\"background-color:rgba(135,206,250,0.018665662);\">,</span> <span style=\"background-color:rgba(135,206,250,0.022149479);\">sweet</span> <span style=\"background-color:rgba(135,206,250,0.030163512);\">gold</span> <span style=\"background-color:rgba(135,206,250,0.02530016);\">color</span> <span style=\"background-color:rgba(135,206,250,0.02021293);\">,</span> <span style=\"background-color:rgba(135,206,250,0.026632573);\">its</span> <span style=\"background-color:rgba(135,206,250,0.030484883);\">honey</span> <span style=\"background-color:rgba(135,206,250,0.030928832);\">and</span> <span style=\"background-color:rgba(135,206,250,0.031331353);\">apricot</span> <span style=\"background-color:rgba(135,206,250,0.041441955);\">flavors</span> <span style=\"background-color:rgba(135,206,250,0.04645769);\">touched</span> <span style=\"background-color:rgba(135,206,250,0.035380296);\">by</span> <span style=\"background-color:rgba(135,206,250,0.035466142);\">saffron</span> <span style=\"background-color:rgba(135,206,250,0.03889067);\">and</span> <span style=\"background-color:rgba(135,206,250,0.041509084);\">honey</span> <span style=\"background-color:rgba(135,206,250,0.10113267);\">.</span> <span style=\"background-color:rgba(135,206,250,0.040552158);\">soft</span> <span style=\"background-color:rgba(135,206,250,0.032766208);\">on</span> <span style=\"background-color:rgba(135,206,250,0.02988286);\">the</span> <span style=\"background-color:rgba(135,206,250,0.060826518);\">palate</span> <span style=\"background-color:rgba(135,206,250,0.046146978);\">,</span> <span style=\"background-color:rgba(135,206,250,0.048437774);\">spice</span> <span style=\"background-color:rgba(135,206,250,0.061085932);\">integrated</span> <span style=\"background-color:rgba(135,206,250,0.059479173);\">in</span> <span style=\"background-color:rgba(135,206,250,0.055684246);\">the</span> <span style=\"background-color:rgba(135,206,250,0.08741994);\">mouth</span> <span style=\"background-color:rgba(135,206,250,0.09992071);\">,</span> <span style=\"background-color:rgba(135,206,250,0.19000664);\">finishing</span> <span style=\"background-color:rgba(135,206,250,0.1417287);\">long</span> <span style=\"background-color:rgba(135,206,250,0.15387724);\">and</span> <span style=\"background-color:rgba(135,206,250,0.37407148);\">gloriously</span> <span style=\"background-color:rgba(135,206,250,0.22040603);\">long</span> <span style=\"background-color:rgba(135,206,250,1.0);\">.</span> <span style=\"background-color:rgba(135,206,250,0.39446825);\">begin</span>"
            ]
          },
          "metadata": {}
        },
        {
          "output_type": "stream",
          "name": "stdout",
          "text": [
            "drinking:   \t31.61%\n",
            "to:   \t24.63%\n",
            "with:   \t9.36%\n",
            "a:   \t4.1%\n",
            ",:   \t2.94%\n",
            "--------\n",
            "\n"
          ]
        },
        {
          "output_type": "display_data",
          "data": {
            "text/plain": [
              "<IPython.core.display.HTML object>"
            ],
            "text/html": [
              "<span style=\"background-color:rgba(135,206,250,0.041809894);\">wine</span> <span style=\"background-color:rgba(135,206,250,0.050440367);\">review</span> <span style=\"background-color:rgba(135,206,250,0.083597496);\">:</span> <span style=\"background-color:rgba(135,206,250,0.17206189);\">germany</span> <span style=\"background-color:rgba(135,206,250,0.01854027);\">:</span> <span style=\"background-color:rgba(135,206,250,0.10360898);\">mosel</span> <span style=\"background-color:rgba(135,206,250,0.024604324);\">:</span> <span style=\"background-color:rgba(135,206,250,0.088249475);\">riesling</span> <span style=\"background-color:rgba(135,206,250,0.025735073);\">:</span> <span style=\"background-color:rgba(135,206,250,0.023866557);\">an</span> <span style=\"background-color:rgba(135,206,250,0.047263414);\">apt</span> <span style=\"background-color:rgba(135,206,250,0.023165202);\">name</span> <span style=\"background-color:rgba(135,206,250,0.017440572);\">for</span> <span style=\"background-color:rgba(135,206,250,0.020589903);\">this</span> <span style=\"background-color:rgba(135,206,250,0.02923519);\">reserve</span> <span style=\"background-color:rgba(135,206,250,0.038505945);\">eiswein</span> <span style=\"background-color:rgba(135,206,250,0.014134338);\">,</span> <span style=\"background-color:rgba(135,206,250,0.014630604);\">an</span> <span style=\"background-color:rgba(135,206,250,0.02594231);\">opulent</span> <span style=\"background-color:rgba(135,206,250,0.06759192);\">auslese</span> <span style=\"background-color:rgba(135,206,250,0.013349703);\">,</span> <span style=\"background-color:rgba(135,206,250,0.008756865);\">a</span> <span style=\"background-color:rgba(135,206,250,0.018607825);\">luscious</span> <span style=\"background-color:rgba(135,206,250,0.013602421);\">,</span> <span style=\"background-color:rgba(135,206,250,0.01833138);\">sweet</span> <span style=\"background-color:rgba(135,206,250,0.03508789);\">gold</span> <span style=\"background-color:rgba(135,206,250,0.026334211);\">color</span> <span style=\"background-color:rgba(135,206,250,0.013950518);\">,</span> <span style=\"background-color:rgba(135,206,250,0.019438628);\">its</span> <span style=\"background-color:rgba(135,206,250,0.024029983);\">honey</span> <span style=\"background-color:rgba(135,206,250,0.019059272);\">and</span> <span style=\"background-color:rgba(135,206,250,0.02103972);\">apricot</span> <span style=\"background-color:rgba(135,206,250,0.031229742);\">flavors</span> <span style=\"background-color:rgba(135,206,250,0.03357454);\">touched</span> <span style=\"background-color:rgba(135,206,250,0.024917388);\">by</span> <span style=\"background-color:rgba(135,206,250,0.031903833);\">saffron</span> <span style=\"background-color:rgba(135,206,250,0.022814946);\">and</span> <span style=\"background-color:rgba(135,206,250,0.031978544);\">honey</span> <span style=\"background-color:rgba(135,206,250,0.0459411);\">.</span> <span style=\"background-color:rgba(135,206,250,0.03236256);\">soft</span> <span style=\"background-color:rgba(135,206,250,0.016947964);\">on</span> <span style=\"background-color:rgba(135,206,250,0.020053273);\">the</span> <span style=\"background-color:rgba(135,206,250,0.050449073);\">palate</span> <span style=\"background-color:rgba(135,206,250,0.028295513);\">,</span> <span style=\"background-color:rgba(135,206,250,0.027335627);\">spice</span> <span style=\"background-color:rgba(135,206,250,0.062163915);\">integrated</span> <span style=\"background-color:rgba(135,206,250,0.0257617);\">in</span> <span style=\"background-color:rgba(135,206,250,0.03443096);\">the</span> <span style=\"background-color:rgba(135,206,250,0.07404441);\">mouth</span> <span style=\"background-color:rgba(135,206,250,0.061238006);\">,</span> <span style=\"background-color:rgba(135,206,250,0.15742683);\">finishing</span> <span style=\"background-color:rgba(135,206,250,0.08188573);\">long</span> <span style=\"background-color:rgba(135,206,250,0.06786303);\">and</span> <span style=\"background-color:rgba(135,206,250,0.49155796);\">gloriously</span> <span style=\"background-color:rgba(135,206,250,0.13811849);\">long</span> <span style=\"background-color:rgba(135,206,250,0.41280675);\">.</span> <span style=\"background-color:rgba(135,206,250,1.0);\">begin</span> <span style=\"background-color:rgba(135,206,250,0.07484464);\">to</span>"
            ]
          },
          "metadata": {}
        },
        {
          "output_type": "stream",
          "name": "stdout",
          "text": [
            "throw:   \t12.14%\n",
            "describe:   \t8.72%\n",
            "drink:   \t7.82%\n",
            "open:   \t7.67%\n",
            "be:   \t6.65%\n",
            "--------\n",
            "\n"
          ]
        },
        {
          "output_type": "display_data",
          "data": {
            "text/plain": [
              "<IPython.core.display.HTML object>"
            ],
            "text/html": [
              "<span style=\"background-color:rgba(135,206,250,0.09318356);\">wine</span> <span style=\"background-color:rgba(135,206,250,0.09481343);\">review</span> <span style=\"background-color:rgba(135,206,250,0.7152677);\">:</span> <span style=\"background-color:rgba(135,206,250,0.44152603);\">germany</span> <span style=\"background-color:rgba(135,206,250,0.06459826);\">:</span> <span style=\"background-color:rgba(135,206,250,0.21064427);\">mosel</span> <span style=\"background-color:rgba(135,206,250,0.073716804);\">:</span> <span style=\"background-color:rgba(135,206,250,0.16488354);\">riesling</span> <span style=\"background-color:rgba(135,206,250,0.07111597);\">:</span> <span style=\"background-color:rgba(135,206,250,0.06765731);\">an</span> <span style=\"background-color:rgba(135,206,250,0.11273824);\">apt</span> <span style=\"background-color:rgba(135,206,250,0.042200256);\">name</span> <span style=\"background-color:rgba(135,206,250,0.031227628);\">for</span> <span style=\"background-color:rgba(135,206,250,0.037761793);\">this</span> <span style=\"background-color:rgba(135,206,250,0.075840786);\">reserve</span> <span style=\"background-color:rgba(135,206,250,0.11706702);\">eiswein</span> <span style=\"background-color:rgba(135,206,250,0.03358933);\">,</span> <span style=\"background-color:rgba(135,206,250,0.040540073);\">an</span> <span style=\"background-color:rgba(135,206,250,0.07601959);\">opulent</span> <span style=\"background-color:rgba(135,206,250,0.18404585);\">auslese</span> <span style=\"background-color:rgba(135,206,250,0.030530343);\">,</span> <span style=\"background-color:rgba(135,206,250,0.023113687);\">a</span> <span style=\"background-color:rgba(135,206,250,0.051238466);\">luscious</span> <span style=\"background-color:rgba(135,206,250,0.030863976);\">,</span> <span style=\"background-color:rgba(135,206,250,0.04367419);\">sweet</span> <span style=\"background-color:rgba(135,206,250,0.09427223);\">gold</span> <span style=\"background-color:rgba(135,206,250,0.046137363);\">color</span> <span style=\"background-color:rgba(135,206,250,0.02975488);\">,</span> <span style=\"background-color:rgba(135,206,250,0.044334296);\">its</span> <span style=\"background-color:rgba(135,206,250,0.05216602);\">honey</span> <span style=\"background-color:rgba(135,206,250,0.0441585);\">and</span> <span style=\"background-color:rgba(135,206,250,0.049373068);\">apricot</span> <span style=\"background-color:rgba(135,206,250,0.04798758);\">flavors</span> <span style=\"background-color:rgba(135,206,250,0.054971017);\">touched</span> <span style=\"background-color:rgba(135,206,250,0.041341875);\">by</span> <span style=\"background-color:rgba(135,206,250,0.06500973);\">saffron</span> <span style=\"background-color:rgba(135,206,250,0.049310114);\">and</span> <span style=\"background-color:rgba(135,206,250,0.063753955);\">honey</span> <span style=\"background-color:rgba(135,206,250,0.09906864);\">.</span> <span style=\"background-color:rgba(135,206,250,0.077334866);\">soft</span> <span style=\"background-color:rgba(135,206,250,0.030057948);\">on</span> <span style=\"background-color:rgba(135,206,250,0.03899017);\">the</span> <span style=\"background-color:rgba(135,206,250,0.07184725);\">palate</span> <span style=\"background-color:rgba(135,206,250,0.061230604);\">,</span> <span style=\"background-color:rgba(135,206,250,0.07176683);\">spice</span> <span style=\"background-color:rgba(135,206,250,0.117417574);\">integrated</span> <span style=\"background-color:rgba(135,206,250,0.059078533);\">in</span> <span style=\"background-color:rgba(135,206,250,0.077614285);\">the</span> <span style=\"background-color:rgba(135,206,250,0.091487035);\">mouth</span> <span style=\"background-color:rgba(135,206,250,0.14338328);\">,</span> <span style=\"background-color:rgba(135,206,250,0.16213158);\">finishing</span> <span style=\"background-color:rgba(135,206,250,0.18193331);\">long</span> <span style=\"background-color:rgba(135,206,250,0.19300142);\">and</span> <span style=\"background-color:rgba(135,206,250,0.54716134);\">gloriously</span> <span style=\"background-color:rgba(135,206,250,0.32184812);\">long</span> <span style=\"background-color:rgba(135,206,250,0.790648);\">.</span> <span style=\"background-color:rgba(135,206,250,1.0);\">begin</span> <span style=\"background-color:rgba(135,206,250,0.59117645);\">to</span> <span style=\"background-color:rgba(135,206,250,0.298728);\">drink</span>"
            ]
          },
          "metadata": {}
        },
        {
          "output_type": "stream",
          "name": "stdout",
          "text": [
            "now:   \t62.37%\n",
            "up:   \t5.49%\n",
            ".:   \t2.49%\n",
            "from:   \t2.47%\n",
            "over:   \t2.45%\n",
            "--------\n",
            "\n"
          ]
        },
        {
          "output_type": "display_data",
          "data": {
            "text/plain": [
              "<IPython.core.display.HTML object>"
            ],
            "text/html": [
              "<span style=\"background-color:rgba(135,206,250,0.11165777);\">wine</span> <span style=\"background-color:rgba(135,206,250,0.086136624);\">review</span> <span style=\"background-color:rgba(135,206,250,0.61321723);\">:</span> <span style=\"background-color:rgba(135,206,250,0.4841974);\">germany</span> <span style=\"background-color:rgba(135,206,250,0.049708165);\">:</span> <span style=\"background-color:rgba(135,206,250,0.13204361);\">mosel</span> <span style=\"background-color:rgba(135,206,250,0.06840153);\">:</span> <span style=\"background-color:rgba(135,206,250,0.105357796);\">riesling</span> <span style=\"background-color:rgba(135,206,250,0.0628606);\">:</span> <span style=\"background-color:rgba(135,206,250,0.041899938);\">an</span> <span style=\"background-color:rgba(135,206,250,0.076138265);\">apt</span> <span style=\"background-color:rgba(135,206,250,0.045709446);\">name</span> <span style=\"background-color:rgba(135,206,250,0.036861204);\">for</span> <span style=\"background-color:rgba(135,206,250,0.06196884);\">this</span> <span style=\"background-color:rgba(135,206,250,0.084060766);\">reserve</span> <span style=\"background-color:rgba(135,206,250,0.09106612);\">eiswein</span> <span style=\"background-color:rgba(135,206,250,0.0306552);\">,</span> <span style=\"background-color:rgba(135,206,250,0.03437701);\">an</span> <span style=\"background-color:rgba(135,206,250,0.059288308);\">opulent</span> <span style=\"background-color:rgba(135,206,250,0.14266752);\">auslese</span> <span style=\"background-color:rgba(135,206,250,0.02906197);\">,</span> <span style=\"background-color:rgba(135,206,250,0.025345273);\">a</span> <span style=\"background-color:rgba(135,206,250,0.046128333);\">luscious</span> <span style=\"background-color:rgba(135,206,250,0.028375706);\">,</span> <span style=\"background-color:rgba(135,206,250,0.0410633);\">sweet</span> <span style=\"background-color:rgba(135,206,250,0.06097163);\">gold</span> <span style=\"background-color:rgba(135,206,250,0.046639994);\">color</span> <span style=\"background-color:rgba(135,206,250,0.028770624);\">,</span> <span style=\"background-color:rgba(135,206,250,0.042443477);\">its</span> <span style=\"background-color:rgba(135,206,250,0.054158624);\">honey</span> <span style=\"background-color:rgba(135,206,250,0.039387826);\">and</span> <span style=\"background-color:rgba(135,206,250,0.05380875);\">apricot</span> <span style=\"background-color:rgba(135,206,250,0.07833441);\">flavors</span> <span style=\"background-color:rgba(135,206,250,0.055729102);\">touched</span> <span style=\"background-color:rgba(135,206,250,0.04587852);\">by</span> <span style=\"background-color:rgba(135,206,250,0.050277177);\">saffron</span> <span style=\"background-color:rgba(135,206,250,0.04558318);\">and</span> <span style=\"background-color:rgba(135,206,250,0.06576321);\">honey</span> <span style=\"background-color:rgba(135,206,250,0.104393);\">.</span> <span style=\"background-color:rgba(135,206,250,0.055990368);\">soft</span> <span style=\"background-color:rgba(135,206,250,0.026446953);\">on</span> <span style=\"background-color:rgba(135,206,250,0.031938963);\">the</span> <span style=\"background-color:rgba(135,206,250,0.096979916);\">palate</span> <span style=\"background-color:rgba(135,206,250,0.051419612);\">,</span> <span style=\"background-color:rgba(135,206,250,0.06678448);\">spice</span> <span style=\"background-color:rgba(135,206,250,0.09290887);\">integrated</span> <span style=\"background-color:rgba(135,206,250,0.03830041);\">in</span> <span style=\"background-color:rgba(135,206,250,0.05404268);\">the</span> <span style=\"background-color:rgba(135,206,250,0.12583879);\">mouth</span> <span style=\"background-color:rgba(135,206,250,0.10074512);\">,</span> <span style=\"background-color:rgba(135,206,250,0.2947842);\">finishing</span> <span style=\"background-color:rgba(135,206,250,0.09812661);\">long</span> <span style=\"background-color:rgba(135,206,250,0.12370839);\">and</span> <span style=\"background-color:rgba(135,206,250,0.3740967);\">gloriously</span> <span style=\"background-color:rgba(135,206,250,0.12833212);\">long</span> <span style=\"background-color:rgba(135,206,250,0.6373965);\">.</span> <span style=\"background-color:rgba(135,206,250,0.835817);\">begin</span> <span style=\"background-color:rgba(135,206,250,0.2626);\">to</span> <span style=\"background-color:rgba(135,206,250,1.0);\">drink</span> <span style=\"background-color:rgba(135,206,250,0.35589477);\">through</span>"
            ]
          },
          "metadata": {}
        },
        {
          "output_type": "stream",
          "name": "stdout",
          "text": [
            "2019:   \t13.11%\n",
            "2025:   \t12.99%\n",
            "2018:   \t11.9%\n",
            "2021:   \t9.31%\n",
            "2027:   \t8.73%\n",
            "--------\n",
            "\n"
          ]
        },
        {
          "output_type": "display_data",
          "data": {
            "text/plain": [
              "<IPython.core.display.HTML object>"
            ],
            "text/html": [
              "<span style=\"background-color:rgba(135,206,250,0.14166464);\">wine</span> <span style=\"background-color:rgba(135,206,250,0.16922425);\">review</span> <span style=\"background-color:rgba(135,206,250,0.41240728);\">:</span> <span style=\"background-color:rgba(135,206,250,0.18056257);\">germany</span> <span style=\"background-color:rgba(135,206,250,0.16156004);\">:</span> <span style=\"background-color:rgba(135,206,250,0.18658413);\">mosel</span> <span style=\"background-color:rgba(135,206,250,0.13635793);\">:</span> <span style=\"background-color:rgba(135,206,250,0.12861514);\">riesling</span> <span style=\"background-color:rgba(135,206,250,0.14584023);\">:</span> <span style=\"background-color:rgba(135,206,250,0.10255909);\">an</span> <span style=\"background-color:rgba(135,206,250,0.06703554);\">apt</span> <span style=\"background-color:rgba(135,206,250,0.034844078);\">name</span> <span style=\"background-color:rgba(135,206,250,0.057022095);\">for</span> <span style=\"background-color:rgba(135,206,250,0.03888648);\">this</span> <span style=\"background-color:rgba(135,206,250,0.05129356);\">reserve</span> <span style=\"background-color:rgba(135,206,250,0.04793291);\">eiswein</span> <span style=\"background-color:rgba(135,206,250,0.04494937);\">,</span> <span style=\"background-color:rgba(135,206,250,0.05731659);\">an</span> <span style=\"background-color:rgba(135,206,250,0.04558147);\">opulent</span> <span style=\"background-color:rgba(135,206,250,0.066363454);\">auslese</span> <span style=\"background-color:rgba(135,206,250,0.04089113);\">,</span> <span style=\"background-color:rgba(135,206,250,0.04943414);\">a</span> <span style=\"background-color:rgba(135,206,250,0.028482355);\">luscious</span> <span style=\"background-color:rgba(135,206,250,0.042901475);\">,</span> <span style=\"background-color:rgba(135,206,250,0.02723913);\">sweet</span> <span style=\"background-color:rgba(135,206,250,0.033078693);\">gold</span> <span style=\"background-color:rgba(135,206,250,0.030966964);\">color</span> <span style=\"background-color:rgba(135,206,250,0.040303923);\">,</span> <span style=\"background-color:rgba(135,206,250,0.052767236);\">its</span> <span style=\"background-color:rgba(135,206,250,0.039920703);\">honey</span> <span style=\"background-color:rgba(135,206,250,0.047318917);\">and</span> <span style=\"background-color:rgba(135,206,250,0.03350936);\">apricot</span> <span style=\"background-color:rgba(135,206,250,0.048763905);\">flavors</span> <span style=\"background-color:rgba(135,206,250,0.06151785);\">touched</span> <span style=\"background-color:rgba(135,206,250,0.044637393);\">by</span> <span style=\"background-color:rgba(135,206,250,0.05175127);\">saffron</span> <span style=\"background-color:rgba(135,206,250,0.049639914);\">and</span> <span style=\"background-color:rgba(135,206,250,0.045103133);\">honey</span> <span style=\"background-color:rgba(135,206,250,0.081827186);\">.</span> <span style=\"background-color:rgba(135,206,250,0.030505491);\">soft</span> <span style=\"background-color:rgba(135,206,250,0.046368342);\">on</span> <span style=\"background-color:rgba(135,206,250,0.05192268);\">the</span> <span style=\"background-color:rgba(135,206,250,0.047494244);\">palate</span> <span style=\"background-color:rgba(135,206,250,0.05963426);\">,</span> <span style=\"background-color:rgba(135,206,250,0.047577396);\">spice</span> <span style=\"background-color:rgba(135,206,250,0.060673382);\">integrated</span> <span style=\"background-color:rgba(135,206,250,0.0637709);\">in</span> <span style=\"background-color:rgba(135,206,250,0.07171637);\">the</span> <span style=\"background-color:rgba(135,206,250,0.057996135);\">mouth</span> <span style=\"background-color:rgba(135,206,250,0.09643853);\">,</span> <span style=\"background-color:rgba(135,206,250,0.09271923);\">finishing</span> <span style=\"background-color:rgba(135,206,250,0.104609095);\">long</span> <span style=\"background-color:rgba(135,206,250,0.09870248);\">and</span> <span style=\"background-color:rgba(135,206,250,0.1927613);\">gloriously</span> <span style=\"background-color:rgba(135,206,250,0.15095621);\">long</span> <span style=\"background-color:rgba(135,206,250,0.38259086);\">.</span> <span style=\"background-color:rgba(135,206,250,0.49502957);\">begin</span> <span style=\"background-color:rgba(135,206,250,0.3124446);\">to</span> <span style=\"background-color:rgba(135,206,250,0.7295574);\">drink</span> <span style=\"background-color:rgba(135,206,250,1.0);\">through</span> <span style=\"background-color:rgba(135,206,250,0.85951596);\">2025</span>"
            ]
          },
          "metadata": {}
        },
        {
          "output_type": "stream",
          "name": "stdout",
          "text": [
            ".:   \t96.7%\n",
            "and:   \t0.86%\n",
            ",:   \t0.8%\n",
            "or:   \t0.58%\n",
            "to:   \t0.32%\n",
            "--------\n",
            "\n"
          ]
        },
        {
          "output_type": "display_data",
          "data": {
            "text/plain": [
              "<IPython.core.display.HTML object>"
            ],
            "text/html": [
              "<span style=\"background-color:rgba(135,206,250,0.1308617);\">wine</span> <span style=\"background-color:rgba(135,206,250,0.017579827);\">review</span> <span style=\"background-color:rgba(135,206,250,0.25031805);\">:</span> <span style=\"background-color:rgba(135,206,250,0.359688);\">germany</span> <span style=\"background-color:rgba(135,206,250,0.05440223);\">:</span> <span style=\"background-color:rgba(135,206,250,0.089545935);\">mosel</span> <span style=\"background-color:rgba(135,206,250,0.08197446);\">:</span> <span style=\"background-color:rgba(135,206,250,0.09951025);\">riesling</span> <span style=\"background-color:rgba(135,206,250,0.054700732);\">:</span> <span style=\"background-color:rgba(135,206,250,0.026966317);\">an</span> <span style=\"background-color:rgba(135,206,250,0.030656153);\">apt</span> <span style=\"background-color:rgba(135,206,250,0.02494376);\">name</span> <span style=\"background-color:rgba(135,206,250,0.017839989);\">for</span> <span style=\"background-color:rgba(135,206,250,0.026111268);\">this</span> <span style=\"background-color:rgba(135,206,250,0.039851617);\">reserve</span> <span style=\"background-color:rgba(135,206,250,0.029849103);\">eiswein</span> <span style=\"background-color:rgba(135,206,250,0.013813998);\">,</span> <span style=\"background-color:rgba(135,206,250,0.0148953255);\">an</span> <span style=\"background-color:rgba(135,206,250,0.021829803);\">opulent</span> <span style=\"background-color:rgba(135,206,250,0.055399947);\">auslese</span> <span style=\"background-color:rgba(135,206,250,0.0122597935);\">,</span> <span style=\"background-color:rgba(135,206,250,0.009109776);\">a</span> <span style=\"background-color:rgba(135,206,250,0.016938843);\">luscious</span> <span style=\"background-color:rgba(135,206,250,0.010800864);\">,</span> <span style=\"background-color:rgba(135,206,250,0.01571809);\">sweet</span> <span style=\"background-color:rgba(135,206,250,0.03419571);\">gold</span> <span style=\"background-color:rgba(135,206,250,0.020919004);\">color</span> <span style=\"background-color:rgba(135,206,250,0.010891058);\">,</span> <span style=\"background-color:rgba(135,206,250,0.008684781);\">its</span> <span style=\"background-color:rgba(135,206,250,0.0257568);\">honey</span> <span style=\"background-color:rgba(135,206,250,0.013235282);\">and</span> <span style=\"background-color:rgba(135,206,250,0.022665141);\">apricot</span> <span style=\"background-color:rgba(135,206,250,0.032873236);\">flavors</span> <span style=\"background-color:rgba(135,206,250,0.02448656);\">touched</span> <span style=\"background-color:rgba(135,206,250,0.013662155);\">by</span> <span style=\"background-color:rgba(135,206,250,0.014993065);\">saffron</span> <span style=\"background-color:rgba(135,206,250,0.014765511);\">and</span> <span style=\"background-color:rgba(135,206,250,0.029362781);\">honey</span> <span style=\"background-color:rgba(135,206,250,0.02793711);\">.</span> <span style=\"background-color:rgba(135,206,250,0.022879198);\">soft</span> <span style=\"background-color:rgba(135,206,250,0.011282719);\">on</span> <span style=\"background-color:rgba(135,206,250,0.010106513);\">the</span> <span style=\"background-color:rgba(135,206,250,0.03624698);\">palate</span> <span style=\"background-color:rgba(135,206,250,0.016146459);\">,</span> <span style=\"background-color:rgba(135,206,250,0.033725314);\">spice</span> <span style=\"background-color:rgba(135,206,250,0.027470741);\">integrated</span> <span style=\"background-color:rgba(135,206,250,0.013413537);\">in</span> <span style=\"background-color:rgba(135,206,250,0.013743824);\">the</span> <span style=\"background-color:rgba(135,206,250,0.045382135);\">mouth</span> <span style=\"background-color:rgba(135,206,250,0.02105149);\">,</span> <span style=\"background-color:rgba(135,206,250,0.11774356);\">finishing</span> <span style=\"background-color:rgba(135,206,250,0.034326825);\">long</span> <span style=\"background-color:rgba(135,206,250,0.026001243);\">and</span> <span style=\"background-color:rgba(135,206,250,0.07465201);\">gloriously</span> <span style=\"background-color:rgba(135,206,250,0.04252016);\">long</span> <span style=\"background-color:rgba(135,206,250,0.059233736);\">.</span> <span style=\"background-color:rgba(135,206,250,0.115244575);\">begin</span> <span style=\"background-color:rgba(135,206,250,0.030081041);\">to</span> <span style=\"background-color:rgba(135,206,250,0.22108828);\">drink</span> <span style=\"background-color:rgba(135,206,250,0.058368668);\">through</span> <span style=\"background-color:rgba(135,206,250,1.0);\">2025</span> <span style=\"background-color:rgba(135,206,250,0.121147394);\">.</span>"
            ]
          },
          "metadata": {}
        },
        {
          "output_type": "stream",
          "name": "stdout",
          "text": [
            ":   \t99.12%\n",
            "imported:   \t0.3%\n",
            "drink:   \t0.06%\n",
            "it:   \t0.05%\n",
            ".:   \t0.03%\n",
            "--------\n",
            "\n"
          ]
        }
      ],
      "source": [
        "info = text_generator.generate(\n",
        "    \"wine review : germany\", max_tokens=80, temperature=0.5\n",
        ")\n",
        "print_probs(info, vocab)"
      ]
    },
    {
      "cell_type": "markdown",
      "source": [
        "Ref.: David Foster. Generative Deep Learning. O'Reilly Media; 2nd ed. 2023.\n",
        "\n",
        "Link para o original: https://github.com/davidADSP/Generative_Deep_Learning_2nd_Edition/blob/main/notebooks/09_transformer/gpt/gpt.ipynb"
      ],
      "metadata": {
        "id": "iJZ9Y-f7TWDd"
      },
      "id": "iJZ9Y-f7TWDd"
    }
  ],
  "metadata": {
    "kernelspec": {
      "display_name": "Python 3",
      "name": "python3"
    },
    "language_info": {
      "codemirror_mode": {
        "name": "ipython",
        "version": 3
      },
      "file_extension": ".py",
      "mimetype": "text/x-python",
      "name": "python",
      "nbconvert_exporter": "python",
      "pygments_lexer": "ipython3",
      "version": "3.8.10"
    },
    "vscode": {
      "interpreter": {
        "hash": "31f2aee4e71d21fbe5cf8b01ff0e069b9275f58929596ceb00d14d90e3e16cd6"
      }
    },
    "colab": {
      "provenance": [],
      "gpuType": "T4"
    },
    "accelerator": "GPU"
  },
  "nbformat": 4,
  "nbformat_minor": 5
}