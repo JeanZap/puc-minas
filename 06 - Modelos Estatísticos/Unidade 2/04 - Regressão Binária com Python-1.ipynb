{
 "cells": [
  {
   "cell_type": "markdown",
   "metadata": {
    "id": "LG3riz6Ut5X0"
   },
   "source": [
    "# **REGRESSÃO LOGÍSTICA BINÁRIA**"
   ]
  },
  {
   "cell_type": "markdown",
   "metadata": {
    "id": "SmdgEuFK9I4R"
   },
   "source": [
    "Importando bibliotecas"
   ]
  },
  {
   "cell_type": "code",
   "execution_count": 1,
   "metadata": {
    "id": "PGFJHjk0tttU"
   },
   "outputs": [],
   "source": [
    "import numpy as np\n",
    "import pandas as pd\n",
    "import warnings\n",
    "\n",
    "# Suprimir os warnings\n",
    "warnings.simplefilter(action='ignore', category=pd.errors.SettingWithCopyWarning)\n",
    "warnings.simplefilter(action='ignore', category=FutureWarning)"
   ]
  },
  {
   "cell_type": "code",
   "execution_count": 2,
   "metadata": {
    "id": "wLMmk6o8uEae"
   },
   "outputs": [],
   "source": [
    "doenca_pre = pd.read_csv('covid_doencas_preexistentes.csv',\n",
    "                    sep=';', encoding='utf-8')"
   ]
  },
  {
   "cell_type": "markdown",
   "metadata": {
    "id": "FyUUGTpzykQ7"
   },
   "source": [
    "## **ANÁLISE INICIAL**"
   ]
  },
  {
   "cell_type": "markdown",
   "metadata": {
    "id": "51ZCw5vO9baJ"
   },
   "source": [
    "Verificando as variáveis carregadas no bando de dados"
   ]
  },
  {
   "cell_type": "markdown",
   "metadata": {
    "id": "VxHVY5hC9o4a"
   },
   "source": [
    "Base de dados tras a informação de pessoas que receberam o diagnóstico de COVID perfil do paciente e doenças pré existentes."
   ]
  },
  {
   "cell_type": "code",
   "execution_count": null,
   "metadata": {
    "colab": {
     "base_uri": "https://localhost:8080/",
     "height": 278
    },
    "id": "GlPMHCa5ulBQ",
    "outputId": "a7a9ae24-fd32-4b96-ea8f-290a01b11b04"
   },
   "outputs": [],
   "source": [
    "doenca_pre.head()"
   ]
  },
  {
   "cell_type": "markdown",
   "metadata": {
    "id": "qMhMRkKjA_px"
   },
   "source": [
    "Descrição de variáveis\n",
    "*   codigo_ibge: Código do município no IBGE (7 dígitos) de residência do paciente\n",
    "*   nome_munic: Nome do município de residência do paciente\n",
    "*   idade: Idade do paciente\n",
    "*   cs_sexo: Sexo do paciente\n",
    "*   diagnostico_covid19: Confirmação de COVID-19\n",
    "*   data_inicio_sintomas: Data de início dos sintomas\n",
    "*   obito: Indica se o paciente veio a óbito por COVID-19\n",
    "*   asma: Paciente apresenta esse fator de risco (asma)\n",
    "*   cardiopatia: Paciente apresenta esse fator de risco (cardiopatia)\n",
    "*   diabetes: Paciente apresenta esse fator de risco (diabetes)\n",
    "*   doenca_hematologica: Paciente apresenta esse fator de risco (doença hematológica)\n",
    "*   doenca_hepatica: Paciente apresenta esse fator de risco (doença hepática)\n",
    "*   doenca_neurologica: Paciente apresenta esse fator de risco (doença neurológica)\n",
    "*   doenca_renal: Paciente apresenta esse fator de risco (doença renal)\n",
    "*   imunodepressao: Paciente apresenta esse fator de risco (imunodepressão)\n",
    "*   obesidade: Paciente apresenta esse fator de risco (obesidade)\n",
    "*   outros_fatores_de_risco: Paciente apresenta outros fatores de risco\n",
    "*   pneumopatia: Paciente apresenta esse fator de risco (pneumopatia)\n",
    "*   puerpera: Paciente se encontra nesse estágio (puérpera)\n",
    "*   sindrome_de_down: Paciente apresenta esse fator de risco (síndrome de down)"
   ]
  },
  {
   "cell_type": "code",
   "execution_count": 4,
   "metadata": {
    "colab": {
     "base_uri": "https://localhost:8080/"
    },
    "id": "4rQom71wY2Sh",
    "outputId": "7dfda26b-dd8d-452d-e6a8-6acfef5d7e35"
   },
   "outputs": [
    {
     "data": {
      "text/plain": [
       "(1102362, 20)"
      ]
     },
     "execution_count": 4,
     "metadata": {},
     "output_type": "execute_result"
    }
   ],
   "source": [
    "doenca_pre.shape"
   ]
  },
  {
   "cell_type": "markdown",
   "metadata": {
    "id": "12i1ijYmGyVx"
   },
   "source": [
    "**1ª Análise: Verificar se existe uma tendência de óbito entre pessoas do sexo feminino e masculino.**"
   ]
  },
  {
   "cell_type": "code",
   "execution_count": 5,
   "metadata": {
    "id": "OfpvLBNdJuZN"
   },
   "outputs": [],
   "source": [
    "from collections import Counter"
   ]
  },
  {
   "cell_type": "markdown",
   "metadata": {
    "id": "j6RiXbepB9RT"
   },
   "source": [
    "Fazer contagem por categoria das variáveis"
   ]
  },
  {
   "cell_type": "code",
   "execution_count": null,
   "metadata": {
    "colab": {
     "base_uri": "https://localhost:8080/"
    },
    "id": "sm2nzd4eJY83",
    "outputId": "1e290a38-7c92-47f7-c496-1a3e46a0aa59"
   },
   "outputs": [],
   "source": [
    "Counter(doenca_pre.cs_sexo)"
   ]
  },
  {
   "cell_type": "code",
   "execution_count": null,
   "metadata": {
    "colab": {
     "base_uri": "https://localhost:8080/"
    },
    "id": "E9JT2mr3eVqx",
    "outputId": "1b73ced4-0805-40ba-9ad8-eda6a07da1df"
   },
   "outputs": [],
   "source": [
    "doenca_pre['cs_sexo'].value_counts()"
   ]
  },
  {
   "cell_type": "markdown",
   "metadata": {
    "id": "SIVbbT-tCeTD"
   },
   "source": [
    "Como queremos comparar o gênero feminino e masculino iremos desconsiderar as demais classes."
   ]
  },
  {
   "cell_type": "markdown",
   "metadata": {
    "id": "3lk5kf4eZ_sL"
   },
   "source": [
    "Valores Missing (NAN)"
   ]
  },
  {
   "cell_type": "code",
   "execution_count": null,
   "metadata": {
    "colab": {
     "base_uri": "https://localhost:8080/"
    },
    "id": "A24U7d5QYPaV",
    "outputId": "1cf13301-e943-4859-fcad-8c30b099abb4"
   },
   "outputs": [],
   "source": [
    "doenca_pre.isnull().sum()"
   ]
  },
  {
   "cell_type": "markdown",
   "metadata": {
    "id": "wGt0_YXDDD_b"
   },
   "source": [
    "Excluir valor NAN de cs_sexo"
   ]
  },
  {
   "cell_type": "code",
   "execution_count": 9,
   "metadata": {
    "id": "dpcVdWHMKeo7"
   },
   "outputs": [],
   "source": [
    "doenca_pre.dropna(subset=['cs_sexo'], inplace=True)"
   ]
  },
  {
   "cell_type": "markdown",
   "metadata": {
    "id": "bUz6g3m5DLha"
   },
   "source": [
    "Excluir Ignorado"
   ]
  },
  {
   "cell_type": "code",
   "execution_count": 10,
   "metadata": {
    "id": "DWjnLmIXO9ul"
   },
   "outputs": [],
   "source": [
    "relacao = doenca_pre.loc[doenca_pre.cs_sexo != 'IGNORADO']"
   ]
  },
  {
   "cell_type": "markdown",
   "metadata": {
    "id": "VN7nLA_LDPA6"
   },
   "source": [
    "Excluir Indefinido"
   ]
  },
  {
   "cell_type": "code",
   "execution_count": 11,
   "metadata": {
    "id": "FfHOQq8uYiif"
   },
   "outputs": [],
   "source": [
    "relacao = relacao.loc[relacao.cs_sexo != 'INDEFINIDO']"
   ]
  },
  {
   "cell_type": "markdown",
   "metadata": {
    "id": "M3h4moFQDZ9S"
   },
   "source": [
    "Verificando as variaveis que ficaram na base de dados"
   ]
  },
  {
   "cell_type": "code",
   "execution_count": null,
   "metadata": {
    "colab": {
     "base_uri": "https://localhost:8080/"
    },
    "id": "ire-dk2-YwZs",
    "outputId": "86fe37cc-9343-45c0-acb5-279bd0bd5f89"
   },
   "outputs": [],
   "source": [
    "relacao['cs_sexo'].value_counts()"
   ]
  },
  {
   "cell_type": "markdown",
   "metadata": {
    "id": "guULB-HhDmf6"
   },
   "source": [
    "Verificando os dados via análise gráfica"
   ]
  },
  {
   "cell_type": "code",
   "execution_count": null,
   "metadata": {
    "id": "lLZ2AVlXbiHH"
   },
   "outputs": [],
   "source": [
    "import plotly.express as px\n",
    "\n",
    "px.pie(relacao, names=\"cs_sexo\")"
   ]
  },
  {
   "cell_type": "markdown",
   "metadata": {
    "id": "bjxh5F-rdCAr"
   },
   "source": [
    "**Análisando a quantidade de óbitos**"
   ]
  },
  {
   "cell_type": "code",
   "execution_count": null,
   "metadata": {
    "colab": {
     "base_uri": "https://localhost:8080/"
    },
    "id": "WdlwVjmYcsJA",
    "outputId": "2c96ea04-0a50-4a4e-d077-06f7dd0117cf"
   },
   "outputs": [],
   "source": [
    "relacao.obito.value_counts()"
   ]
  },
  {
   "cell_type": "code",
   "execution_count": null,
   "metadata": {
    "id": "-wLCnyNIczVU"
   },
   "outputs": [],
   "source": [
    "px.pie(relacao, names=\"obito\")"
   ]
  },
  {
   "cell_type": "markdown",
   "metadata": {
    "id": "uYSeFc6-dTdi"
   },
   "source": [
    "**Análise da classificação dos atributos**\n",
    "\n",
    "Verificando como o Python reconheceu as variáveis"
   ]
  },
  {
   "cell_type": "code",
   "execution_count": null,
   "metadata": {
    "colab": {
     "base_uri": "https://localhost:8080/"
    },
    "id": "BqWfbsm_dZbP",
    "outputId": "261c893d-ae48-47e4-a592-9521d5bd3343"
   },
   "outputs": [],
   "source": [
    "relacao.dtypes"
   ]
  },
  {
   "cell_type": "markdown",
   "metadata": {
    "id": "sHiZhJWkgdwl"
   },
   "source": [
    "**Renomeando(sobrescrevendo) a variável obito**\n",
    "\n"
   ]
  },
  {
   "cell_type": "code",
   "execution_count": 17,
   "metadata": {
    "id": "cvLbNgNCgbku"
   },
   "outputs": [],
   "source": [
    "relacao[\"obito\"] = relacao[\"obito\"].replace({0:\"nao\", 1:\"sim\"})"
   ]
  },
  {
   "cell_type": "code",
   "execution_count": null,
   "metadata": {
    "colab": {
     "base_uri": "https://localhost:8080/",
     "height": 278
    },
    "id": "J03FQZ08g1PF",
    "outputId": "5597ffc9-0dae-45c6-bf46-9f381a3181ae"
   },
   "outputs": [],
   "source": [
    "relacao.head()"
   ]
  },
  {
   "cell_type": "code",
   "execution_count": null,
   "metadata": {
    "colab": {
     "base_uri": "https://localhost:8080/"
    },
    "id": "IAtxI77Kg7Kz",
    "outputId": "08ea3e93-8191-4e32-87cd-0283c91af1c5"
   },
   "outputs": [],
   "source": [
    "relacao.dtypes"
   ]
  },
  {
   "cell_type": "code",
   "execution_count": null,
   "metadata": {
    "colab": {
     "base_uri": "https://localhost:8080/"
    },
    "id": "-a9wcCechER7",
    "outputId": "d595c4e3-74ac-430f-803e-23c3bccc415f"
   },
   "outputs": [],
   "source": [
    "relacao.obito.value_counts()"
   ]
  },
  {
   "cell_type": "markdown",
   "metadata": {
    "id": "hPeboC1ukQ00"
   },
   "source": [
    "**Transformando em variáveis categóricas**"
   ]
  },
  {
   "cell_type": "markdown",
   "metadata": {
    "id": "KysiB1GiEbYy"
   },
   "source": [
    "Transformando as variaveis que estão como objetos como categorias."
   ]
  },
  {
   "cell_type": "code",
   "execution_count": 21,
   "metadata": {
    "id": "-qUzMT4dj7uR"
   },
   "outputs": [],
   "source": [
    "relacao['cs_sexo'] = relacao['cs_sexo'].astype('category')"
   ]
  },
  {
   "cell_type": "code",
   "execution_count": 22,
   "metadata": {
    "id": "GlBXvaTdkFca"
   },
   "outputs": [],
   "source": [
    "relacao['obito'] = relacao['obito'].astype('category')"
   ]
  },
  {
   "cell_type": "markdown",
   "metadata": {
    "id": "pUJmWqMWhsOa"
   },
   "source": [
    "## **Modelo 1: Uma variável independente**"
   ]
  },
  {
   "cell_type": "markdown",
   "metadata": {
    "id": "K8W27ajlFfve"
   },
   "source": [
    "Queremos entender se a pessoa que foi diagnosticada com COVID, existe uma relação entre o gênero e o óbito.\n",
    "\n",
    "Logo, teremos o primeiro modelo com uma única variável independente."
   ]
  },
  {
   "cell_type": "markdown",
   "metadata": {
    "id": "0t2GjhyOVKCg"
   },
   "source": [
    "**Pressupostos :**\n",
    "\n",
    "*   Variável dependente binária (dicotômica) -> Variável resposta (Y) dicotômica: Óbito - Sim ou Não.\n",
    "*   Categorias mutuamente exclusivas - a mesma pessoa não pode estar em duas situações.\n",
    "*   Independência das observações (sem medidas repetidas) -> a mesma pessoa é analisada uma única vez."
   ]
  },
  {
   "cell_type": "code",
   "execution_count": 23,
   "metadata": {
    "id": "4XJVKKv5iaGd"
   },
   "outputs": [],
   "source": [
    "import statsmodels.api as sm\n",
    "import statsmodels.formula.api as smf"
   ]
  },
  {
   "cell_type": "markdown",
   "metadata": {
    "id": "LDmrZOavJ-fO"
   },
   "source": [
    "Criação do modelo de Regressão logística"
   ]
  },
  {
   "cell_type": "code",
   "execution_count": null,
   "metadata": {
    "colab": {
     "base_uri": "https://localhost:8080/"
    },
    "id": "NgYb2K_BieCY",
    "outputId": "62ff55d5-6b53-46c2-813f-e3ba464bb4b4"
   },
   "outputs": [],
   "source": [
    "modelo1 = smf.glm(formula='obito ~ cs_sexo', data=relacao, family = sm.families.Binomial()).fit()\n",
    "print(modelo1.summary())"
   ]
  },
  {
   "cell_type": "markdown",
   "metadata": {},
   "source": [
    "### Deviance Residuals\n",
    "\n",
    "**Hipótese Testada:**\n",
    "\n",
    "-   $H_0$: O modelo ajusta bem os dados.\n",
    "\n",
    "-   $H_a$: O modelo não ajusta bem os dados.\n",
    "\n",
    "**Condição de Aceitação/Rejeição:**\n",
    "\n",
    "-   A deviance total é comparada com uma distribuição qui-quadrado com $n - p$ graus de liberdade, onde $n$ é o número de observações e $p$ é o número de parâmetros no modelo.\n",
    "\n",
    "-   **Aceitação de** $H_0$: Se o valor $p$ calculado a partir da deviance é maior que $\\alpha$, aceitamos $H_0$ e concluímos que o modelo ajusta bem os dados.\n",
    "\n",
    "-   **Rejeição de** $H_0$: Se o valor $p$ é menor que $\\alpha$, rejeitamos $H_0$ e concluímos que o modelo não ajusta bem os dados.\n"
   ]
  },
  {
   "cell_type": "code",
   "execution_count": null,
   "metadata": {},
   "outputs": [],
   "source": [
    "import statsmodels.formula.api as smf\n",
    "import matplotlib.pyplot as plt\n",
    "from scipy.stats import chi2, chisquare\n",
    "from statsmodels.graphics.regressionplots import abline_plot\n",
    "import scipy.stats as stats  # Importando o módulo stats da biblioteca SciPy\n",
    "\n",
    "# Teste de Deviance para os Resíduos\n",
    "deviance_test_statistic = modelo1.deviance\n",
    "deviance_df = modelo1.df_resid\n",
    "deviance_p_value = 1 - stats.chi2.cdf(deviance_test_statistic, deviance_df)\n",
    "\n",
    "print(\"Teste de Deviance para os Resíduos:\")\n",
    "print(\"Estatística de teste:\", deviance_test_statistic)\n",
    "print(\"Graus de liberdade:\", deviance_df)\n",
    "print(\"Valor p:\", deviance_p_value)"
   ]
  },
  {
   "cell_type": "markdown",
   "metadata": {},
   "source": [
    "## Testes de adequação do modelo\n",
    "\n",
    "### 1. Pearson Chi-Square Test\n",
    "\n",
    "**Hipótese Testada:**\n",
    "\n",
    "-   $H_0$: O modelo ajusta bem os dados.\n",
    "\n",
    "-   $H_a$: O modelo não ajusta bem os dados.\n",
    "\n",
    "**Condição de Aceitação/Rejeição:**\n",
    "\n",
    "-   Calcula-se a estatística do teste qui-quadrado de Pearson, que segue uma distribuição qui-quadrado com $n - p$ graus de liberdade.\n",
    "\n",
    "-   **Aceitação de** $H_0$: Se o valor $p$ é maior que $\\alpha$, aceitamos $H_0$ e concluímos que o modelo ajusta bem os dados.\n",
    "\n",
    "-   **Rejeição de** $H_0$: Se o valor $p$ é menor que $\\alpha$, rejeitamos $H_0$ e concluímos que o modelo não ajusta bem os dados.\n"
   ]
  },
  {
   "cell_type": "code",
   "execution_count": null,
   "metadata": {},
   "outputs": [],
   "source": [
    "# Obtendo os resíduos de Pearson\n",
    "residuos_pearson = modelo1.resid_pearson\n",
    "\n",
    "# Teste de Pearson para os Resíduos\n",
    "pearson_test_statistic = np.sum(residuos_pearson**2)\n",
    "pearson_df = len(residuos_pearson) - modelo1.df_model - 1  # Graus de liberdade corrigidos\n",
    "pearson_p_value = 1 - stats.chi2.cdf(pearson_test_statistic, pearson_df)\n",
    "\n",
    "\n",
    "print(\"\\nTeste de Pearson para os Resíduos:\")\n",
    "print(\"Estatística de teste:\", pearson_test_statistic)\n",
    "print(\"Graus de liberdade:\", pearson_df)\n",
    "print(\"Valor p:\", pearson_p_value)\n"
   ]
  },
  {
   "cell_type": "markdown",
   "metadata": {},
   "source": [
    "### Teste de Hosmer-Lemeshow\n",
    "\n",
    "**Hipótese Testada:**\n",
    "\n",
    "-   $H_0$: O modelo ajusta bem os dados (não há diferença significativa entre as frequências observadas e esperadas).\n",
    "\n",
    "-   $H_a$: O modelo não ajusta bem os dados (há diferença significativa entre as frequências observadas e esperadas).\n",
    "\n",
    "**Condição de Aceitação/Rejeição:**\n",
    "\n",
    "-   Calcula-se a estatística do teste de Hosmer-Lemeshow, que segue uma distribuição qui-quadrado com $g - 2$ graus de liberdade, onde $g$ é o número de grupos.\n",
    "\n",
    "-   **Aceitação de** $H_0$: Se o valor $p$ é maior que o nível de significância $\\alpha$ (geralmente 0.05), aceitamos $H_0$ e concluímos que o modelo ajusta bem os dados.\n",
    "\n",
    "-   **Rejeição de** $H_0$: Se o valor $p$ é menor que $\\alpha$, rejeitamos $H_0$ e concluímos que o modelo não ajusta bem os dados.\n"
   ]
  },
  {
   "cell_type": "code",
   "execution_count": null,
   "metadata": {},
   "outputs": [],
   "source": [
    "def hosmer_lemeshow_test(model, g=10):\n",
    "    data = pd.DataFrame({'observed': model.model.endog, 'predicted': model.fittedvalues})\n",
    "    data['group'] = pd.qcut(data['predicted'], g, duplicates='drop')\n",
    "    grouped = data.groupby('group')\n",
    "    observed = grouped['observed'].sum()\n",
    "    expected = grouped['predicted'].sum()\n",
    "    hl_stat = ((observed - expected) ** 2 / (expected * (1 - expected / grouped.size()))).sum()\n",
    "    hl_p_value = chi2.sf(hl_stat, g - 2)\n",
    "    return hl_stat, hl_p_value\n",
    "\n",
    "hl_stat, hl_p_value = hosmer_lemeshow_test(modelo1)\n",
    "print(f\"Hosmer-Lemeshow Test: Stat={hl_stat}, p-value={hl_p_value}\")"
   ]
  },
  {
   "cell_type": "markdown",
   "metadata": {},
   "source": [
    "Não há indícios de que o modelo de regressão logística não seja adequado para os dados"
   ]
  },
  {
   "cell_type": "code",
   "execution_count": null,
   "metadata": {
    "colab": {
     "base_uri": "https://localhost:8080/"
    },
    "id": "VrNRpDmAlZp8",
    "outputId": "8537f88d-41c5-4e90-90b8-7236194fc5e5"
   },
   "outputs": [],
   "source": [
    "modelo1.params"
   ]
  },
  {
   "cell_type": "markdown",
   "metadata": {
    "id": "AILkIX2mLfwe"
   },
   "source": [
    "**Observação:** como vimos, a regressão logística retornará a probabilidade de sucesso (1), logo neste caso estamos analisando a probabilidade de ocorrencia do óbito.\n",
    "\n",
    "Porém iremos verificar se ralmente é isso que ocorre:"
   ]
  },
  {
   "cell_type": "code",
   "execution_count": null,
   "metadata": {
    "colab": {
     "base_uri": "https://localhost:8080/"
    },
    "id": "g03Ge9Kbl1S8",
    "outputId": "4c55c140-a7e6-40ac-de6b-005dcbc83bbe"
   },
   "outputs": [],
   "source": [
    "modelo_prova = smf.glm(formula='cs_sexo ~ obito', data=relacao, family = sm.families.Binomial()).fit()\n",
    "print(modelo_prova.summary())"
   ]
  },
  {
   "cell_type": "markdown",
   "metadata": {
    "id": "7Sg6jHl0MvRR"
   },
   "source": [
    "Invertemos a variavel dependente com independente para verificar qual o Python está selecionando no modelo"
   ]
  },
  {
   "cell_type": "code",
   "execution_count": null,
   "metadata": {},
   "outputs": [],
   "source": [
    "print(modelo1.summary())"
   ]
  },
  {
   "cell_type": "markdown",
   "metadata": {
    "id": "dcezapCOM-hJ"
   },
   "source": [
    "Como conseguir tirar alguma informação , interpretação do modelo?\n",
    "\n",
    "Iremos utilizar o que chamamos como razão de chance com Intervalo de confiança de 95%:\n",
    "- exponencial do coeficiente.\n",
    "\n"
   ]
  },
  {
   "cell_type": "code",
   "execution_count": null,
   "metadata": {
    "colab": {
     "base_uri": "https://localhost:8080/"
    },
    "id": "ftYwjFeBkp-2",
    "outputId": "a8d96c43-6385-4b0b-de9b-716c45c5aa6d"
   },
   "outputs": [],
   "source": [
    "razao = np.exp(modelo1.params[1])\n",
    "razao"
   ]
  },
  {
   "cell_type": "markdown",
   "metadata": {},
   "source": [
    "Considerando o Odds Ratio, podemos dizer que a chance de um homem vir a falecer é 0.59 menor comparada a uma mulher."
   ]
  },
  {
   "cell_type": "markdown",
   "metadata": {},
   "source": [
    "### ROC Curve and AUC"
   ]
  },
  {
   "cell_type": "markdown",
   "metadata": {},
   "source": [
    "Avalia a capacidade do modelo de discriminar entre as classes.\n",
    "\n",
    "**Curva ROC**: Traça a taxa de verdadeiros positivos (sensibilidade) contra a taxa de falsos positivos (1 - especificidade) para vários limiares de classificação.\n",
    "\n",
    "**AUC (Área Sob a Curva)**: Um valor próximo de 1 indica excelente discriminação, enquanto um valor próximo de 0.5 indica discriminação aleatória. -\n",
    "\n",
    "**Avaliação do Modelo**: Um modelo com AUC maior é considerado melhor em discriminar entre as classes."
   ]
  },
  {
   "cell_type": "code",
   "execution_count": null,
   "metadata": {},
   "outputs": [],
   "source": [
    "from sklearn.metrics import roc_curve, auc\n",
    "\n",
    "y = relacao[\"obito\"].replace({\"nao\":0, \"sim\":1})\n",
    "\n",
    "# ROC Curve\n",
    "fpr, tpr, _ = roc_curve(y, modelo1.fittedvalues)\n",
    "roc_auc = auc(fpr, tpr)\n",
    "\n",
    "plt.figure()\n",
    "plt.plot(fpr, tpr, color='blue', lw=2, label='ROC curve (area = %0.2f)' % roc_auc)\n",
    "plt.plot([0, 1], [0, 1], color='red', lw=2, linestyle='--')\n",
    "plt.xlim([0.0, 1.0])\n",
    "plt.ylim([0.0, 1.05])\n",
    "plt.xlabel('False Positive Rate')\n",
    "plt.ylabel('True Positive Rate')\n",
    "plt.title('ROC Curve')\n",
    "plt.legend(loc=\"lower right\")\n",
    "plt.show()"
   ]
  },
  {
   "cell_type": "markdown",
   "metadata": {
    "id": "l0xOnYKNU5Vk"
   },
   "source": [
    "## **Modelo 2: Mais de uma variável independente**"
   ]
  },
  {
   "cell_type": "markdown",
   "metadata": {
    "id": "moX3DIZBVcNV"
   },
   "source": [
    "Agora queremos modelar o óbito relacionado a pessoa ter diabetes e seu gênero."
   ]
  },
  {
   "cell_type": "code",
   "execution_count": 33,
   "metadata": {
    "id": "1esnGhPBU5WE"
   },
   "outputs": [],
   "source": [
    "import statsmodels.api as sm\n",
    "import statsmodels.formula.api as smf"
   ]
  },
  {
   "cell_type": "code",
   "execution_count": null,
   "metadata": {
    "colab": {
     "base_uri": "https://localhost:8080/"
    },
    "id": "0IdZPrL1VuyO",
    "outputId": "02b23823-87f0-415f-a0bb-8b4b8be7f479"
   },
   "outputs": [],
   "source": [
    "relacao['diabetes'].value_counts()"
   ]
  },
  {
   "cell_type": "code",
   "execution_count": null,
   "metadata": {
    "id": "8BuhCgrFVu00"
   },
   "outputs": [],
   "source": [
    "import plotly.express as px\n",
    "\n",
    "px.pie(relacao, names=\"diabetes\")"
   ]
  },
  {
   "cell_type": "markdown",
   "metadata": {
    "id": "MCQJxEFhQ9Cn"
   },
   "source": [
    "Observa-se um número alto de ignorado. Nestes casos devemos tomar muito cuidado, pois temos muitos dados faltantes.\n",
    "\n",
    "Sempre é necessário avaliar se ao excluir esses dados massivos não iremos alterar a proporção do conjunto de dados."
   ]
  },
  {
   "cell_type": "code",
   "execution_count": 36,
   "metadata": {
    "id": "_RlSsRNaVu4E"
   },
   "outputs": [],
   "source": [
    "relacao2 = relacao.loc[relacao.diabetes != 'IGNORADO']"
   ]
  },
  {
   "cell_type": "code",
   "execution_count": null,
   "metadata": {
    "id": "y09Ic6pIVu6n"
   },
   "outputs": [],
   "source": [
    "px.pie(relacao2, names=\"diabetes\")"
   ]
  },
  {
   "cell_type": "markdown",
   "metadata": {
    "id": "8c7p5KCbSfLJ"
   },
   "source": [
    "Analisando a proporção do óbito **antes** da exclusão de ignorados em diabetes"
   ]
  },
  {
   "cell_type": "code",
   "execution_count": null,
   "metadata": {
    "id": "Orf5WBjzVu-F"
   },
   "outputs": [],
   "source": [
    "px.pie(relacao, names=\"obito\")"
   ]
  },
  {
   "cell_type": "markdown",
   "metadata": {
    "id": "OCvfQi56StiD"
   },
   "source": [
    "Analisando a proporção do óbito **depois** da exclusão de ignorados em diabetes"
   ]
  },
  {
   "cell_type": "code",
   "execution_count": null,
   "metadata": {
    "id": "RsrG_sbDXE7E"
   },
   "outputs": [],
   "source": [
    "# Depois da exclusão de ignorados em diabetes\n",
    "px.pie(relacao2, names=\"obito\")"
   ]
  },
  {
   "cell_type": "code",
   "execution_count": null,
   "metadata": {
    "colab": {
     "base_uri": "https://localhost:8080/"
    },
    "id": "rYNMlqodYVAq",
    "outputId": "ae92b94b-c531-42cc-83d7-e6ce8ee25136"
   },
   "outputs": [],
   "source": [
    "relacao2.dtypes"
   ]
  },
  {
   "cell_type": "code",
   "execution_count": null,
   "metadata": {
    "colab": {
     "base_uri": "https://localhost:8080/"
    },
    "id": "6J6sUCBBTfwv",
    "outputId": "8bcb7a50-1cac-4c23-8c14-c34cbdac2291"
   },
   "outputs": [],
   "source": [
    "relacao2['diabetes']"
   ]
  },
  {
   "cell_type": "code",
   "execution_count": 42,
   "metadata": {
    "colab": {
     "base_uri": "https://localhost:8080/"
    },
    "id": "XVF_rG9oXE9p",
    "outputId": "3de3ce76-53f3-4530-aa08-398719fe3093"
   },
   "outputs": [],
   "source": [
    "relacao2['diabetes'] = relacao2['diabetes'].astype('category')\n",
    "\n",
    "#relacao2.loc[:, 'diabetes'] = relacao2['diabetes'].astype('category').copy()"
   ]
  },
  {
   "cell_type": "code",
   "execution_count": null,
   "metadata": {
    "colab": {
     "base_uri": "https://localhost:8080/"
    },
    "id": "jm5y-CV4TXLx",
    "outputId": "ae294290-57f9-4e2c-bc86-ca4605beff0a"
   },
   "outputs": [],
   "source": [
    "relacao2.dtypes"
   ]
  },
  {
   "cell_type": "markdown",
   "metadata": {
    "id": "Lre0Uk5sZDEJ"
   },
   "source": [
    "### **Criação do modelo 2**"
   ]
  },
  {
   "cell_type": "markdown",
   "metadata": {
    "id": "htpfpmiGU5WG"
   },
   "source": [
    "**Análise do modelo:**\n",
    "\n",
    "\n",
    "*   Verificar a significancia dos coeficintes:\n",
    "    *   Estatisticamente significativo: p <= 0,05\n",
    "    *   Estatisticamente não é significativo: p > 0,05\n",
    "\n",
    "*   Análise da Ausência de outliers e pontos de alavancagem\n",
    "     *   Deve estar entre -3 e 3\n",
    "     \n",
    "*   Ausência de Multicolinearidade entre as variáveis independentes"
   ]
  },
  {
   "cell_type": "code",
   "execution_count": 44,
   "metadata": {
    "colab": {
     "base_uri": "https://localhost:8080/"
    },
    "id": "A9XG99H6U5WH",
    "outputId": "7aef64c5-fc4d-4178-b197-fd043bfafc4f"
   },
   "outputs": [
    {
     "name": "stdout",
     "output_type": "stream",
     "text": [
      "                      Generalized Linear Model Regression Results                       \n",
      "========================================================================================\n",
      "Dep. Variable:     ['obito[nao]', 'obito[sim]']   No. Observations:                96202\n",
      "Model:                                      GLM   Df Residuals:                    96199\n",
      "Model Family:                          Binomial   Df Model:                            2\n",
      "Link Function:                            Logit   Scale:                          1.0000\n",
      "Method:                                    IRLS   Log-Likelihood:                -48162.\n",
      "Date:                          Mon, 24 Jun 2024   Deviance:                       96323.\n",
      "Time:                                  12:17:18   Pearson chi2:                 9.60e+04\n",
      "No. Iterations:                               5   Pseudo R-squ. (CS):            0.03069\n",
      "Covariance Type:                      nonrobust                                         \n",
      "========================================================================================\n",
      "                           coef    std err          z      P>|z|      [0.025      0.975]\n",
      "----------------------------------------------------------------------------------------\n",
      "Intercept                0.9563      0.016     60.604      0.000       0.925       0.987\n",
      "cs_sexo[T.MASCULINO]    -0.3245      0.016    -20.074      0.000      -0.356      -0.293\n",
      "diabetes[T.SIM]          0.8201      0.016     50.074      0.000       0.788       0.852\n",
      "========================================================================================\n"
     ]
    }
   ],
   "source": [
    "modelo2 = smf.glm(formula='obito ~ cs_sexo + diabetes', data=relacao2, family = sm.families.Binomial()).fit()\n",
    "print(modelo2.summary())"
   ]
  },
  {
   "cell_type": "markdown",
   "metadata": {},
   "source": [
    "### Deviance Residuals\n",
    "\n",
    "**Hipótese Testada:**\n",
    "\n",
    "-   $H_0$: O modelo ajusta bem os dados.\n",
    "\n",
    "-   $H_a$: O modelo não ajusta bem os dados.\n",
    "\n",
    "**Condição de Aceitação/Rejeição:**\n",
    "\n",
    "-   A deviance total é comparada com uma distribuição qui-quadrado com $n - p$ graus de liberdade, onde $n$ é o número de observações e $p$ é o número de parâmetros no modelo.\n",
    "\n",
    "-   **Aceitação de** $H_0$: Se o valor $p$ calculado a partir da deviance é maior que $\\alpha$, aceitamos $H_0$ e concluímos que o modelo ajusta bem os dados.\n",
    "\n",
    "-   **Rejeição de** $H_0$: Se o valor $p$ é menor que $\\alpha$, rejeitamos $H_0$ e concluímos que o modelo não ajusta bem os dados.\n"
   ]
  },
  {
   "cell_type": "code",
   "execution_count": 45,
   "metadata": {},
   "outputs": [
    {
     "name": "stdout",
     "output_type": "stream",
     "text": [
      "Teste de Deviance para os Resíduos:\n",
      "Estatística de teste: 96323.3850895858\n",
      "Graus de liberdade: 96199\n",
      "Valor p: 0.3878325459977233\n"
     ]
    }
   ],
   "source": [
    "# Teste de Deviance para os Resíduos\n",
    "deviance_test_statistic = modelo2.deviance\n",
    "deviance_df = modelo2.df_resid\n",
    "deviance_p_value = 1 - stats.chi2.cdf(deviance_test_statistic, deviance_df)\n",
    "\n",
    "print(\"Teste de Deviance para os Resíduos:\")\n",
    "print(\"Estatística de teste:\", deviance_test_statistic)\n",
    "print(\"Graus de liberdade:\", deviance_df)\n",
    "print(\"Valor p:\", deviance_p_value)"
   ]
  },
  {
   "cell_type": "markdown",
   "metadata": {},
   "source": [
    "### Pearson Chi-Square Test\n",
    "\n",
    "**Hipótese Testada:**\n",
    "\n",
    "-   $H_0$: O modelo ajusta bem os dados.\n",
    "\n",
    "-   $H_a$: O modelo não ajusta bem os dados.\n",
    "\n",
    "**Condição de Aceitação/Rejeição:**\n",
    "\n",
    "-   Calcula-se a estatística do teste qui-quadrado de Pearson, que segue uma distribuição qui-quadrado com $n - p$ graus de liberdade.\n",
    "\n",
    "-   **Aceitação de** $H_0$: Se o valor $p$ é maior que $\\alpha$, aceitamos $H_0$ e concluímos que o modelo ajusta bem os dados.\n",
    "\n",
    "-   **Rejeição de** $H_0$: Se o valor $p$ é menor que $\\alpha$, rejeitamos $H_0$ e concluímos que o modelo não ajusta bem os dados.\n"
   ]
  },
  {
   "cell_type": "code",
   "execution_count": 46,
   "metadata": {},
   "outputs": [
    {
     "name": "stdout",
     "output_type": "stream",
     "text": [
      "\n",
      "Teste de Pearson para os Resíduos:\n",
      "Estatística de teste: 96035.52099280474\n",
      "Graus de liberdade: 96199\n",
      "Valor p: 0.6448276665396064\n"
     ]
    }
   ],
   "source": [
    "# Obtendo os resíduos de Pearson\n",
    "residuos_pearson = modelo2.resid_pearson\n",
    "\n",
    "# Teste de Pearson para os Resíduos\n",
    "pearson_test_statistic = np.sum(residuos_pearson**2)\n",
    "pearson_df = len(residuos_pearson) - modelo2.df_model - 1  # Graus de liberdade corrigidos\n",
    "pearson_p_value = 1 - stats.chi2.cdf(pearson_test_statistic, pearson_df)\n",
    "\n",
    "print(\"\\nTeste de Pearson para os Resíduos:\")\n",
    "print(\"Estatística de teste:\", pearson_test_statistic)\n",
    "print(\"Graus de liberdade:\", pearson_df)\n",
    "print(\"Valor p:\", pearson_p_value)\n"
   ]
  },
  {
   "cell_type": "code",
   "execution_count": 47,
   "metadata": {
    "colab": {
     "base_uri": "https://localhost:8080/"
    },
    "id": "djbU8MJRU5WJ",
    "outputId": "1b9ea804-3839-49a9-d87b-b4612c6de265"
   },
   "outputs": [
    {
     "data": {
      "text/plain": [
       "Intercept               0.956310\n",
       "cs_sexo[T.MASCULINO]   -0.324520\n",
       "diabetes[T.SIM]         0.820126\n",
       "dtype: float64"
      ]
     },
     "execution_count": 47,
     "metadata": {},
     "output_type": "execute_result"
    }
   ],
   "source": [
    "modelo2.params"
   ]
  },
  {
   "cell_type": "code",
   "execution_count": 48,
   "metadata": {
    "colab": {
     "base_uri": "https://localhost:8080/"
    },
    "id": "URYhQ41BV89O",
    "outputId": "883cddd3-c5c1-47c1-c072-15bd292f0e16"
   },
   "outputs": [
    {
     "data": {
      "text/plain": [
       "2.270785549647498"
      ]
     },
     "execution_count": 48,
     "metadata": {},
     "output_type": "execute_result"
    }
   ],
   "source": [
    "np.exp(modelo2.params[2])"
   ]
  },
  {
   "cell_type": "markdown",
   "metadata": {},
   "source": [
    "**Comparação de modelos**"
   ]
  },
  {
   "cell_type": "code",
   "execution_count": 49,
   "metadata": {},
   "outputs": [
    {
     "name": "stdout",
     "output_type": "stream",
     "text": [
      "Teste de Razão de Verossimilhança:\n",
      "Estatística de teste: 96814.34122435449\n",
      "Graus de liberdade: 1\n",
      "Valor p: 0.0\n"
     ]
    }
   ],
   "source": [
    "# Calcular a diferença nos log-likelihoods\n",
    "diff_ll = modelo2.llf - modelo1.llf\n",
    "\n",
    "# Calcular o número de graus de liberdade (número de parâmetros adicionais em modelo2)\n",
    "df = modelo2.df_model - modelo1.df_model\n",
    "\n",
    "# Realizar o teste de razão de verossimilhança\n",
    "p_value = 1 - stats.chi2.cdf(diff_ll, df)\n",
    "\n",
    "# Imprimir o resultado do teste\n",
    "print(\"Teste de Razão de Verossimilhança:\")\n",
    "print(\"Estatística de teste:\", diff_ll)\n",
    "print(\"Graus de liberdade:\", df)\n",
    "print(\"Valor p:\", p_value)"
   ]
  },
  {
   "cell_type": "markdown",
   "metadata": {},
   "source": [
    "### ROC Curve and AUC"
   ]
  },
  {
   "cell_type": "markdown",
   "metadata": {},
   "source": [
    "Avalia a capacidade do modelo de discriminar entre as classes.\n",
    "\n",
    "**Curva ROC**: Traça a taxa de verdadeiros positivos (sensibilidade) contra a taxa de falsos positivos (1 - especificidade) para vários limiares de classificação.\n",
    "\n",
    "**AUC (Área Sob a Curva)**: Um valor próximo de 1 indica excelente discriminação, enquanto um valor próximo de 0.5 indica discriminação aleatória. -\n",
    "\n",
    "**Avaliação do Modelo**: Um modelo com AUC maior é considerado melhor em discriminar entre as classes."
   ]
  },
  {
   "cell_type": "code",
   "execution_count": 50,
   "metadata": {},
   "outputs": [
    {
     "data": {
      "image/png": "[encoded data removed]",
      "text/plain": [
       "<Figure size 640x480 with 1 Axes>"
      ]
     },
     "metadata": {},
     "output_type": "display_data"
    }
   ],
   "source": [
    "from sklearn.metrics import roc_curve, auc\n",
    "\n",
    "y = relacao2[\"obito\"].replace({\"nao\":0, \"sim\":1})\n",
    "\n",
    "# ROC Curve\n",
    "fpr, tpr, _ = roc_curve(y, modelo2.fittedvalues)\n",
    "roc_auc = auc(fpr, tpr)\n",
    "\n",
    "plt.figure()\n",
    "plt.plot(fpr, tpr, color='blue', lw=2, label='ROC curve (area = %0.2f)' % roc_auc)\n",
    "plt.plot([0, 1], [0, 1], color='red', lw=2, linestyle='--')\n",
    "plt.xlim([0.0, 1.0])\n",
    "plt.ylim([0.0, 1.05])\n",
    "plt.xlabel('False Positive Rate')\n",
    "plt.ylabel('True Positive Rate')\n",
    "plt.title('ROC Curve')\n",
    "plt.legend(loc=\"lower right\")\n",
    "plt.show()"
   ]
  },
  {
   "cell_type": "markdown",
   "metadata": {
    "id": "dwB-w1zWgGD3"
   },
   "source": [
    "## **Modelo 3: Variável independente numérica**"
   ]
  },
  {
   "cell_type": "markdown",
   "metadata": {
    "id": "liUCxhiagGD-"
   },
   "source": [
    "Relação da pessoa ir a óbito com sua idade\n",
    "Vamos fazer uma análise para a cidade de Santos e testar em outra cidade"
   ]
  },
  {
   "cell_type": "code",
   "execution_count": 51,
   "metadata": {
    "id": "Lh03hJCegGEB"
   },
   "outputs": [],
   "source": [
    "relacao3 = doenca_pre.loc[doenca_pre.nome_munic == 'Santos']"
   ]
  },
  {
   "cell_type": "code",
   "execution_count": 52,
   "metadata": {
    "colab": {
     "base_uri": "https://localhost:8080/",
     "height": 226
    },
    "id": "P9Du6yXviqig",
    "outputId": "3e37ddc4-ca47-46ba-ffa2-e357cf9ea017"
   },
   "outputs": [
    {
     "data": {
      "text/html": [
       "<div>\n",
       "<style scoped>\n",
       "    .dataframe tbody tr th:only-of-type {\n",
       "        vertical-align: middle;\n",
       "    }\n",
       "\n",
       "    .dataframe tbody tr th {\n",
       "        vertical-align: top;\n",
       "    }\n",
       "\n",
       "    .dataframe thead th {\n",
       "        text-align: right;\n",
       "    }\n",
       "</style>\n",
       "<table border=\"1\" class=\"dataframe\">\n",
       "  <thead>\n",
       "    <tr style=\"text-align: right;\">\n",
       "      <th></th>\n",
       "      <th>nome_munic</th>\n",
       "      <th>codigo_ibge</th>\n",
       "      <th>idade</th>\n",
       "      <th>cs_sexo</th>\n",
       "      <th>diagnostico_covid19</th>\n",
       "      <th>data_inicio_sintomas</th>\n",
       "      <th>obito</th>\n",
       "      <th>asma</th>\n",
       "      <th>cardiopatia</th>\n",
       "      <th>diabetes</th>\n",
       "      <th>doenca_hematologica</th>\n",
       "      <th>doenca_hepatica</th>\n",
       "      <th>doenca_neurologica</th>\n",
       "      <th>doenca_renal</th>\n",
       "      <th>imunodepressao</th>\n",
       "      <th>obesidade</th>\n",
       "      <th>outros_fatores_de_risco</th>\n",
       "      <th>pneumopatia</th>\n",
       "      <th>puerpera</th>\n",
       "      <th>sindrome_de_down</th>\n",
       "    </tr>\n",
       "  </thead>\n",
       "  <tbody>\n",
       "    <tr>\n",
       "      <th>43</th>\n",
       "      <td>Santos</td>\n",
       "      <td>3548500</td>\n",
       "      <td>42.0</td>\n",
       "      <td>MASCULINO</td>\n",
       "      <td>CONFIRMADO</td>\n",
       "      <td>2020-12-02</td>\n",
       "      <td>0</td>\n",
       "      <td>IGNORADO</td>\n",
       "      <td>IGNORADO</td>\n",
       "      <td>IGNORADO</td>\n",
       "      <td>IGNORADO</td>\n",
       "      <td>IGNORADO</td>\n",
       "      <td>IGNORADO</td>\n",
       "      <td>IGNORADO</td>\n",
       "      <td>IGNORADO</td>\n",
       "      <td>IGNORADO</td>\n",
       "      <td>IGNORADO</td>\n",
       "      <td>IGNORADO</td>\n",
       "      <td>IGNORADO</td>\n",
       "      <td>IGNORADO</td>\n",
       "    </tr>\n",
       "    <tr>\n",
       "      <th>47</th>\n",
       "      <td>Santos</td>\n",
       "      <td>3548500</td>\n",
       "      <td>43.0</td>\n",
       "      <td>MASCULINO</td>\n",
       "      <td>CONFIRMADO</td>\n",
       "      <td>2020-06-03</td>\n",
       "      <td>0</td>\n",
       "      <td>IGNORADO</td>\n",
       "      <td>IGNORADO</td>\n",
       "      <td>IGNORADO</td>\n",
       "      <td>IGNORADO</td>\n",
       "      <td>IGNORADO</td>\n",
       "      <td>IGNORADO</td>\n",
       "      <td>IGNORADO</td>\n",
       "      <td>IGNORADO</td>\n",
       "      <td>IGNORADO</td>\n",
       "      <td>IGNORADO</td>\n",
       "      <td>IGNORADO</td>\n",
       "      <td>IGNORADO</td>\n",
       "      <td>IGNORADO</td>\n",
       "    </tr>\n",
       "    <tr>\n",
       "      <th>53</th>\n",
       "      <td>Santos</td>\n",
       "      <td>3548500</td>\n",
       "      <td>51.0</td>\n",
       "      <td>MASCULINO</td>\n",
       "      <td>CONFIRMADO</td>\n",
       "      <td>2020-12-06</td>\n",
       "      <td>0</td>\n",
       "      <td>IGNORADO</td>\n",
       "      <td>IGNORADO</td>\n",
       "      <td>IGNORADO</td>\n",
       "      <td>IGNORADO</td>\n",
       "      <td>IGNORADO</td>\n",
       "      <td>IGNORADO</td>\n",
       "      <td>IGNORADO</td>\n",
       "      <td>IGNORADO</td>\n",
       "      <td>IGNORADO</td>\n",
       "      <td>IGNORADO</td>\n",
       "      <td>IGNORADO</td>\n",
       "      <td>IGNORADO</td>\n",
       "      <td>IGNORADO</td>\n",
       "    </tr>\n",
       "    <tr>\n",
       "      <th>206</th>\n",
       "      <td>Santos</td>\n",
       "      <td>3548500</td>\n",
       "      <td>23.0</td>\n",
       "      <td>FEMININO</td>\n",
       "      <td>CONFIRMADO</td>\n",
       "      <td>2020-05-18</td>\n",
       "      <td>0</td>\n",
       "      <td>IGNORADO</td>\n",
       "      <td>IGNORADO</td>\n",
       "      <td>IGNORADO</td>\n",
       "      <td>IGNORADO</td>\n",
       "      <td>IGNORADO</td>\n",
       "      <td>IGNORADO</td>\n",
       "      <td>IGNORADO</td>\n",
       "      <td>IGNORADO</td>\n",
       "      <td>IGNORADO</td>\n",
       "      <td>IGNORADO</td>\n",
       "      <td>IGNORADO</td>\n",
       "      <td>IGNORADO</td>\n",
       "      <td>IGNORADO</td>\n",
       "    </tr>\n",
       "    <tr>\n",
       "      <th>267</th>\n",
       "      <td>Santos</td>\n",
       "      <td>3548500</td>\n",
       "      <td>46.0</td>\n",
       "      <td>MASCULINO</td>\n",
       "      <td>CONFIRMADO</td>\n",
       "      <td>2020-10-17</td>\n",
       "      <td>0</td>\n",
       "      <td>IGNORADO</td>\n",
       "      <td>IGNORADO</td>\n",
       "      <td>IGNORADO</td>\n",
       "      <td>IGNORADO</td>\n",
       "      <td>IGNORADO</td>\n",
       "      <td>IGNORADO</td>\n",
       "      <td>IGNORADO</td>\n",
       "      <td>IGNORADO</td>\n",
       "      <td>IGNORADO</td>\n",
       "      <td>IGNORADO</td>\n",
       "      <td>IGNORADO</td>\n",
       "      <td>IGNORADO</td>\n",
       "      <td>IGNORADO</td>\n",
       "    </tr>\n",
       "  </tbody>\n",
       "</table>\n",
       "</div>"
      ],
      "text/plain": [
       "    nome_munic  codigo_ibge  idade    cs_sexo diagnostico_covid19  \\\n",
       "43      Santos      3548500   42.0  MASCULINO          CONFIRMADO   \n",
       "47      Santos      3548500   43.0  MASCULINO          CONFIRMADO   \n",
       "53      Santos      3548500   51.0  MASCULINO          CONFIRMADO   \n",
       "206     Santos      3548500   23.0   FEMININO          CONFIRMADO   \n",
       "267     Santos      3548500   46.0  MASCULINO          CONFIRMADO   \n",
       "\n",
       "    data_inicio_sintomas  obito      asma cardiopatia  diabetes  \\\n",
       "43            2020-12-02      0  IGNORADO    IGNORADO  IGNORADO   \n",
       "47            2020-06-03      0  IGNORADO    IGNORADO  IGNORADO   \n",
       "53            2020-12-06      0  IGNORADO    IGNORADO  IGNORADO   \n",
       "206           2020-05-18      0  IGNORADO    IGNORADO  IGNORADO   \n",
       "267           2020-10-17      0  IGNORADO    IGNORADO  IGNORADO   \n",
       "\n",
       "    doenca_hematologica doenca_hepatica doenca_neurologica doenca_renal  \\\n",
       "43             IGNORADO        IGNORADO           IGNORADO     IGNORADO   \n",
       "47             IGNORADO        IGNORADO           IGNORADO     IGNORADO   \n",
       "53             IGNORADO        IGNORADO           IGNORADO     IGNORADO   \n",
       "206            IGNORADO        IGNORADO           IGNORADO     IGNORADO   \n",
       "267            IGNORADO        IGNORADO           IGNORADO     IGNORADO   \n",
       "\n",
       "    imunodepressao obesidade outros_fatores_de_risco pneumopatia  puerpera  \\\n",
       "43        IGNORADO  IGNORADO                IGNORADO    IGNORADO  IGNORADO   \n",
       "47        IGNORADO  IGNORADO                IGNORADO    IGNORADO  IGNORADO   \n",
       "53        IGNORADO  IGNORADO                IGNORADO    IGNORADO  IGNORADO   \n",
       "206       IGNORADO  IGNORADO                IGNORADO    IGNORADO  IGNORADO   \n",
       "267       IGNORADO  IGNORADO                IGNORADO    IGNORADO  IGNORADO   \n",
       "\n",
       "    sindrome_de_down  \n",
       "43          IGNORADO  \n",
       "47          IGNORADO  \n",
       "53          IGNORADO  \n",
       "206         IGNORADO  \n",
       "267         IGNORADO  "
      ]
     },
     "execution_count": 52,
     "metadata": {},
     "output_type": "execute_result"
    }
   ],
   "source": [
    "relacao3.head()"
   ]
  },
  {
   "cell_type": "markdown",
   "metadata": {
    "id": "ENdv-uxKlE7z"
   },
   "source": [
    "Verificando as dimensões da nossa tabela de dados"
   ]
  },
  {
   "cell_type": "code",
   "execution_count": 53,
   "metadata": {
    "colab": {
     "base_uri": "https://localhost:8080/"
    },
    "id": "Ac795BVHBCI2",
    "outputId": "15d305f0-c0c3-47c5-ef7b-4b81396088d5"
   },
   "outputs": [
    {
     "data": {
      "text/plain": [
       "(21728, 20)"
      ]
     },
     "execution_count": 53,
     "metadata": {},
     "output_type": "execute_result"
    }
   ],
   "source": [
    "relacao3.shape"
   ]
  },
  {
   "cell_type": "markdown",
   "metadata": {
    "id": "ncJw-tzElLk7"
   },
   "source": [
    "Verificar como reconheceu a idade"
   ]
  },
  {
   "cell_type": "code",
   "execution_count": 54,
   "metadata": {
    "colab": {
     "base_uri": "https://localhost:8080/"
    },
    "id": "LS-Js-OkgGE8",
    "outputId": "61cde014-5120-4851-d144-5dee4306a2aa"
   },
   "outputs": [
    {
     "data": {
      "text/plain": [
       "nome_munic                  object\n",
       "codigo_ibge                  int64\n",
       "idade                      float64\n",
       "cs_sexo                     object\n",
       "diagnostico_covid19         object\n",
       "data_inicio_sintomas        object\n",
       "obito                        int64\n",
       "asma                        object\n",
       "cardiopatia                 object\n",
       "diabetes                    object\n",
       "doenca_hematologica         object\n",
       "doenca_hepatica             object\n",
       "doenca_neurologica          object\n",
       "doenca_renal                object\n",
       "imunodepressao              object\n",
       "obesidade                   object\n",
       "outros_fatores_de_risco     object\n",
       "pneumopatia                 object\n",
       "puerpera                    object\n",
       "sindrome_de_down            object\n",
       "dtype: object"
      ]
     },
     "execution_count": 54,
     "metadata": {},
     "output_type": "execute_result"
    }
   ],
   "source": [
    "relacao3.dtypes"
   ]
  },
  {
   "cell_type": "markdown",
   "metadata": {
    "id": "ns3u-R1fjYZM"
   },
   "source": [
    "Valores Missing (NAN)"
   ]
  },
  {
   "cell_type": "code",
   "execution_count": 55,
   "metadata": {
    "colab": {
     "base_uri": "https://localhost:8080/"
    },
    "id": "g6IZE5GZjYZd",
    "outputId": "3cfbcfc7-9bd8-482e-bb06-402725bcd337"
   },
   "outputs": [
    {
     "data": {
      "text/plain": [
       "nome_munic                   0\n",
       "codigo_ibge                  0\n",
       "idade                       11\n",
       "cs_sexo                      0\n",
       "diagnostico_covid19          0\n",
       "data_inicio_sintomas       145\n",
       "obito                        0\n",
       "asma                         0\n",
       "cardiopatia                  0\n",
       "diabetes                     0\n",
       "doenca_hematologica          0\n",
       "doenca_hepatica              0\n",
       "doenca_neurologica           0\n",
       "doenca_renal                 0\n",
       "imunodepressao               0\n",
       "obesidade                    0\n",
       "outros_fatores_de_risco      0\n",
       "pneumopatia                  0\n",
       "puerpera                     0\n",
       "sindrome_de_down             0\n",
       "dtype: int64"
      ]
     },
     "execution_count": 55,
     "metadata": {},
     "output_type": "execute_result"
    }
   ],
   "source": [
    "relacao3.isnull().sum()"
   ]
  },
  {
   "cell_type": "markdown",
   "metadata": {
    "id": "ZCsjXLkplqSY"
   },
   "source": [
    "Excluir valores missing"
   ]
  },
  {
   "cell_type": "code",
   "execution_count": 56,
   "metadata": {
    "colab": {
     "base_uri": "https://localhost:8080/"
    },
    "id": "GDUJvXyxjYZe",
    "outputId": "42d5517f-707a-404d-c008-583ec663b738"
   },
   "outputs": [],
   "source": [
    "relacao3.dropna(subset=['idade'], inplace=True)"
   ]
  },
  {
   "cell_type": "markdown",
   "metadata": {
    "id": "OM9d9WYNlt5a"
   },
   "source": [
    "Verificando a relação entre idade e obito com um gráfico de dispersão"
   ]
  },
  {
   "cell_type": "code",
   "execution_count": 57,
   "metadata": {
    "colab": {
     "base_uri": "https://localhost:8080/",
     "height": 449
    },
    "id": "JDBoakJijv6e",
    "outputId": "5fd6d584-bc0f-46b4-9820-e7710c2a5fbb"
   },
   "outputs": [
    {
     "data": {
      "image/png": "[encoded data removed]",
      "text/plain": [
       "<Figure size 640x480 with 1 Axes>"
      ]
     },
     "metadata": {},
     "output_type": "display_data"
    }
   ],
   "source": [
    "import matplotlib.pyplot as plt\n",
    "plt.scatter(relacao3.idade,relacao3.obito)\n",
    "plt.xlabel('IDADE')\n",
    "plt.ylabel('ÓBITO')\n",
    "plt.grid(False)\n",
    "plt.show()"
   ]
  },
  {
   "cell_type": "markdown",
   "metadata": {
    "id": "1XjLWbNJp_6q"
   },
   "source": [
    "**Correlação**"
   ]
  },
  {
   "cell_type": "markdown",
   "metadata": {
    "id": "1-viGF9fmShq"
   },
   "source": [
    "Não há multicolinearidade -> correlação fraca"
   ]
  },
  {
   "cell_type": "code",
   "execution_count": 58,
   "metadata": {
    "colab": {
     "base_uri": "https://localhost:8080/"
    },
    "id": "YGKPHtEWpXL5",
    "outputId": "0ecdb141-2369-4c83-8067-a1f624e15853"
   },
   "outputs": [
    {
     "data": {
      "text/plain": [
       "array([[1.        , 0.28005415],\n",
       "       [0.28005415, 1.        ]])"
      ]
     },
     "execution_count": 58,
     "metadata": {},
     "output_type": "execute_result"
    }
   ],
   "source": [
    "np.corrcoef(relacao3.obito, relacao3.idade)"
   ]
  },
  {
   "cell_type": "markdown",
   "metadata": {
    "id": "8E9VvjhegGE9"
   },
   "source": [
    "### **Criação do modelo 3 com StatsModels**"
   ]
  },
  {
   "cell_type": "code",
   "execution_count": 59,
   "metadata": {
    "id": "oxDmc8CLgGD_"
   },
   "outputs": [],
   "source": [
    "import statsmodels.api as sm\n",
    "import statsmodels.formula.api as smf"
   ]
  },
  {
   "cell_type": "code",
   "execution_count": 60,
   "metadata": {
    "colab": {
     "base_uri": "https://localhost:8080/"
    },
    "id": "pjWRVE5xgGE-",
    "outputId": "7fea5269-581f-449b-d34a-c17a1741c412"
   },
   "outputs": [
    {
     "name": "stdout",
     "output_type": "stream",
     "text": [
      "                 Generalized Linear Model Regression Results                  \n",
      "==============================================================================\n",
      "Dep. Variable:                  obito   No. Observations:                21717\n",
      "Model:                            GLM   Df Residuals:                    21715\n",
      "Model Family:                Binomial   Df Model:                            1\n",
      "Link Function:                  Logit   Scale:                          1.0000\n",
      "Method:                          IRLS   Log-Likelihood:                -1799.5\n",
      "Date:                Mon, 24 Jun 2024   Deviance:                       3599.0\n",
      "Time:                        12:17:18   Pearson chi2:                 1.81e+04\n",
      "No. Iterations:                     8   Pseudo R-squ. (CS):            0.07611\n",
      "Covariance Type:            nonrobust                                         \n",
      "==============================================================================\n",
      "                 coef    std err          z      P>|z|      [0.025      0.975]\n",
      "------------------------------------------------------------------------------\n",
      "Intercept    -10.2259      0.243    -42.104      0.000     -10.702      -9.750\n",
      "idade          0.1114      0.003     33.260      0.000       0.105       0.118\n",
      "==============================================================================\n"
     ]
    }
   ],
   "source": [
    "modelo3 = smf.glm(formula='obito ~ idade', data=relacao3, family = sm.families.Binomial()).fit()\n",
    "print(modelo3.summary())"
   ]
  },
  {
   "cell_type": "markdown",
   "metadata": {},
   "source": [
    "**Análise do modelo:**\n",
    "\n",
    "\n",
    "*   Verificar a significancia dos coeficintes (Teste de Wald):\n",
    "    * Estatisticamente significativo: p <= 0,05\n",
    "    * Estatisticamente não é significativo: p > 0,05\n",
    "\n",
    "*   Análise de Resíduos\n",
    "    \n",
    "\n",
    "\n"
   ]
  },
  {
   "cell_type": "markdown",
   "metadata": {},
   "source": [
    "### Deviance Residuals\n",
    "\n",
    "**Hipótese Testada:**\n",
    "\n",
    "-   $H_0$: O modelo ajusta bem os dados.\n",
    "\n",
    "-   $H_a$: O modelo não ajusta bem os dados.\n",
    "\n",
    "**Condição de Aceitação/Rejeição:**\n",
    "\n",
    "-   A deviance total é comparada com uma distribuição qui-quadrado com $n - p$ graus de liberdade, onde $n$ é o número de observações e $p$ é o número de parâmetros no modelo.\n",
    "\n",
    "-   **Aceitação de** $H_0$: Se o valor $p$ calculado a partir da deviance é maior que $\\alpha$, aceitamos $H_0$ e concluímos que o modelo ajusta bem os dados.\n",
    "\n",
    "-   **Rejeição de** $H_0$: Se o valor $p$ é menor que $\\alpha$, rejeitamos $H_0$ e concluímos que o modelo não ajusta bem os dados.\n"
   ]
  },
  {
   "cell_type": "code",
   "execution_count": 61,
   "metadata": {},
   "outputs": [
    {
     "name": "stdout",
     "output_type": "stream",
     "text": [
      "Teste de Deviance para os Resíduos:\n",
      "Estatística de teste: 3598.9778376807926\n",
      "Graus de liberdade: 21715\n",
      "Valor p: 1.0\n"
     ]
    }
   ],
   "source": [
    "deviance_test_statistic = modelo3.deviance\n",
    "deviance_df = modelo3.df_resid\n",
    "deviance_p_value = 1 - stats.chi2.cdf(deviance_test_statistic, deviance_df)\n",
    "\n",
    "print(\"Teste de Deviance para os Resíduos:\")\n",
    "print(\"Estatística de teste:\", deviance_test_statistic)\n",
    "print(\"Graus de liberdade:\", deviance_df)\n",
    "print(\"Valor p:\", deviance_p_value)"
   ]
  },
  {
   "cell_type": "markdown",
   "metadata": {},
   "source": [
    "### Pearson Chi-Square Test\n",
    "\n",
    "**Hipótese Testada:**\n",
    "\n",
    "-   $H_0$: O modelo ajusta bem os dados.\n",
    "\n",
    "-   $H_a$: O modelo não ajusta bem os dados.\n",
    "\n",
    "**Condição de Aceitação/Rejeição:**\n",
    "\n",
    "-   Calcula-se a estatística do teste qui-quadrado de Pearson, que segue uma distribuição qui-quadrado com $n - p$ graus de liberdade.\n",
    "\n",
    "-   **Aceitação de** $H_0$: Se o valor $p$ é maior que $\\alpha$, aceitamos $H_0$ e concluímos que o modelo ajusta bem os dados.\n",
    "\n",
    "-   **Rejeição de** $H_0$: Se o valor $p$ é menor que $\\alpha$, rejeitamos $H_0$ e concluímos que o modelo não ajusta bem os dados.\n"
   ]
  },
  {
   "cell_type": "code",
   "execution_count": 62,
   "metadata": {},
   "outputs": [
    {
     "name": "stdout",
     "output_type": "stream",
     "text": [
      "\n",
      "Teste de Pearson para os Resíduos:\n",
      "Estatística de teste: 18102.517494493986\n",
      "Graus de liberdade: 21715\n",
      "Valor p: 1.0\n"
     ]
    }
   ],
   "source": [
    "# Obtendo os resíduos de Pearson\n",
    "residuos_pearson = modelo3.resid_pearson\n",
    "\n",
    "# Teste de Pearson para os Resíduos\n",
    "pearson_test_statistic = np.sum(residuos_pearson**2)\n",
    "pearson_df = len(residuos_pearson) - modelo3.df_model - 1  # Graus de liberdade corrigidos\n",
    "pearson_p_value = 1 - stats.chi2.cdf(pearson_test_statistic, pearson_df)\n",
    "\n",
    "print(\"\\nTeste de Pearson para os Resíduos:\")\n",
    "print(\"Estatística de teste:\", pearson_test_statistic)\n",
    "print(\"Graus de liberdade:\", pearson_df)\n",
    "print(\"Valor p:\", pearson_p_value)"
   ]
  },
  {
   "cell_type": "markdown",
   "metadata": {},
   "source": [
    "### Interpretação dos coeficientes"
   ]
  },
  {
   "cell_type": "code",
   "execution_count": 63,
   "metadata": {
    "colab": {
     "base_uri": "https://localhost:8080/"
    },
    "id": "8osUAPGzoiIY",
    "outputId": "90a29b4d-e4d8-4cb6-df46-dc7f20fd4af4"
   },
   "outputs": [
    {
     "data": {
      "text/plain": [
       "1.1178251900757508"
      ]
     },
     "execution_count": 63,
     "metadata": {},
     "output_type": "execute_result"
    }
   ],
   "source": [
    "# Razão de chance com Intervalo de confiança de 95%\n",
    "np.exp(modelo3.params[1])"
   ]
  },
  {
   "cell_type": "markdown",
   "metadata": {},
   "source": [
    "### ROC Curve and AUC"
   ]
  },
  {
   "cell_type": "markdown",
   "metadata": {},
   "source": [
    "Avalia a capacidade do modelo de discriminar entre as classes.\n",
    "\n",
    "**Curva ROC**: Traça a taxa de verdadeiros positivos (sensibilidade) contra a taxa de falsos positivos (1 - especificidade) para vários limiares de classificação.\n",
    "\n",
    "**AUC (Área Sob a Curva)**: Um valor próximo de 1 indica excelente discriminação, enquanto um valor próximo de 0.5 indica discriminação aleatória. -\n",
    "\n",
    "**Avaliação do Modelo**: Um modelo com AUC maior é considerado melhor em discriminar entre as classes."
   ]
  },
  {
   "cell_type": "code",
   "execution_count": 64,
   "metadata": {},
   "outputs": [
    {
     "data": {
      "image/png": "[encoded data removed]",
      "text/plain": [
       "<Figure size 640x480 with 1 Axes>"
      ]
     },
     "metadata": {},
     "output_type": "display_data"
    }
   ],
   "source": [
    "y = relacao3[\"obito\"].replace({\"nao\":0, \"sim\":1})\n",
    "\n",
    "# ROC Curve\n",
    "fpr, tpr, _ = roc_curve(y, modelo3.fittedvalues)\n",
    "roc_auc = auc(fpr, tpr)\n",
    "\n",
    "plt.figure()\n",
    "plt.plot(fpr, tpr, color='blue', lw=2, label='ROC curve (area = %0.2f)' % roc_auc)\n",
    "plt.plot([0, 1], [0, 1], color='red', lw=2, linestyle='--')\n",
    "plt.xlim([0.0, 1.0])\n",
    "plt.ylim([0.0, 1.05])\n",
    "plt.xlabel('False Positive Rate')\n",
    "plt.ylabel('True Positive Rate')\n",
    "plt.title('ROC Curve')\n",
    "plt.legend(loc=\"lower right\")\n",
    "plt.show()"
   ]
  },
  {
   "cell_type": "markdown",
   "metadata": {
    "id": "DeN2tKykpC46"
   },
   "source": [
    "### **Criação do modelo 3 com Sklearn**"
   ]
  },
  {
   "cell_type": "code",
   "execution_count": 65,
   "metadata": {
    "id": "7kiEBhiZqvCu"
   },
   "outputs": [],
   "source": [
    "from sklearn.linear_model import LogisticRegression"
   ]
  },
  {
   "cell_type": "code",
   "execution_count": 66,
   "metadata": {
    "colab": {
     "base_uri": "https://localhost:8080/",
     "height": 226
    },
    "id": "63k2yZlLqUEc",
    "outputId": "5765a285-704d-4c44-a8c2-83c6fef6adbb"
   },
   "outputs": [
    {
     "data": {
      "text/html": [
       "<div>\n",
       "<style scoped>\n",
       "    .dataframe tbody tr th:only-of-type {\n",
       "        vertical-align: middle;\n",
       "    }\n",
       "\n",
       "    .dataframe tbody tr th {\n",
       "        vertical-align: top;\n",
       "    }\n",
       "\n",
       "    .dataframe thead th {\n",
       "        text-align: right;\n",
       "    }\n",
       "</style>\n",
       "<table border=\"1\" class=\"dataframe\">\n",
       "  <thead>\n",
       "    <tr style=\"text-align: right;\">\n",
       "      <th></th>\n",
       "      <th>nome_munic</th>\n",
       "      <th>codigo_ibge</th>\n",
       "      <th>idade</th>\n",
       "      <th>cs_sexo</th>\n",
       "      <th>diagnostico_covid19</th>\n",
       "      <th>data_inicio_sintomas</th>\n",
       "      <th>obito</th>\n",
       "      <th>asma</th>\n",
       "      <th>cardiopatia</th>\n",
       "      <th>diabetes</th>\n",
       "      <th>doenca_hematologica</th>\n",
       "      <th>doenca_hepatica</th>\n",
       "      <th>doenca_neurologica</th>\n",
       "      <th>doenca_renal</th>\n",
       "      <th>imunodepressao</th>\n",
       "      <th>obesidade</th>\n",
       "      <th>outros_fatores_de_risco</th>\n",
       "      <th>pneumopatia</th>\n",
       "      <th>puerpera</th>\n",
       "      <th>sindrome_de_down</th>\n",
       "    </tr>\n",
       "  </thead>\n",
       "  <tbody>\n",
       "    <tr>\n",
       "      <th>43</th>\n",
       "      <td>Santos</td>\n",
       "      <td>3548500</td>\n",
       "      <td>42.0</td>\n",
       "      <td>MASCULINO</td>\n",
       "      <td>CONFIRMADO</td>\n",
       "      <td>2020-12-02</td>\n",
       "      <td>0</td>\n",
       "      <td>IGNORADO</td>\n",
       "      <td>IGNORADO</td>\n",
       "      <td>IGNORADO</td>\n",
       "      <td>IGNORADO</td>\n",
       "      <td>IGNORADO</td>\n",
       "      <td>IGNORADO</td>\n",
       "      <td>IGNORADO</td>\n",
       "      <td>IGNORADO</td>\n",
       "      <td>IGNORADO</td>\n",
       "      <td>IGNORADO</td>\n",
       "      <td>IGNORADO</td>\n",
       "      <td>IGNORADO</td>\n",
       "      <td>IGNORADO</td>\n",
       "    </tr>\n",
       "    <tr>\n",
       "      <th>47</th>\n",
       "      <td>Santos</td>\n",
       "      <td>3548500</td>\n",
       "      <td>43.0</td>\n",
       "      <td>MASCULINO</td>\n",
       "      <td>CONFIRMADO</td>\n",
       "      <td>2020-06-03</td>\n",
       "      <td>0</td>\n",
       "      <td>IGNORADO</td>\n",
       "      <td>IGNORADO</td>\n",
       "      <td>IGNORADO</td>\n",
       "      <td>IGNORADO</td>\n",
       "      <td>IGNORADO</td>\n",
       "      <td>IGNORADO</td>\n",
       "      <td>IGNORADO</td>\n",
       "      <td>IGNORADO</td>\n",
       "      <td>IGNORADO</td>\n",
       "      <td>IGNORADO</td>\n",
       "      <td>IGNORADO</td>\n",
       "      <td>IGNORADO</td>\n",
       "      <td>IGNORADO</td>\n",
       "    </tr>\n",
       "    <tr>\n",
       "      <th>53</th>\n",
       "      <td>Santos</td>\n",
       "      <td>3548500</td>\n",
       "      <td>51.0</td>\n",
       "      <td>MASCULINO</td>\n",
       "      <td>CONFIRMADO</td>\n",
       "      <td>2020-12-06</td>\n",
       "      <td>0</td>\n",
       "      <td>IGNORADO</td>\n",
       "      <td>IGNORADO</td>\n",
       "      <td>IGNORADO</td>\n",
       "      <td>IGNORADO</td>\n",
       "      <td>IGNORADO</td>\n",
       "      <td>IGNORADO</td>\n",
       "      <td>IGNORADO</td>\n",
       "      <td>IGNORADO</td>\n",
       "      <td>IGNORADO</td>\n",
       "      <td>IGNORADO</td>\n",
       "      <td>IGNORADO</td>\n",
       "      <td>IGNORADO</td>\n",
       "      <td>IGNORADO</td>\n",
       "    </tr>\n",
       "    <tr>\n",
       "      <th>206</th>\n",
       "      <td>Santos</td>\n",
       "      <td>3548500</td>\n",
       "      <td>23.0</td>\n",
       "      <td>FEMININO</td>\n",
       "      <td>CONFIRMADO</td>\n",
       "      <td>2020-05-18</td>\n",
       "      <td>0</td>\n",
       "      <td>IGNORADO</td>\n",
       "      <td>IGNORADO</td>\n",
       "      <td>IGNORADO</td>\n",
       "      <td>IGNORADO</td>\n",
       "      <td>IGNORADO</td>\n",
       "      <td>IGNORADO</td>\n",
       "      <td>IGNORADO</td>\n",
       "      <td>IGNORADO</td>\n",
       "      <td>IGNORADO</td>\n",
       "      <td>IGNORADO</td>\n",
       "      <td>IGNORADO</td>\n",
       "      <td>IGNORADO</td>\n",
       "      <td>IGNORADO</td>\n",
       "    </tr>\n",
       "    <tr>\n",
       "      <th>267</th>\n",
       "      <td>Santos</td>\n",
       "      <td>3548500</td>\n",
       "      <td>46.0</td>\n",
       "      <td>MASCULINO</td>\n",
       "      <td>CONFIRMADO</td>\n",
       "      <td>2020-10-17</td>\n",
       "      <td>0</td>\n",
       "      <td>IGNORADO</td>\n",
       "      <td>IGNORADO</td>\n",
       "      <td>IGNORADO</td>\n",
       "      <td>IGNORADO</td>\n",
       "      <td>IGNORADO</td>\n",
       "      <td>IGNORADO</td>\n",
       "      <td>IGNORADO</td>\n",
       "      <td>IGNORADO</td>\n",
       "      <td>IGNORADO</td>\n",
       "      <td>IGNORADO</td>\n",
       "      <td>IGNORADO</td>\n",
       "      <td>IGNORADO</td>\n",
       "      <td>IGNORADO</td>\n",
       "    </tr>\n",
       "  </tbody>\n",
       "</table>\n",
       "</div>"
      ],
      "text/plain": [
       "    nome_munic  codigo_ibge  idade    cs_sexo diagnostico_covid19  \\\n",
       "43      Santos      3548500   42.0  MASCULINO          CONFIRMADO   \n",
       "47      Santos      3548500   43.0  MASCULINO          CONFIRMADO   \n",
       "53      Santos      3548500   51.0  MASCULINO          CONFIRMADO   \n",
       "206     Santos      3548500   23.0   FEMININO          CONFIRMADO   \n",
       "267     Santos      3548500   46.0  MASCULINO          CONFIRMADO   \n",
       "\n",
       "    data_inicio_sintomas  obito      asma cardiopatia  diabetes  \\\n",
       "43            2020-12-02      0  IGNORADO    IGNORADO  IGNORADO   \n",
       "47            2020-06-03      0  IGNORADO    IGNORADO  IGNORADO   \n",
       "53            2020-12-06      0  IGNORADO    IGNORADO  IGNORADO   \n",
       "206           2020-05-18      0  IGNORADO    IGNORADO  IGNORADO   \n",
       "267           2020-10-17      0  IGNORADO    IGNORADO  IGNORADO   \n",
       "\n",
       "    doenca_hematologica doenca_hepatica doenca_neurologica doenca_renal  \\\n",
       "43             IGNORADO        IGNORADO           IGNORADO     IGNORADO   \n",
       "47             IGNORADO        IGNORADO           IGNORADO     IGNORADO   \n",
       "53             IGNORADO        IGNORADO           IGNORADO     IGNORADO   \n",
       "206            IGNORADO        IGNORADO           IGNORADO     IGNORADO   \n",
       "267            IGNORADO        IGNORADO           IGNORADO     IGNORADO   \n",
       "\n",
       "    imunodepressao obesidade outros_fatores_de_risco pneumopatia  puerpera  \\\n",
       "43        IGNORADO  IGNORADO                IGNORADO    IGNORADO  IGNORADO   \n",
       "47        IGNORADO  IGNORADO                IGNORADO    IGNORADO  IGNORADO   \n",
       "53        IGNORADO  IGNORADO                IGNORADO    IGNORADO  IGNORADO   \n",
       "206       IGNORADO  IGNORADO                IGNORADO    IGNORADO  IGNORADO   \n",
       "267       IGNORADO  IGNORADO                IGNORADO    IGNORADO  IGNORADO   \n",
       "\n",
       "    sindrome_de_down  \n",
       "43          IGNORADO  \n",
       "47          IGNORADO  \n",
       "53          IGNORADO  \n",
       "206         IGNORADO  \n",
       "267         IGNORADO  "
      ]
     },
     "execution_count": 66,
     "metadata": {},
     "output_type": "execute_result"
    }
   ],
   "source": [
    "relacao3.head()"
   ]
  },
  {
   "cell_type": "markdown",
   "metadata": {
    "id": "jkrxfHUbnr9d"
   },
   "source": [
    "Existe uma diferença na estruturação das informações nas bibliotecas Sklearn e Statsmodels.\n",
    "\n",
    "No Statsmodels colocamos a formula : Y ~ X\n",
    "Já no Sklearn temos que criar as variáveis independentes e dependentes.\n",
    "\n",
    "e neste caso ainda temos que realizar um transformação na variável X , para matriz."
   ]
  },
  {
   "cell_type": "code",
   "execution_count": 67,
   "metadata": {
    "id": "_Tlv5BBmqPqQ"
   },
   "outputs": [],
   "source": [
    "x = relacao3.iloc[:, 2].values\n",
    "y = relacao3.iloc[:, 6].values"
   ]
  },
  {
   "cell_type": "code",
   "execution_count": 68,
   "metadata": {
    "colab": {
     "base_uri": "https://localhost:8080/"
    },
    "id": "Q3niuqMpraO2",
    "outputId": "2ce5f635-7fb0-44cb-cd14-96911c712e2e"
   },
   "outputs": [
    {
     "data": {
      "text/plain": [
       "array([42., 43., 51., ..., 36., 75., 37.])"
      ]
     },
     "execution_count": 68,
     "metadata": {},
     "output_type": "execute_result"
    }
   ],
   "source": [
    "x"
   ]
  },
  {
   "cell_type": "code",
   "execution_count": 69,
   "metadata": {
    "colab": {
     "base_uri": "https://localhost:8080/"
    },
    "id": "lBZHg6A8rhK3",
    "outputId": "68dff0d4-a326-48c3-eb0e-208554e16aa1"
   },
   "outputs": [
    {
     "data": {
      "text/plain": [
       "array([0, 0, 0, ..., 0, 0, 0], dtype=int64)"
      ]
     },
     "execution_count": 69,
     "metadata": {},
     "output_type": "execute_result"
    }
   ],
   "source": [
    "y"
   ]
  },
  {
   "cell_type": "markdown",
   "metadata": {
    "id": "zZ3xN3yHoaQI"
   },
   "source": [
    "Transformando X para matriz :"
   ]
  },
  {
   "cell_type": "code",
   "execution_count": 70,
   "metadata": {
    "colab": {
     "base_uri": "https://localhost:8080/"
    },
    "id": "9m2Fb20zqgsw",
    "outputId": "96eda3f2-8ab2-4afd-a728-00021305fc19"
   },
   "outputs": [
    {
     "data": {
      "text/plain": [
       "array([[42.],\n",
       "       [43.],\n",
       "       [51.],\n",
       "       ...,\n",
       "       [36.],\n",
       "       [75.],\n",
       "       [37.]])"
      ]
     },
     "execution_count": 70,
     "metadata": {},
     "output_type": "execute_result"
    }
   ],
   "source": [
    "x = x.reshape(-1,1)\n",
    "x"
   ]
  },
  {
   "cell_type": "markdown",
   "metadata": {
    "id": "raMh4y1Gordd"
   },
   "source": [
    "Ajustando o modelo"
   ]
  },
  {
   "cell_type": "code",
   "execution_count": 71,
   "metadata": {
    "colab": {
     "base_uri": "https://localhost:8080/",
     "height": 75
    },
    "id": "iFVFonSJt3Gg",
    "outputId": "cccdd689-f928-45b6-c88d-40ed0bc0f790"
   },
   "outputs": [
    {
     "data": {
      "text/html": [
       "<style>#sk-container-id-1 {color: black;background-color: white;}#sk-container-id-1 pre{padding: 0;}#sk-container-id-1 div.sk-toggleable {background-color: white;}#sk-container-id-1 label.sk-toggleable__label {cursor: pointer;display: block;width: 100%;margin-bottom: 0;padding: 0.3em;box-sizing: border-box;text-align: center;}#sk-container-id-1 label.sk-toggleable__label-arrow:before {content: \"▸\";float: left;margin-right: 0.25em;color: #696969;}#sk-container-id-1 label.sk-toggleable__label-arrow:hover:before {color: black;}#sk-container-id-1 div.sk-estimator:hover label.sk-toggleable__label-arrow:before {color: black;}#sk-container-id-1 div.sk-toggleable__content {max-height: 0;max-width: 0;overflow: hidden;text-align: left;background-color: #f0f8ff;}#sk-container-id-1 div.sk-toggleable__content pre {margin: 0.2em;color: black;border-radius: 0.25em;background-color: #f0f8ff;}#sk-container-id-1 input.sk-toggleable__control:checked~div.sk-toggleable__content {max-height: 200px;max-width: 100%;overflow: auto;}#sk-container-id-1 input.sk-toggleable__control:checked~label.sk-toggleable__label-arrow:before {content: \"▾\";}#sk-container-id-1 div.sk-estimator input.sk-toggleable__control:checked~label.sk-toggleable__label {background-color: #d4ebff;}#sk-container-id-1 div.sk-label input.sk-toggleable__control:checked~label.sk-toggleable__label {background-color: #d4ebff;}#sk-container-id-1 input.sk-hidden--visually {border: 0;clip: rect(1px 1px 1px 1px);clip: rect(1px, 1px, 1px, 1px);height: 1px;margin: -1px;overflow: hidden;padding: 0;position: absolute;width: 1px;}#sk-container-id-1 div.sk-estimator {font-family: monospace;background-color: #f0f8ff;border: 1px dotted black;border-radius: 0.25em;box-sizing: border-box;margin-bottom: 0.5em;}#sk-container-id-1 div.sk-estimator:hover {background-color: #d4ebff;}#sk-container-id-1 div.sk-parallel-item::after {content: \"\";width: 100%;border-bottom: 1px solid gray;flex-grow: 1;}#sk-container-id-1 div.sk-label:hover label.sk-toggleable__label {background-color: #d4ebff;}#sk-container-id-1 div.sk-serial::before {content: \"\";position: absolute;border-left: 1px solid gray;box-sizing: border-box;top: 0;bottom: 0;left: 50%;z-index: 0;}#sk-container-id-1 div.sk-serial {display: flex;flex-direction: column;align-items: center;background-color: white;padding-right: 0.2em;padding-left: 0.2em;position: relative;}#sk-container-id-1 div.sk-item {position: relative;z-index: 1;}#sk-container-id-1 div.sk-parallel {display: flex;align-items: stretch;justify-content: center;background-color: white;position: relative;}#sk-container-id-1 div.sk-item::before, #sk-container-id-1 div.sk-parallel-item::before {content: \"\";position: absolute;border-left: 1px solid gray;box-sizing: border-box;top: 0;bottom: 0;left: 50%;z-index: -1;}#sk-container-id-1 div.sk-parallel-item {display: flex;flex-direction: column;z-index: 1;position: relative;background-color: white;}#sk-container-id-1 div.sk-parallel-item:first-child::after {align-self: flex-end;width: 50%;}#sk-container-id-1 div.sk-parallel-item:last-child::after {align-self: flex-start;width: 50%;}#sk-container-id-1 div.sk-parallel-item:only-child::after {width: 0;}#sk-container-id-1 div.sk-dashed-wrapped {border: 1px dashed gray;margin: 0 0.4em 0.5em 0.4em;box-sizing: border-box;padding-bottom: 0.4em;background-color: white;}#sk-container-id-1 div.sk-label label {font-family: monospace;font-weight: bold;display: inline-block;line-height: 1.2em;}#sk-container-id-1 div.sk-label-container {text-align: center;}#sk-container-id-1 div.sk-container {/* jupyter's `normalize.less` sets `[hidden] { display: none; }` but bootstrap.min.css set `[hidden] { display: none !important; }` so we also need the `!important` here to be able to override the default hidden behavior on the sphinx rendered scikit-learn.org. See: https://github.com/scikit-learn/scikit-learn/issues/21755 */display: inline-block !important;position: relative;}#sk-container-id-1 div.sk-text-repr-fallback {display: none;}</style><div id=\"sk-container-id-1\" class=\"sk-top-container\"><div class=\"sk-text-repr-fallback\"><pre>LogisticRegression()</pre><b>In a Jupyter environment, please rerun this cell to show the HTML representation or trust the notebook. <br />On GitHub, the HTML representation is unable to render, please try loading this page with nbviewer.org.</b></div><div class=\"sk-container\" hidden><div class=\"sk-item\"><div class=\"sk-estimator sk-toggleable\"><input class=\"sk-toggleable__control sk-hidden--visually\" id=\"sk-estimator-id-1\" type=\"checkbox\" checked><label for=\"sk-estimator-id-1\" class=\"sk-toggleable__label sk-toggleable__label-arrow\">LogisticRegression</label><div class=\"sk-toggleable__content\"><pre>LogisticRegression()</pre></div></div></div></div></div>"
      ],
      "text/plain": [
       "LogisticRegression()"
      ]
     },
     "execution_count": 71,
     "metadata": {},
     "output_type": "execute_result"
    }
   ],
   "source": [
    "modelo3s = LogisticRegression()\n",
    "modelo3s.fit(x, y)"
   ]
  },
  {
   "cell_type": "markdown",
   "metadata": {
    "id": "ZvSoMLQCpApF"
   },
   "source": [
    "Verificando o coeficiente do modelo"
   ]
  },
  {
   "cell_type": "code",
   "execution_count": 72,
   "metadata": {
    "colab": {
     "base_uri": "https://localhost:8080/"
    },
    "id": "KW-66bN4uETd",
    "outputId": "d8675210-b846-437a-f443-4b93f3044ed9"
   },
   "outputs": [
    {
     "data": {
      "text/plain": [
       "array([[0.11138299]])"
      ]
     },
     "execution_count": 72,
     "metadata": {},
     "output_type": "execute_result"
    }
   ],
   "source": [
    "modelo3s.coef_"
   ]
  },
  {
   "cell_type": "markdown",
   "metadata": {
    "id": "1sRmgTeRpC-k"
   },
   "source": [
    "Verificando o intercepto"
   ]
  },
  {
   "cell_type": "code",
   "execution_count": 73,
   "metadata": {
    "colab": {
     "base_uri": "https://localhost:8080/"
    },
    "id": "v5hD3aDjuJhq",
    "outputId": "6f145af4-a938-4bb0-e6d2-195e73dd1148"
   },
   "outputs": [
    {
     "data": {
      "text/plain": [
       "array([-10.22572933])"
      ]
     },
     "execution_count": 73,
     "metadata": {},
     "output_type": "execute_result"
    }
   ],
   "source": [
    "modelo3s.intercept_"
   ]
  },
  {
   "cell_type": "markdown",
   "metadata": {
    "id": "4VqcBd09pGcc"
   },
   "source": [
    "Razão de chance com Intervalo de confiança de 95%"
   ]
  },
  {
   "cell_type": "code",
   "execution_count": 74,
   "metadata": {
    "colab": {
     "base_uri": "https://localhost:8080/"
    },
    "id": "XFk6fWsCuPRb",
    "outputId": "4ca9410e-6f74-474d-aa21-17f1ece4820d"
   },
   "outputs": [
    {
     "data": {
      "text/plain": [
       "array([[1.11782294]])"
      ]
     },
     "execution_count": 74,
     "metadata": {},
     "output_type": "execute_result"
    }
   ],
   "source": [
    "np.exp(modelo3s.coef_)"
   ]
  },
  {
   "cell_type": "markdown",
   "metadata": {
    "id": "q1MZ_iYxuZWI"
   },
   "source": [
    "CONCLUSÃO:\n",
    "\n",
    "Para cada ano mais velho, o indivíduo aumenta em 1,12 a chance de ir a óbito"
   ]
  },
  {
   "cell_type": "markdown",
   "metadata": {
    "id": "cGdUhsVJpQ1D"
   },
   "source": [
    "Fazendo o gráfico com a função sigmoide"
   ]
  },
  {
   "cell_type": "code",
   "execution_count": 75,
   "metadata": {
    "colab": {
     "base_uri": "https://localhost:8080/",
     "height": 430
    },
    "id": "kAp6BAkMuYfE",
    "outputId": "555d4c2b-f94e-4b4f-bcec-e83d36480278"
   },
   "outputs": [
    {
     "data": {
      "image/png": "[encoded data removed]",
      "text/plain": [
       "<Figure size 640x480 with 1 Axes>"
      ]
     },
     "metadata": {},
     "output_type": "display_data"
    }
   ],
   "source": [
    "plt.scatter(x, y)\n",
    "# Geração de novos dados para gerar a função sigmoide\n",
    "x_teste = np.linspace(0, 130, 100)\n",
    "\n",
    "def model(w):   # função sigmoide\n",
    "    return 1 / (1 + np.exp(-w))\n",
    "# Geração de previsões (variável r) e visualização dos resultados\n",
    "previsao = model(x_teste * modelo3s.coef_ + modelo3s.intercept_).ravel()\n",
    "plt.plot(x_teste, previsao, color = 'red');"
   ]
  }
 ],
 "metadata": {
  "colab": {
   "provenance": []
  },
  "kernelspec": {
   "display_name": "Python 3 (ipykernel)",
   "language": "python",
   "name": "python3"
  },
  "language_info": {
   "codemirror_mode": {
    "name": "ipython",
    "version": 3
   },
   "file_extension": ".py",
   "mimetype": "text/x-python",
   "name": "python",
   "nbconvert_exporter": "python",
   "pygments_lexer": "ipython3",
   "version": "3.11.7"
  }
 },
 "nbformat": 4,
 "nbformat_minor": 4
}
