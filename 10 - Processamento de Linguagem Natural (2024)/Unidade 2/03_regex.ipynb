{
 "cells": [
  {
   "cell_type": "code",
   "execution_count": 1,
   "id": "639ee7b9",
   "metadata": {},
   "outputs": [],
   "source": [
    "import sys\n",
    "import re"
   ]
  },
  {
   "cell_type": "code",
   "execution_count": 2,
   "id": "7a0d2622",
   "metadata": {},
   "outputs": [],
   "source": [
    "texto = \"\"\"Transferência recebida de JOAO SILVA, conta 1234-5. Valor: R$1.500,00 em 2024-02-15.\n",
    "Pagamento confirmado para ALUGUEL, Conta 6789-0. Valor: R$800,00 em 2024-02-16.\n",
    "Depósito recebido, conta 5432-1. Valor: R$3.200,00 em 2024-02-17.\"\"\""
   ]
  },
  {
   "cell_type": "code",
   "execution_count": 3,
   "id": "41b8ffbf",
   "metadata": {},
   "outputs": [],
   "source": [
    "padrao = r\"transferência recebida\"\n",
    "resultado = re.match(padrao, texto)\n",
    "\n",
    "if resultado:\n",
    "    print(resultado.group())"
   ]
  },
  {
   "cell_type": "code",
   "execution_count": 4,
   "id": "c802da72",
   "metadata": {},
   "outputs": [
    {
     "name": "stdout",
     "output_type": "stream",
     "text": [
      "Transferência recebida\n"
     ]
    }
   ],
   "source": [
    "padrao = r\"[Tt]ransferência recebida\"\n",
    "resultado = re.match(padrao, texto)\n",
    "\n",
    "if resultado:\n",
    "    print(resultado.group())"
   ]
  },
  {
   "cell_type": "code",
   "execution_count": 5,
   "id": "1d5203cb",
   "metadata": {},
   "outputs": [
    {
     "name": "stdout",
     "output_type": "stream",
     "text": [
      "Transferência\n"
     ]
    }
   ],
   "source": [
    "padrao = r\"(Transferência|transferência)\"\n",
    "resultado = re.match(padrao, texto)\n",
    "\n",
    "if resultado:\n",
    "    print(resultado.group())"
   ]
  },
  {
   "cell_type": "code",
   "execution_count": 6,
   "id": "28eebf9c",
   "metadata": {},
   "outputs": [
    {
     "name": "stdout",
     "output_type": "stream",
     "text": [
      "Transferência recebida\n"
     ]
    }
   ],
   "source": [
    "padrao = r\"transferência recebida\"\n",
    "compilado = re.compile(padrao, re.IGNORECASE)\n",
    "resultado = compilado.match(texto)\n",
    "\n",
    "if resultado:\n",
    "    print(resultado.group())"
   ]
  },
  {
   "cell_type": "code",
   "execution_count": 7,
   "id": "0714ac16",
   "metadata": {},
   "outputs": [
    {
     "name": "stdout",
     "output_type": "stream",
     "text": [
      "Pagamento confirmado\n"
     ]
    }
   ],
   "source": [
    "padrao = r\"pagamento CONFIRMADO\"\n",
    "compilado = re.compile(padrao, re.IGNORECASE)\n",
    "resultado = compilado.search(texto)\n",
    "\n",
    "if resultado:\n",
    "    print(resultado.group())"
   ]
  },
  {
   "cell_type": "code",
   "execution_count": 8,
   "id": "38711607",
   "metadata": {},
   "outputs": [
    {
     "name": "stdout",
     "output_type": "stream",
     "text": [
      "['conta', 'conta']\n"
     ]
    }
   ],
   "source": [
    "padrao = r\"conta\"\n",
    "resultado = re.findall(padrao, texto)\n",
    "\n",
    "if resultado:\n",
    "    print(resultado)"
   ]
  },
  {
   "cell_type": "code",
   "execution_count": 9,
   "id": "5b842215",
   "metadata": {},
   "outputs": [
    {
     "name": "stdout",
     "output_type": "stream",
     "text": [
      "['conta', 'Conta', 'conta']\n"
     ]
    }
   ],
   "source": [
    "padrao = r\"conta\"\n",
    "resultado = re.findall(padrao, texto, re.I)\n",
    "\n",
    "if resultado:\n",
    "    print(resultado)"
   ]
  },
  {
   "cell_type": "code",
   "execution_count": 10,
   "id": "7c42fdd7",
   "metadata": {},
   "outputs": [
    {
     "name": "stdout",
     "output_type": "stream",
     "text": [
      "['JOAO']\n"
     ]
    }
   ],
   "source": [
    "padrao = r\"\\w+A\\w+\"\n",
    "resultado = re.findall(padrao, texto)\n",
    "\n",
    "if resultado:\n",
    "    print(resultado)"
   ]
  },
  {
   "cell_type": "code",
   "execution_count": 11,
   "id": "a2f07133",
   "metadata": {},
   "outputs": [
    {
     "name": "stdout",
     "output_type": "stream",
     "text": [
      "['Transferência', 'JOAO', 'Valor', 'Pagamento', 'confirmado', 'para', 'Valor', 'Valor']\n"
     ]
    }
   ],
   "source": [
    "padrao = r\"\\w+a\\w+\"\n",
    "resultado = re.findall(padrao, texto, re.I)\n",
    "\n",
    "if resultado:\n",
    "    print(resultado)"
   ]
  },
  {
   "cell_type": "code",
   "execution_count": 12,
   "id": "35eb5f2b",
   "metadata": {},
   "outputs": [
    {
     "name": "stdout",
     "output_type": "stream",
     "text": [
      "['Transferência', 'recebida', 'JOAO', 'SILVA', 'conta', 'Valor', 'Pagamento', 'confirmado', 'para', 'ALUGUEL', 'Conta', 'Valor', 'conta', 'Valor']\n"
     ]
    }
   ],
   "source": [
    "padrao = r\"\\w*a\\w*\"\n",
    "resultado = re.findall(padrao, texto, re.I)\n",
    "\n",
    "if resultado:\n",
    "    print(resultado)"
   ]
  },
  {
   "cell_type": "code",
   "execution_count": 13,
   "id": "5f06d890",
   "metadata": {},
   "outputs": [
    {
     "name": "stdout",
     "output_type": "stream",
     "text": [
      "<callable_iterator object at 0x0000016C312BAF50>\n",
      "Transferência\n",
      "Valor\n",
      "Pagamento\n",
      "confirmado\n",
      "para\n",
      "Valor\n",
      "Valor\n"
     ]
    }
   ],
   "source": [
    "padrao = r\"\\w+a\\w+\"\n",
    "resultado = re.finditer(padrao, texto)\n",
    "\n",
    "if resultado:\n",
    "    print(resultado)\n",
    "    for token in resultado:\n",
    "        print(f\"{token.group()}\")"
   ]
  },
  {
   "cell_type": "code",
   "execution_count": 14,
   "id": "92ba6a28",
   "metadata": {},
   "outputs": [
    {
     "name": "stdout",
     "output_type": "stream",
     "text": [
      "['Pagamento', 'confirmado']\n"
     ]
    }
   ],
   "source": [
    "padrao = r\"\\w+m\\w+\"\n",
    "resultado = re.findall(padrao, texto, re.I)\n",
    "\n",
    "if resultado:\n",
    "    print(resultado)"
   ]
  },
  {
   "cell_type": "code",
   "execution_count": 15,
   "id": "c32df145",
   "metadata": {},
   "outputs": [
    {
     "name": "stdout",
     "output_type": "stream",
     "text": [
      "0 Transferência recebida de JOAO SILVA, conta 1234-5. Valor: R$1.500,00 em 2024-02-15.\n",
      "1 Pagamento confirmado para ALUGUEL, Conta 6789-0. Valor: R$800,00 em 2024-02-16.\n",
      "2 Depósito recebido, conta 5432-1. Valor: R$3.200,00 em 2024-02-17.\n"
     ]
    }
   ],
   "source": [
    "separador = r\"\\n\"\n",
    "resultado = re.split(separador, texto)\n",
    "\n",
    "for ii, token in enumerate(resultado):\n",
    "    print(ii, token)"
   ]
  },
  {
   "cell_type": "code",
   "execution_count": 17,
   "id": "e760d179",
   "metadata": {},
   "outputs": [
    {
     "name": "stdout",
     "output_type": "stream",
     "text": [
      "0 Transferência recebida de JOAO SILVA, conta 1234-5. Valor: R$1.500,00 em 2024-02-15.\n",
      "Pagamento confirmado para ALUGUEL, Conta 6789-0. Valor: R$800,00 em 2024-02-16.\n",
      "Depósito recebido, conta 5432-1. Valor: R$3.200,00 em 2024-02-17.\n"
     ]
    }
   ],
   "source": [
    "separador = r\"\\s+\"\n",
    "resultado = texto.split(separador)\n",
    "\n",
    "for ii, token in enumerate(resultado):\n",
    "    print(ii, token)"
   ]
  },
  {
   "cell_type": "code",
   "execution_count": 18,
   "id": "a202f60f",
   "metadata": {},
   "outputs": [
    {
     "data": {
      "text/plain": [
       "'Transferência recebida de JOAO SILVA, conta 1234-5. Valor: (BRL)1.500,00 em 2024-02-15.\\nPagamento confirmado para ALUGUEL, Conta 6789-0. Valor: (BRL)800,00 em 2024-02-16.\\nDepósito recebido, conta 5432-1. Valor: (BRL)3.200,00 em 2024-02-17.'"
      ]
     },
     "execution_count": 18,
     "metadata": {},
     "output_type": "execute_result"
    }
   ],
   "source": [
    "re.sub(r\"R\\$\", \"(BRL)\", texto)"
   ]
  },
  {
   "cell_type": "code",
   "execution_count": 19,
   "id": "9d5233f5",
   "metadata": {},
   "outputs": [
    {
     "data": {
      "text/plain": [
       "('Transferência recebida de JOAO SILVA, conta 1234-5. Valor: (BRL)1.500,00 em 2024-02-15.\\nPagamento confirmado para ALUGUEL, Conta 6789-0. Valor: (BRL)800,00 em 2024-02-16.\\nDepósito recebido, conta 5432-1. Valor: (BRL)3.200,00 em 2024-02-17.',\n",
       " 3)"
      ]
     },
     "execution_count": 19,
     "metadata": {},
     "output_type": "execute_result"
    }
   ],
   "source": [
    "re.subn(r\"R\\$\", \"(BRL)\", texto)"
   ]
  }
 ],
 "metadata": {
  "kernelspec": {
   "display_name": "Python 3",
   "language": "python",
   "name": "python3"
  },
  "language_info": {
   "codemirror_mode": {
    "name": "ipython",
    "version": 3
   },
   "file_extension": ".py",
   "mimetype": "text/x-python",
   "name": "python",
   "nbconvert_exporter": "python",
   "pygments_lexer": "ipython3",
   "version": "3.12.9"
  }
 },
 "nbformat": 4,
 "nbformat_minor": 5
}
