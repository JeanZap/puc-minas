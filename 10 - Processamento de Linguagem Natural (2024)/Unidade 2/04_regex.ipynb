{
 "cells": [
  {
   "cell_type": "code",
   "execution_count": 1,
   "id": "c1585531",
   "metadata": {},
   "outputs": [],
   "source": [
    "padrao = r\"^[a-zA-Z0-9]+$\"\n",
    "string1=\"ABCDEFabcdef123450\"\n",
    "string2=\"*&%@#!}{\""
   ]
  },
  {
   "cell_type": "code",
   "execution_count": 2,
   "id": "eea56102",
   "metadata": {},
   "outputs": [
    {
     "name": "stdout",
     "output_type": "stream",
     "text": [
      "ABCDEFabcdef123450 Contem apenas caracteres permitidos\n",
      "*&%@#!}{ Não contem caracteres permitidos\n"
     ]
    }
   ],
   "source": [
    "import re\n",
    "\n",
    "if re.match(padrao, string1):\n",
    "    print(f\"{string1} Contem apenas caracteres permitidos\")\n",
    "else:\n",
    "    print(f\"{string1} Não contem caracteres permitidos\")\n",
    "\n",
    "if re.match(padrao, string2):\n",
    "    print(f\"{string2} Contem apenas caracteres permitidos\")\n",
    "else:\n",
    "    print(f\"{string2} Não contem caracteres permitidos\")"
   ]
  },
  {
   "cell_type": "code",
   "execution_count": 3,
   "id": "d96ae092",
   "metadata": {},
   "outputs": [
    {
     "name": "stdout",
     "output_type": "stream",
     "text": [
      "02-01-2026\n",
      "26-01-02\n"
     ]
    }
   ],
   "source": [
    "padrao = r\"(\\d{4})-(\\d{2})-(\\d{2})\"\n",
    "\n",
    "\n",
    "def converter_formato_data(data):\n",
    "    return re.sub(padrao, r\"\\3-\\2-\\1\", data)\n",
    "\n",
    "\n",
    "data1 = \"2026-01-02\"\n",
    "data2 = \"26-01-02\"\n",
    "\n",
    "print(converter_formato_data(data1))\n",
    "print(converter_formato_data(data2))"
   ]
  },
  {
   "cell_type": "code",
   "execution_count": 4,
   "id": "bf42a1f9",
   "metadata": {},
   "outputs": [
    {
     "name": "stdout",
     "output_type": "stream",
     "text": [
      "['example', 'w3resource', 'github', 'stackoverflow']\n"
     ]
    }
   ],
   "source": [
    "entradas = [\"example (.br)\", \"w3resource\", \"github (.com)\", \"stackoverflow (.com)\"]\n",
    "\n",
    "padrao = r\"\\s*\\([^)]*\\)\"\n",
    "\n",
    "saidas = [re.sub(padrao, \"\", entrada) for entrada in entradas]\n",
    "\n",
    "print(saidas)"
   ]
  },
  {
   "cell_type": "code",
   "execution_count": 5,
   "id": "cde41518",
   "metadata": {},
   "outputs": [
    {
     "name": "stdout",
     "output_type": "stream",
     "text": [
      "Vamos encontrar padrões nesta string!\n",
      "Agora é a nossa primeira prática de NLP!\n",
      "Vamos aprender a procurar padrões!\n",
      "Belo Horizonte 2020.\n"
     ]
    }
   ],
   "source": [
    "texto = \"Vamos encontrar padrões nesta string!! Agora é a nossa primeira prática de NLP!! Vamos aprender a procurar padrões!! Belo Horizonte 2020.\"\n",
    "\n",
    "padrao = r\"[.!?]\\s+\"\n",
    "\n",
    "sentencas = re.split(padrao, texto)\n",
    "\n",
    "for sentenca in sentencas:\n",
    "    print(sentenca)"
   ]
  },
  {
   "cell_type": "code",
   "execution_count": 6,
   "id": "7264a633",
   "metadata": {},
   "outputs": [
    {
     "name": "stdout",
     "output_type": "stream",
     "text": [
      "216.8.94.196\n"
     ]
    }
   ],
   "source": [
    "ip = \"216.08.094.196\"\n",
    "\n",
    "partes = ip.split(\".\")\n",
    "\n",
    "partes_sem_zero = [parte.lstrip(\"0\") or 0 for parte in partes]\n",
    "\n",
    "ip_sem_zeros = \".\".join(partes_sem_zero)\n",
    "\n",
    "print(ip_sem_zeros)"
   ]
  },
  {
   "cell_type": "code",
   "execution_count": 7,
   "id": "453ae934",
   "metadata": {},
   "outputs": [
    {
     "name": "stdout",
     "output_type": "stream",
     "text": [
      "['@jean', '@dayane', '@susana']\n"
     ]
    }
   ],
   "source": [
    "texto_twitter = \"\"\"@jean falou da @dayane. @susana tá sabendo disso\"\"\"\n",
    "\n",
    "padrao = r\"\\B@\\w+\"\n",
    "\n",
    "mensoes_twitter = re.findall(padrao, texto_twitter)\n",
    "\n",
    "print(mensoes_twitter)"
   ]
  },
  {
   "cell_type": "code",
   "execution_count": 8,
   "id": "67957b23",
   "metadata": {},
   "outputs": [
    {
     "name": "stdout",
     "output_type": "stream",
     "text": [
      "http://www.amazon.com.br/\n",
      "http://www.magazineluiza.com.br/\n"
     ]
    }
   ],
   "source": [
    "texto = \"\"\"Comprei uma impressora 3d na http://www.amazon.com.br/ e filamento na http://www.magazineluiza.com.br/\"\"\"\n",
    "\n",
    "padrao_url = r\"https?://\\S+\"\n",
    "\n",
    "urls = re.findall(padrao_url, texto)\n",
    "\n",
    "for url in urls:\n",
    "    print(url)"
   ]
  }
 ],
 "metadata": {
  "kernelspec": {
   "display_name": "Python 3",
   "language": "python",
   "name": "python3"
  },
  "language_info": {
   "codemirror_mode": {
    "name": "ipython",
    "version": 3
   },
   "file_extension": ".py",
   "mimetype": "text/x-python",
   "name": "python",
   "nbconvert_exporter": "python",
   "pygments_lexer": "ipython3",
   "version": "3.12.9"
  }
 },
 "nbformat": 4,
 "nbformat_minor": 5
}
