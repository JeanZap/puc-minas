{
 "cells": [
  {
   "cell_type": "code",
   "execution_count": 1,
   "id": "9aac7a1a",
   "metadata": {},
   "outputs": [],
   "source": [
    "# %pip install beautifulsoup4\n",
    "# %pip install pyspellchecker"
   ]
  },
  {
   "cell_type": "code",
   "execution_count": 2,
   "id": "4bb5c516",
   "metadata": {},
   "outputs": [],
   "source": [
    "from bs4 import BeautifulSoup\n",
    "from spellchecker import SpellChecker"
   ]
  },
  {
   "cell_type": "code",
   "execution_count": 3,
   "id": "d4e57d74",
   "metadata": {},
   "outputs": [],
   "source": [
    "texto_exemplo = \"\"\"\n",
    "<a href=\"https://g1.globo.com/jornal-nacional/noticia/2025/05/02/agrishow-veja-como-a-inteligencia-artificial-pode-aumentar-a-produtividade-das-lavouras.ghtml\" class=\"feed-post-link gui-color-primary gui-color-hover\" data-mrf-layout-anchor=\"\" data-mrf-link=\"https://g1.globo.com/jornal-nacional/noticia/2025/05/02/agrishow-veja-como-a-inteligencia-artificial-pode-aumentar-a-produtividade-das-lavouras.ghtml\" cmp-ltrk=\"Home - Post Padrão\" cmp-ltrk-idx=\"13\" mrfobservableid=\"61e7e479-c975-40d2-8a5a-697abe916bdc\">\n",
    "    <p elementtiming=\"text-csr\" data-mrf-layout-title=\"\">Veja como a Inteligênci Arteficial pode aumentar a prodtividade \\r\\rdas lavouras\\t\\t\\t\\n\\n </p>\n",
    "</a>\n",
    "\"\"\""
   ]
  },
  {
   "cell_type": "code",
   "execution_count": 4,
   "id": "cb680091",
   "metadata": {},
   "outputs": [
    {
     "name": "stdout",
     "output_type": "stream",
     "text": [
      "\n",
      "\n",
      "das lavouras\t\t\teligênci Arteficial pode aumentar a prodtividade \n",
      "\n",
      " \n",
      "\n",
      "\n"
     ]
    }
   ],
   "source": [
    "soup = BeautifulSoup(texto_exemplo, \"html.parser\")\n",
    "\n",
    "texto_sem_tags = soup.get_text()\n",
    "\n",
    "print(texto_sem_tags)"
   ]
  },
  {
   "cell_type": "code",
   "execution_count": 5,
   "id": "f223823d",
   "metadata": {},
   "outputs": [
    {
     "name": "stdout",
     "output_type": "stream",
     "text": [
      "Veja como a Inteligênci Arteficial pode aumentar a prodtividade das lavouras\n"
     ]
    }
   ],
   "source": [
    "texto_sem_nao_imprimiveis = \" \".join(texto_sem_tags.split())\n",
    "print(texto_sem_nao_imprimiveis)"
   ]
  },
  {
   "cell_type": "code",
   "execution_count": 6,
   "id": "e05adad6",
   "metadata": {},
   "outputs": [
    {
     "name": "stdout",
     "output_type": "stream",
     "text": [
      "ingreso ingresso {'ingresso', 'ingleso'}\n",
      "futbol futebol {'futebol'}\n"
     ]
    }
   ],
   "source": [
    "corretor = SpellChecker(language=\"pt\")\n",
    "\n",
    "erros = corretor.unknown([\"ingreso\", \"bola\", \"futbol\", \"estádio\"])\n",
    "\n",
    "for erro in erros:\n",
    "    correcao = corretor.correction(erro)\n",
    "    candidatas = corretor.candidates(erro)\n",
    "    print(erro, correcao, candidatas)"
   ]
  },
  {
   "cell_type": "code",
   "execution_count": 7,
   "id": "4fab1b59",
   "metadata": {},
   "outputs": [],
   "source": [
    "def corrija_texto(texto):\n",
    "    texto_corrigido = texto[:]\n",
    "    erros = corretor.unknown(texto_corrigido.split())\n",
    "\n",
    "    for erro in erros:\n",
    "        correcao = corretor.correction(erro)\n",
    "\n",
    "        if correcao:\n",
    "            texto_corrigido = texto_corrigido.replace(erro, correcao)\n",
    "\n",
    "    return texto_corrigido"
   ]
  },
  {
   "cell_type": "code",
   "execution_count": 8,
   "id": "da116b31",
   "metadata": {},
   "outputs": [
    {
     "name": "stdout",
     "output_type": "stream",
     "text": [
      "Veja como a Inteligênci Arteficial pode aumentar a prodtividade das lavouras Veja como a Inteligênci Arteficial pode aumentar a produtividade das lavouras\n"
     ]
    }
   ],
   "source": [
    "texto_sem_erros_ortograficos = corrija_texto(texto_sem_nao_imprimiveis)\n",
    "print(texto_sem_nao_imprimiveis, texto_sem_erros_ortograficos)"
   ]
  },
  {
   "cell_type": "code",
   "execution_count": 9,
   "id": "6c2e44ad",
   "metadata": {},
   "outputs": [
    {
     "name": "stdout",
     "output_type": "stream",
     "text": [
      "b'Veja como a Intelig\\xc3\\xaanci Arteficial pode aumentar a produtividade das lavouras'\n"
     ]
    }
   ],
   "source": [
    "texto_normalizado = texto_sem_erros_ortograficos.encode(\"utf-8\")\n",
    "print(texto_normalizado)"
   ]
  }
 ],
 "metadata": {
  "kernelspec": {
   "display_name": "Python 3",
   "language": "python",
   "name": "python3"
  },
  "language_info": {
   "codemirror_mode": {
    "name": "ipython",
    "version": 3
   },
   "file_extension": ".py",
   "mimetype": "text/x-python",
   "name": "python",
   "nbconvert_exporter": "python",
   "pygments_lexer": "ipython3",
   "version": "3.12.9"
  }
 },
 "nbformat": 4,
 "nbformat_minor": 5
}
