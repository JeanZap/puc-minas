{
  "cells": [
    {
      "cell_type": "markdown",
      "metadata": {
        "id": "R3tUTgb_kpwv"
      },
      "source": [
        "# **Aquisição de dados de bases públicas**"
      ]
    },
    {
      "cell_type": "code",
      "execution_count": null,
      "metadata": {
        "id": "NB3Mmh26EKbn"
      },
      "outputs": [],
      "source": [
        "# Instalação dos pacotes necessários.\n",
        "!pip install requests kaggle"
      ]
    },
    {
      "cell_type": "code",
      "execution_count": null,
      "metadata": {
        "id": "8ueIJQz8n-h6"
      },
      "outputs": [],
      "source": [
        "# Importação de pacotes básicos para a execução deste notebook.\n",
        "import os\n",
        "import tarfile\n",
        "\n",
        "import requests\n",
        "print(\"Pacotes importados com sucesso.\")"
      ]
    },
    {
      "cell_type": "code",
      "execution_count": null,
      "metadata": {
        "id": "Ld0Thaj9nqzn"
      },
      "outputs": [],
      "source": [
        "# Define o diretório local para armazenar as bases de dados públicas coletadas.\n",
        "corpora_caminho = \"corpora\"\n",
        "\n",
        "# Verifica se o diretório especificado já existe no ambiente do Colab.\n",
        "if not os.path.exists(corpora_caminho):\n",
        "  # Caso o diretório não exista, cria um novo diretório com o nome 'corpora'.\n",
        "  # Isso é útil para organizar os arquivos de dados baixados ou gerados.\n",
        "  os.mkdir(corpora_caminho)\n",
        "\n",
        "print(f\"Diretório {corpora_caminho} criado com sucesso.\")"
      ]
    },
    {
      "cell_type": "markdown",
      "metadata": {
        "id": "pzFkGfrRd65P"
      },
      "source": [
        "## 1. Bases de dados públicas"
      ]
    },
    {
      "cell_type": "markdown",
      "metadata": {
        "id": "q6aSu0KT4paP"
      },
      "source": [
        "## Avaliação de produtos das americanas.com"
      ]
    },
    {
      "cell_type": "markdown",
      "metadata": {
        "id": "c0tgNZXdnG07"
      },
      "source": [
        "O B2W-Reviews01 representa uma rica coleção de avaliações de produtos disponibilizadas pela Americanas.com. Este conjunto aberto abrange mais de 130 mil opiniões de usuários do e-commerce, registradas de janeiro a maio de 2018. Além das valiosas percepções sobre os produtos, o B2W-Reviews01 destaca-se por oferecer detalhes sobre os consumidores que as escreveram, englobando informações como gênero, faixa etária e localização, tornando-o um recurso inestimável para análises de comportamento de compra e tendências de mercado."
      ]
    },
    {
      "cell_type": "code",
      "execution_count": null,
      "metadata": {
        "id": "mVXqB01uDacX"
      },
      "outputs": [],
      "source": [
        "# Define a URL da base pública armazenada no Github.\n",
        "url = \"https://raw.githubusercontent.com/americanas-tech/b2w-reviews01/main/B2W-Reviews01.csv\""
      ]
    },
    {
      "cell_type": "code",
      "execution_count": null,
      "metadata": {
        "id": "woasdVNlm_gU"
      },
      "outputs": [],
      "source": [
        "# Configuração do arquivo para armazenamento da base de dados.\n",
        "americanas_arquivo = \"americanas-comentarios.csv\"\n",
        "\n",
        "# O método os.path.join cria o caminho completo para o arquivo, combinando\n",
        "# 'corpora_caminho' com o nome do arquivo 'b2w_arquivo'.\n",
        "americanas_caminho = os.path.join(corpora_caminho, americanas_arquivo)\n",
        "\n",
        "# Define o formato do arquivo. Necessário para arquivos textos\n",
        "# armazenados no raw.githubusercontent.com.\n",
        "parametros = {\"downloadformat\": \"csv\"}\n",
        "\n",
        "# Executa o download do arquivo especificado na URL com os parâmetros\n",
        "# especificados\n",
        "resposta = requests.get(url, params=parametros)\n",
        "if resposta.status_code == 200:\n",
        "  # Se o status for igual a 200 (sucesso), grava o arquivo no caminho\n",
        "  # especificado\n",
        "  with open(americanas_caminho, \"wb\") as f:\n",
        "    f.write(resposta.content)\n",
        "  print(f\"Download do {americanas_arquivo} foi concluído com sucesso!\")\n",
        "else:\n",
        "   print(f\"Falha no download do arquivo {americanas_arquivo}:\", resposta.status_code)"
      ]
    },
    {
      "cell_type": "code",
      "execution_count": null,
      "metadata": {
        "id": "57kIS4iOsTM1"
      },
      "outputs": [],
      "source": [
        "# O comando head do linux mostra as cinco primeiras linhas do arquivo gravado.\n",
        "!head -n 5 {americanas_caminho}"
      ]
    },
    {
      "cell_type": "markdown",
      "metadata": {
        "id": "sC7F4AFmJqXl"
      },
      "source": []
    },
    {
      "cell_type": "markdown",
      "metadata": {
        "id": "GESEMBtz2LOD"
      },
      "source": [
        "## Revista Fapesp\n",
        "\n",
        "Este conjunto de dados inclui coleções em duas línguas: português para inglês e português para espanhol, provenientes das edições digitais da renomada revista científica brasileira REVISTA PESQUISA FAPESP. O que chama atenção é a forma de armazenamento dessas informações: um arquivo .tar.gz. Esse método de compactação é bastante popular em sistemas operacionais Linux, conhecido por sua eficiência na redução de tamanho de arquivos, mantendo a integridade dos dados.\n"
      ]
    },
    {
      "cell_type": "markdown",
      "metadata": {
        "id": "doC1hEFsUrgs"
      },
      "source": []
    },
    {
      "cell_type": "code",
      "execution_count": null,
      "metadata": {
        "id": "53XQJi7SJtp2"
      },
      "outputs": [],
      "source": [
        "# Define a URL da base de dados pública hospedada no GitHub, apontando para o\n",
        "# arquivo 'fapesp-corpora.tar.gz' disponível no repositório do NILC.\n",
        "url = \"http://www.nilc.icmc.usp.br/nilc/tools/fapesp-corpora.tar.gz\""
      ]
    },
    {
      "cell_type": "code",
      "execution_count": null,
      "metadata": {
        "id": "tuI6JsiqWZQj"
      },
      "outputs": [],
      "source": [
        "# Define o nome do arquivo para a base de dados da FAPESP e o caminho completo\n",
        "# onde o arquivo será salvo.\n",
        "fapesp_arquivo = \"fapesp-corpora.tar.gz\"\n",
        "fapesp_caminho = os.path.join(corpora_caminho, fapesp_arquivo)\n",
        "\n",
        "# Inicia o processo de download do arquivo da base de dados da FAPESP.\n",
        "# A requisição GET é feita para a URL fornecida, com o parâmetro 'stream=True'\n",
        "# para permitir o download de grandes arquivos de forma eficiente.\n",
        "resposta = requests.get(url, stream=True)\n",
        "\n",
        "# Verifica se a requisição foi bem-sucedida (código de status HTTP 200).\n",
        "if resposta.status_code == 200:\n",
        "  # Abre o arquivo no caminho especificado em modo de escrita binária ('wb')\n",
        "  # para salvar os dados baixados.\n",
        "  with open(fapesp_caminho, \"wb\") as f:\n",
        "      for fragmento in resposta.raw.stream(2048):\n",
        "            f.write(fragmento)\n",
        "  print('Download concluído com sucesso!')\n",
        "else:\n",
        "  print('Falha no download:', resposta.status_code)"
      ]
    },
    {
      "cell_type": "code",
      "execution_count": null,
      "metadata": {
        "id": "vYa0uaiDX07m"
      },
      "outputs": [],
      "source": [
        "# Abre o arquivo tar.gz especificado pelo caminho 'fapesp_caminho' no modo de\n",
        "# leitura.\n",
        "with tarfile.open(fapesp_caminho, \"r:gz\") as tar:\n",
        "  # Extrai todo o conteúdo do arquivo tar.gz para o diretório especificado\n",
        "  # em 'corpora_path'.\n",
        "  tar.extractall(path=corpora_caminho)\n",
        "\n",
        "print(f\"Arquivo {fapesp_caminho} descompactado com sucesso!\")"
      ]
    },
    {
      "cell_type": "code",
      "execution_count": null,
      "metadata": {
        "id": "SeJ4dT34kpcM"
      },
      "outputs": [],
      "source": [
        "# Divide o nome do arquivo \"fapesp-corpora.tar.gz\" pelo ponto e pega a primeira parte\n",
        "fapesp_dir = fapesp_arquivo.split(\".\")[0]\n",
        "fapesp_dir_caminho = os.path.join(corpora_caminho, fapesp_dir)\n",
        "\n",
        "# O comando 'ls' do shell lista o conteúdo do diretório apontado\n",
        "# por 'fapesp_caminho'.\n",
        "!ls {fapesp_dir_caminho}"
      ]
    },
    {
      "cell_type": "markdown",
      "metadata": {
        "id": "wdzl-vgzbUMH"
      },
      "source": [
        "## Kaggle\n",
        "\n",
        "O Kaggle é uma plataforma online para competições de ciência de dados e aprendizado de máquina. Atualmente, essa plataforma disponibiliza mais de 601 conjuntos de dados relacionados ao processamento de linguagem natural. A maneira mais fácil de baixar essas bases é usando a sua API. Primeiro, é preciso criar um arquivo JSON com o token de acesso à API, seguindo as instruções neste [Link](https://scribehow.com/embed-preview/Create_a_New_Token_on_Kaggle__E160LnfsTU-n7vmkbVxang)."
      ]
    },
    {
      "cell_type": "code",
      "execution_count": null,
      "metadata": {
        "id": "OKhS_jUeeO0i"
      },
      "outputs": [],
      "source": [
        "# Importa a função de upload de arquivos do Google Colab\n",
        "from google.colab import files\n",
        "\n",
        "# Abre uma interface para você selecionar e fazer upload\n",
        "# de arquivos para o Colab\n",
        "files.upload()"
      ]
    },
    {
      "cell_type": "code",
      "execution_count": null,
      "metadata": {
        "id": "wgDeXUTdfYI9"
      },
      "outputs": [],
      "source": [
        "# Cria um novo diretório chamado '.kaggle' na pasta home do usuário atual\n",
        "!mkdir ~/.kaggle"
      ]
    },
    {
      "cell_type": "code",
      "execution_count": null,
      "metadata": {
        "id": "5OTiilVcfwNG"
      },
      "outputs": [],
      "source": [
        "# Copia o arquivo 'kaggle.json' para o diretório '.kaggle'\n",
        "# Este arquivo contém sua chave de API do Kaggle, necessária para acessar os datasets\n",
        "!cp kaggle.json ~/.kaggle/\n",
        "\n",
        "# Define as permissões do arquivo 'kaggle.json' para leitura pelo usuário\n",
        "# É necessário para manter sua chave de API segura\n",
        "!chmod 600 ~/.kaggle/kaggle.json"
      ]
    },
    {
      "cell_type": "code",
      "execution_count": null,
      "metadata": {
        "id": "C6eMgM4wf9DY"
      },
      "outputs": [],
      "source": [
        "# Lista os datasets disponíveis no Kaggle que contêm a palavra 'commonlit'\n",
        "!kaggle datasets list -s commonlit"
      ]
    },
    {
      "cell_type": "code",
      "execution_count": null,
      "metadata": {
        "id": "cbYDWeH_gh9d"
      },
      "outputs": [],
      "source": [
        "# Exibe os arquivos disponíveis no dataset 'commonlit-texts' de 'kononenko'\n",
        "!kaggle datasets files kononenko/commonlit-texts"
      ]
    },
    {
      "cell_type": "code",
      "execution_count": null,
      "metadata": {
        "id": "orJAucXqePxH"
      },
      "outputs": [],
      "source": [
        "# Baixa o dataset 'commonlit-texts' de 'kononenko' do Kaggle\n",
        "!kaggle datasets download kononenko/commonlit-texts"
      ]
    },
    {
      "cell_type": "code",
      "execution_count": null,
      "metadata": {
        "id": "VurQl7SvjdMO"
      },
      "outputs": [],
      "source": [
        "# Extrai os arquivos do zip 'commonlit-texts.zip' para a pasta 'corpora'\n",
        "!unzip commonlit-texts.zip -d corpora"
      ]
    },
    {
      "cell_type": "code",
      "execution_count": null,
      "metadata": {
        "id": "lWdkRvzFkEo8"
      },
      "outputs": [],
      "source": [
        "# Exibe as primeiras linhas do arquivo 'commonlit_texts.csv'\n",
        "!head -n5 corpora/commonlit_texts.csv"
      ]
    }
  ],
  "metadata": {
    "colab": {
      "provenance": []
    },
    "kernelspec": {
      "display_name": "Python 3",
      "name": "python3"
    },
    "language_info": {
      "codemirror_mode": {
        "name": "ipython",
        "version": 3
      },
      "file_extension": ".py",
      "mimetype": "text/x-python",
      "name": "python",
      "nbconvert_exporter": "python",
      "pygments_lexer": "ipython3",
      "version": "3.12.9"
    }
  },
  "nbformat": 4,
  "nbformat_minor": 0
}
