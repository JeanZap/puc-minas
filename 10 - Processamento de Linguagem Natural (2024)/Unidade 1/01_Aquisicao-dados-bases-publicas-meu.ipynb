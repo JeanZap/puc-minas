{
 "cells": [
  {
   "cell_type": "code",
   "execution_count": null,
   "id": "88b3c69c",
   "metadata": {},
   "outputs": [],
   "source": [
    "%pip install requests kaggle"
   ]
  },
  {
   "cell_type": "code",
   "execution_count": null,
   "id": "4dae2b57",
   "metadata": {},
   "outputs": [],
   "source": [
    "import os\n",
    "import tarfile\n",
    "import requests"
   ]
  },
  {
   "cell_type": "code",
   "execution_count": null,
   "id": "d202dae2",
   "metadata": {},
   "outputs": [],
   "source": [
    "corpora_caminho = 'corpora'\n",
    "\n",
    "if not os.path.exists(corpora_caminho):\n",
    "    os.mkdir(corpora_caminho)\n",
    "\n",
    "print(f\"Diretório {corpora_caminho} criado com sucesso\")"
   ]
  },
  {
   "cell_type": "code",
   "execution_count": null,
   "id": "9123ea65",
   "metadata": {},
   "outputs": [],
   "source": [
    "url = \"https://raw.githubusercontent.com/americanas-tech/b2w-reviews01/main/B2W-Reviews01.csv\""
   ]
  },
  {
   "cell_type": "code",
   "execution_count": null,
   "id": "f7582bf7",
   "metadata": {},
   "outputs": [],
   "source": [
    "def baixarArquivo(arquivo_nome):\n",
    "    arquivo_caminho = os.path.join(corpora_caminho, arquivo_nome)\n",
    "\n",
    "    parametros = {\"downloadformat\": \"csv\"}\n",
    "\n",
    "    resposta = requests.get(url, params=parametros)\n",
    "\n",
    "    if resposta.status_code == 200:\n",
    "        with open(arquivo_caminho, \"wb\") as f:\n",
    "            f.write(resposta.content)\n",
    "        print(f\"Download do {arquivo_nome} foi concluído\")\n",
    "\n",
    "        return arquivo_caminho\n",
    "    else:\n",
    "        print(\n",
    "            f\"Falha no download do arquivo {arquivo_nome}. Status code: {resposta.status_code}\"\n",
    "        )\n",
    "\n",
    "\n",
    "def streamArquivo(arquivo_nome):\n",
    "    arquivo_caminho = os.path.join(corpora_caminho, arquivo_nome)\n",
    "\n",
    "    resposta = requests.get(url, stream=True)\n",
    "\n",
    "    if resposta.status_code == 200:\n",
    "        with open(arquivo_caminho, \"wb\") as f:\n",
    "            for fragment in resposta.raw.stream(2048):\n",
    "                f.write(fragment)\n",
    "        print(f\"Download do {arquivo_nome} foi concluído\")\n",
    "\n",
    "        return arquivo_caminho\n",
    "    else:\n",
    "        print(\n",
    "            f\"Falha no download do arquivo {arquivo_nome}. Status code: {resposta.status_code}\"\n",
    "        )\n",
    "\n",
    "\n",
    "americanas_arquivo = \"americanas-comentarios.csv\"\n",
    "\n",
    "americanas_caminho = baixarArquivo(americanas_arquivo)"
   ]
  },
  {
   "cell_type": "code",
   "execution_count": null,
   "id": "7cf7e441",
   "metadata": {},
   "outputs": [],
   "source": [
    "!head -n 5 {americanas_caminho}"
   ]
  },
  {
   "cell_type": "code",
   "execution_count": null,
   "id": "e05f3705",
   "metadata": {},
   "outputs": [],
   "source": [
    "url = \"http://www.nilc.icmc.usp.br/nilc/tools/fapesp-corpora.tar.gz\""
   ]
  },
  {
   "cell_type": "code",
   "execution_count": null,
   "id": "1e4ae6fa",
   "metadata": {},
   "outputs": [],
   "source": [
    "fapesp_arquivo = \"fapesp-corpora.tar.gz\"\n",
    "\n",
    "fapesp_caminho = streamArquivo(fapesp_arquivo)"
   ]
  },
  {
   "cell_type": "code",
   "execution_count": null,
   "id": "1a464e99",
   "metadata": {},
   "outputs": [],
   "source": [
    "with tarfile.open(fapesp_caminho, \"r:gz\") as tar:\n",
    "    tar.extractall(path=corpora_caminho)\n",
    "\n",
    "print(f\"Arquivo {fapesp_arquivo} foi extraído\")"
   ]
  }
 ],
 "metadata": {
  "kernelspec": {
   "display_name": "Python 3",
   "language": "python",
   "name": "python3"
  },
  "language_info": {
   "codemirror_mode": {
    "name": "ipython",
    "version": 3
   },
   "file_extension": ".py",
   "mimetype": "text/x-python",
   "name": "python",
   "nbconvert_exporter": "python",
   "pygments_lexer": "ipython3",
   "version": "3.12.9"
  }
 },
 "nbformat": 4,
 "nbformat_minor": 5
}
