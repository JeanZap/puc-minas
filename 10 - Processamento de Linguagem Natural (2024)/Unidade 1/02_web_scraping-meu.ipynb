{
 "cells": [
  {
   "cell_type": "code",
   "execution_count": 1,
   "id": "88b3c69c",
   "metadata": {},
   "outputs": [
    {
     "name": "stdout",
     "output_type": "stream",
     "text": [
      "Requirement already satisfied: beautifulsoup4 in c:\\users\\jean_\\appdata\\local\\programs\\python\\python312\\lib\\site-packages (4.13.4)\n",
      "Requirement already satisfied: pandas in c:\\users\\jean_\\appdata\\local\\programs\\python\\python312\\lib\\site-packages (2.2.3)\n",
      "Requirement already satisfied: requests in c:\\users\\jean_\\appdata\\local\\programs\\python\\python312\\lib\\site-packages (2.32.3)\n",
      "Requirement already satisfied: soupsieve>1.2 in c:\\users\\jean_\\appdata\\local\\programs\\python\\python312\\lib\\site-packages (from beautifulsoup4) (2.7)\n",
      "Requirement already satisfied: typing-extensions>=4.0.0 in c:\\users\\jean_\\appdata\\local\\programs\\python\\python312\\lib\\site-packages (from beautifulsoup4) (4.13.2)\n",
      "Requirement already satisfied: numpy>=1.26.0 in c:\\users\\jean_\\appdata\\local\\programs\\python\\python312\\lib\\site-packages (from pandas) (2.2.5)\n",
      "Requirement already satisfied: python-dateutil>=2.8.2 in c:\\users\\jean_\\appdata\\roaming\\python\\python312\\site-packages (from pandas) (2.9.0.post0)\n",
      "Requirement already satisfied: pytz>=2020.1 in c:\\users\\jean_\\appdata\\local\\programs\\python\\python312\\lib\\site-packages (from pandas) (2025.2)\n",
      "Requirement already satisfied: tzdata>=2022.7 in c:\\users\\jean_\\appdata\\local\\programs\\python\\python312\\lib\\site-packages (from pandas) (2025.2)\n",
      "Requirement already satisfied: charset-normalizer<4,>=2 in c:\\users\\jean_\\appdata\\local\\programs\\python\\python312\\lib\\site-packages (from requests) (3.4.1)\n",
      "Requirement already satisfied: idna<4,>=2.5 in c:\\users\\jean_\\appdata\\local\\programs\\python\\python312\\lib\\site-packages (from requests) (3.10)\n",
      "Requirement already satisfied: urllib3<3,>=1.21.1 in c:\\users\\jean_\\appdata\\local\\programs\\python\\python312\\lib\\site-packages (from requests) (2.4.0)\n",
      "Requirement already satisfied: certifi>=2017.4.17 in c:\\users\\jean_\\appdata\\local\\programs\\python\\python312\\lib\\site-packages (from requests) (2025.4.26)\n",
      "Requirement already satisfied: six>=1.5 in c:\\users\\jean_\\appdata\\roaming\\python\\python312\\site-packages (from python-dateutil>=2.8.2->pandas) (1.17.0)\n",
      "Note: you may need to restart the kernel to use updated packages.\n"
     ]
    }
   ],
   "source": [
    "%pip install beautifulsoup4 pandas requests"
   ]
  },
  {
   "cell_type": "code",
   "execution_count": 2,
   "id": "ad0b9891",
   "metadata": {},
   "outputs": [],
   "source": [
    "import datetime\n",
    "def formata_msg(nivel, msg):\n",
    "    timestamp = datetime.datetime.now().strftime('%Y-%m-%d %H:%M%S')\n",
    "    return f\"[{nivel}] {timestamp} - {msg}\""
   ]
  },
  {
   "cell_type": "code",
   "execution_count": 3,
   "id": "0a98b4dc",
   "metadata": {},
   "outputs": [],
   "source": [
    "import os\n",
    "import pandas as pd\n",
    "import requests\n",
    "from bs4 import BeautifulSoup"
   ]
  },
  {
   "cell_type": "code",
   "execution_count": 4,
   "id": "fb09d164",
   "metadata": {},
   "outputs": [],
   "source": [
    "corpora_caminho = \"./corpora\"\n",
    "\n",
    "if not os.path.exists(corpora_caminho):\n",
    "    os.mkdir(corpora_caminho)"
   ]
  },
  {
   "cell_type": "code",
   "execution_count": 5,
   "id": "9f362805",
   "metadata": {},
   "outputs": [],
   "source": [
    "url = \"https://g1.globo.com\"\n",
    "\n",
    "noticias_arquivo = \"g1_noticias.csv\"\n",
    "\n",
    "noticias_caminho = os.path.join(corpora_caminho, noticias_arquivo)\n",
    "\n",
    "noticias_g1 = []\n",
    "\n",
    "resposta = requests.get(url)\n",
    "\n",
    "if resposta.status_code == 200:\n",
    "    pagina = resposta.content\n",
    "    soup = BeautifulSoup(pagina, \"html.parser\")\n",
    "    noticias = soup.find_all(\"div\", attrs={\"class\": \"feed-post-body\"})\n",
    "\n",
    "    for noticia in noticias:\n",
    "        titulo = noticia.find(\"a\", attrs={\"class\": \"feed-post-link\"})\n",
    "        subtitulo = noticia.find(\"div\", attrs={\"class\": \"feed-post-body-title\"})\n",
    "\n",
    "        if subtitulo:\n",
    "            noticias_g1.append([titulo.text, subtitulo.text, titulo[\"href\"]])\n",
    "        else:\n",
    "            noticias_g1.append([titulo.text, \"\", titulo[\"href\"]])\n",
    "\n",
    "noticias_g1_df = pd.DataFrame(noticias_g1, columns=[\"titulo\", \"subtitulo\", \"link\"])\n",
    "\n",
    "noticias_g1_df.to_csv(noticias_caminho, index=False)"
   ]
  },
  {
   "cell_type": "code",
   "execution_count": 6,
   "id": "d7809c7e",
   "metadata": {},
   "outputs": [
    {
     "data": {
      "text/html": [
       "<div>\n",
       "<style scoped>\n",
       "    .dataframe tbody tr th:only-of-type {\n",
       "        vertical-align: middle;\n",
       "    }\n",
       "\n",
       "    .dataframe tbody tr th {\n",
       "        vertical-align: top;\n",
       "    }\n",
       "\n",
       "    .dataframe thead th {\n",
       "        text-align: right;\n",
       "    }\n",
       "</style>\n",
       "<table border=\"1\" class=\"dataframe\">\n",
       "  <thead>\n",
       "    <tr style=\"text-align: right;\">\n",
       "      <th></th>\n",
       "      <th>titulo</th>\n",
       "      <th>subtitulo</th>\n",
       "      <th>link</th>\n",
       "    </tr>\n",
       "  </thead>\n",
       "  <tbody>\n",
       "    <tr>\n",
       "      <th>0</th>\n",
       "      <td>Motta deve analisar outros pedidos antes de de...</td>\n",
       "      <td>Motta deve analisar outros pedidos antes de de...</td>\n",
       "      <td>https://g1.globo.com/politica/noticia/2025/04/...</td>\n",
       "    </tr>\n",
       "    <tr>\n",
       "      <th>1</th>\n",
       "      <td>EUA e Ucrânia assinam acordo sobre terras rara...</td>\n",
       "      <td>EUA e Ucrânia assinam acordo sobre terras rara...</td>\n",
       "      <td>https://g1.globo.com/mundo/noticia/2025/04/30/...</td>\n",
       "    </tr>\n",
       "    <tr>\n",
       "      <th>2</th>\n",
       "      <td>Em pronunciamento na TV, Lula fala em discuti...</td>\n",
       "      <td>Em pronunciamento na TV, Lula fala em discuti...</td>\n",
       "      <td>https://g1.globo.com/politica/noticia/2025/04/...</td>\n",
       "    </tr>\n",
       "    <tr>\n",
       "      <th>3</th>\n",
       "      <td>PGR defende prisão domiciliar para Collor por ...</td>\n",
       "      <td>PGR defende prisão domiciliar para Collor por ...</td>\n",
       "      <td>https://g1.globo.com/politica/noticia/2025/04/...</td>\n",
       "    </tr>\n",
       "    <tr>\n",
       "      <th>4</th>\n",
       "      <td>Conheça o alfaiate do Vaticano que prepara o t...</td>\n",
       "      <td>Conheça o alfaiate do Vaticano que prepara o t...</td>\n",
       "      <td>https://g1.globo.com/jornal-nacional/noticia/2...</td>\n",
       "    </tr>\n",
       "    <tr>\n",
       "      <th>5</th>\n",
       "      <td>Sequestrador de motorista de ônibus em SP é ex...</td>\n",
       "      <td>Sequestrador de motorista de ônibus em SP é ex...</td>\n",
       "      <td>https://g1.globo.com/sp/sao-paulo/noticia/2025...</td>\n",
       "    </tr>\n",
       "    <tr>\n",
       "      <th>6</th>\n",
       "      <td>Nova imortal: Míriam Leitão é eleita para a Ac...</td>\n",
       "      <td>Nova imortal: Míriam Leitão é eleita para a Ac...</td>\n",
       "      <td>https://g1.globo.com/rj/rio-de-janeiro/noticia...</td>\n",
       "    </tr>\n",
       "    <tr>\n",
       "      <th>7</th>\n",
       "      <td>Dino manda bloquear 1,2 mil emendas destinadas...</td>\n",
       "      <td>Dino manda bloquear 1,2 mil emendas destinadas...</td>\n",
       "      <td>https://g1.globo.com/politica/noticia/2025/04/...</td>\n",
       "    </tr>\n",
       "    <tr>\n",
       "      <th>8</th>\n",
       "      <td>Senado dos EUA rejeita projeto que prevê bloqu...</td>\n",
       "      <td>Senado dos EUA rejeita projeto que prevê bloqu...</td>\n",
       "      <td>https://g1.globo.com/economia/noticia/2025/04/...</td>\n",
       "    </tr>\n",
       "  </tbody>\n",
       "</table>\n",
       "</div>"
      ],
      "text/plain": [
       "                                              titulo  \\\n",
       "0  Motta deve analisar outros pedidos antes de de...   \n",
       "1  EUA e Ucrânia assinam acordo sobre terras rara...   \n",
       "2   Em pronunciamento na TV, Lula fala em discuti...   \n",
       "3  PGR defende prisão domiciliar para Collor por ...   \n",
       "4  Conheça o alfaiate do Vaticano que prepara o t...   \n",
       "5  Sequestrador de motorista de ônibus em SP é ex...   \n",
       "6  Nova imortal: Míriam Leitão é eleita para a Ac...   \n",
       "7  Dino manda bloquear 1,2 mil emendas destinadas...   \n",
       "8  Senado dos EUA rejeita projeto que prevê bloqu...   \n",
       "\n",
       "                                           subtitulo  \\\n",
       "0  Motta deve analisar outros pedidos antes de de...   \n",
       "1  EUA e Ucrânia assinam acordo sobre terras rara...   \n",
       "2   Em pronunciamento na TV, Lula fala em discuti...   \n",
       "3  PGR defende prisão domiciliar para Collor por ...   \n",
       "4  Conheça o alfaiate do Vaticano que prepara o t...   \n",
       "5  Sequestrador de motorista de ônibus em SP é ex...   \n",
       "6  Nova imortal: Míriam Leitão é eleita para a Ac...   \n",
       "7  Dino manda bloquear 1,2 mil emendas destinadas...   \n",
       "8  Senado dos EUA rejeita projeto que prevê bloqu...   \n",
       "\n",
       "                                                link  \n",
       "0  https://g1.globo.com/politica/noticia/2025/04/...  \n",
       "1  https://g1.globo.com/mundo/noticia/2025/04/30/...  \n",
       "2  https://g1.globo.com/politica/noticia/2025/04/...  \n",
       "3  https://g1.globo.com/politica/noticia/2025/04/...  \n",
       "4  https://g1.globo.com/jornal-nacional/noticia/2...  \n",
       "5  https://g1.globo.com/sp/sao-paulo/noticia/2025...  \n",
       "6  https://g1.globo.com/rj/rio-de-janeiro/noticia...  \n",
       "7  https://g1.globo.com/politica/noticia/2025/04/...  \n",
       "8  https://g1.globo.com/economia/noticia/2025/04/...  "
      ]
     },
     "execution_count": 6,
     "metadata": {},
     "output_type": "execute_result"
    }
   ],
   "source": [
    "noticias_g1_df = pd.read_csv(noticias_caminho)\n",
    "noticias_g1_df.head(10)"
   ]
  }
 ],
 "metadata": {
  "kernelspec": {
   "display_name": "Python 3",
   "language": "python",
   "name": "python3"
  },
  "language_info": {
   "codemirror_mode": {
    "name": "ipython",
    "version": 3
   },
   "file_extension": ".py",
   "mimetype": "text/x-python",
   "name": "python",
   "nbconvert_exporter": "python",
   "pygments_lexer": "ipython3",
   "version": "3.12.9"
  }
 },
 "nbformat": 4,
 "nbformat_minor": 5
}
