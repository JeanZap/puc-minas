{
 "cells": [
  {
   "cell_type": "code",
   "execution_count": 1,
   "id": "3af0fabe",
   "metadata": {},
   "outputs": [],
   "source": [
    "import numpy as np\n",
    "import cv2"
   ]
  },
  {
   "cell_type": "code",
   "execution_count": null,
   "id": "61d881f0",
   "metadata": {},
   "outputs": [],
   "source": [
    "img = cv2.imread(\"../data/lena.png\", 0)"
   ]
  },
  {
   "cell_type": "code",
   "execution_count": null,
   "id": "7860de39",
   "metadata": {},
   "outputs": [],
   "source": [
    "def showImg(img):\n",
    "    if img is None:\n",
    "        print(\"Error: Image not loaded! Check the file path.\")\n",
    "    else:\n",
    "        cv2.imshow(\"Image\", img)\n",
    "        cv2.waitKey(0)\n",
    "        cv2.destroyAllWindows()\n",
    "\n",
    "showImg(img)"
   ]
  },
  {
   "cell_type": "code",
   "execution_count": 6,
   "id": "9668b3d0",
   "metadata": {},
   "outputs": [
    {
     "data": {
      "text/plain": [
       "True"
      ]
     },
     "execution_count": 6,
     "metadata": {},
     "output_type": "execute_result"
    }
   ],
   "source": [
    "cv2.imwrite(\"../data/lena-gray.png\", img)"
   ]
  },
  {
   "cell_type": "code",
   "execution_count": 8,
   "id": "5ab8f034",
   "metadata": {},
   "outputs": [
    {
     "name": "stdout",
     "output_type": "stream",
     "text": [
      "[114 140 230]\n"
     ]
    }
   ],
   "source": [
    "img = cv2.imread(\"../data/lena.png\")\n",
    "\n",
    "px = img[50,50]\n",
    "print(px)"
   ]
  },
  {
   "cell_type": "code",
   "execution_count": 11,
   "id": "4a196103",
   "metadata": {},
   "outputs": [
    {
     "name": "stdout",
     "output_type": "stream",
     "text": [
      "140\n"
     ]
    }
   ],
   "source": [
    "blue = img[50, 50, 1]\n",
    "print(blue)"
   ]
  },
  {
   "cell_type": "code",
   "execution_count": 13,
   "id": "246e5af0",
   "metadata": {},
   "outputs": [],
   "source": [
    "red = img[50,50,2]"
   ]
  },
  {
   "cell_type": "code",
   "execution_count": 14,
   "id": "8fb1988b",
   "metadata": {},
   "outputs": [],
   "source": [
    "img[50,50] = [255,255,255]"
   ]
  },
  {
   "cell_type": "code",
   "execution_count": 16,
   "id": "7dfe9711",
   "metadata": {},
   "outputs": [],
   "source": [
    "if img is None:\n",
    "    print(\"Error: Image not loaded! Check the file path.\")\n",
    "else:\n",
    "    cv2.imshow(\"Image\", img)\n",
    "    cv2.waitKey(0)\n",
    "    cv2.destroyAllWindows()"
   ]
  },
  {
   "cell_type": "code",
   "execution_count": 18,
   "id": "bbc4e3e7",
   "metadata": {},
   "outputs": [
    {
     "name": "stdout",
     "output_type": "stream",
     "text": [
      "100\n"
     ]
    }
   ],
   "source": [
    "img.itemset((50, 50, 2), 100)\n",
    "print(img[50,50,2])"
   ]
  },
  {
   "cell_type": "code",
   "execution_count": 19,
   "id": "0cdfbcf0",
   "metadata": {},
   "outputs": [
    {
     "data": {
      "text/plain": [
       "786432"
      ]
     },
     "execution_count": 19,
     "metadata": {},
     "output_type": "execute_result"
    }
   ],
   "source": [
    "img.size"
   ]
  },
  {
   "cell_type": "code",
   "execution_count": 20,
   "id": "fbc6ecd1",
   "metadata": {},
   "outputs": [],
   "source": [
    "b, g, r = cv2.split(img)"
   ]
  },
  {
   "cell_type": "code",
   "execution_count": 23,
   "id": "53930537",
   "metadata": {},
   "outputs": [],
   "source": [
    "img[:,:,2] = 0\n",
    "showImg(img)"
   ]
  },
  {
   "cell_type": "code",
   "execution_count": 25,
   "id": "f857a01d",
   "metadata": {},
   "outputs": [],
   "source": [
    "import imutils"
   ]
  },
  {
   "cell_type": "code",
   "execution_count": 26,
   "id": "21034ab1",
   "metadata": {},
   "outputs": [],
   "source": [
    "rotated = imutils.rotate(img,180)"
   ]
  },
  {
   "cell_type": "code",
   "execution_count": 27,
   "id": "a44218b5",
   "metadata": {},
   "outputs": [],
   "source": [
    "showImg(rotated)"
   ]
  },
  {
   "cell_type": "code",
   "execution_count": null,
   "id": "d247a37a",
   "metadata": {},
   "outputs": [],
   "source": [
    "resized = cv2.resize(img, (800, 800), interpolation=cv2.INTER_CUBIC)\n",
    "showImg(resized)"
   ]
  },
  {
   "cell_type": "code",
   "execution_count": 29,
   "id": "cc85b683",
   "metadata": {},
   "outputs": [],
   "source": [
    "img = np.zeros((512, 512, 3), np.uint8)\n",
    "img = cv2.line(img, (0, 0), (511, 511), (255, 0, 0), 5)\n",
    "showImg(img)"
   ]
  },
  {
   "cell_type": "code",
   "execution_count": 30,
   "id": "f545f03b",
   "metadata": {},
   "outputs": [],
   "source": [
    "img = cv2.rectangle(img, (384, 0), (510, 128), (0, 255, 0), (3))\n",
    "showImg(img)"
   ]
  },
  {
   "cell_type": "code",
   "execution_count": 32,
   "id": "722c7559",
   "metadata": {},
   "outputs": [],
   "source": [
    "img = np.zeros((512, 512, 3), np.uint8)\n",
    "font = cv2.FONT_HERSHEY_DUPLEX\n",
    "cv2.putText(img, \"Texto\", (10, 500), font, 4, (255, 255, 255), 5, cv2.LINE_AA)\n",
    "showImg(img)"
   ]
  },
  {
   "cell_type": "code",
   "execution_count": 33,
   "id": "bd6f8d3f",
   "metadata": {},
   "outputs": [],
   "source": [
    "import os\n",
    "import os.path"
   ]
  },
  {
   "cell_type": "code",
   "execution_count": null,
   "id": "4b5b8411",
   "metadata": {},
   "outputs": [],
   "source": []
  }
 ],
 "metadata": {
  "kernelspec": {
   "display_name": "Python 3",
   "language": "python",
   "name": "python3"
  },
  "language_info": {
   "codemirror_mode": {
    "name": "ipython",
    "version": 3
   },
   "file_extension": ".py",
   "mimetype": "text/x-python",
   "name": "python",
   "nbconvert_exporter": "python",
   "pygments_lexer": "ipython3",
   "version": "3.12.9"
  }
 },
 "nbformat": 4,
 "nbformat_minor": 5
}
