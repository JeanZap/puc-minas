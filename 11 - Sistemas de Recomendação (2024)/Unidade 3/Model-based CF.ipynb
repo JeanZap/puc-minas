{
 "cells": [
  {
   "cell_type": "markdown",
   "metadata": {},
   "source": [
    "# Model-based CF"
   ]
  },
  {
   "cell_type": "markdown",
   "metadata": {},
   "source": [
    "In this step we will implement the PureSVD, one approach of the Collaborative Filtering methods.\n",
    "For this reason, you must do:\n",
    "\n",
    "- Read the train file extracted from the dataset \n",
    "- Create a sparse matrix to them\n",
    "- Extract the eigenvalues and eigenvectors of this matrix via SVD\n",
    "- Combine these latent factors to predict an user-item rating\n",
    "- Recommend the items with the highest score"
   ]
  },
  {
   "cell_type": "code",
   "execution_count": null,
   "metadata": {},
   "outputs": [],
   "source": [
    "# import libs\n",
    "import operator\n",
    "import scipy\n",
    "import numpy as np\n",
    "import pandas as pd\n",
    "import matplotlib.pyplot as plt\n",
    "\n",
    "from scipy.sparse import csr_matrix\n",
    "from collections import OrderedDict\n",
    "from scipy.sparse import linalg \n",
    "\n",
    "# useful command\n",
    "from IPython.core.interactiveshell import InteractiveShell\n",
    "InteractiveShell.ast_node_interactivity = \"all\"\n",
    "\n",
    "plt.rcParams.update({'font.size': 14})"
   ]
  },
  {
   "cell_type": "markdown",
   "metadata": {},
   "source": [
    "## Reading train and test files"
   ]
  },
  {
   "cell_type": "markdown",
   "metadata": {},
   "source": [
    "You can read this file as you prefer. I propose to read the files by the pandas' library and create the sparse matrix after it."
   ]
  },
  {
   "cell_type": "code",
   "execution_count": null,
   "metadata": {},
   "outputs": [],
   "source": [
    "df_train = \n",
    "df_test = \n",
    "\n",
    "df_train.head()\n",
    "df_test.head()"
   ]
  },
  {
   "cell_type": "markdown",
   "metadata": {},
   "source": [
    "## Creating Sparse Matrix"
   ]
  },
  {
   "cell_type": "markdown",
   "metadata": {},
   "source": [
    "I propose to use the csr_matrix from scipy."
   ]
  },
  {
   "cell_type": "code",
   "execution_count": null,
   "metadata": {},
   "outputs": [],
   "source": [
    "# Select users, items and ratings logs (i.e., all information from each column)\n",
    "users = \n",
    "items = \n",
    "ratings = "
   ]
  },
  {
   "cell_type": "code",
   "execution_count": null,
   "metadata": {},
   "outputs": [],
   "source": [
    "# Define the matrix dimensions based on the max index related to users and items\n",
    "nb_users = max(users)\n",
    "nb_items = max(items)"
   ]
  },
  {
   "cell_type": "code",
   "execution_count": null,
   "metadata": {},
   "outputs": [],
   "source": [
    "# Creating matrix of ratings\n",
    "ratings_matrix = csr_matrix((ratings, (users, items)), shape=(nb_users+1, nb_items+1))\n",
    "\n",
    "ratings_matrix.shape"
   ]
  },
  {
   "cell_type": "markdown",
   "metadata": {},
   "source": [
    "## An useful function"
   ]
  },
  {
   "cell_type": "markdown",
   "metadata": {},
   "source": [
    "This function is used to save the recommendations in a file."
   ]
  },
  {
   "cell_type": "code",
   "execution_count": null,
   "metadata": {},
   "outputs": [],
   "source": [
    "def dumpRecommendation(recommendation, users_targets, file_name):\n",
    "    \n",
    "    file_out = open(file_name, 'w')\n",
    "    \n",
    "    # for each user target\n",
    "    for userId in users_targets:\n",
    "        issuedItems = \"\"\n",
    "        # for each item in the previous order\n",
    "        for itemId in recommendation[userId]:\n",
    "            issuedItems += str(itemId) + \":\" + str(0.0) + \",\"\n",
    "        # saving in file in correct format\n",
    "        string_s = str(userId) + \"\\t\" + \"[\" + issuedItems\n",
    "        string_out = string_s[:-1] + ']'\n",
    "        file_out.write(string_out + \"\\n\")\n",
    "    \n",
    "    file_out.close()"
   ]
  },
  {
   "cell_type": "markdown",
   "metadata": {},
   "source": [
    "## PureSVD Recommendation"
   ]
  },
  {
   "cell_type": "markdown",
   "metadata": {},
   "source": [
    "In PureSVD model, the prediction is based on the latent factors extracted via SVD.\n",
    "\n",
    "- Let a ratings matrix, we apply the SVD to extract three matrices:\n",
    "    - *U* represents the users factors *(m x f)*\n",
    "    - *S* the eigenvalues associated to each eigenvector *(f x f)*\n",
    "    - *Q* represents the items factors *(f x n)*\n",
    "\n",
    "\n",
    "- The prediction is similar to:\n",
    "$\n",
    "\\begin{align}\n",
    "\\widehat{r}_{ui} = r_u \\cdot Q^T \\cdot q_i\n",
    "\\end{align}\n",
    "$"
   ]
  },
  {
   "cell_type": "markdown",
   "metadata": {},
   "source": [
    "### Extracting users and items latent factors"
   ]
  },
  {
   "cell_type": "markdown",
   "metadata": {},
   "source": [
    "Define the number of latent factors and use it to run the SVD method."
   ]
  },
  {
   "cell_type": "code",
   "execution_count": null,
   "metadata": {},
   "outputs": [],
   "source": [
    "numFactors = "
   ]
  },
  {
   "cell_type": "code",
   "execution_count": null,
   "metadata": {},
   "outputs": [],
   "source": [
    "[U, S, Q_t] = scipy.sparse.linalg.svds(ratings_matrix, numFactors, return_singular_vectors=True)"
   ]
  },
  {
   "cell_type": "code",
   "execution_count": null,
   "metadata": {},
   "outputs": [],
   "source": [
    "U.shape\n",
    "S.shape\n",
    "Q_t.shape"
   ]
  },
  {
   "cell_type": "markdown",
   "metadata": {},
   "source": [
    "### Predicting items ratings"
   ]
  },
  {
   "cell_type": "markdown",
   "metadata": {},
   "source": [
    "Predict ratings for each user-item based on the PureSVD rules."
   ]
  },
  {
   "cell_type": "code",
   "execution_count": null,
   "metadata": {},
   "outputs": [],
   "source": [
    "prediction_matrix = csr_matrix((nb_users+1, nb_items+1))\n",
    "\n",
    "prediction_matrix.shape"
   ]
  },
  {
   "cell_type": "code",
   "execution_count": null,
   "metadata": {},
   "outputs": [],
   "source": [
    "# Realize a prediction for each user\n",
    "Q = Q_t.transpose()\n",
    "\n",
    "for u in range(ratings_matrix.shape[0]):\n",
    "    r_u = \n",
    "    # optimization: instead to do 'q_i', we can use all Q\n",
    "    aux = \n",
    "    prediction_matrix[u,:] = \n",
    "    \n",
    "prediction_matrix.shape"
   ]
  },
  {
   "cell_type": "code",
   "execution_count": null,
   "metadata": {},
   "outputs": [],
   "source": [
    "# Optimized way\n",
    "prediction_matrix = csr_matrix((nb_users+1, nb_items+1))\n",
    "\n",
    "Q = Q_t.transpose()\n",
    "\n",
    "aux_matrix = \n",
    "prediction_matrix = "
   ]
  },
  {
   "cell_type": "code",
   "execution_count": null,
   "metadata": {},
   "outputs": [],
   "source": [
    "prediction_matrix.shape"
   ]
  },
  {
   "cell_type": "markdown",
   "metadata": {},
   "source": [
    "### Recommending items"
   ]
  },
  {
   "cell_type": "markdown",
   "metadata": {},
   "source": [
    "The recommendation is related to the cosine similarity of users and items vectors."
   ]
  },
  {
   "cell_type": "code",
   "execution_count": null,
   "metadata": {},
   "outputs": [],
   "source": [
    "# Size of each recommendation\n",
    "top_k = 10"
   ]
  },
  {
   "cell_type": "code",
   "execution_count": null,
   "metadata": {},
   "outputs": [],
   "source": [
    "# Setting the recommendations for each user\n",
    "recommendation = {}\n",
    "\n",
    "for u in range(ratings_matrix.shape[0]):\n",
    "    recommendation[u] = []\n",
    "    cont = 0\n",
    "    # sorting items by relevance\n",
    "    order = np.argsort(prediction_matrix[u,:])[::-1]\n",
    "    # recommending the best items that have never seen by users\n",
    "    for i in order:\n",
    "        # recommending the top-k items \n",
    "        if (cont < top_k):\n",
    "            if ( ):\n",
    "                recommendation[u].append(i)\n",
    "                cont += 1\n",
    "        else:\n",
    "            break"
   ]
  },
  {
   "cell_type": "code",
   "execution_count": null,
   "metadata": {},
   "outputs": [],
   "source": [
    "# Save in a file\n",
    "users_targets = df_test['userId'].unique()\n",
    "dumpRecommendation(recommendation, users_targets, \"recList_PureSVD.txt\")"
   ]
  },
  {
   "cell_type": "code",
   "execution_count": null,
   "metadata": {},
   "outputs": [],
   "source": [
    "recommendation[300]\n",
    "recommendation[3000]\n",
    "recommendation[6010]"
   ]
  },
  {
   "cell_type": "code",
   "execution_count": null,
   "metadata": {},
   "outputs": [],
   "source": []
  }
 ],
 "metadata": {
  "kernelspec": {
   "display_name": "Python 3",
   "language": "python",
   "name": "python3"
  },
  "language_info": {
   "codemirror_mode": {
    "name": "ipython",
    "version": 3
   },
   "file_extension": ".py",
   "mimetype": "text/x-python",
   "name": "python",
   "nbconvert_exporter": "python",
   "pygments_lexer": "ipython3",
   "version": "3.6.9"
  }
 },
 "nbformat": 4,
 "nbformat_minor": 2
}
