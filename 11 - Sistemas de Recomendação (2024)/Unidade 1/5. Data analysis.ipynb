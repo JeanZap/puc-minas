{
 "cells": [
  {
   "cell_type": "code",
   "execution_count": null,
   "id": "2a9dfa07",
   "metadata": {},
   "outputs": [],
   "source": [
    "# import libs\n",
    "import numpy as np\n",
    "import pandas as pd\n",
    "import matplotlib.pyplot as plt\n",
    "\n",
    "# useful command\n",
    "from IPython.core.interactiveshell import InteractiveShell\n",
    "InteractiveShell.ast_node_interactivity = \"all\"\n",
    "\n",
    "plt.rcParams.update({'font.size': 14})"
   ]
  },
  {
   "cell_type": "code",
   "execution_count": null,
   "id": "4a663349",
   "metadata": {},
   "outputs": [],
   "source": [
    "df_ratings = pd.read_csv(\n",
    "    \"./Dataset/ML-1M/ratings.dat\",\n",
    "    sep=\"::\",\n",
    "    names=[\"userId\", \"itemId\", \"rating\", \"timestamp\"],\n",
    ")\n",
    "df_movies = pd.read_csv(\n",
    "    \"./Dataset/ML-1M/movies.dat\",\n",
    "    sep=\"::\",\n",
    "    names=[\"movieId\", \"title\", \"genres\"],\n",
    ")\n",
    "df_users = pd.read_csv(\n",
    "    \"./Dataset/ML-1M/users.dat\",\n",
    "    sep=\"::\",\n",
    "    names=[\"userId\", \"gender\", \"age\", \"ocupation\", \"zip-code\"],\n",
    ")"
   ]
  },
  {
   "cell_type": "code",
   "execution_count": null,
   "id": "8161dc74",
   "metadata": {},
   "outputs": [],
   "source": [
    "df_ratings.head()\n",
    "df_movies.head()\n",
    "df_users.head()"
   ]
  },
  {
   "cell_type": "code",
   "execution_count": null,
   "id": "deecfdab",
   "metadata": {},
   "outputs": [],
   "source": [
    "nb_users = len(df_ratings[\"userId\"].unique())\n",
    "nb_items = len(df_ratings[\"itemId\"].unique())\n",
    "nb_ratings = len(df_users[\"userId\"])"
   ]
  },
  {
   "cell_type": "code",
   "execution_count": null,
   "id": "fc8f0ecc",
   "metadata": {},
   "outputs": [],
   "source": [
    "sparsity = 1 - nb_ratings / float(nb_users * nb_items)\n",
    "print(sparsity)"
   ]
  },
  {
   "cell_type": "code",
   "execution_count": null,
   "id": "74d23590",
   "metadata": {},
   "outputs": [],
   "source": [
    "print(\"Basic Overview:\")\n",
    "print(\"- Nb of users:\", nb_users)\n",
    "print(\"- Nb of items:\", nb_items)\n",
    "print(\"- Nb of ratings:\", nb_ratings)\n",
    "print(\"- Data sparsity:\", sparsity)"
   ]
  },
  {
   "cell_type": "code",
   "execution_count": null,
   "id": "7cf9fb08",
   "metadata": {},
   "outputs": [],
   "source": [
    "items_consumed_by_user = df_ratings.groupby(\"userId\")[\"itemId\"].apply(list)\n",
    "\n",
    "print(items_consumed_by_user)\n",
    "print(items_consumed_by_user.shape)"
   ]
  },
  {
   "cell_type": "code",
   "execution_count": null,
   "id": "5b0730d0",
   "metadata": {},
   "outputs": [],
   "source": [
    "users_hitory = {}\n",
    "\n",
    "for itemId in df_ratings[\"userId\"].unique():\n",
    "    users_hitory[itemId] = len(items_consumed_by_user[itemId][::])"
   ]
  },
  {
   "cell_type": "code",
   "execution_count": null,
   "id": "665501f8",
   "metadata": {},
   "outputs": [],
   "source": [
    "distribution = list(users_hitory.values())\n",
    "distribution.sort()\n",
    "plt.plot(distribution, \".\", color=\"blue\")\n",
    "plt.ylabel(\"Amount of movies watched\")\n",
    "plt.xlabel(\"Users\")\n",
    "plt.show()"
   ]
  },
  {
   "cell_type": "code",
   "execution_count": null,
   "id": "af003f36",
   "metadata": {},
   "outputs": [],
   "source": [
    "users_hitory_nd = np.array([int(item) for item in users_hitory.values()])\n",
    "\n",
    "print(\"Specific information:\")\n",
    "print(\"- Mean: \", users_hitory_nd.mean())\n",
    "print(\"- Median: \", np.median(users_hitory_nd))\n",
    "print(\"- Min: \", users_hitory_nd.min())\n",
    "print(\"- Max: \", users_hitory_nd.max())\n",
    "print(\"- std: \", users_hitory_nd.std())"
   ]
  },
  {
   "cell_type": "code",
   "execution_count": null,
   "id": "57139c7f",
   "metadata": {},
   "outputs": [],
   "source": [
    "users_who_watched = df_ratings.groupby(\"itemId\")[\"userId\"].apply(list)"
   ]
  },
  {
   "cell_type": "code",
   "execution_count": null,
   "id": "e91c7dd4",
   "metadata": {},
   "outputs": [],
   "source": [
    "users_who_watched[:5]"
   ]
  },
  {
   "cell_type": "code",
   "execution_count": null,
   "id": "f4fa8791",
   "metadata": {},
   "outputs": [],
   "source": [
    "items_popularity = {}\n",
    "\n",
    "for itemId in df_ratings[\"itemId\"].unique():\n",
    "    items_popularity[itemId] = len(items_consumed_by_user[itemId][::])"
   ]
  },
  {
   "cell_type": "code",
   "execution_count": null,
   "id": "77183308",
   "metadata": {},
   "outputs": [],
   "source": [
    "distribution = list(items_popularity.values())\n",
    "distribution.sort()\n",
    "plt.plot(distribution, \".\", color=\"blue\")\n",
    "plt.ylabel(\"Amount of movies watched\")\n",
    "plt.xlabel(\"Users\")\n",
    "plt.show()"
   ]
  },
  {
   "cell_type": "code",
   "execution_count": null,
   "id": "9be817f7",
   "metadata": {},
   "outputs": [],
   "source": [
    "items_popularity_nd = np.array([int(item) for item in items_popularity.values()])\n",
    "\n",
    "print(\"Specific information:\")\n",
    "print(\"- Mean: \", items_popularity_nd.mean())\n",
    "print(\"- Median: \", np.median(items_popularity_nd))\n",
    "print(\"- Min: \", items_popularity_nd.min())\n",
    "print(\"- Max: \", items_popularity_nd.max())\n",
    "print(\"- std: \", items_popularity_nd.std())"
   ]
  }
 ],
 "metadata": {
  "kernelspec": {
   "display_name": "Python 3",
   "language": "python",
   "name": "python3"
  },
  "language_info": {
   "codemirror_mode": {
    "name": "ipython",
    "version": 3
   },
   "file_extension": ".py",
   "mimetype": "text/x-python",
   "name": "python",
   "nbconvert_exporter": "python",
   "pygments_lexer": "ipython3",
   "version": "3.12.9"
  }
 },
 "nbformat": 4,
 "nbformat_minor": 5
}
