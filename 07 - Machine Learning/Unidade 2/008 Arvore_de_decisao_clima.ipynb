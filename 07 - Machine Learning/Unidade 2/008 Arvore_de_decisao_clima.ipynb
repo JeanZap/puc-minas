{
  "cells": [
    {
      "cell_type": "markdown",
      "metadata": {
        "colab_type": "text",
        "id": "1MsOiuBgAvBy"
      },
      "source": [
        "# Árvore de decisão\n",
        "\n",
        "### Base de dados: Clima-Nominal\n",
        "\n",
        "Ilustra o funcionamento do algoritmo de árvore de decisão com dados nominais.\n",
        "\n",
        "Este notebook foi desenvolvido para o ambiente GOOGLE COLAB ([colab.research.google.com](https://colab.research.google.com)).\n",
        "\n",
        "Prof. Hugo de Paula\n",
        "\n",
        "-------------------------------------------------------------------------------\n",
        "\n",
        "WEATHER.NOMINAL, Weka\n",
        "\n",
        "http://storm.cis.fordham.edu/~gweiss/data-mining/datasets.html\n",
        "\n",
        "DESCRIÇÃO DOS ATRIBUTOS:\n",
        "\n",
        "1. Aparência {Ensolarado, Nublado, Chuvoso}\n",
        "2. Temperatura {Quente, Moderado, Frio}\n",
        "3. Umidade {Alta, Normal}\n",
        "4. Vento {Fraco, Forte}\n",
        "5. Jogar {Sim, Não}\n",
        "\n",
        "\n",
        "\n"
      ]
    },
    {
      "cell_type": "markdown",
      "metadata": {
        "colab_type": "text",
        "id": "u76P84fufg5W"
      },
      "source": [
        "### Inicialização da plataforma do Colab.\n",
        "\n",
        "Essa seção instala e carrega os pacotes necessários para a execução do código."
      ]
    },
    {
      "cell_type": "code",
      "execution_count": null,
      "metadata": {
        "colab": {},
        "colab_type": "code",
        "id": "OwXOcJUaTV-I"
      },
      "outputs": [],
      "source": [
        "# !pip install pydotplus --break-system-packages\n",
        "# !pip install dtreeviz --break-system-packages"
      ]
    },
    {
      "cell_type": "code",
      "execution_count": 8,
      "metadata": {
        "colab": {},
        "colab_type": "code",
        "id": "PDVQg6ZJ_WXn"
      },
      "outputs": [],
      "source": [
        "import pandas as pd\n",
        "from sklearn.tree import DecisionTreeClassifier\n",
        "from sklearn.metrics import accuracy_score, classification_report, confusion_matrix\n",
        "from sklearn.feature_extraction import DictVectorizer\n",
        "from sklearn.preprocessing import LabelEncoder\n",
        "from sklearn import tree\n",
        "\n",
        "\n",
        "# WEATHER.NOMINAL, Weka\n",
        "# http://storm.cis.fordham.edu/~gweiss/data-mining/datasets.html\n",
        "# DESCRIÇÃO DOS ATRIBUTOS:\n",
        "# Aparência {Ensolarado, Nublado, Chuvoso}\n",
        "# Temperatura {Quente, Moderado, Frio}\n",
        "# Umidade {Alta, Normal}\n",
        "# Vento {Fraco, Forte}\n",
        "# Jogar {Sim, Não}\n",
        "\n",
        "# from google.colab import files\n",
        "# uploaded = files.upload()\n",
        "\n"
      ]
    },
    {
      "cell_type": "markdown",
      "metadata": {
        "colab_type": "text",
        "id": "A46kV4VTA_la"
      },
      "source": [
        "### Transformação de dados\n",
        "\n",
        "Inicialmente os atributos são convertidos para o formato de dicionário.\n",
        "Em seguida os atributos são transformados em binário, para cada par (key, value) do dicionário.\n",
        "\n",
        "<code>DictVectorizer(dtype=class ‘numpy.float64’, separator=’=’, sparse=True, sort=True)</code>\n",
        "\n",
        "A classe é convertida para labels únicos sequenciais.\n",
        "\n",
        "<code>\n",
        " le = preprocessing.LabelEncoder()\n",
        "  \n",
        " le.fit(dados)\n",
        "</code>\n"
      ]
    },
    {
      "cell_type": "code",
      "execution_count": null,
      "metadata": {
        "colab": {},
        "colab_type": "code",
        "id": "pQzY_XVp__pZ"
      },
      "outputs": [],
      "source": [
        "clima_nominal = pd.read_csv(\"./databases/clima.csv\") \n",
        "print(\"\\nDimensões: {0}\".format(clima_nominal.shape))\n",
        "print(\"\\nCampos: {0}\".format(clima_nominal.keys()))\n",
        "print(clima_nominal.describe(), sep='\\n')\n",
        "\n",
        "X_dict = clima_nominal.iloc[:,0:4].T.to_dict().values()\n",
        "vect = DictVectorizer(sparse=False)\n",
        "X_train = vect.fit_transform(X_dict)\n",
        "\n",
        "le = LabelEncoder()\n",
        "y_train = le.fit_transform(clima_nominal.iloc[:,4])\n",
        "\n",
        "# Exibe o dado convertido em dicionario.\n",
        "print(\"Atributos:\", X_dict)\n",
        "\n",
        "# Exibe a estrutura do dado convertido em binário.\n",
        "print(\"Shape do dado de treinamento: {0}\".format(X_train.shape))\n",
        "\n",
        "print(\"Labels:\", y_train)\n",
        "\n"
      ]
    },
    {
      "cell_type": "markdown",
      "metadata": {
        "colab_type": "text",
        "id": "kg3Fr_1XAoKi"
      },
      "source": [
        "### Indução do Modelo\n",
        "\n",
        "\n",
        "Os três passos para indução de um modelo são:\n",
        "\n",
        "1.   Instanciar o modelo: ``` DecisionTreeClassifier()```\n",
        "2.   Treinar o modelo: ```fit()```\n",
        "3.   Testar o modelo: ```predict()```\n",
        "\n"
      ]
    },
    {
      "cell_type": "code",
      "execution_count": 0,
      "metadata": {
        "colab": {},
        "colab_type": "code",
        "id": "QT3S0B39AnJD"
      },
      "outputs": [],
      "source": [
        "treeClima = DecisionTreeClassifier(random_state=0, criterion='entropy')\n",
        "treeClima = treeClima.fit(X_train, y_train)\n",
        "print(\"Acurácia:\", treeClima.score(X_train, y_train))\n",
        "\n",
        "y_pred = treeClima.predict(X_train)\n",
        "print(\"Acurácia de previsão:\", accuracy_score(y_train, y_pred))\n",
        "print(classification_report(y_train, y_pred))\n",
        "\n",
        "cnf_matrix = confusion_matrix(y_train, y_pred)\n",
        "cnf_table = pd.DataFrame(data=cnf_matrix, index=[\"Jogar=Não\", \"Jogar=Sim\"], columns=[\"Jogar(prev)=Não\", \"Prev. Jogar(prev)=Sim\"])\n",
        "print(cnf_table)\n"
      ]
    },
    {
      "cell_type": "markdown",
      "metadata": {
        "colab_type": "text",
        "id": "-_k-VZ4XhDJZ"
      },
      "source": [
        "### Exibição da árvore de decisão\n",
        "\n"
      ]
    },
    {
      "cell_type": "code",
      "execution_count": 0,
      "metadata": {
        "colab": {},
        "colab_type": "code",
        "id": "x-yvOCPzBl_d"
      },
      "outputs": [],
      "source": [
        "from dtreeviz.trees import *\n",
        "\n",
        "viz = dtreeviz(treeClima,\n",
        "              X_train,\n",
        "              y_train,\n",
        "              target_name='Comprar',\n",
        "               feature_names=vect.feature_names_,\n",
        "              class_names=[\"sim\", \"nao\"],\n",
        "              fancy=True)  \n",
        "\n",
        "viz.view()"
      ]
    },
    {
      "cell_type": "code",
      "execution_count": 0,
      "metadata": {
        "colab": {},
        "colab_type": "code",
        "id": "V_A92_qYTCkY"
      },
      "outputs": [],
      "source": [
        "import pydotplus \n",
        "# Create DOT data\n",
        "dot_data = tree.export_graphviz(treeClima, out_file=None, \n",
        "                                feature_names=vect.feature_names_,  \n",
        "                                rounded =True,\n",
        "                                filled=True,\n",
        "                                class_names=[\"sim\", \"nao\"])\n",
        "\n",
        "# Draw graph\n",
        "graph = pydotplus.graph_from_dot_data(dot_data)  \n",
        "\n",
        "# Show graph\n",
        "Image(graph.create_png())\n"
      ]
    }
  ],
  "metadata": {
    "colab": {
      "collapsed_sections": [],
      "name": "Arvore de decisao-clima.ipynb",
      "provenance": [],
      "version": "0.3.2"
    },
    "kernelspec": {
      "display_name": "Python 3",
      "name": "python3"
    },
    "language_info": {
      "codemirror_mode": {
        "name": "ipython",
        "version": 3
      },
      "file_extension": ".py",
      "mimetype": "text/x-python",
      "name": "python",
      "nbconvert_exporter": "python",
      "pygments_lexer": "ipython3",
      "version": "3.12.4"
    }
  },
  "nbformat": 4,
  "nbformat_minor": 0
}
