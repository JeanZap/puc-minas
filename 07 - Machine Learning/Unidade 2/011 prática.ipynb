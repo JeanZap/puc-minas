{
 "cells": [
  {
   "cell_type": "code",
   "execution_count": 8,
   "metadata": {},
   "outputs": [],
   "source": [
    "import pandas as pd\n",
    "import numpy as np\n",
    "from sklearn import datasets, tree\n",
    "from sklearn.model_selection import train_test_split\n",
    "from sklearn.tree import DecisionTreeClassifier\n",
    "from sklearn.metrics import accuracy_score, classification_report, confusion_matrix\n",
    "from sklearn.feature_extraction import DictVectorizer\n",
    "from sklearn.preprocessing import LabelEncoder"
   ]
  },
  {
   "cell_type": "code",
   "execution_count": 13,
   "metadata": {},
   "outputs": [
    {
     "name": "stdout",
     "output_type": "stream",
     "text": [
      "\n",
      "Dimensões: (208, 61)\n",
      "\n",
      "Campos: Index(['Atributo_1', 'Atributo_2', 'Atributo_3', 'Atributo_4', 'Atributo_5',\n",
      "       'Atributo_6', 'Atributo_7', 'Atributo_8', 'Atributo_9', 'Atributo_10',\n",
      "       'Atributo_11', 'Atributo_12', 'Atributo_13', 'Atributo_14',\n",
      "       'Atributo_15', 'Atributo_16', 'Atributo_17', 'Atributo_18',\n",
      "       'Atributo_19', 'Atributo_20', 'Atributo_21', 'Atributo_22',\n",
      "       'Atributo_23', 'Atributo_24', 'Atributo_25', 'Atributo_26',\n",
      "       'Atributo_27', 'Atributo_28', 'Atributo_29', 'Atributo_30',\n",
      "       'Atributo_31', 'Atributo_32', 'Atributo_33', 'Atributo_34',\n",
      "       'Atributo_35', 'Atributo_36', 'Atributo_37', 'Atributo_38',\n",
      "       'Atributo_39', 'Atributo_40', 'Atributo_41', 'Atributo_42',\n",
      "       'Atributo_43', 'Atributo_44', 'Atributo_45', 'Atributo_46',\n",
      "       'Atributo_47', 'Atributo_48', 'Atributo_49', 'Atributo_50',\n",
      "       'Atributo_51', 'Atributo_52', 'Atributo_53', 'Atributo_54',\n",
      "       'Atributo_55', 'Atributo_56', 'Atributo_57', 'Atributo_58',\n",
      "       'Atributo_59', 'Atributo_60', 'Classe'],\n",
      "      dtype='object')\n",
      "       Atributo_1  Atributo_2  Atributo_3  Atributo_4  Atributo_5  Atributo_6  \\\n",
      "count  208.000000  208.000000  208.000000  208.000000  208.000000  208.000000   \n",
      "mean     0.029164    0.038437    0.043832    0.053892    0.075202    0.104570   \n",
      "std      0.022991    0.032960    0.038428    0.046528    0.055552    0.059105   \n",
      "min      0.001500    0.000600    0.001500    0.005800    0.006700    0.010200   \n",
      "25%      0.013350    0.016450    0.018950    0.024375    0.038050    0.067025   \n",
      "50%      0.022800    0.030800    0.034300    0.044050    0.062500    0.092150   \n",
      "75%      0.035550    0.047950    0.057950    0.064500    0.100275    0.134125   \n",
      "max      0.137100    0.233900    0.305900    0.426400    0.401000    0.382300   \n",
      "\n",
      "       Atributo_7  Atributo_8  Atributo_9  Atributo_10  ...  Atributo_51  \\\n",
      "count  208.000000  208.000000  208.000000   208.000000  ...   208.000000   \n",
      "mean     0.121747    0.134799    0.178003     0.208259  ...     0.016069   \n",
      "std      0.061788    0.085152    0.118387     0.134416  ...     0.012008   \n",
      "min      0.003300    0.005500    0.007500     0.011300  ...     0.000000   \n",
      "25%      0.080900    0.080425    0.097025     0.111275  ...     0.008425   \n",
      "50%      0.106950    0.112100    0.152250     0.182400  ...     0.013900   \n",
      "75%      0.154000    0.169600    0.233425     0.268700  ...     0.020825   \n",
      "max      0.372900    0.459000    0.682800     0.710600  ...     0.100400   \n",
      "\n",
      "       Atributo_52  Atributo_53  Atributo_54  Atributo_55  Atributo_56  \\\n",
      "count   208.000000   208.000000   208.000000   208.000000   208.000000   \n",
      "mean      0.013420     0.010709     0.010941     0.009290     0.008222   \n",
      "std       0.009634     0.007060     0.007301     0.007088     0.005736   \n",
      "min       0.000800     0.000500     0.001000     0.000600     0.000400   \n",
      "25%       0.007275     0.005075     0.005375     0.004150     0.004400   \n",
      "50%       0.011400     0.009550     0.009300     0.007500     0.006850   \n",
      "75%       0.016725     0.014900     0.014500     0.012100     0.010575   \n",
      "max       0.070900     0.039000     0.035200     0.044700     0.039400   \n",
      "\n",
      "       Atributo_57  Atributo_58  Atributo_59  Atributo_60  \n",
      "count   208.000000   208.000000   208.000000   208.000000  \n",
      "mean      0.007820     0.007949     0.007941     0.006507  \n",
      "std       0.005785     0.006470     0.006181     0.005031  \n",
      "min       0.000300     0.000300     0.000100     0.000600  \n",
      "25%       0.003700     0.003600     0.003675     0.003100  \n",
      "50%       0.005950     0.005800     0.006400     0.005300  \n",
      "75%       0.010425     0.010350     0.010325     0.008525  \n",
      "max       0.035500     0.044000     0.036400     0.043900  \n",
      "\n",
      "[8 rows x 60 columns]\n"
     ]
    }
   ],
   "source": [
    "sonar = pd.read_csv('./databases/sonar.csv')\n",
    "print(\"\\nDimensões: {0}\".format(sonar.shape))\n",
    "print(\"\\nCampos: {0}\".format(sonar.keys()))\n",
    "print(sonar.describe(), sep='\\n')\n",
    "\n",
    "X = sonar.iloc[:,0:(sonar.shape[1] - 1)]\n",
    "\n",
    "le = LabelEncoder()\n",
    "y = le.fit_transform(sonar.iloc[:,(sonar.shape[1] - 1)])\n",
    "\n",
    "X_train, X_test, y_train, y_test = train_test_split(X, y, random_state=0, test_size=0.1)\n",
    "\n",
    "X_train = sonar.iloc[:,0:(sonar.shape[1] - 1)]\n"
   ]
  },
  {
   "cell_type": "code",
   "execution_count": 14,
   "metadata": {},
   "outputs": [
    {
     "name": "stdout",
     "output_type": "stream",
     "text": [
      "[1 1 1 1 1 1 1 1 1 1 1 1 1 1 1 1 1 1 1 1 1 1 1 1 1 1 1 1 1 1 1 1 1 1 1 1 1\n",
      " 1 1 1 1 1 1 1 1 1 1 1 1 1 1 1 1 1 1 1 1 1 1 1 1 1 1 1 1 1 1 1 1 1 1 1 1 1\n",
      " 1 1 1 1 1 1 1 1 1 1 1 1 1 1 1 1 1 1 1 1 1 1 1 0 0 0 0 0 0 0 0 0 0 0 0 0 0\n",
      " 0 0 0 0 0 0 0 0 0 0 0 0 0 0 0 0 0 0 0 0 0 0 0 0 0 0 0 0 0 0 0 0 0 0 0 0 0\n",
      " 0 0 0 0 0 0 0 0 0 0 0 0 0 0 0 0 0 0 0 0 0 0 0 0 0 0 0 0 0 0 0 0 0 0 0 0 0\n",
      " 0 0 0 0 0 0 0 0 0 0 0 0 0 0 0 0 0 0 0 0 0 0 0]\n"
     ]
    }
   ],
   "source": [
    "le = LabelEncoder()\n",
    "y_train = le.fit_transform(sonar.iloc[:, -1])\n",
    "print(y_train)"
   ]
  },
  {
   "cell_type": "code",
   "execution_count": 15,
   "metadata": {},
   "outputs": [
    {
     "name": "stdout",
     "output_type": "stream",
     "text": [
      "Acurácia (base de treinamento): 1.0\n",
      "Acurácia de previsão: 1.0\n",
      "              precision    recall  f1-score   support\n",
      "\n",
      "        Mina       1.00      1.00      1.00         8\n",
      "       Rocha       1.00      1.00      1.00        13\n",
      "\n",
      "    accuracy                           1.00        21\n",
      "   macro avg       1.00      1.00      1.00        21\n",
      "weighted avg       1.00      1.00      1.00        21\n",
      "\n",
      "       Mina (prev)  Rocha (prev)\n",
      "Mina             8             0\n",
      "Rocha            0            13\n"
     ]
    }
   ],
   "source": [
    "sonar_tree = DecisionTreeClassifier(random_state=0)\n",
    "sonar_tree = sonar_tree.fit(X_train, y_train)\n",
    "print(\"Acurácia (base de treinamento):\", sonar_tree.score(X_train, y_train))\n",
    "\n",
    "y_pred = sonar_tree.predict(X_test)\n",
    "print(\"Acurácia de previsão:\", accuracy_score(y_test, y_pred))\n",
    "print(classification_report(y_test, y_pred, target_names=[\"Mina\", \"Rocha\"]))\n",
    "\n",
    "cnf_matrix = confusion_matrix(y_test, y_pred)\n",
    "cnf_table = pd.DataFrame(data=cnf_matrix, index=[\"Mina\", \"Rocha\"], columns=[\n",
    "                         \"Mina (prev)\", \"Rocha (prev)\"])\n",
    "print(cnf_table)"
   ]
  }
 ],
 "metadata": {
  "kernelspec": {
   "display_name": "Python 3",
   "language": "python",
   "name": "python3"
  },
  "language_info": {
   "codemirror_mode": {
    "name": "ipython",
    "version": 3
   },
   "file_extension": ".py",
   "mimetype": "text/x-python",
   "name": "python",
   "nbconvert_exporter": "python",
   "pygments_lexer": "ipython3",
   "version": "3.10.0"
  }
 },
 "nbformat": 4,
 "nbformat_minor": 2
}
