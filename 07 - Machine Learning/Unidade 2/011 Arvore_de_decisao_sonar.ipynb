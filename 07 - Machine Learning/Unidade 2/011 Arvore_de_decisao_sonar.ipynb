{
  "cells": [
    {
      "cell_type": "markdown",
      "metadata": {
        "colab_type": "text",
        "id": "1MsOiuBgAvBy"
      },
      "source": [
        "# Árvore de decisão\n",
        "\n",
        "\n",
        "Ilustra o funcionamento do algoritmo de árvore de decisão com dados contínuos.\n",
        "\n",
        "Este notebook foi desenvolvido para o ambiente GOOGLE COLAB ([colab.research.google.com](https://colab.research.google.com)).\n",
        "\n",
        "Prof. Hugo de Paula\n",
        "\n",
        "-------------------------------------------------------------------------------\n",
        "\n",
        "### Base de dados: Sonar, Mines vs. Rocks\n",
        "\n",
        "https://archive.ics.uci.edu/ml/datasets/Connectionist+Bench+%28Sonar,+Mines+vs.+Rocks%29\n",
        "\n",
        "208 instâncias\n",
        "\n",
        "60 atributos\n",
        "\n",
        "2 classes (rocha, mina)\n",
        "\n"
      ]
    },
    {
      "cell_type": "code",
      "execution_count": 1,
      "metadata": {
        "colab": {},
        "colab_type": "code",
        "id": "OwXOcJUaTV-I"
      },
      "outputs": [
        {
          "name": "stdout",
          "output_type": "stream",
          "text": [
            "Collecting pydotplus\n",
            "  Downloading pydotplus-2.0.2.tar.gz (278 kB)\n",
            "Requirement already satisfied: pyparsing>=2.0.1 in c:\\users\\jean_\\appdata\\local\\programs\\python\\python310\\lib\\site-packages (from pydotplus) (3.2.1)\n",
            "Using legacy 'setup.py install' for pydotplus, since package 'wheel' is not installed.\n",
            "Installing collected packages: pydotplus\n",
            "    Running setup.py install for pydotplus: started\n",
            "    Running setup.py install for pydotplus: finished with status 'done'\n",
            "Successfully installed pydotplus-2.0.2\n"
          ]
        },
        {
          "name": "stderr",
          "output_type": "stream",
          "text": [
            "WARNING: You are using pip version 21.2.3; however, version 25.0 is available.\n",
            "You should consider upgrading via the 'C:\\Users\\jean_\\AppData\\Local\\Programs\\Python\\Python310\\python.exe -m pip install --upgrade pip' command.\n"
          ]
        },
        {
          "name": "stdout",
          "output_type": "stream",
          "text": [
            "Collecting dtreeviz\n",
            "  Downloading dtreeviz-2.2.2-py3-none-any.whl (91 kB)\n",
            "Requirement already satisfied: numpy in c:\\users\\jean_\\appdata\\local\\programs\\python\\python310\\lib\\site-packages (from dtreeviz) (2.2.2)\n",
            "Collecting graphviz>=0.9\n",
            "  Downloading graphviz-0.20.3-py3-none-any.whl (47 kB)\n",
            "Requirement already satisfied: pandas in c:\\users\\jean_\\appdata\\local\\programs\\python\\python310\\lib\\site-packages (from dtreeviz) (2.2.3)\n",
            "Requirement already satisfied: scikit-learn in c:\\users\\jean_\\appdata\\local\\programs\\python\\python310\\lib\\site-packages (from dtreeviz) (1.6.1)\n",
            "Collecting colour\n",
            "  Downloading colour-0.1.5-py2.py3-none-any.whl (23 kB)\n",
            "Collecting pytest\n",
            "  Downloading pytest-8.3.4-py3-none-any.whl (343 kB)\n",
            "Requirement already satisfied: matplotlib in c:\\users\\jean_\\appdata\\local\\programs\\python\\python310\\lib\\site-packages (from dtreeviz) (3.10.0)\n",
            "Requirement already satisfied: python-dateutil>=2.7 in c:\\users\\jean_\\appdata\\roaming\\python\\python310\\site-packages (from matplotlib->dtreeviz) (2.9.0.post0)\n",
            "Requirement already satisfied: cycler>=0.10 in c:\\users\\jean_\\appdata\\local\\programs\\python\\python310\\lib\\site-packages (from matplotlib->dtreeviz) (0.12.1)\n",
            "Requirement already satisfied: pillow>=8 in c:\\users\\jean_\\appdata\\local\\programs\\python\\python310\\lib\\site-packages (from matplotlib->dtreeviz) (11.1.0)\n",
            "Requirement already satisfied: packaging>=20.0 in c:\\users\\jean_\\appdata\\roaming\\python\\python310\\site-packages (from matplotlib->dtreeviz) (24.2)\n",
            "Requirement already satisfied: contourpy>=1.0.1 in c:\\users\\jean_\\appdata\\local\\programs\\python\\python310\\lib\\site-packages (from matplotlib->dtreeviz) (1.3.1)\n",
            "Requirement already satisfied: pyparsing>=2.3.1 in c:\\users\\jean_\\appdata\\local\\programs\\python\\python310\\lib\\site-packages (from matplotlib->dtreeviz) (3.2.1)\n",
            "Requirement already satisfied: fonttools>=4.22.0 in c:\\users\\jean_\\appdata\\local\\programs\\python\\python310\\lib\\site-packages (from matplotlib->dtreeviz) (4.55.8)\n",
            "Requirement already satisfied: kiwisolver>=1.3.1 in c:\\users\\jean_\\appdata\\local\\programs\\python\\python310\\lib\\site-packages (from matplotlib->dtreeviz) (1.4.8)\n",
            "Requirement already satisfied: six>=1.5 in c:\\users\\jean_\\appdata\\local\\programs\\python\\python310\\lib\\site-packages (from python-dateutil>=2.7->matplotlib->dtreeviz) (1.17.0)\n",
            "Requirement already satisfied: tzdata>=2022.7 in c:\\users\\jean_\\appdata\\local\\programs\\python\\python310\\lib\\site-packages (from pandas->dtreeviz) (2025.1)\n",
            "Requirement already satisfied: pytz>=2020.1 in c:\\users\\jean_\\appdata\\local\\programs\\python\\python310\\lib\\site-packages (from pandas->dtreeviz) (2024.2)\n",
            "Collecting tomli>=1\n",
            "  Downloading tomli-2.2.1-py3-none-any.whl (14 kB)\n",
            "Requirement already satisfied: colorama in c:\\users\\jean_\\appdata\\roaming\\python\\python310\\site-packages (from pytest->dtreeviz) (0.4.6)\n",
            "Collecting iniconfig\n",
            "  Downloading iniconfig-2.0.0-py3-none-any.whl (5.9 kB)\n",
            "Collecting pluggy<2,>=1.5\n",
            "  Downloading pluggy-1.5.0-py3-none-any.whl (20 kB)\n",
            "Requirement already satisfied: exceptiongroup>=1.0.0rc8 in c:\\users\\jean_\\appdata\\roaming\\python\\python310\\site-packages (from pytest->dtreeviz) (1.2.2)\n",
            "Requirement already satisfied: joblib>=1.2.0 in c:\\users\\jean_\\appdata\\local\\programs\\python\\python310\\lib\\site-packages (from scikit-learn->dtreeviz) (1.4.2)\n",
            "Requirement already satisfied: threadpoolctl>=3.1.0 in c:\\users\\jean_\\appdata\\local\\programs\\python\\python310\\lib\\site-packages (from scikit-learn->dtreeviz) (3.5.0)\n",
            "Requirement already satisfied: scipy>=1.6.0 in c:\\users\\jean_\\appdata\\local\\programs\\python\\python310\\lib\\site-packages (from scikit-learn->dtreeviz) (1.15.1)\n",
            "Installing collected packages: tomli, pluggy, iniconfig, pytest, graphviz, colour, dtreeviz\n",
            "Successfully installed colour-0.1.5 dtreeviz-2.2.2 graphviz-0.20.3 iniconfig-2.0.0 pluggy-1.5.0 pytest-8.3.4 tomli-2.2.1\n"
          ]
        },
        {
          "name": "stderr",
          "output_type": "stream",
          "text": [
            "WARNING: You are using pip version 21.2.3; however, version 25.0 is available.\n",
            "You should consider upgrading via the 'C:\\Users\\jean_\\AppData\\Local\\Programs\\Python\\Python310\\python.exe -m pip install --upgrade pip' command.\n"
          ]
        }
      ],
      "source": [
        "!pip install pydotplus\n",
        "!pip install dtreeviz"
      ]
    },
    {
      "cell_type": "code",
      "execution_count": 7,
      "metadata": {
        "colab": {},
        "colab_type": "code",
        "id": "PDVQg6ZJ_WXn"
      },
      "outputs": [],
      "source": [
        "import pandas as pd\n",
        "import numpy as np\n",
        "from sklearn import datasets, tree\n",
        "from sklearn.model_selection import train_test_split\n",
        "from sklearn.tree import DecisionTreeClassifier\n",
        "from sklearn.metrics import accuracy_score, classification_report, confusion_matrix\n",
        "from sklearn.feature_extraction import DictVectorizer\n",
        "from sklearn.preprocessing import LabelEncoder\n",
        "\n",
        "from google.colab import files\n",
        "uploaded = files.upload()\n"
      ]
    },
    {
      "cell_type": "markdown",
      "metadata": {
        "colab_type": "text",
        "id": "A46kV4VTA_la"
      },
      "source": [
        "### Carga dos dados e particionamento das bases de treinamento e teste\n",
        "\n",
        "### Transformação de dados\n",
        "\n",
        "A classe é convertida para labels únicos sequenciais.\n",
        "\n",
        "<code>\n",
        " le = preprocessing.LabelEncoder()\n",
        "  \n",
        " le.fit(dados)\n",
        "</code>\n",
        "\n",
        "\n",
        "### Particionamento da base\n",
        "\n",
        "<code>train_test_split(X, y) -- particiona a base de dados original em bases de treinamento e teste.</code>\n",
        "\n",
        "No código a seguir, são utilizados 10% para teste e 90% para treinamento.\n",
        "\n",
        "\n",
        "\n",
        "\n",
        "\n"
      ]
    },
    {
      "cell_type": "code",
      "execution_count": 8,
      "metadata": {
        "colab": {},
        "colab_type": "code",
        "id": "pQzY_XVp__pZ"
      },
      "outputs": [
        {
          "name": "stdout",
          "output_type": "stream",
          "text": [
            "\n",
            "Dimensões: (208, 1)\n",
            "\n",
            "Campos: Index(['Atributo_1;Atributo_2;Atributo_3;Atributo_4;Atributo_5;Atributo_6;Atributo_7;Atributo_8;Atributo_9;Atributo_10;Atributo_11;Atributo_12;Atributo_13;Atributo_14;Atributo_15;Atributo_16;Atributo_17;Atributo_18;Atributo_19;Atributo_20;Atributo_21;Atributo_22;Atributo_23;Atributo_24;Atributo_25;Atributo_26;Atributo_27;Atributo_28;Atributo_29;Atributo_30;Atributo_31;Atributo_32;Atributo_33;Atributo_34;Atributo_35;Atributo_36;Atributo_37;Atributo_38;Atributo_39;Atributo_40;Atributo_41;Atributo_42;Atributo_43;Atributo_44;Atributo_45;Atributo_46;Atributo_47;Atributo_48;Atributo_49;Atributo_50;Atributo_51;Atributo_52;Atributo_53;Atributo_54;Atributo_55;Atributo_56;Atributo_57;Atributo_58;Atributo_59;Atributo_60;Classe'], dtype='object')\n",
            "       Atributo_1;Atributo_2;Atributo_3;Atributo_4;Atributo_5;Atributo_6;Atributo_7;Atributo_8;Atributo_9;Atributo_10;Atributo_11;Atributo_12;Atributo_13;Atributo_14;Atributo_15;Atributo_16;Atributo_17;Atributo_18;Atributo_19;Atributo_20;Atributo_21;Atributo_22;Atributo_23;Atributo_24;Atributo_25;Atributo_26;Atributo_27;Atributo_28;Atributo_29;Atributo_30;Atributo_31;Atributo_32;Atributo_33;Atributo_34;Atributo_35;Atributo_36;Atributo_37;Atributo_38;Atributo_39;Atributo_40;Atributo_41;Atributo_42;Atributo_43;Atributo_44;Atributo_45;Atributo_46;Atributo_47;Atributo_48;Atributo_49;Atributo_50;Atributo_51;Atributo_52;Atributo_53;Atributo_54;Atributo_55;Atributo_56;Atributo_57;Atributo_58;Atributo_59;Atributo_60;Classe\n",
            "count                                                 208                                                                                                                                                                                                                                                                                                                                                                                                                                                                                                                                                                                                                                                                                           \n",
            "unique                                                146                                                                                                                                                                                                                                                                                                                                                                                                                                                                                                                                                                                                                                                                                           \n",
            "top                                            0053;Rocha                                                                                                                                                                                                                                                                                                                                                                                                                                                                                                                                                                                                                                                                                           \n",
            "freq                                                    5                                                                                                                                                                                                                                                                                                                                                                                                                                                                                                                                                                                                                                                                                           \n"
          ]
        }
      ],
      "source": [
        "sonar = pd.read_excel('sonar.xlsx', sheet_name=0) \n",
        "print(\"\\nDimensões: {0}\".format(sonar.shape))\n",
        "print(\"\\nCampos: {0}\".format(sonar.keys()))\n",
        "print(sonar.describe(), sep='\\n')\n",
        "\n",
        "X = sonar.iloc[:,0:(sonar.shape[1] - 1)]\n",
        "\n",
        "le = LabelEncoder()\n",
        "y = le.fit_transform(sonar.iloc[:,(sonar.shape[1] - 1)])\n",
        "\n",
        "# Particiona a base de dados\n",
        "X_train, X_test, y_train, y_test = train_test_split(X, y, random_state=0, test_size=0.1)"
      ]
    },
    {
      "cell_type": "markdown",
      "metadata": {
        "colab_type": "text",
        "id": "kg3Fr_1XAoKi"
      },
      "source": [
        "### Indução do Modelo\n",
        "\n",
        "\n",
        "Os três passos para indução de um modelo são:\n",
        "\n",
        "1.   Instanciar o modelo: ``` DecisionTreeClassifier()```\n",
        "2.   Treinar o modelo: ```fit()```\n",
        "3.   Testar o modelo: ```predict()```\n",
        "\n"
      ]
    },
    {
      "cell_type": "code",
      "execution_count": 0,
      "metadata": {
        "colab": {},
        "colab_type": "code",
        "id": "Fo2oEQF40BfK"
      },
      "outputs": [],
      "source": [
        "sonar_tree = DecisionTreeClassifier(random_state=0, criterion='entropy')\n",
        "sonar_tree = sonar_tree.fit(X_train, y_train)\n",
        "print(\"Acurácia (base de treinamento):\", sonar_tree.score(X_train, y_train))\n",
        "\n",
        "y_pred = sonar_tree.predict(X_test)\n",
        "print(\"Acurácia de previsão:\", accuracy_score(y_test, y_pred))\n",
        "print(classification_report(y_test, y_pred, target_names=[\"Mina\", \"Rocha\"]))\n",
        "      \n",
        "cnf_matrix = confusion_matrix(y_test, y_pred)\n",
        "cnf_table = pd.DataFrame(data=cnf_matrix, index=[\"Mina\", \"Rocha\"], columns=[\"Mina (prev)\", \"Rocha (prev)\"])\n",
        "print(cnf_table)\n",
        "\n"
      ]
    },
    {
      "cell_type": "markdown",
      "metadata": {
        "colab_type": "text",
        "id": "f2HUb-V-ihZt"
      },
      "source": [
        "### Exibição da árvore de decisão"
      ]
    },
    {
      "cell_type": "code",
      "execution_count": 0,
      "metadata": {
        "colab": {},
        "colab_type": "code",
        "id": "x-yvOCPzBl_d"
      },
      "outputs": [],
      "source": [
        "from dtreeviz.trees import *\n",
        "\n",
        "viz = dtreeviz(sonar_tree,\n",
        "              X_train,\n",
        "              y_train,\n",
        "              target_name=\"Classe\",\n",
        "              feature_names=np.arange(0,60),\n",
        "              class_names=[\"mina\", \"rocha\"])  \n",
        "\n",
        "viz.view()"
      ]
    },
    {
      "cell_type": "code",
      "execution_count": 0,
      "metadata": {
        "colab": {},
        "colab_type": "code",
        "id": "V_A92_qYTCkY"
      },
      "outputs": [],
      "source": [
        "import pydotplus \n",
        "# Create DOT data\n",
        "dot_data = tree.export_graphviz(sonar_tree, out_file=None, \n",
        "                                proportion=False,\n",
        "                                rounded =True,\n",
        "                                filled=True,\n",
        "                                feature_names=np.arange(0,60),  \n",
        "                                class_names=[\"mina\", \"rocha\"])\n",
        "\n",
        "# Draw graph\n",
        "graph = pydotplus.graph_from_dot_data(dot_data)  \n",
        "\n",
        "# Show graph\n",
        "Image(graph.create_png())\n"
      ]
    }
  ],
  "metadata": {
    "colab": {
      "collapsed_sections": [],
      "name": "Arvore de decisao-sonar.ipynb",
      "provenance": [],
      "version": "0.3.2"
    },
    "kernelspec": {
      "display_name": "Python 3",
      "name": "python3"
    },
    "language_info": {
      "codemirror_mode": {
        "name": "ipython",
        "version": 3
      },
      "file_extension": ".py",
      "mimetype": "text/x-python",
      "name": "python",
      "nbconvert_exporter": "python",
      "pygments_lexer": "ipython3",
      "version": "3.10.0"
    }
  },
  "nbformat": 4,
  "nbformat_minor": 0
}
