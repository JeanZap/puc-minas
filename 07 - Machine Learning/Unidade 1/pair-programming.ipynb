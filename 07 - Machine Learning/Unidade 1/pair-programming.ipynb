{
 "cells": [
  {
   "cell_type": "markdown",
   "metadata": {},
   "source": [
    "# Base de dados do Titanic\n",
    "\n",
    "Essa base de dados pode ser obtida no Kaggle, no endereço: \n",
    "[www.kaggle.com/c/titanic/data](https://www.kaggle.com/c/titanic/data)\n",
    "\n",
    "### DESCRIÇÃO DOS ATRIBUTOS:\n",
    "\n",
    "\n",
    "*   ```survival``` --  Sobrevivente (0 = Não; 1 = Sim)\n",
    "*   ```pclass``` --  Classe do passageiro (1 = 1a classe; 2 = 2a classe; 3 = 3a classe)\n",
    "*   ```name``` --  Nome (str)\n",
    "*   ```sex``` --  Sexo (male; female)\n",
    "*   ```age``` --  Idade (numérica)\n",
    "*   ```sibsp``` --  Número de irmãos/conjuges à bordo\n",
    "*   ```parch``` --  Número de pais/filhos à bordo\n",
    "*   ```ticket``` --  Número da passagem\n",
    "*   ```fare``` --  Tarifa do passageiro\n",
    "*   ```cabin``` --  Cabine\n",
    "*   ```embarked``` --  Porto de embarque (C = Cherbourg; Q = Queenstown; S = Southampton)\n",
    "\n",
    "### UPLOAD DE ARQUIVO LOCAL:\n",
    "\n",
    "Para fazer o upload de bases de dados, deve-se usar o objeto ```files``` do pacote ```goggle.colab```.\n",
    "\n",
    "Deve-se fazer o upload do arquivo \"train.csv\" disponível na pasta \"Datasets\\Titanic\"."
   ]
  },
  {
   "cell_type": "code",
   "execution_count": 2,
   "metadata": {},
   "outputs": [],
   "source": [
    "import numpy as np\n",
    "import pandas as pd\n",
    "import matplotlib.pyplot as plt\n",
    "import seaborn as sns\n",
    "\n",
    "from sklearn.model_selection import train_test_split\n",
    "from sklearn import preprocessing\n",
    "from sklearn.linear_model import LinearRegression\n",
    "\n",
    "titanic_train = pd.read_csv('./DBs/train.csv')"
   ]
  },
  {
   "cell_type": "code",
   "execution_count": 3,
   "metadata": {},
   "outputs": [],
   "source": [
    "np.set_printoptions(threshold=None, precision=2)\n",
    "pd.set_option('display.max_columns', 500)\n",
    "pd.set_option('display.max_rows', 500)\n",
    "pd.set_option('display.precision', 2)"
   ]
  },
  {
   "cell_type": "code",
   "execution_count": 4,
   "metadata": {},
   "outputs": [
    {
     "name": "stdout",
     "output_type": "stream",
     "text": [
      "(891, 12)\n",
      "Index(['PassengerId', 'Survived', 'Pclass', 'Name', 'Sex', 'Age', 'SibSp',\n",
      "       'Parch', 'Ticket', 'Fare', 'Cabin', 'Embarked'],\n",
      "      dtype='object')\n",
      "PassengerId      int64\n",
      "Survived         int64\n",
      "Pclass           int64\n",
      "Name            object\n",
      "Sex             object\n",
      "Age            float64\n",
      "SibSp            int64\n",
      "Parch            int64\n",
      "Ticket          object\n",
      "Fare           float64\n",
      "Cabin           object\n",
      "Embarked        object\n",
      "dtype: object\n"
     ]
    }
   ],
   "source": [
    "print(titanic_train.shape)\n",
    "print(titanic_train.keys())\n",
    "print(titanic_train.dtypes)"
   ]
  },
  {
   "cell_type": "code",
   "execution_count": 5,
   "metadata": {},
   "outputs": [
    {
     "name": "stdout",
     "output_type": "stream",
     "text": [
      "       PassengerId  Survived  Pclass     Age   SibSp   Parch    Fare\n",
      "count       891.00    891.00  891.00  714.00  891.00  891.00  891.00\n",
      "mean        446.00      0.38    2.31   29.70    0.52    0.38   32.20\n",
      "std         257.35      0.49    0.84   14.53    1.10    0.81   49.69\n",
      "min           1.00      0.00    1.00    0.42    0.00    0.00    0.00\n",
      "25%         223.50      0.00    2.00   20.12    0.00    0.00    7.91\n",
      "50%         446.00      0.00    3.00   28.00    0.00    0.00   14.45\n",
      "75%         668.50      1.00    3.00   38.00    1.00    0.00   31.00\n",
      "max         891.00      1.00    3.00   80.00    8.00    6.00  512.33 \n",
      "\n",
      "                       Name   Sex  Ticket Cabin Embarked\n",
      "count                   891   891     891   204      889\n",
      "unique                  891     2     681   147        3\n",
      "top     Dooley, Mr. Patrick  male  347082    G6        S\n",
      "freq                      1   577       7     4      644\n"
     ]
    }
   ],
   "source": [
    "print(titanic_train.describe(),'\\n')\n",
    "\n",
    "categ = titanic_train.dtypes[titanic_train.dtypes == 'object'].index\n",
    "\n",
    "print(titanic_train[categ].describe())"
   ]
  },
  {
   "cell_type": "code",
   "execution_count": 6,
   "metadata": {},
   "outputs": [],
   "source": [
    "del titanic_train['PassengerId']\n",
    "del titanic_train['Ticket']"
   ]
  },
  {
   "cell_type": "code",
   "execution_count": 7,
   "metadata": {},
   "outputs": [
    {
     "data": {
      "text/plain": [
       "(891, 10)"
      ]
     },
     "execution_count": 7,
     "metadata": {},
     "output_type": "execute_result"
    }
   ],
   "source": [
    "titanic_train.shape"
   ]
  },
  {
   "cell_type": "code",
   "execution_count": 8,
   "metadata": {},
   "outputs": [],
   "source": [
    "new_survived = pd.Categorical(titanic_train['Survived'])\n",
    "new_survived = new_survived.rename_categories([\"Morreu\",\"Sobreviveu\"])\n",
    "titanic_train['Survived'] = new_survived\n",
    "\n",
    "new_Pclass = pd.Categorical(titanic_train['Pclass'])\n",
    "new_Pclass = new_Pclass.rename_categories([\"1Classe\",\"2Classe\",\"3Classe\"])\n",
    "titanic_train['Pclass'] = new_Pclass"
   ]
  },
  {
   "cell_type": "code",
   "execution_count": 9,
   "metadata": {},
   "outputs": [
    {
     "name": "stdout",
     "output_type": "stream",
     "text": [
      "       Survived   Pclass\n",
      "count       891      891\n",
      "unique        2        3\n",
      "top      Morreu  3Classe\n",
      "freq        549      491\n"
     ]
    }
   ],
   "source": [
    "categ = titanic_train.dtypes[titanic_train.dtypes == 'category'].index\n",
    "\n",
    "print(titanic_train[categ].describe())"
   ]
  },
  {
   "cell_type": "code",
   "execution_count": 10,
   "metadata": {},
   "outputs": [
    {
     "name": "stdout",
     "output_type": "stream",
     "text": [
      "['n', 'C', 'E', 'G', 'D', 'A', 'B', 'F', 'T']\n",
      "Categories (9, object): ['A', 'B', 'C', 'D', ..., 'F', 'G', 'T', 'n']\n"
     ]
    }
   ],
   "source": [
    "char_cabin = titanic_train['Cabin'].astype(str)\n",
    "\n",
    "new_cabin = pd.Categorical([cabin[0] for cabin in char_cabin])\n",
    "titanic_train['Cabin'] = new_cabin\n",
    "\n",
    "print(titanic_train['Cabin'].unique())"
   ]
  },
  {
   "cell_type": "code",
   "execution_count": 12,
   "metadata": {},
   "outputs": [
    {
     "data": {
      "text/plain": [
       "array([[<Axes: title={'center': 'Age'}>]], dtype=object)"
      ]
     },
     "execution_count": 12,
     "metadata": {},
     "output_type": "execute_result"
    },
    {
     "data": {
      "image/png": "[encoded data removed]",
      "text/plain": [
       "<Figure size 900x600 with 1 Axes>"
      ]
     },
     "metadata": {},
     "output_type": "display_data"
    }
   ],
   "source": [
    "titanic_train.hist(column='Age', figsize=(9, 6), bins=20)"
   ]
  },
  {
   "cell_type": "code",
   "execution_count": 15,
   "metadata": {},
   "outputs": [
    {
     "name": "stdout",
     "output_type": "stream",
     "text": [
      "          Age   SibSp   Parch    Fare\n",
      "count  891.00  891.00  891.00  891.00\n",
      "mean    29.36    0.52    0.38   32.20\n",
      "std     13.02    1.10    0.81   49.69\n",
      "min      0.42    0.00    0.00    0.00\n",
      "25%     22.00    0.00    0.00    7.91\n",
      "50%     28.00    0.00    0.00   14.45\n",
      "75%     35.00    1.00    0.00   31.00\n",
      "max     80.00    8.00    6.00  512.33\n"
     ]
    },
    {
     "data": {
      "text/plain": [
       "array([[<Axes: title={'center': 'Age'}>]], dtype=object)"
      ]
     },
     "execution_count": 15,
     "metadata": {},
     "output_type": "execute_result"
    },
    {
     "data": {
      "image/png": "[encoded data removed]",
      "text/plain": [
       "<Figure size 900x600 with 1 Axes>"
      ]
     },
     "metadata": {},
     "output_type": "display_data"
    }
   ],
   "source": [
    "mediana = np.median([el for el in titanic_train['Age']\n",
    "                    if (np.isnan(el) == False)])\n",
    "new_age = np.where(titanic_train['Age'].isnull(),\n",
    "                   mediana, titanic_train['Age'])\n",
    "titanic_train['Age'] = new_age\n",
    "\n",
    "print(titanic_train.describe())\n",
    "\n",
    "titanic_train.hist(column='Age', figsize=(9, 6), bins=20)"
   ]
  },
  {
   "cell_type": "code",
   "execution_count": 17,
   "metadata": {},
   "outputs": [
    {
     "name": "stdout",
     "output_type": "stream",
     "text": [
      "       Survived   Pclass                                Name     Sex   Age  \\\n",
      "258  Sobreviveu  1Classe                    Ward, Miss. Anna  female  35.0   \n",
      "679  Sobreviveu  1Classe  Cardeza, Mr. Thomas Drake Martinez    male  36.0   \n",
      "737  Sobreviveu  1Classe              Lesurer, Mr. Gustave J    male  35.0   \n",
      "\n",
      "     SibSp  Parch    Fare Cabin Embarked  \n",
      "258      0      0  512.33     n        C  \n",
      "679      0      1  512.33     B        C  \n",
      "737      0      0  512.33     B        C  \n"
     ]
    },
    {
     "data": {
      "image/png": "[encoded data removed]",
      "text/plain": [
       "<Figure size 900x900 with 1 Axes>"
      ]
     },
     "metadata": {},
     "output_type": "display_data"
    }
   ],
   "source": [
    "titanic_train['Fare'].plot(kind='box', figsize=(9, 9))\n",
    "\n",
    "index = np.where(titanic_train['Fare'] == max(titanic_train['Fare']))\n",
    "\n",
    "print(titanic_train.loc[index])"
   ]
  },
  {
   "cell_type": "code",
   "execution_count": 19,
   "metadata": {},
   "outputs": [
    {
     "name": "stdout",
     "output_type": "stream",
     "text": [
      "    Survived   Pclass                               Name     Sex   Age  SibSp  \\\n",
      "159   Morreu  3Classe         Sage, Master. Thomas Henry    male  28.0      8   \n",
      "180   Morreu  3Classe       Sage, Miss. Constance Gladys  female  28.0      8   \n",
      "201   Morreu  3Classe                Sage, Mr. Frederick    male  28.0      8   \n",
      "324   Morreu  3Classe           Sage, Mr. George John Jr    male  28.0      8   \n",
      "792   Morreu  3Classe            Sage, Miss. Stella Anna  female  28.0      8   \n",
      "846   Morreu  3Classe           Sage, Mr. Douglas Bullen    male  28.0      8   \n",
      "863   Morreu  3Classe  Sage, Miss. Dorothy Edith \"Dolly\"  female  28.0      8   \n",
      "\n",
      "     Parch   Fare Cabin Embarked  Family  \n",
      "159      2  69.55     n        S      10  \n",
      "180      2  69.55     n        S      10  \n",
      "201      2  69.55     n        S      10  \n",
      "324      2  69.55     n        S      10  \n",
      "792      2  69.55     n        S      10  \n",
      "846      2  69.55     n        S      10  \n",
      "863      2  69.55     n        S      10  \n"
     ]
    }
   ],
   "source": [
    "titanic_train['Family'] = titanic_train['SibSp'] + titanic_train['Parch']\n",
    "\n",
    "most_family = np.where(titanic_train['Family'] == max(titanic_train['Family']))\n",
    "\n",
    "print(titanic_train.loc[most_family])"
   ]
  },
  {
   "cell_type": "code",
   "execution_count": 22,
   "metadata": {},
   "outputs": [
    {
     "name": "stdout",
     "output_type": "stream",
     "text": [
      "\n",
      "Matriz de correlação dos atributos inteiros:\n",
      "        SibSp  Parch  Family\n",
      "SibSp    1.00   0.41    0.89\n",
      "Parch    0.41   1.00    0.78\n",
      "Family   0.89   0.78    1.00\n"
     ]
    }
   ],
   "source": [
    "int_fields = titanic_train.dtypes[titanic_train.dtypes == \"int64\"].index\n",
    "corr = np.corrcoef(titanic_train[int_fields].transpose())\n",
    "correlacao = pd.DataFrame(data=corr, index=int_fields, columns=int_fields)\n",
    "\n",
    "print(\"\\nMatriz de correlação dos atributos inteiros:\\n{0}\".format(correlacao))"
   ]
  },
  {
   "cell_type": "code",
   "execution_count": 26,
   "metadata": {},
   "outputs": [],
   "source": [
    "gazola = pd.read_excel('./DBs/Gazola_dados_apartamento_resumo.xls', sheet_name=1)"
   ]
  },
  {
   "cell_type": "code",
   "execution_count": 28,
   "metadata": {},
   "outputs": [
    {
     "name": "stdout",
     "output_type": "stream",
     "text": [
      "(397, 14)\n",
      "       imóvel  DepEmp  Conserv  Classif    Elev  RegHom   Suíte   Garag  \\\n",
      "count  397.00  397.00   397.00   397.00  397.00  397.00  397.00  397.00   \n",
      "mean   199.00    1.39     3.01     1.93    1.83    5.54    1.61    1.99   \n",
      "std    114.75    0.49     1.02     0.61    0.38    1.97    0.49    0.56   \n",
      "min      1.00    1.00     1.00     1.00    1.00    1.00    1.00    1.00   \n",
      "25%    100.00    1.00     2.00     2.00    2.00    5.00    1.00    2.00   \n",
      "50%    199.00    1.00     3.00     2.00    2.00    6.00    2.00    2.00   \n",
      "75%    298.00    2.00     4.00     2.00    2.00    7.00    2.00    2.00   \n",
      "max    397.00    2.00     4.00     3.00    2.00   11.00    3.00    3.00   \n",
      "\n",
      "         Dorm   Idade  Energia   Artot     Cub   Preço($)  \n",
      "count  397.00  397.00   397.00  397.00  397.00     397.00  \n",
      "mean     2.16    7.82   164.60  150.39    1.19   44024.67  \n",
      "std      0.51    5.86    29.02   84.75    0.36   37585.95  \n",
      "min      1.00    2.00    86.00   25.93    0.55    4130.62  \n",
      "25%      2.00    2.00   147.00   98.59    0.94   20541.10  \n",
      "50%      2.00    6.00   160.00  127.92    1.14   32094.04  \n",
      "75%      2.00   12.00   184.00  178.96    1.40   52000.00  \n",
      "max      3.00   28.00   266.00  620.73    2.61  250000.00  \n",
      "imóvel        int64\n",
      "DepEmp        int64\n",
      "Conserv       int64\n",
      "Classif       int64\n",
      "Elev          int64\n",
      "RegHom        int64\n",
      "Suíte         int64\n",
      "Garag         int64\n",
      "Dorm          int64\n",
      "Idade         int64\n",
      "Energia       int64\n",
      "Artot       float64\n",
      "Cub         float64\n",
      "Preço($)    float64\n",
      "dtype: object\n"
     ]
    }
   ],
   "source": [
    "print(gazola.shape)\n",
    "print(gazola.describe())\n",
    "print(gazola.dtypes)"
   ]
  }
 ],
 "metadata": {
  "kernelspec": {
   "display_name": "Python 3",
   "language": "python",
   "name": "python3"
  },
  "language_info": {
   "codemirror_mode": {
    "name": "ipython",
    "version": 3
   },
   "file_extension": ".py",
   "mimetype": "text/x-python",
   "name": "python",
   "nbconvert_exporter": "python",
   "pygments_lexer": "ipython3",
   "version": "3.10.0"
  }
 },
 "nbformat": 4,
 "nbformat_minor": 2
}
